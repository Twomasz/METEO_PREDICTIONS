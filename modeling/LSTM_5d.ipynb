{
 "cells": [
  {
   "cell_type": "code",
   "execution_count": null,
   "id": "initial_id",
   "metadata": {
    "collapsed": true,
    "is_executing": true,
    "ExecuteTime": {
     "start_time": "2024-01-24T18:00:22.076327100Z"
    }
   },
   "outputs": [],
   "source": [
    "import pandas as pd\n",
    "from keras.models import Sequential\n",
    "from keras.layers import LSTM, Dense, Dropout\n",
    "import numpy as np\n",
    "from sklearn.preprocessing import StandardScaler\n",
    "import matplotlib.pyplot as plt\n",
    "from typing import Tuple"
   ]
  },
  {
   "cell_type": "code",
   "execution_count": null,
   "outputs": [],
   "source": [
    "# Constants\n",
    "SEQUENCE_LEN = 21 * 4              # 21 days of 6-hours data\n",
    "OUTPUT_LEN = 5 * 4                 # 5 days of 6-hours data\n",
    "INPUT_FEATURES = 23                # Number of input features (e.g., temperature, humidity, etc.)\n",
    "OUTPUT_FEATURES = 5 * OUTPUT_LEN   # Predicting flatten 4 features for each timestamp (wind direction is described as two cols)"
   ],
   "metadata": {
    "collapsed": false,
    "is_executing": true
   },
   "id": "75ae269bf08a7bad"
  },
  {
   "cell_type": "code",
   "execution_count": null,
   "outputs": [],
   "source": [
    "def wind_direction_sin_cos(data: pd.DataFrame):\n",
    "    \"\"\" To avoid problem of huge MSE error degrees are replaced by sin and cos functions \"\"\"\n",
    "    data['Kierunek wiatru [sin]'] = np.sin(data['Kierunek wiatru  [°]'] * 2 * np.pi / 360)  # transform to radians and calculate sin\n",
    "    data['Kierunek wiatru [cos]'] = np.cos(data['Kierunek wiatru  [°]'] * 2 * np.pi / 360)  # transform to radians and calculate sin\n",
    "    data.drop('Kierunek wiatru  [°]', axis=1, inplace=True)\n",
    "    return data\n",
    "\n",
    "def create_sequences(data: pd.DataFrame):\n",
    "    X, y = [], []\n",
    "    for i in range(len(data) - SEQUENCE_LEN - OUTPUT_LEN):\n",
    "        X.append(data[i: i + SEQUENCE_LEN])\n",
    "        y.append(data[i + SEQUENCE_LEN: i + SEQUENCE_LEN + OUTPUT_LEN, :5].flatten()) # Taking the first 4 features for the next 24 hours\n",
    "    return np.array(X), np.array(y)\n",
    "\n",
    "def invert_scale_for_X(X: np.ndarray, scaler):\n",
    "    copy_X = X.copy()\n",
    "    for i in range(X.shape[-1]):\n",
    "        print()\n",
    "        std, mean = scaler.scale_[i], scaler.mean_[i]\n",
    "        copy_X[:, :, i] = X[:, :, i] * std + mean\n",
    "    return copy_X\n",
    "\n",
    "def invert_scale_for_y(y: np.ndarray, scaler):\n",
    "    copy_y = y.copy()\n",
    "    for i in range(5):\n",
    "        std, mean = scaler.scale_[i], scaler.mean_[i]\n",
    "        copy_y[:, i::5] = y[:, i::5] * std + mean\n",
    "    return copy_y\n",
    "\n",
    "def back_to_degrees_for_X(X: np.ndarray):\n",
    "    sin_part, cos_part = X[:, :, 2], X[:, :, 3]  # get all \n",
    "    X[:, :, 2] = np.arctan2(sin_part, cos_part) * 180 / np.pi\n",
    "    replaced_X = np.delete(X, 3, axis=2)\n",
    "    return replaced_X\n",
    "\n",
    "def back_to_degrees_for_y(y: np.ndarray):\n",
    "    sin_part, cos_part = y[:, 2::5], y[:, 3::5]  # get all \n",
    "    y[:, 2::5] = np.arctan2(sin_part, cos_part) * 180 / np.pi\n",
    "    replaced_y = np.delete(y, list(range(3, 99, 5)), axis=1)\n",
    "    return replaced_y\n",
    "\n",
    "def plot_one_prediction(idx: int, X_true, y_true, y_pred, figsize: Tuple[int] = (14, 9)):\n",
    "    x = range(-SEQUENCE_LEN, OUTPUT_LEN)\n",
    "    x1, x2 = x[1:1 + SEQUENCE_LEN], x[SEQUENCE_LEN:]\n",
    "    labels = ['Temperatura [°C]', 'Ciśnienie atmos. [hPa]', 'Kierunek wiatru [°]', 'Prędkość wiatru [m/s]']\n",
    "\n",
    "    fig, axs = plt.subplots(4, figsize=figsize)\n",
    "    fig.suptitle('Porównanie wyników modelu z faktycznym stanem pogody')\n",
    "    for i in range(4):\n",
    "        axs[i].plot(x1, X_true[idx + 1, :, i], label='Dane wejściowe', color='green')\n",
    "        axs[i].plot(x2, y_true[:, i::4][idx], label='Wartość prawdziwa', color='blue')\n",
    "        axs[i].plot(x2, y_pred[:, i::4][idx], label='Predykcja', color='red')\n",
    "        axs[i].set_ylabel(labels[i])\n",
    "        axs[i].grid()\n",
    "        axs[i].legend()\n",
    "    axs[3].set_xlabel('Czas [godz.]')\n",
    "    plt.show()\n",
    "    \n",
    "def BIAS(y_true: np.ndarray, y_pred: np.ndarray):\n",
    "    T_bias = np.mean(y_pred[:, 0::4] - y_true[:, 0::4], axis=0).reshape(1, -1)    # bias for temperature\n",
    "    P_bias = np.mean(y_pred[:, 1::4] - y_true[:, 1::4], axis=0).reshape(1, -1)    # bias for pressure\n",
    "    \n",
    "    WD_diff = np.mod(y_pred[:, 2::4], 360) - np.mod(y_true[:, 2::4], 360)\n",
    "    WD_diff = np.where(np.abs(WD_diff) > 180, WD_diff - np.sign(WD_diff) * 360, WD_diff)\n",
    "    WD_bias = np.mean(WD_diff, axis=0).reshape(1, -1)  # bias for wind direction\n",
    "    \n",
    "    WV_bias = np.mean(np.abs(y_pred[:, 3::4] - y_true[:, 3::4]), axis=0).reshape(1, -1)   # bias for wind velocity\n",
    "    \n",
    "    BIAS_by_hour = np.append(np.append(np.append(T_bias, P_bias, axis=0), WD_bias, axis=0), WV_bias, axis=0)\n",
    "    return BIAS_by_hour\n",
    "\n",
    "def MAE(y_true: np.ndarray, y_pred: np.ndarray):\n",
    "    T_mae = np.mean(np.abs(y_pred[:, 0::4] - y_true[:, 0::4]), axis=0).reshape(1, -1)    # mae for temperature\n",
    "    P_mae = np.mean(np.abs(y_pred[:, 1::4] - y_true[:, 1::4]), axis=0).reshape(1, -1)    # mae for pressure\n",
    "    \n",
    "    WD_diff = np.mod(y_pred[:, 2::4], 360) - np.mod(y_true[:, 2::4], 360)\n",
    "    WD_diff = np.where(np.abs(WD_diff) > 180, WD_diff - np.sign(WD_diff) * 360, WD_diff)\n",
    "    WD_mae = np.mean(np.abs(WD_diff), axis=0).reshape(1, -1)  # mae for wind direction\n",
    "    \n",
    "    WV_mae = np.mean(np.abs(y_pred[:, 3::4] - y_true[:, 3::4]), axis=0).reshape(1, -1)   # mae for wind velocity\n",
    "    \n",
    "    MAE_by_hour = np.append(np.append(np.append(T_mae, P_mae, axis=0), WD_mae, axis=0), WV_mae, axis=0)\n",
    "    return MAE_by_hour\n",
    "    \n",
    "    \n",
    "def RMSE(y_true: np.ndarray, y_pred: np.ndarray):\n",
    "    T_mse = np.mean((y_true[:, 0::4] - y_pred[:, 0::4])**2, axis=0).reshape(1, -1)\n",
    "    P_mse = np.mean((y_true[:, 1::4] - y_pred[:, 1::4])**2, axis=0).reshape(1, -1)\n",
    "    WD_diff = np.mod(y_pred[:, 2::4], 360) - np.mod(y_true[:, 2::4], 360)\n",
    "    WD_diff = np.where(np.abs(WD_diff) > 180, WD_diff - np.sign(WD_diff) * 360, WD_diff)\n",
    "    WD_mse = np.mean(WD_diff**2, axis=0).reshape(1, -1)  # bias for wind direction\n",
    "    WV_mse = np.mean((y_true[:, 3::4] - y_pred[:, 3::4])**2, axis=0).reshape(1, -1)\n",
    "    MSE_by_hour = np.append(np.append(np.append(T_mse, P_mse, axis=0), WD_mse, axis=0), WV_mse, axis=0)\n",
    "    \n",
    "    return np.sqrt(MSE_by_hour)"
   ],
   "metadata": {
    "collapsed": false,
    "is_executing": true
   },
   "id": "43e79de22311d35c"
  },
  {
   "cell_type": "code",
   "execution_count": null,
   "outputs": [],
   "source": [
    "data = pd.read_csv('../data/preprocessed_data/complete_krk_2017-22.csv')\n",
    "data['timestamp'] = pd.to_datetime(data['timestamp'])\n",
    "data = data.set_index('timestamp')\n",
    "data_6h = data[data.index.hour.isin([0, 6, 12, 18])]\n",
    "data_6h = wind_direction_sin_cos(data_6h)\n",
    "data_6h"
   ],
   "metadata": {
    "collapsed": false,
    "is_executing": true
   },
   "id": "af2ce373e77b48bd"
  },
  {
   "cell_type": "code",
   "execution_count": null,
   "outputs": [],
   "source": [
    "cols = data_6h.columns\n",
    "new_order = [0, 1, 21, 22, 11] + list(range(2, 11)) + list(range(12, 21))\n",
    "cols = [cols[i] for i in new_order]\n",
    "data_6h = data_6h[cols]\n",
    "data_6h"
   ],
   "metadata": {
    "collapsed": false,
    "is_executing": true
   },
   "id": "d2f4a9a835be25af"
  },
  {
   "cell_type": "code",
   "execution_count": null,
   "outputs": [],
   "source": [
    "# Assuming 'data' is your dataset with shape (total_hours, 26_features)\n",
    "# and 'total_hours' is a multiple of 24\n",
    "\n",
    "# Normalize your data\n",
    "scaler = StandardScaler()\n",
    "data_normalized = scaler.fit_transform(data_6h)\n",
    "data_normalized"
   ],
   "metadata": {
    "collapsed": false
   },
   "id": "7dfc731fb566ec0b"
  },
  {
   "cell_type": "code",
   "execution_count": null,
   "outputs": [],
   "source": [
    "# Create sequences\n",
    "X, y = create_sequences(data_normalized)"
   ],
   "metadata": {
    "collapsed": false
   },
   "id": "91ee8ef49c64629e"
  },
  {
   "cell_type": "code",
   "execution_count": null,
   "outputs": [],
   "source": [
    "train_size = 4 * (365 * 3 + 366)  # train data includes first 4 years (2017-20)\n",
    "val_size = 4 * 365                # validation data includes the next 2021 year  \n",
    "test_size = 4 * 365               # test data includes the last 2022 year\n",
    "\n",
    "X_train, y_train = X[:train_size], y[:train_size]\n",
    "X_val, y_val = X[train_size:train_size+val_size], y[train_size:train_size+val_size]\n",
    "X_test, y_test = X[train_size+val_size:], y[train_size+val_size:]"
   ],
   "metadata": {
    "collapsed": false
   },
   "id": "e4506792c347f490"
  },
  {
   "cell_type": "code",
   "execution_count": null,
   "outputs": [],
   "source": [
    "# Define the model\n",
    "model = Sequential()\n",
    "\n",
    "# LSTM layers\n",
    "model.add(LSTM(256, return_sequences=True, input_shape=(SEQUENCE_LEN, INPUT_FEATURES)))\n",
    "model.add(LSTM(128, return_sequences=False))\n",
    "# Dense layer\n",
    "model.add(Dense(128, activation='ReLU'))\n",
    "# Dropout layer to prevent overfitting\n",
    "model.add(Dropout(0.2))\n",
    "# Output layer\n",
    "model.add(Dense(OUTPUT_FEATURES, activation='linear'))  # 'linear' activation for regression tasks\n",
    "\n",
    "model.compile(optimizer='adam', loss='mean_squared_error')\n",
    "model.summary()"
   ],
   "metadata": {
    "collapsed": false
   },
   "id": "925b23cdbb1ad289"
  },
  {
   "cell_type": "code",
   "execution_count": null,
   "outputs": [],
   "source": [
    "history = model.fit(X_train, y_train, epochs=20, batch_size=32, validation_data=(X_val, y_val))"
   ],
   "metadata": {
    "collapsed": false
   },
   "id": "490ab33971707b8e"
  },
  {
   "cell_type": "code",
   "execution_count": null,
   "outputs": [],
   "source": [
    "model.save('LSTM_5d_08-01-2024_final')"
   ],
   "metadata": {
    "collapsed": false
   },
   "id": "4fb320195262ea87"
  },
  {
   "cell_type": "code",
   "execution_count": null,
   "outputs": [],
   "source": [
    "\n",
    "from keras.models import load_model\n",
    "\n",
    "model = load_model('LSTM_5d_08-01-2024_final')\n"
   ],
   "metadata": {
    "collapsed": false
   },
   "id": "5a1ea48c1178994d"
  },
  {
   "cell_type": "code",
   "execution_count": 35,
   "outputs": [],
   "source": [
    "january_t = (0, 31*4)\n",
    "april_t = ((31+28+31)*4, (31+28+31+30)*4)\n",
    "july_t = ((31+28+31+30+31+30)*4, (31+28+31+30+31+30+31)*4)\n",
    "october_t = ((31+28+31+30+31+30+31+30+31)*4, (31+28+31+30+31+30+31+30+31+30)*4)"
   ],
   "metadata": {
    "collapsed": false,
    "ExecuteTime": {
     "end_time": "2024-01-21T10:18:26.100427900Z",
     "start_time": "2024-01-21T10:18:26.071002100Z"
    }
   },
   "id": "382d492506419bd2"
  },
  {
   "cell_type": "code",
   "execution_count": 48,
   "outputs": [
    {
     "name": "stdout",
     "output_type": "stream",
     "text": [
      "4/4 [==============================] - 1s 111ms/step\n"
     ]
    }
   ],
   "source": [
    "# Make predictions\n",
    "y_pred = model.predict(X_test[october_t[0]:october_t[1]])"
   ],
   "metadata": {
    "collapsed": false,
    "ExecuteTime": {
     "end_time": "2024-01-21T15:56:36.596183800Z",
     "start_time": "2024-01-21T15:56:35.897334500Z"
    }
   },
   "id": "99cbaacbe32b193e"
  },
  {
   "cell_type": "code",
   "execution_count": 49,
   "outputs": [
    {
     "name": "stdout",
     "output_type": "stream",
     "text": [
      "\n",
      "\n",
      "\n",
      "\n"
     ]
    }
   ],
   "source": [
    "inv_y_pred = invert_scale_for_y(y_pred, scaler)\n",
    "real_y_pred = back_to_degrees_for_y(inv_y_pred)\n",
    "\n",
    "inv_y_test = invert_scale_for_y(y_test, scaler)\n",
    "real_y_test = back_to_degrees_for_y(inv_y_test)\n",
    "\n",
    "inv_X_test = invert_scale_for_X(X_test, scaler)\n",
    "real_X_test = back_to_degrees_for_X(inv_X_test)"
   ],
   "metadata": {
    "collapsed": false,
    "ExecuteTime": {
     "end_time": "2024-01-21T15:56:36.965059600Z",
     "start_time": "2024-01-21T15:56:36.777709Z"
    }
   },
   "id": "2199ee2ae50da7f3"
  },
  {
   "cell_type": "code",
   "execution_count": null,
   "outputs": [],
   "source": [
    "plot_one_prediction(900, real_X_test, real_y_test, real_y_pred)"
   ],
   "metadata": {
    "collapsed": false
   },
   "id": "2b71fb2b4cf3b7b1"
  },
  {
   "cell_type": "code",
   "execution_count": 53,
   "outputs": [
    {
     "data": {
      "text/plain": "array([  0.73549634,  -2.560413  , -33.04201369,   1.65151883])"
     },
     "execution_count": 53,
     "metadata": {},
     "output_type": "execute_result"
    }
   ],
   "source": [
    "bias_5d = BIAS(real_y_test[october_t[0]:october_t[1]], real_y_pred)\n",
    "np.min(bias_5d, axis=1)"
   ],
   "metadata": {
    "collapsed": false,
    "ExecuteTime": {
     "end_time": "2024-01-21T16:01:48.278131700Z",
     "start_time": "2024-01-21T16:01:48.233503500Z"
    }
   },
   "id": "a454171b1eccb90a"
  },
  {
   "cell_type": "code",
   "execution_count": 56,
   "outputs": [
    {
     "data": {
      "text/plain": "array([ 3.15784797,  7.77155419, 79.01964965,  1.85895146])"
     },
     "execution_count": 56,
     "metadata": {},
     "output_type": "execute_result"
    }
   ],
   "source": [
    "mae_5d = MAE(real_y_test[october_t[0]:october_t[1]], real_y_pred)\n",
    "(np.average(mae_5d, axis=1))"
   ],
   "metadata": {
    "collapsed": false,
    "ExecuteTime": {
     "end_time": "2024-01-21T16:04:03.479133200Z",
     "start_time": "2024-01-21T16:04:03.435517800Z"
    }
   },
   "id": "1eef9484aba4a9f"
  },
  {
   "cell_type": "code",
   "execution_count": 59,
   "outputs": [
    {
     "data": {
      "text/plain": "array([ 3.92572624,  8.9628261 , 96.35331641,  2.2457825 ])"
     },
     "execution_count": 59,
     "metadata": {},
     "output_type": "execute_result"
    }
   ],
   "source": [
    "rmse_5d = RMSE(real_y_test[october_t[0]:october_t[1]], real_y_pred)\n",
    "np.average(rmse_5d, axis=1)"
   ],
   "metadata": {
    "collapsed": false,
    "ExecuteTime": {
     "end_time": "2024-01-21T16:05:43.747037800Z",
     "start_time": "2024-01-21T16:05:43.668788300Z"
    }
   },
   "id": "de4d9e0acffc1570"
  },
  {
   "cell_type": "code",
   "execution_count": null,
   "outputs": [],
   "source": [
    "x = range(0, (OUTPUT_LEN+1)*3, 6)\n",
    "fig, axs = plt.subplots(3, figsize=(6, 7))\n",
    "fig.suptitle('Temperatura', fontsize='xx-large')\n",
    "axs[0].stem(x[1:], bias_5d[0, :10])\n",
    "axs[0].set_ylabel('BIAS [°C]')\n",
    "axs[0].grid()\n",
    "axs[0].set_xticks(x)\n",
    "axs[1].stem(x[1:], mae_5d[0, :10])\n",
    "axs[1].set_ylabel('MAE [°C]')\n",
    "axs[1].grid()\n",
    "axs[1].set_xticks(x)\n",
    "axs[2].stem(x[1:], rmse_5d[0, :10])\n",
    "axs[2].set_ylabel('RMSE [°C]')\n",
    "axs[2].grid()\n",
    "axs[2].set_xlabel('Czas [godz.]')\n",
    "axs[2].set_xticks(x)\n",
    "plt.show()"
   ],
   "metadata": {
    "collapsed": false
   },
   "id": "828b901898cd55b0"
  },
  {
   "cell_type": "code",
   "execution_count": null,
   "outputs": [],
   "source": [
    "x = range(0, (OUTPUT_LEN+1)*3, 6)\n",
    "fig, axs = plt.subplots(3, figsize=(6, 7))\n",
    "fig.suptitle('Ciśnienie atmosferyczne', fontsize='xx-large')\n",
    "axs[0].stem(x[1:], bias_5d[1, :10])\n",
    "axs[0].set_ylabel('BIAS [hPa]')\n",
    "axs[0].grid()\n",
    "axs[0].set_xticks(x)\n",
    "axs[1].stem(x[1:], mae_5d[1, :10])\n",
    "axs[1].set_ylabel('MAE [hPa]')\n",
    "axs[1].grid()\n",
    "axs[1].set_xticks(x)\n",
    "axs[2].stem(x[1:], rmse_5d[1, :10])\n",
    "axs[2].set_ylabel('RMSE [hPa]')\n",
    "axs[2].grid()\n",
    "axs[2].set_xlabel('Czas [godz.]')\n",
    "axs[2].set_xticks(x)\n",
    "plt.show()"
   ],
   "metadata": {
    "collapsed": false
   },
   "id": "beebb28a6093810"
  },
  {
   "cell_type": "code",
   "execution_count": null,
   "outputs": [],
   "source": [
    "x = range(0, (OUTPUT_LEN+1)*3, 6)\n",
    "fig, axs = plt.subplots(3, figsize=(6, 7))\n",
    "fig.suptitle('Kierunek wiatru', fontsize='xx-large')\n",
    "axs[0].stem(x[1:], bias_5d[2, :10])\n",
    "axs[0].set_ylabel('BIAS [°]')\n",
    "axs[0].grid()\n",
    "axs[0].set_xticks(x)\n",
    "axs[1].stem(x[1:], mae_5d[2, :10])\n",
    "axs[1].set_ylabel('MAE [°]')\n",
    "axs[1].grid()\n",
    "axs[1].set_xticks(x)\n",
    "axs[2].stem(x[1:], rmse_5d[2, :10])\n",
    "axs[2].set_ylabel('RMSE [°]')\n",
    "axs[2].grid()\n",
    "axs[2].set_xlabel('Czas [godz.]')\n",
    "axs[2].set_xticks(x)\n",
    "plt.show()"
   ],
   "metadata": {
    "collapsed": false
   },
   "id": "6cea0fb99e085ec7"
  },
  {
   "cell_type": "code",
   "execution_count": null,
   "outputs": [],
   "source": [
    "x = range(0, (OUTPUT_LEN+1)*3, 6)\n",
    "fig, axs = plt.subplots(3, figsize=(6, 7))\n",
    "fig.suptitle('Prędkość wiatru', fontsize='xx-large')\n",
    "axs[0].stem(x[1:], bias_5d[3, :10])\n",
    "axs[0].set_ylabel('BIAS [m/s]')\n",
    "axs[0].grid()\n",
    "axs[0].set_xticks(x)\n",
    "axs[1].stem(x[1:], mae_5d[3, :10])\n",
    "axs[1].set_ylabel('MAE [m/s]')\n",
    "axs[1].grid()\n",
    "axs[1].set_xticks(x)\n",
    "axs[2].stem(x[1:], rmse_5d[3, :10])\n",
    "axs[2].set_ylabel('RMSE [m/s]')\n",
    "axs[2].grid()\n",
    "axs[2].set_xlabel('Czas [godz.]')\n",
    "axs[2].set_xticks(x)\n",
    "plt.show()"
   ],
   "metadata": {
    "collapsed": false
   },
   "id": "2079577149f8cbe7"
  },
  {
   "cell_type": "code",
   "execution_count": null,
   "outputs": [],
   "source": [],
   "metadata": {
    "collapsed": false
   },
   "id": "ec6b92ec7eb62d47"
  }
 ],
 "metadata": {
  "kernelspec": {
   "display_name": "Python 3",
   "language": "python",
   "name": "python3"
  },
  "language_info": {
   "codemirror_mode": {
    "name": "ipython",
    "version": 2
   },
   "file_extension": ".py",
   "mimetype": "text/x-python",
   "name": "python",
   "nbconvert_exporter": "python",
   "pygments_lexer": "ipython2",
   "version": "2.7.6"
  }
 },
 "nbformat": 4,
 "nbformat_minor": 5
}
