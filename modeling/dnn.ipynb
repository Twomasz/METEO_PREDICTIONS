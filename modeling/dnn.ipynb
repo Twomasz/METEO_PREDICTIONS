{
 "cells": [
  {
   "cell_type": "code",
   "execution_count": 1,
   "id": "initial_id",
   "metadata": {
    "collapsed": true,
    "ExecuteTime": {
     "end_time": "2023-11-22T09:21:33.704962500Z",
     "start_time": "2023-11-22T09:21:29.262539500Z"
    }
   },
   "outputs": [],
   "source": [
    "import pandas as pd\n",
    "import numpy as np\n",
    "from keras.preprocessing import timeseries_dataset_from_array"
   ]
  },
  {
   "cell_type": "code",
   "execution_count": 2,
   "outputs": [],
   "source": [
    "krakow_20_23 = pd.read_csv('krakow_data_20-23_preprocessed.csv')\n",
    "\n",
    "start_date = '2020-01-01 00:00:00'\n",
    "pivot_date = '2022-05-01 00:00:00'\n",
    "stop_date = '2022-12-31 23:00:00'\n",
    "krakow_20_23.set_index('timestamp', inplace=True)"
   ],
   "metadata": {
    "collapsed": false,
    "ExecuteTime": {
     "end_time": "2023-11-22T09:21:33.825605600Z",
     "start_time": "2023-11-22T09:21:33.711538300Z"
    }
   },
   "id": "f0315aec8f9f0ffa"
  },
  {
   "cell_type": "code",
   "execution_count": 3,
   "outputs": [],
   "source": [
    "predict_params = [\n",
    "    'Wysokość podstawy niższej  [m]',\n",
    "    'Wysokość podstawy wyższej [m]',\n",
    "    'Widzialność  [kod]',\n",
    "    'Widzialność operatora [m]',\n",
    "    'Zachmurzenie ogólne [oktanty]',\n",
    "    'Kierunek wiatru  [°]',\n",
    "    'Prędkość wiatru  [m/s]',\n",
    "    'Poryw wiatru  [m/s]',\n",
    "    'Temperatura powietrza [°C]/1',\n",
    "    'Ciśnienie pary wodnej [hPa]',\n",
    "    'Wilgotność względna [%]',\n",
    "    'Temperatura punktu rosy [°C]',\n",
    "    'Ciśnienie na pozimie stacji [hPa]',\n",
    "    'Ciśnienie na pozimie morza [hPa]',\n",
    "    'Charakterystyka tendencji [kod]',\n",
    "    'Wartość tendencji [wartość]',\n",
    "    'Opad za 6 godzin [mm]',\n",
    "    'Rodzaj opadu za 6 godzin [kod]',\n",
    "    'Pogoda ubiegła [kod]',\n",
    "    'Zachmurzenie niskie [oktanty]',\n",
    "    'Stan gruntu [kod]',\n",
    "    'Niedosyt wilgotności [hPa]',\n",
    "    'Wystąpienie rosy [0/1]',\n",
    "    'Poryw maksymalny za okres WW [m/s]',\n",
    "    'Temperatura minimalna za 12 godzin  [°C]',\n",
    "    'Temperatura maksymalna za 12 godzin [°C]',\n",
    "    'Równoważnik wodny śniegu [mm/cm]',\n",
    "    'Wysokość pokrywy śnieżnej [cm]',\n",
    "    'Wysokość świeżo spadłego śniegu  [cm]',\n",
    "    'Wysokość śniegu na poletku [cm]',\n",
    "    'Wysokość próbki [cm]',\n",
    "    'Ciężar próbki [g]',\n",
    "    'Pogoda bieżąca [kod]'\n",
    "]\n"
   ],
   "metadata": {
    "collapsed": false,
    "ExecuteTime": {
     "end_time": "2023-11-22T09:21:33.825605600Z",
     "start_time": "2023-11-22T09:21:33.816808Z"
    }
   },
   "id": "19b9e74c64508913"
  },
  {
   "cell_type": "code",
   "execution_count": 4,
   "outputs": [],
   "source": [
    "train_data = krakow_20_23[start_date: pivot_date]\n",
    "test_data = krakow_20_23[pivot_date: stop_date]"
   ],
   "metadata": {
    "collapsed": false,
    "ExecuteTime": {
     "end_time": "2023-11-22T09:21:33.857072400Z",
     "start_time": "2023-11-22T09:21:33.825605600Z"
    }
   },
   "id": "2d870658277ec1ab"
  },
  {
   "cell_type": "code",
   "execution_count": 5,
   "outputs": [],
   "source": [
    "krakow_20_23 = krakow_20_23[predict_params]"
   ],
   "metadata": {
    "collapsed": false,
    "ExecuteTime": {
     "end_time": "2023-11-22T09:21:33.872713800Z",
     "start_time": "2023-11-22T09:21:33.842707500Z"
    }
   },
   "id": "8f466c81e432f248"
  },
  {
   "cell_type": "code",
   "execution_count": 6,
   "outputs": [
    {
     "ename": "NameError",
     "evalue": "name 'train_X' is not defined",
     "output_type": "error",
     "traceback": [
      "\u001B[1;31m---------------------------------------------------------------------------\u001B[0m",
      "\u001B[1;31mNameError\u001B[0m                                 Traceback (most recent call last)",
      "Cell \u001B[1;32mIn[6], line 6\u001B[0m\n\u001B[0;32m      4\u001B[0m input_data \u001B[38;5;241m=\u001B[39m []\n\u001B[0;32m      5\u001B[0m target \u001B[38;5;241m=\u001B[39m []\n\u001B[1;32m----> 6\u001B[0m \u001B[38;5;28;01mfor\u001B[39;00m i \u001B[38;5;129;01min\u001B[39;00m \u001B[38;5;28mrange\u001B[39m(\u001B[38;5;28mlen\u001B[39m(\u001B[43mtrain_X\u001B[49m) \u001B[38;5;241m-\u001B[39m window_size):\n\u001B[0;32m      7\u001B[0m     input_data\u001B[38;5;241m.\u001B[39mappend(train_X[i:i \u001B[38;5;241m+\u001B[39m window_size])  \u001B[38;5;66;03m# Use past 'window_size' values as input\u001B[39;00m\n\u001B[0;32m      8\u001B[0m     target\u001B[38;5;241m.\u001B[39mappend(train_Y[i \u001B[38;5;241m+\u001B[39m window_size])  \u001B[38;5;66;03m# Predict the last column ('target') for the next step\u001B[39;00m\n",
      "\u001B[1;31mNameError\u001B[0m: name 'train_X' is not defined"
     ]
    }
   ],
   "source": [
    "window_size = 24 * 2\n",
    "batch_size = 30\n",
    "\n",
    "input_data = []\n",
    "target = []\n",
    "for i in range(len(train_X) - window_size):\n",
    "    input_data.append(train_X[i:i + window_size])  # Use past 'window_size' values as input\n",
    "    target.append(train_Y[i + window_size])  # Predict the last column ('target') for the next step\n",
    "    \n",
    "input_data = np.array(input_data)\n",
    "target = np.array(target)\n",
    "target.shape\n"
   ],
   "metadata": {
    "collapsed": false,
    "ExecuteTime": {
     "end_time": "2023-11-22T09:20:24.736156Z",
     "start_time": "2023-11-22T09:20:23.141682600Z"
    }
   },
   "id": "375bc9c7100abd9d"
  },
  {
   "cell_type": "code",
   "execution_count": null,
   "outputs": [],
   "source": [
    "from keras.models import Sequential\n",
    "from keras.layers import Dense, Flatten\n",
    "def model_dnn(look_back):\n",
    "    model=Sequential()\n",
    "    model.add(Dense(64, activation='relu', input_shape=(look_back, 32)))\n",
    "    model.add(Dense(8, activation='relu'))\n",
    "    model.add(Dense(1))\n",
    "    model.compile(loss='mean_squared_error', optimizer='adam', metrics = ['mse', 'mae'])\n",
    "    return model"
   ],
   "metadata": {
    "collapsed": false,
    "ExecuteTime": {
     "start_time": "2023-11-22T09:20:24.720518200Z"
    }
   },
   "id": "9136177892e1df04"
  },
  {
   "cell_type": "code",
   "execution_count": null,
   "outputs": [],
   "source": [
    "model=model_dnn(window_size)\n",
    "\n",
    "history=model.fit(input_data,\n",
    "                  target, \n",
    "                  epochs=100, \n",
    "                  batch_size=30, \n",
    "                  verbose=1, \n",
    "                  shuffle=False)"
   ],
   "metadata": {
    "collapsed": false,
    "ExecuteTime": {
     "start_time": "2023-11-22T09:20:24.720518200Z"
    }
   },
   "id": "a9fd3f8c554f0bde"
  },
  {
   "cell_type": "code",
   "execution_count": null,
   "outputs": [],
   "source": [
    "window_size = 24 * 2\n",
    "batch_size = 30\n",
    "\n",
    "test_data = []\n",
    "\n",
    "for i in range(len(test_X) - window_size):\n",
    "    test_data.append(test_X[i:i + window_size])  # Use past 'window_size' values as input\n",
    "    \n",
    "test_data = np.array(test_data)"
   ],
   "metadata": {
    "collapsed": false,
    "ExecuteTime": {
     "start_time": "2023-11-22T09:20:24.720518200Z"
    }
   },
   "id": "518a89d80aa06d26"
  },
  {
   "cell_type": "code",
   "execution_count": null,
   "outputs": [],
   "source": [
    "test_data.shape"
   ],
   "metadata": {
    "collapsed": false,
    "ExecuteTime": {
     "start_time": "2023-11-22T09:20:24.720518200Z"
    }
   },
   "id": "36b2fe1986b00a8a"
  },
  {
   "cell_type": "code",
   "execution_count": null,
   "outputs": [],
   "source": [],
   "metadata": {
    "collapsed": false,
    "ExecuteTime": {
     "start_time": "2023-11-22T09:20:24.736156Z"
    }
   },
   "id": "3ee968a368b41884"
  },
  {
   "cell_type": "code",
   "execution_count": null,
   "outputs": [],
   "source": [
    "predictions = model.predict(test_data)\n",
    "predictions.shape"
   ],
   "metadata": {
    "collapsed": false,
    "ExecuteTime": {
     "start_time": "2023-11-22T09:20:24.736156Z"
    }
   },
   "id": "2620745919a3dc84"
  },
  {
   "cell_type": "code",
   "execution_count": null,
   "outputs": [],
   "source": [
    "predictions"
   ],
   "metadata": {
    "collapsed": false,
    "ExecuteTime": {
     "start_time": "2023-11-22T09:20:24.736156Z"
    }
   },
   "id": "b37bfeb08bc82f35"
  },
  {
   "cell_type": "code",
   "execution_count": 11,
   "outputs": [
    {
     "name": "stdout",
     "output_type": "stream",
     "text": [
      "657/657 [==============================] - 31s 41ms/step - loss: 0.0388\n",
      "165/165 [==============================] - 4s 18ms/step - loss: 0.0308\n",
      "Test Loss: 0.03080487810075283\n",
      "165/165 [==============================] - 4s 17ms/step\n"
     ]
    },
    {
     "ename": "ValueError",
     "evalue": "operands could not be broadcast together with shapes (5252,48,32) (5252,1) ",
     "output_type": "error",
     "traceback": [
      "\u001B[1;31m---------------------------------------------------------------------------\u001B[0m",
      "\u001B[1;31mValueError\u001B[0m                                Traceback (most recent call last)",
      "Cell \u001B[1;32mIn[11], line 58\u001B[0m\n\u001B[0;32m     55\u001B[0m predictions \u001B[38;5;241m=\u001B[39m model\u001B[38;5;241m.\u001B[39mpredict(X_test)\n\u001B[0;32m     57\u001B[0m \u001B[38;5;66;03m# Inverse transform the predictions to original scale\u001B[39;00m\n\u001B[1;32m---> 58\u001B[0m predictions \u001B[38;5;241m=\u001B[39m scaler\u001B[38;5;241m.\u001B[39minverse_transform(\u001B[43mX_test\u001B[49m\u001B[43m \u001B[49m\u001B[38;5;241;43m+\u001B[39;49m\u001B[43m \u001B[49m\u001B[43mpredictions\u001B[49m)\n",
      "\u001B[1;31mValueError\u001B[0m: operands could not be broadcast together with shapes (5252,48,32) (5252,1) "
     ]
    }
   ],
   "source": [
    "import numpy as np\n",
    "import pandas as pd\n",
    "from keras import Sequential\n",
    "from keras.layers import Dense, LSTM, Dropout\n",
    "from sklearn.model_selection import train_test_split\n",
    "from sklearn.preprocessing import MinMaxScaler\n",
    "\n",
    "# Assuming you have your dataset loaded into a pandas DataFrame named 'data'\n",
    "# 'data' should have 35 predictor columns (X) and 1 output column (y)\n",
    "\n",
    "# Assuming the predictors are in columns 0 to 34 and the output is in column 35\n",
    "# Modify this according to your actual dataset\n",
    "\n",
    "# Function to create time series dataset with specified window size\n",
    "def create_time_series_dataset(data, window_size):\n",
    "    X, y = [], []\n",
    "    for i in range(len(data) - window_size):\n",
    "        X.append(data[i:(i + window_size), :-1])\n",
    "        y.append(data[i + window_size, -1])\n",
    "    return np.array(X), np.array(y)\n",
    "\n",
    "# Convert dataframe to numpy array\n",
    "dataset = krakow_20_23.values\n",
    "\n",
    "# Normalize the dataset\n",
    "scaler = MinMaxScaler()\n",
    "dataset_normalized = scaler.fit_transform(dataset)\n",
    "\n",
    "# Create time series dataset with window size 48\n",
    "window_size = 48\n",
    "X, y = create_time_series_dataset(dataset_normalized, window_size)\n",
    "\n",
    "# Splitting the dataset into train and test sets\n",
    "X_train, X_test, y_train, y_test = train_test_split(X, y, test_size=0.2, shuffle=False)\n",
    "\n",
    "# Build the DNN model\n",
    "model = Sequential()\n",
    "model.add(LSTM(units=64, return_sequences=True, input_shape=(window_size, 32)))\n",
    "model.add(Dropout(0.2))\n",
    "model.add(LSTM(units=64))\n",
    "model.add(Dropout(0.2))\n",
    "model.add(Dense(units=1))  # Output layer with 1 neuron for the predicted output\n",
    "\n",
    "# Compile the model\n",
    "model.compile(optimizer='adam', loss='mean_squared_error')\n",
    "\n",
    "# Train the model\n",
    "model.fit(X_train, y_train, epochs=1, batch_size=32)\n",
    "\n",
    "# Evaluate the model\n",
    "loss = model.evaluate(X_test, y_test)\n",
    "print(f\"Test Loss: {loss}\")\n",
    "\n",
    "# Make predictions\n",
    "predictions = model.predict(X_test)\n",
    "\n",
    "# Inverse transform the predictions to original scale\n",
    "predictions = scaler.inverse_transform(X_test + predictions)\n",
    "\n",
    "\n",
    "\n"
   ],
   "metadata": {
    "collapsed": false,
    "ExecuteTime": {
     "end_time": "2023-11-22T09:25:47.972990900Z",
     "start_time": "2023-11-22T09:25:07.751978200Z"
    }
   },
   "id": "cad09e2f304eeb26"
  },
  {
   "cell_type": "code",
   "execution_count": 21,
   "outputs": [
    {
     "name": "stdout",
     "output_type": "stream",
     "text": [
      "165/165 [==============================] - 3s 20ms/step\n"
     ]
    },
    {
     "data": {
      "text/plain": "array([[0.13509576],\n       [0.14541577],\n       [0.15133774],\n       ...,\n       [0.12215139],\n       [0.11778735],\n       [0.10858485]], dtype=float32)"
     },
     "execution_count": 21,
     "metadata": {},
     "output_type": "execute_result"
    }
   ],
   "source": [
    "predictions = model.predict(X_test)\n",
    "predictions"
   ],
   "metadata": {
    "collapsed": false,
    "ExecuteTime": {
     "end_time": "2023-11-22T09:32:33.065779100Z",
     "start_time": "2023-11-22T09:32:29.420922500Z"
    }
   },
   "id": "cffa746b9f360eae"
  },
  {
   "cell_type": "code",
   "execution_count": 27,
   "outputs": [],
   "source": [
    "merged = np.hstack((X_test[:, -1, :], predictions))"
   ],
   "metadata": {
    "collapsed": false,
    "ExecuteTime": {
     "end_time": "2023-11-22T09:33:36.541491600Z",
     "start_time": "2023-11-22T09:33:36.495380600Z"
    }
   },
   "id": "2012a86be4272564"
  },
  {
   "cell_type": "code",
   "execution_count": 28,
   "outputs": [],
   "source": [
    "predictions = scaler.inverse_transform(merged)"
   ],
   "metadata": {
    "collapsed": false,
    "ExecuteTime": {
     "end_time": "2023-11-22T09:33:40.702529100Z",
     "start_time": "2023-11-22T09:33:40.658270600Z"
    }
   },
   "id": "c2884d5facd75660"
  },
  {
   "cell_type": "code",
   "execution_count": 29,
   "outputs": [
    {
     "data": {
      "text/plain": "array([[1800.        ,    0.        ,    8.        , ...,    0.        ,\n           0.        ,   13.96919298],\n       [   0.        ,    0.        ,    8.        , ...,    0.        ,\n           0.        ,   14.95991373],\n       [   0.        ,    0.        ,    8.        , ...,    0.        ,\n           0.        ,   15.52842331],\n       ...,\n       [   0.        ,    0.        ,    8.        , ...,    0.        ,\n           0.        ,   12.72653341],\n       [   0.        ,    0.        ,    8.        , ...,    0.        ,\n           0.        ,   12.30758524],\n       [   0.        ,    0.        ,    8.        , ...,    0.        ,\n           0.        ,   11.4241457 ]])"
     },
     "execution_count": 29,
     "metadata": {},
     "output_type": "execute_result"
    }
   ],
   "source": [
    "predictions"
   ],
   "metadata": {
    "collapsed": false,
    "ExecuteTime": {
     "end_time": "2023-11-22T09:33:43.803707500Z",
     "start_time": "2023-11-22T09:33:43.725627700Z"
    }
   },
   "id": "96ef899353359ff2"
  },
  {
   "cell_type": "code",
   "execution_count": null,
   "outputs": [],
   "source": [],
   "metadata": {
    "collapsed": false
   },
   "id": "bef587cfd0e3edb4"
  }
 ],
 "metadata": {
  "kernelspec": {
   "display_name": "Python 3",
   "language": "python",
   "name": "python3"
  },
  "language_info": {
   "codemirror_mode": {
    "name": "ipython",
    "version": 2
   },
   "file_extension": ".py",
   "mimetype": "text/x-python",
   "name": "python",
   "nbconvert_exporter": "python",
   "pygments_lexer": "ipython2",
   "version": "2.7.6"
  }
 },
 "nbformat": 4,
 "nbformat_minor": 5
}
