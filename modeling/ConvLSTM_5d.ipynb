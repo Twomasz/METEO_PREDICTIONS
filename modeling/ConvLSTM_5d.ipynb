{
 "cells": [
  {
   "cell_type": "code",
   "execution_count": 1,
   "id": "initial_id",
   "metadata": {
    "collapsed": true,
    "ExecuteTime": {
     "end_time": "2024-01-21T16:08:54.979211Z",
     "start_time": "2024-01-21T16:08:10.959300700Z"
    }
   },
   "outputs": [],
   "source": [
    "import pandas as pd\n",
    "from keras.models import Model\n",
    "from keras.layers import LSTM, Dense, Dropout, Input, Bidirectional, Reshape, Conv1D\n",
    "import numpy as np\n",
    "from sklearn.preprocessing import StandardScaler\n",
    "import matplotlib.pyplot as plt\n",
    "from typing import Tuple"
   ]
  },
  {
   "cell_type": "code",
   "execution_count": 2,
   "outputs": [],
   "source": [
    "# Constants\n",
    "SEQUENCE_LEN = 21 * 4              # 21 days of 6-hours data\n",
    "OUTPUT_LEN = 5 * 4                 # 5 days of 6-hours data\n",
    "INPUT_FEATURES = 23                # Number of input features (e.g., temperature, humidity, etc.)\n",
    "OUTPUT_FEATURES = 5 * OUTPUT_LEN   # Predicting flatten 4 features for each timestamp (wind direction is described as two cols)"
   ],
   "metadata": {
    "collapsed": false,
    "ExecuteTime": {
     "end_time": "2024-01-21T16:08:55.081376600Z",
     "start_time": "2024-01-21T16:08:54.987349700Z"
    }
   },
   "id": "75ae269bf08a7bad"
  },
  {
   "cell_type": "code",
   "execution_count": 3,
   "outputs": [],
   "source": [
    "def wind_direction_sin_cos(data: pd.DataFrame):\n",
    "    \"\"\" To avoid problem of huge MSE error degrees are replaced by sin and cos functions \"\"\"\n",
    "    data['Kierunek wiatru [sin]'] = np.sin(data['Kierunek wiatru  [°]'] * 2 * np.pi / 360)  # transform to radians and calculate sin\n",
    "    data['Kierunek wiatru [cos]'] = np.cos(data['Kierunek wiatru  [°]'] * 2 * np.pi / 360)  # transform to radians and calculate sin\n",
    "    data.drop('Kierunek wiatru  [°]', axis=1, inplace=True)\n",
    "    return data\n",
    "\n",
    "def create_sequences(data: pd.DataFrame):\n",
    "    X, y = [], []\n",
    "    for i in range(len(data) - SEQUENCE_LEN - OUTPUT_LEN):\n",
    "        X.append(data[i: i + SEQUENCE_LEN])\n",
    "        y.append(data[i + SEQUENCE_LEN: i + SEQUENCE_LEN + OUTPUT_LEN, :5].flatten()) # Taking the first 4 features for the next 24 hours\n",
    "    return np.array(X), np.array(y)\n",
    "\n",
    "def invert_scale_for_X(X: np.ndarray, scaler):\n",
    "    copy_X = X.copy()\n",
    "    for i in range(X.shape[-1]):\n",
    "        print()\n",
    "        std, mean = scaler.scale_[i], scaler.mean_[i]\n",
    "        copy_X[:, :, i] = X[:, :, i] * std + mean\n",
    "    return copy_X\n",
    "\n",
    "def invert_scale_for_y(y: np.ndarray, scaler):\n",
    "    copy_y = y.copy()\n",
    "    for i in range(5):\n",
    "        std, mean = scaler.scale_[i], scaler.mean_[i]\n",
    "        copy_y[:, i::5] = y[:, i::5] * std + mean\n",
    "    return copy_y\n",
    "\n",
    "def back_to_degrees_for_X(X: np.ndarray):\n",
    "    sin_part, cos_part = X[:, :, 2], X[:, :, 3]  # get all \n",
    "    X[:, :, 2] = np.arctan2(sin_part, cos_part) * 180 / np.pi\n",
    "    replaced_X = np.delete(X, 3, axis=2)\n",
    "    return replaced_X\n",
    "\n",
    "def back_to_degrees_for_y(y: np.ndarray):\n",
    "    sin_part, cos_part = y[:, 2::5], y[:, 3::5]  # get all \n",
    "    y[:, 2::5] = np.arctan2(sin_part, cos_part) * 180 / np.pi\n",
    "    replaced_y = np.delete(y, list(range(3, 99, 5)), axis=1)\n",
    "    return replaced_y\n",
    "\n",
    "def plot_one_prediction(idx: int, X_true, y_true, y_pred, figsize: Tuple[int] = (14, 9)):\n",
    "    x = range(-SEQUENCE_LEN, OUTPUT_LEN)\n",
    "    x1, x2 = x[1:1 + SEQUENCE_LEN], x[SEQUENCE_LEN:]\n",
    "    labels = ['Temperatura [°C]', 'Ciśnienie atmos. [hPa]', 'Kierunek wiatru [°]', 'Prędkość wiatru [m/s]']\n",
    "\n",
    "    fig, axs = plt.subplots(4, figsize=figsize)\n",
    "    fig.suptitle('Porównanie wyników modelu z faktycznym stanem pogody')\n",
    "    for i in range(4):\n",
    "        axs[i].plot(x1, X_true[idx + 1, :, i], label='Dane wejściowe', color='green')\n",
    "        axs[i].plot(x2, y_true[:, i::4][idx], label='Wartość prawdziwa', color='blue')\n",
    "        axs[i].plot(x2, y_pred[:, i::4][idx], label='Predykcja', color='red')\n",
    "        axs[i].set_ylabel(labels[i])\n",
    "        axs[i].grid()\n",
    "        axs[i].legend()\n",
    "    axs[3].set_xlabel('Czas [godz.]')\n",
    "    plt.show()\n",
    "    \n",
    "def BIAS(y_true: np.ndarray, y_pred: np.ndarray):\n",
    "    T_bias = np.mean(y_pred[:, 0::4] - y_true[:, 0::4], axis=0).reshape(1, -1)    # bias for temperature\n",
    "    P_bias = np.mean(y_pred[:, 1::4] - y_true[:, 1::4], axis=0).reshape(1, -1)    # bias for pressure\n",
    "    \n",
    "    WD_diff = np.mod(y_pred[:, 2::4], 360) - np.mod(y_true[:, 2::4], 360)\n",
    "    WD_diff = np.where(np.abs(WD_diff) > 180, WD_diff - np.sign(WD_diff) * 360, WD_diff)\n",
    "    WD_bias = np.mean(WD_diff, axis=0).reshape(1, -1)  # bias for wind direction\n",
    "    \n",
    "    WV_bias = np.mean(y_pred[:, 3::4] - y_true[:, 3::4], axis=0).reshape(1, -1)   # bias for wind velocity\n",
    "    \n",
    "    BIAS_by_hour = np.append(np.append(np.append(T_bias, P_bias, axis=0), WD_bias, axis=0), WV_bias, axis=0)\n",
    "    return BIAS_by_hour\n",
    "\n",
    "def MAE(y_true: np.ndarray, y_pred: np.ndarray):\n",
    "    T_mae = np.mean(np.abs(y_pred[:, 0::4] - y_true[:, 0::4]), axis=0).reshape(1, -1)    # mae for temperature\n",
    "    P_mae = np.mean(np.abs(y_pred[:, 1::4] - y_true[:, 1::4]), axis=0).reshape(1, -1)    # mae for pressure\n",
    "    \n",
    "    WD_diff = np.mod(y_pred[:, 2::4], 360) - np.mod(y_true[:, 2::4], 360)\n",
    "    WD_diff = np.where(np.abs(WD_diff) > 180, WD_diff - np.sign(WD_diff) * 360, WD_diff)\n",
    "    WD_mae = np.mean(np.abs(WD_diff), axis=0).reshape(1, -1)  # mae for wind direction\n",
    "    \n",
    "    WV_mae = np.mean(np.abs(y_pred[:, 3::4] - y_true[:, 3::4]), axis=0).reshape(1, -1)   # mae for wind velocity\n",
    "    \n",
    "    MAE_by_hour = np.append(np.append(np.append(T_mae, P_mae, axis=0), WD_mae, axis=0), WV_mae, axis=0)\n",
    "    return MAE_by_hour\n",
    "    \n",
    "    \n",
    "def RMSE(y_true: np.ndarray, y_pred: np.ndarray):\n",
    "    T_mse = np.mean((y_true[:, 0::4] - y_pred[:, 0::4])**2, axis=0).reshape(1, -1)\n",
    "    P_mse = np.mean((y_true[:, 1::4] - y_pred[:, 1::4])**2, axis=0).reshape(1, -1)\n",
    "    WD_diff = np.mod(y_pred[:, 2::4], 360) - np.mod(y_true[:, 2::4], 360)\n",
    "    WD_diff = np.where(np.abs(WD_diff) > 180, WD_diff - np.sign(WD_diff) * 360, WD_diff)\n",
    "    WD_mse = np.mean(WD_diff**2, axis=0).reshape(1, -1)  # bias for wind direction\n",
    "    WV_mse = np.mean((y_true[:, 3::4] - y_pred[:, 3::4])**2, axis=0).reshape(1, -1)\n",
    "    MSE_by_hour = np.append(np.append(np.append(T_mse, P_mse, axis=0), WD_mse, axis=0), WV_mse, axis=0)\n",
    "    \n",
    "    return np.sqrt(MSE_by_hour)"
   ],
   "metadata": {
    "collapsed": false,
    "ExecuteTime": {
     "end_time": "2024-01-21T16:08:55.127839200Z",
     "start_time": "2024-01-21T16:08:55.063960100Z"
    }
   },
   "id": "43e79de22311d35c"
  },
  {
   "cell_type": "code",
   "execution_count": 4,
   "outputs": [
    {
     "name": "stderr",
     "output_type": "stream",
     "text": [
      "C:\\Users\\Tomek\\AppData\\Local\\Temp\\ipykernel_21912\\2842623883.py:3: SettingWithCopyWarning: \n",
      "A value is trying to be set on a copy of a slice from a DataFrame.\n",
      "Try using .loc[row_indexer,col_indexer] = value instead\n",
      "\n",
      "See the caveats in the documentation: https://pandas.pydata.org/pandas-docs/stable/user_guide/indexing.html#returning-a-view-versus-a-copy\n",
      "  data['Kierunek wiatru [sin]'] = np.sin(data['Kierunek wiatru  [°]'] * 2 * np.pi / 360)  # transform to radians and calculate sin\n",
      "C:\\Users\\Tomek\\AppData\\Local\\Temp\\ipykernel_21912\\2842623883.py:4: SettingWithCopyWarning: \n",
      "A value is trying to be set on a copy of a slice from a DataFrame.\n",
      "Try using .loc[row_indexer,col_indexer] = value instead\n",
      "\n",
      "See the caveats in the documentation: https://pandas.pydata.org/pandas-docs/stable/user_guide/indexing.html#returning-a-view-versus-a-copy\n",
      "  data['Kierunek wiatru [cos]'] = np.cos(data['Kierunek wiatru  [°]'] * 2 * np.pi / 360)  # transform to radians and calculate sin\n",
      "C:\\Users\\Tomek\\AppData\\Local\\Temp\\ipykernel_21912\\2842623883.py:5: SettingWithCopyWarning: \n",
      "A value is trying to be set on a copy of a slice from a DataFrame\n",
      "\n",
      "See the caveats in the documentation: https://pandas.pydata.org/pandas-docs/stable/user_guide/indexing.html#returning-a-view-versus-a-copy\n",
      "  data.drop('Kierunek wiatru  [°]', axis=1, inplace=True)\n"
     ]
    },
    {
     "data": {
      "text/plain": "                     Temperatura powietrza [°C]/1  \\\ntimestamp                                           \n2017-01-01 00:00:00                          -6.8   \n2017-01-01 06:00:00                          -7.1   \n2017-01-01 12:00:00                           4.5   \n2017-01-01 18:00:00                          -4.3   \n2017-01-02 00:00:00                          -6.8   \n...                                           ...   \n2022-12-30 18:00:00                           0.5   \n2022-12-31 00:00:00                          -0.7   \n2022-12-31 06:00:00                          -0.3   \n2022-12-31 12:00:00                          12.0   \n2022-12-31 18:00:00                           9.0   \n\n                     Ciśnienie na poziomie stacji [hPa]  \\\ntimestamp                                                 \n2017-01-01 00:00:00                               995.8   \n2017-01-01 06:00:00                               992.9   \n2017-01-01 12:00:00                               989.9   \n2017-01-01 18:00:00                               988.3   \n2017-01-02 00:00:00                               986.1   \n...                                                 ...   \n2022-12-30 18:00:00                               990.9   \n2022-12-31 00:00:00                               989.3   \n2022-12-31 06:00:00                               989.4   \n2022-12-31 12:00:00                               990.1   \n2022-12-31 18:00:00                               991.1   \n\n                     Ciśnienie na poziomie morza [hPa]  \\\ntimestamp                                                \n2017-01-01 00:00:00                             1027.1   \n2017-01-01 06:00:00                             1024.2   \n2017-01-01 12:00:00                             1019.7   \n2017-01-01 18:00:00                             1019.1   \n2017-01-02 00:00:00                             1017.1   \n...                                                ...   \n2022-12-30 18:00:00                             1021.2   \n2022-12-31 00:00:00                             1019.7   \n2022-12-31 06:00:00                             1019.8   \n2022-12-31 12:00:00                             1019.2   \n2022-12-31 18:00:00                             1020.5   \n\n                     Ciśnienie pary wodnej [hPa]  Widzialność operatora [m]  \\\ntimestamp                                                                     \n2017-01-01 00:00:00                          3.5                       3500   \n2017-01-01 06:00:00                          3.1                       4000   \n2017-01-01 12:00:00                          3.4                      15000   \n2017-01-01 18:00:00                          3.6                       4000   \n2017-01-02 00:00:00                          3.2                       5000   \n...                                          ...                        ...   \n2022-12-30 18:00:00                          5.8                       5000   \n2022-12-31 00:00:00                          5.6                       2000   \n2022-12-31 06:00:00                          5.7                       3500   \n2022-12-31 12:00:00                          9.9                      50000   \n2022-12-31 18:00:00                          9.5                      20000   \n\n                     Zachmurzenie ogólne [oktanty]  \\\ntimestamp                                            \n2017-01-01 00:00:00                              0   \n2017-01-01 06:00:00                              0   \n2017-01-01 12:00:00                              0   \n2017-01-01 18:00:00                              0   \n2017-01-02 00:00:00                              0   \n...                                            ...   \n2022-12-30 18:00:00                              0   \n2022-12-31 00:00:00                              3   \n2022-12-31 06:00:00                              5   \n2022-12-31 12:00:00                              6   \n2022-12-31 18:00:00                              7   \n\n                     Zachmurzenie niskie [oktanty]  Chmury CL [kod]  \\\ntimestamp                                                             \n2017-01-01 00:00:00                              0                0   \n2017-01-01 06:00:00                              0                0   \n2017-01-01 12:00:00                              0                0   \n2017-01-01 18:00:00                              0                0   \n2017-01-02 00:00:00                              0                0   \n...                                            ...              ...   \n2022-12-30 18:00:00                              0                0   \n2022-12-31 00:00:00                              0                0   \n2022-12-31 06:00:00                              1                0   \n2022-12-31 12:00:00                              4                5   \n2022-12-31 18:00:00                              1                0   \n\n                     Chmury CM [kod]  Chmury CH [kod]  ...  \\\ntimestamp                                              ...   \n2017-01-01 00:00:00                0                0  ...   \n2017-01-01 06:00:00                0                0  ...   \n2017-01-01 12:00:00                0                0  ...   \n2017-01-01 18:00:00                0                0  ...   \n2017-01-02 00:00:00                0                0  ...   \n...                              ...              ...  ...   \n2022-12-30 18:00:00                0                0  ...   \n2022-12-31 00:00:00                0                0  ...   \n2022-12-31 06:00:00                0                0  ...   \n2022-12-31 12:00:00                5                5  ...   \n2022-12-31 18:00:00                0                0  ...   \n\n                     Wilgotność względna [%]  Niedosyt wilgotności [hPa]  \\\ntimestamp                                                                  \n2017-01-01 00:00:00                       95                         0.2   \n2017-01-01 06:00:00                       87                         0.5   \n2017-01-01 12:00:00                       40                         5.1   \n2017-01-01 18:00:00                       82                         0.8   \n2017-01-02 00:00:00                       88                         0.4   \n...                                      ...                         ...   \n2022-12-30 18:00:00                       91                         0.6   \n2022-12-31 00:00:00                       96                         0.2   \n2022-12-31 06:00:00                       95                         0.3   \n2022-12-31 12:00:00                       71                         4.1   \n2022-12-31 18:00:00                       83                         1.9   \n\n                     Wystąpienie rosy [0/1]  Wartość tendencji [wartość]  \\\ntimestamp                                                                  \n2017-01-01 00:00:00                       0                         -1.5   \n2017-01-01 06:00:00                       0                         -1.2   \n2017-01-01 12:00:00                       0                         -2.5   \n2017-01-01 18:00:00                       0                         -0.5   \n2017-01-02 00:00:00                       0                         -1.5   \n...                                     ...                          ...   \n2022-12-30 18:00:00                       0                          0.1   \n2022-12-31 00:00:00                       0                         -1.0   \n2022-12-31 06:00:00                       0                          0.3   \n2022-12-31 12:00:00                       0                         -0.3   \n2022-12-31 18:00:00                       0                          0.9   \n\n                     Opad godzinowy [mm]  Rodzaj opadu za 6 godzin [kod]  \\\ntimestamp                                                                  \n2017-01-01 00:00:00                  0.0                             0.0   \n2017-01-01 06:00:00                  0.0                             0.0   \n2017-01-01 12:00:00                  0.0                             0.0   \n2017-01-01 18:00:00                  0.0                             0.0   \n2017-01-02 00:00:00                  0.0                             0.0   \n...                                  ...                             ...   \n2022-12-30 18:00:00                  0.0                             0.0   \n2022-12-31 00:00:00                  0.0                             0.0   \n2022-12-31 06:00:00                  0.0                             0.0   \n2022-12-31 12:00:00                  0.0                             0.0   \n2022-12-31 18:00:00                  0.0                             0.0   \n\n                     Wysokość pokrywy śnieżnej [cm]  Gatunek śniegu  [kod]  \\\ntimestamp                                                                    \n2017-01-01 00:00:00                             0.0                      0   \n2017-01-01 06:00:00                             0.0                      0   \n2017-01-01 12:00:00                             0.0                      0   \n2017-01-01 18:00:00                             0.0                      0   \n2017-01-02 00:00:00                             0.0                      0   \n...                                             ...                    ...   \n2022-12-30 18:00:00                             0.0                      0   \n2022-12-31 00:00:00                             0.0                      0   \n2022-12-31 06:00:00                             0.0                      0   \n2022-12-31 12:00:00                             0.0                      0   \n2022-12-31 18:00:00                             0.0                      0   \n\n                     Kierunek wiatru [sin]  Kierunek wiatru [cos]  \ntimestamp                                                          \n2017-01-01 00:00:00              -0.052336               0.998630  \n2017-01-01 06:00:00               0.000000               1.000000  \n2017-01-01 12:00:00              -0.707107              -0.707107  \n2017-01-01 18:00:00              -0.669131              -0.743145  \n2017-01-02 00:00:00              -0.974370               0.224951  \n...                                    ...                    ...  \n2022-12-30 18:00:00               0.754710               0.656059  \n2022-12-31 00:00:00               0.292372               0.956305  \n2022-12-31 06:00:00               0.000000               1.000000  \n2022-12-31 12:00:00              -0.559193              -0.829038  \n2022-12-31 18:00:00              -0.920505              -0.390731  \n\n[8764 rows x 23 columns]",
      "text/html": "<div>\n<style scoped>\n    .dataframe tbody tr th:only-of-type {\n        vertical-align: middle;\n    }\n\n    .dataframe tbody tr th {\n        vertical-align: top;\n    }\n\n    .dataframe thead th {\n        text-align: right;\n    }\n</style>\n<table border=\"1\" class=\"dataframe\">\n  <thead>\n    <tr style=\"text-align: right;\">\n      <th></th>\n      <th>Temperatura powietrza [°C]/1</th>\n      <th>Ciśnienie na poziomie stacji [hPa]</th>\n      <th>Ciśnienie na poziomie morza [hPa]</th>\n      <th>Ciśnienie pary wodnej [hPa]</th>\n      <th>Widzialność operatora [m]</th>\n      <th>Zachmurzenie ogólne [oktanty]</th>\n      <th>Zachmurzenie niskie [oktanty]</th>\n      <th>Chmury CL [kod]</th>\n      <th>Chmury CM [kod]</th>\n      <th>Chmury CH [kod]</th>\n      <th>...</th>\n      <th>Wilgotność względna [%]</th>\n      <th>Niedosyt wilgotności [hPa]</th>\n      <th>Wystąpienie rosy [0/1]</th>\n      <th>Wartość tendencji [wartość]</th>\n      <th>Opad godzinowy [mm]</th>\n      <th>Rodzaj opadu za 6 godzin [kod]</th>\n      <th>Wysokość pokrywy śnieżnej [cm]</th>\n      <th>Gatunek śniegu  [kod]</th>\n      <th>Kierunek wiatru [sin]</th>\n      <th>Kierunek wiatru [cos]</th>\n    </tr>\n    <tr>\n      <th>timestamp</th>\n      <th></th>\n      <th></th>\n      <th></th>\n      <th></th>\n      <th></th>\n      <th></th>\n      <th></th>\n      <th></th>\n      <th></th>\n      <th></th>\n      <th></th>\n      <th></th>\n      <th></th>\n      <th></th>\n      <th></th>\n      <th></th>\n      <th></th>\n      <th></th>\n      <th></th>\n      <th></th>\n      <th></th>\n    </tr>\n  </thead>\n  <tbody>\n    <tr>\n      <th>2017-01-01 00:00:00</th>\n      <td>-6.8</td>\n      <td>995.8</td>\n      <td>1027.1</td>\n      <td>3.5</td>\n      <td>3500</td>\n      <td>0</td>\n      <td>0</td>\n      <td>0</td>\n      <td>0</td>\n      <td>0</td>\n      <td>...</td>\n      <td>95</td>\n      <td>0.2</td>\n      <td>0</td>\n      <td>-1.5</td>\n      <td>0.0</td>\n      <td>0.0</td>\n      <td>0.0</td>\n      <td>0</td>\n      <td>-0.052336</td>\n      <td>0.998630</td>\n    </tr>\n    <tr>\n      <th>2017-01-01 06:00:00</th>\n      <td>-7.1</td>\n      <td>992.9</td>\n      <td>1024.2</td>\n      <td>3.1</td>\n      <td>4000</td>\n      <td>0</td>\n      <td>0</td>\n      <td>0</td>\n      <td>0</td>\n      <td>0</td>\n      <td>...</td>\n      <td>87</td>\n      <td>0.5</td>\n      <td>0</td>\n      <td>-1.2</td>\n      <td>0.0</td>\n      <td>0.0</td>\n      <td>0.0</td>\n      <td>0</td>\n      <td>0.000000</td>\n      <td>1.000000</td>\n    </tr>\n    <tr>\n      <th>2017-01-01 12:00:00</th>\n      <td>4.5</td>\n      <td>989.9</td>\n      <td>1019.7</td>\n      <td>3.4</td>\n      <td>15000</td>\n      <td>0</td>\n      <td>0</td>\n      <td>0</td>\n      <td>0</td>\n      <td>0</td>\n      <td>...</td>\n      <td>40</td>\n      <td>5.1</td>\n      <td>0</td>\n      <td>-2.5</td>\n      <td>0.0</td>\n      <td>0.0</td>\n      <td>0.0</td>\n      <td>0</td>\n      <td>-0.707107</td>\n      <td>-0.707107</td>\n    </tr>\n    <tr>\n      <th>2017-01-01 18:00:00</th>\n      <td>-4.3</td>\n      <td>988.3</td>\n      <td>1019.1</td>\n      <td>3.6</td>\n      <td>4000</td>\n      <td>0</td>\n      <td>0</td>\n      <td>0</td>\n      <td>0</td>\n      <td>0</td>\n      <td>...</td>\n      <td>82</td>\n      <td>0.8</td>\n      <td>0</td>\n      <td>-0.5</td>\n      <td>0.0</td>\n      <td>0.0</td>\n      <td>0.0</td>\n      <td>0</td>\n      <td>-0.669131</td>\n      <td>-0.743145</td>\n    </tr>\n    <tr>\n      <th>2017-01-02 00:00:00</th>\n      <td>-6.8</td>\n      <td>986.1</td>\n      <td>1017.1</td>\n      <td>3.2</td>\n      <td>5000</td>\n      <td>0</td>\n      <td>0</td>\n      <td>0</td>\n      <td>0</td>\n      <td>0</td>\n      <td>...</td>\n      <td>88</td>\n      <td>0.4</td>\n      <td>0</td>\n      <td>-1.5</td>\n      <td>0.0</td>\n      <td>0.0</td>\n      <td>0.0</td>\n      <td>0</td>\n      <td>-0.974370</td>\n      <td>0.224951</td>\n    </tr>\n    <tr>\n      <th>...</th>\n      <td>...</td>\n      <td>...</td>\n      <td>...</td>\n      <td>...</td>\n      <td>...</td>\n      <td>...</td>\n      <td>...</td>\n      <td>...</td>\n      <td>...</td>\n      <td>...</td>\n      <td>...</td>\n      <td>...</td>\n      <td>...</td>\n      <td>...</td>\n      <td>...</td>\n      <td>...</td>\n      <td>...</td>\n      <td>...</td>\n      <td>...</td>\n      <td>...</td>\n      <td>...</td>\n    </tr>\n    <tr>\n      <th>2022-12-30 18:00:00</th>\n      <td>0.5</td>\n      <td>990.9</td>\n      <td>1021.2</td>\n      <td>5.8</td>\n      <td>5000</td>\n      <td>0</td>\n      <td>0</td>\n      <td>0</td>\n      <td>0</td>\n      <td>0</td>\n      <td>...</td>\n      <td>91</td>\n      <td>0.6</td>\n      <td>0</td>\n      <td>0.1</td>\n      <td>0.0</td>\n      <td>0.0</td>\n      <td>0.0</td>\n      <td>0</td>\n      <td>0.754710</td>\n      <td>0.656059</td>\n    </tr>\n    <tr>\n      <th>2022-12-31 00:00:00</th>\n      <td>-0.7</td>\n      <td>989.3</td>\n      <td>1019.7</td>\n      <td>5.6</td>\n      <td>2000</td>\n      <td>3</td>\n      <td>0</td>\n      <td>0</td>\n      <td>0</td>\n      <td>0</td>\n      <td>...</td>\n      <td>96</td>\n      <td>0.2</td>\n      <td>0</td>\n      <td>-1.0</td>\n      <td>0.0</td>\n      <td>0.0</td>\n      <td>0.0</td>\n      <td>0</td>\n      <td>0.292372</td>\n      <td>0.956305</td>\n    </tr>\n    <tr>\n      <th>2022-12-31 06:00:00</th>\n      <td>-0.3</td>\n      <td>989.4</td>\n      <td>1019.8</td>\n      <td>5.7</td>\n      <td>3500</td>\n      <td>5</td>\n      <td>1</td>\n      <td>0</td>\n      <td>0</td>\n      <td>0</td>\n      <td>...</td>\n      <td>95</td>\n      <td>0.3</td>\n      <td>0</td>\n      <td>0.3</td>\n      <td>0.0</td>\n      <td>0.0</td>\n      <td>0.0</td>\n      <td>0</td>\n      <td>0.000000</td>\n      <td>1.000000</td>\n    </tr>\n    <tr>\n      <th>2022-12-31 12:00:00</th>\n      <td>12.0</td>\n      <td>990.1</td>\n      <td>1019.2</td>\n      <td>9.9</td>\n      <td>50000</td>\n      <td>6</td>\n      <td>4</td>\n      <td>5</td>\n      <td>5</td>\n      <td>5</td>\n      <td>...</td>\n      <td>71</td>\n      <td>4.1</td>\n      <td>0</td>\n      <td>-0.3</td>\n      <td>0.0</td>\n      <td>0.0</td>\n      <td>0.0</td>\n      <td>0</td>\n      <td>-0.559193</td>\n      <td>-0.829038</td>\n    </tr>\n    <tr>\n      <th>2022-12-31 18:00:00</th>\n      <td>9.0</td>\n      <td>991.1</td>\n      <td>1020.5</td>\n      <td>9.5</td>\n      <td>20000</td>\n      <td>7</td>\n      <td>1</td>\n      <td>0</td>\n      <td>0</td>\n      <td>0</td>\n      <td>...</td>\n      <td>83</td>\n      <td>1.9</td>\n      <td>0</td>\n      <td>0.9</td>\n      <td>0.0</td>\n      <td>0.0</td>\n      <td>0.0</td>\n      <td>0</td>\n      <td>-0.920505</td>\n      <td>-0.390731</td>\n    </tr>\n  </tbody>\n</table>\n<p>8764 rows × 23 columns</p>\n</div>"
     },
     "execution_count": 4,
     "metadata": {},
     "output_type": "execute_result"
    }
   ],
   "source": [
    "data = pd.read_csv('../data/preprocessed_data/complete_krk_2017-22.csv')\n",
    "data['timestamp'] = pd.to_datetime(data['timestamp'])\n",
    "data = data.set_index('timestamp')\n",
    "data_6h = data[data.index.hour.isin([0, 6, 12, 18])]\n",
    "data_6h = wind_direction_sin_cos(data_6h)\n",
    "data_6h"
   ],
   "metadata": {
    "collapsed": false,
    "ExecuteTime": {
     "end_time": "2024-01-21T16:08:55.555252200Z",
     "start_time": "2024-01-21T16:08:55.094385800Z"
    }
   },
   "id": "af2ce373e77b48bd"
  },
  {
   "cell_type": "code",
   "execution_count": 5,
   "outputs": [
    {
     "data": {
      "text/plain": "                     Temperatura powietrza [°C]/1  \\\ntimestamp                                           \n2017-01-01 00:00:00                          -6.8   \n2017-01-01 01:00:00                          -6.9   \n2017-01-01 02:00:00                          -3.9   \n2017-01-01 03:00:00                          -6.5   \n2017-01-01 04:00:00                          -6.1   \n...                                           ...   \n2022-12-31 19:00:00                           8.3   \n2022-12-31 20:00:00                           9.1   \n2022-12-31 21:00:00                           8.4   \n2022-12-31 22:00:00                           9.3   \n2022-12-31 23:00:00                           6.1   \n\n                     Ciśnienie na poziomie stacji [hPa]  \\\ntimestamp                                                 \n2017-01-01 00:00:00                               995.8   \n2017-01-01 01:00:00                               995.6   \n2017-01-01 02:00:00                               994.9   \n2017-01-01 03:00:00                               994.1   \n2017-01-01 04:00:00                               993.6   \n...                                                 ...   \n2022-12-31 19:00:00                               991.2   \n2022-12-31 20:00:00                               991.4   \n2022-12-31 21:00:00                               991.6   \n2022-12-31 22:00:00                               991.6   \n2022-12-31 23:00:00                               991.5   \n\n                     Ciśnienie na poziomie morza [hPa]  \\\ntimestamp                                                \n2017-01-01 00:00:00                             1027.1   \n2017-01-01 01:00:00                             1026.9   \n2017-01-01 02:00:00                             1025.8   \n2017-01-01 03:00:00                             1025.3   \n2017-01-01 04:00:00                             1024.8   \n...                                                ...   \n2022-12-31 19:00:00                             1020.7   \n2022-12-31 20:00:00                             1020.8   \n2022-12-31 21:00:00                             1021.1   \n2022-12-31 22:00:00                             1021.0   \n2022-12-31 23:00:00                             1021.2   \n\n                     Ciśnienie pary wodnej [hPa]  Widzialność operatora [m]  \\\ntimestamp                                                                     \n2017-01-01 00:00:00                          3.5                       3500   \n2017-01-01 01:00:00                          3.5                       3500   \n2017-01-01 02:00:00                          3.8                       5000   \n2017-01-01 03:00:00                          3.5                       4000   \n2017-01-01 04:00:00                          3.3                       4000   \n...                                          ...                        ...   \n2022-12-31 19:00:00                          9.5                      20000   \n2022-12-31 20:00:00                          9.2                      20000   \n2022-12-31 21:00:00                          9.0                      20000   \n2022-12-31 22:00:00                          8.7                      20000   \n2022-12-31 23:00:00                          8.0                      20000   \n\n                     Zachmurzenie ogólne [oktanty]  \\\ntimestamp                                            \n2017-01-01 00:00:00                              0   \n2017-01-01 01:00:00                              0   \n2017-01-01 02:00:00                              0   \n2017-01-01 03:00:00                              0   \n2017-01-01 04:00:00                              0   \n...                                            ...   \n2022-12-31 19:00:00                              7   \n2022-12-31 20:00:00                              7   \n2022-12-31 21:00:00                              7   \n2022-12-31 22:00:00                              7   \n2022-12-31 23:00:00                              7   \n\n                     Zachmurzenie niskie [oktanty]  Chmury CL [kod]  \\\ntimestamp                                                             \n2017-01-01 00:00:00                              0                0   \n2017-01-01 01:00:00                              0                0   \n2017-01-01 02:00:00                              0                0   \n2017-01-01 03:00:00                              0                0   \n2017-01-01 04:00:00                              0                0   \n...                                            ...              ...   \n2022-12-31 19:00:00                              0                0   \n2022-12-31 20:00:00                              0                0   \n2022-12-31 21:00:00                              0                0   \n2022-12-31 22:00:00                              0                0   \n2022-12-31 23:00:00                              0                0   \n\n                     Chmury CM [kod]  Chmury CH [kod]  ...  \\\ntimestamp                                              ...   \n2017-01-01 00:00:00                0                0  ...   \n2017-01-01 01:00:00                0                0  ...   \n2017-01-01 02:00:00                0                0  ...   \n2017-01-01 03:00:00                0                0  ...   \n2017-01-01 04:00:00                0                0  ...   \n...                              ...              ...  ...   \n2022-12-31 19:00:00                0                0  ...   \n2022-12-31 20:00:00                0                0  ...   \n2022-12-31 21:00:00                0                0  ...   \n2022-12-31 22:00:00                0                0  ...   \n2022-12-31 23:00:00                0                0  ...   \n\n                     Prędkość wiatru  [m/s]  Temperatura punktu rosy [°C]  \\\ntimestamp                                                                   \n2017-01-01 00:00:00                       1                          -7.5   \n2017-01-01 01:00:00                       1                          -7.6   \n2017-01-01 02:00:00                       3                          -6.4   \n2017-01-01 03:00:00                       2                          -7.6   \n2017-01-01 04:00:00                       1                          -8.2   \n...                                     ...                           ...   \n2022-12-31 19:00:00                       3                           6.3   \n2022-12-31 20:00:00                       3                           5.8   \n2022-12-31 21:00:00                       2                           5.5   \n2022-12-31 22:00:00                       2                           4.9   \n2022-12-31 23:00:00                       1                           3.8   \n\n                     Wilgotność względna [%]  Niedosyt wilgotności [hPa]  \\\ntimestamp                                                                  \n2017-01-01 00:00:00                       95                         0.2   \n2017-01-01 01:00:00                       95                         0.2   \n2017-01-01 02:00:00                       83                         0.8   \n2017-01-01 03:00:00                       92                         0.3   \n2017-01-01 04:00:00                       85                         0.6   \n...                                      ...                         ...   \n2022-12-31 19:00:00                       87                         1.4   \n2022-12-31 20:00:00                       80                         2.3   \n2022-12-31 21:00:00                       82                         2.0   \n2022-12-31 22:00:00                       74                         3.0   \n2022-12-31 23:00:00                       85                         1.4   \n\n                     Wystąpienie rosy [0/1]  Wartość tendencji [wartość]  \\\ntimestamp                                                                  \n2017-01-01 00:00:00                       0                         -1.5   \n2017-01-01 01:00:00                       0                         -1.4   \n2017-01-01 02:00:00                       0                         -1.4   \n2017-01-01 03:00:00                       0                         -1.7   \n2017-01-01 04:00:00                       0                         -2.0   \n...                                     ...                          ...   \n2022-12-31 19:00:00                       0                          0.7   \n2022-12-31 20:00:00                       0                          0.5   \n2022-12-31 21:00:00                       0                          0.5   \n2022-12-31 22:00:00                       0                          0.4   \n2022-12-31 23:00:00                       0                          0.1   \n\n                     Opad godzinowy [mm]  Rodzaj opadu za 6 godzin [kod]  \\\ntimestamp                                                                  \n2017-01-01 00:00:00                  0.0                             0.0   \n2017-01-01 01:00:00                  0.0                             0.0   \n2017-01-01 02:00:00                  0.0                             0.0   \n2017-01-01 03:00:00                  0.0                             0.0   \n2017-01-01 04:00:00                  0.0                             0.0   \n...                                  ...                             ...   \n2022-12-31 19:00:00                  0.0                             0.0   \n2022-12-31 20:00:00                  0.0                             0.0   \n2022-12-31 21:00:00                  0.0                             0.0   \n2022-12-31 22:00:00                  0.0                             0.0   \n2022-12-31 23:00:00                  0.0                             0.0   \n\n                     Wysokość pokrywy śnieżnej [cm]  Gatunek śniegu  [kod]  \ntimestamp                                                                   \n2017-01-01 00:00:00                             0.0                      0  \n2017-01-01 01:00:00                             0.0                      0  \n2017-01-01 02:00:00                             0.0                      0  \n2017-01-01 03:00:00                             0.0                      0  \n2017-01-01 04:00:00                             0.0                      0  \n...                                             ...                    ...  \n2022-12-31 19:00:00                             0.0                      0  \n2022-12-31 20:00:00                             0.0                      0  \n2022-12-31 21:00:00                             0.0                      0  \n2022-12-31 22:00:00                             0.0                      0  \n2022-12-31 23:00:00                             0.0                      0  \n\n[52584 rows x 22 columns]",
      "text/html": "<div>\n<style scoped>\n    .dataframe tbody tr th:only-of-type {\n        vertical-align: middle;\n    }\n\n    .dataframe tbody tr th {\n        vertical-align: top;\n    }\n\n    .dataframe thead th {\n        text-align: right;\n    }\n</style>\n<table border=\"1\" class=\"dataframe\">\n  <thead>\n    <tr style=\"text-align: right;\">\n      <th></th>\n      <th>Temperatura powietrza [°C]/1</th>\n      <th>Ciśnienie na poziomie stacji [hPa]</th>\n      <th>Ciśnienie na poziomie morza [hPa]</th>\n      <th>Ciśnienie pary wodnej [hPa]</th>\n      <th>Widzialność operatora [m]</th>\n      <th>Zachmurzenie ogólne [oktanty]</th>\n      <th>Zachmurzenie niskie [oktanty]</th>\n      <th>Chmury CL [kod]</th>\n      <th>Chmury CM [kod]</th>\n      <th>Chmury CH [kod]</th>\n      <th>...</th>\n      <th>Prędkość wiatru  [m/s]</th>\n      <th>Temperatura punktu rosy [°C]</th>\n      <th>Wilgotność względna [%]</th>\n      <th>Niedosyt wilgotności [hPa]</th>\n      <th>Wystąpienie rosy [0/1]</th>\n      <th>Wartość tendencji [wartość]</th>\n      <th>Opad godzinowy [mm]</th>\n      <th>Rodzaj opadu za 6 godzin [kod]</th>\n      <th>Wysokość pokrywy śnieżnej [cm]</th>\n      <th>Gatunek śniegu  [kod]</th>\n    </tr>\n    <tr>\n      <th>timestamp</th>\n      <th></th>\n      <th></th>\n      <th></th>\n      <th></th>\n      <th></th>\n      <th></th>\n      <th></th>\n      <th></th>\n      <th></th>\n      <th></th>\n      <th></th>\n      <th></th>\n      <th></th>\n      <th></th>\n      <th></th>\n      <th></th>\n      <th></th>\n      <th></th>\n      <th></th>\n      <th></th>\n      <th></th>\n    </tr>\n  </thead>\n  <tbody>\n    <tr>\n      <th>2017-01-01 00:00:00</th>\n      <td>-6.8</td>\n      <td>995.8</td>\n      <td>1027.1</td>\n      <td>3.5</td>\n      <td>3500</td>\n      <td>0</td>\n      <td>0</td>\n      <td>0</td>\n      <td>0</td>\n      <td>0</td>\n      <td>...</td>\n      <td>1</td>\n      <td>-7.5</td>\n      <td>95</td>\n      <td>0.2</td>\n      <td>0</td>\n      <td>-1.5</td>\n      <td>0.0</td>\n      <td>0.0</td>\n      <td>0.0</td>\n      <td>0</td>\n    </tr>\n    <tr>\n      <th>2017-01-01 01:00:00</th>\n      <td>-6.9</td>\n      <td>995.6</td>\n      <td>1026.9</td>\n      <td>3.5</td>\n      <td>3500</td>\n      <td>0</td>\n      <td>0</td>\n      <td>0</td>\n      <td>0</td>\n      <td>0</td>\n      <td>...</td>\n      <td>1</td>\n      <td>-7.6</td>\n      <td>95</td>\n      <td>0.2</td>\n      <td>0</td>\n      <td>-1.4</td>\n      <td>0.0</td>\n      <td>0.0</td>\n      <td>0.0</td>\n      <td>0</td>\n    </tr>\n    <tr>\n      <th>2017-01-01 02:00:00</th>\n      <td>-3.9</td>\n      <td>994.9</td>\n      <td>1025.8</td>\n      <td>3.8</td>\n      <td>5000</td>\n      <td>0</td>\n      <td>0</td>\n      <td>0</td>\n      <td>0</td>\n      <td>0</td>\n      <td>...</td>\n      <td>3</td>\n      <td>-6.4</td>\n      <td>83</td>\n      <td>0.8</td>\n      <td>0</td>\n      <td>-1.4</td>\n      <td>0.0</td>\n      <td>0.0</td>\n      <td>0.0</td>\n      <td>0</td>\n    </tr>\n    <tr>\n      <th>2017-01-01 03:00:00</th>\n      <td>-6.5</td>\n      <td>994.1</td>\n      <td>1025.3</td>\n      <td>3.5</td>\n      <td>4000</td>\n      <td>0</td>\n      <td>0</td>\n      <td>0</td>\n      <td>0</td>\n      <td>0</td>\n      <td>...</td>\n      <td>2</td>\n      <td>-7.6</td>\n      <td>92</td>\n      <td>0.3</td>\n      <td>0</td>\n      <td>-1.7</td>\n      <td>0.0</td>\n      <td>0.0</td>\n      <td>0.0</td>\n      <td>0</td>\n    </tr>\n    <tr>\n      <th>2017-01-01 04:00:00</th>\n      <td>-6.1</td>\n      <td>993.6</td>\n      <td>1024.8</td>\n      <td>3.3</td>\n      <td>4000</td>\n      <td>0</td>\n      <td>0</td>\n      <td>0</td>\n      <td>0</td>\n      <td>0</td>\n      <td>...</td>\n      <td>1</td>\n      <td>-8.2</td>\n      <td>85</td>\n      <td>0.6</td>\n      <td>0</td>\n      <td>-2.0</td>\n      <td>0.0</td>\n      <td>0.0</td>\n      <td>0.0</td>\n      <td>0</td>\n    </tr>\n    <tr>\n      <th>...</th>\n      <td>...</td>\n      <td>...</td>\n      <td>...</td>\n      <td>...</td>\n      <td>...</td>\n      <td>...</td>\n      <td>...</td>\n      <td>...</td>\n      <td>...</td>\n      <td>...</td>\n      <td>...</td>\n      <td>...</td>\n      <td>...</td>\n      <td>...</td>\n      <td>...</td>\n      <td>...</td>\n      <td>...</td>\n      <td>...</td>\n      <td>...</td>\n      <td>...</td>\n      <td>...</td>\n    </tr>\n    <tr>\n      <th>2022-12-31 19:00:00</th>\n      <td>8.3</td>\n      <td>991.2</td>\n      <td>1020.7</td>\n      <td>9.5</td>\n      <td>20000</td>\n      <td>7</td>\n      <td>0</td>\n      <td>0</td>\n      <td>0</td>\n      <td>0</td>\n      <td>...</td>\n      <td>3</td>\n      <td>6.3</td>\n      <td>87</td>\n      <td>1.4</td>\n      <td>0</td>\n      <td>0.7</td>\n      <td>0.0</td>\n      <td>0.0</td>\n      <td>0.0</td>\n      <td>0</td>\n    </tr>\n    <tr>\n      <th>2022-12-31 20:00:00</th>\n      <td>9.1</td>\n      <td>991.4</td>\n      <td>1020.8</td>\n      <td>9.2</td>\n      <td>20000</td>\n      <td>7</td>\n      <td>0</td>\n      <td>0</td>\n      <td>0</td>\n      <td>0</td>\n      <td>...</td>\n      <td>3</td>\n      <td>5.8</td>\n      <td>80</td>\n      <td>2.3</td>\n      <td>0</td>\n      <td>0.5</td>\n      <td>0.0</td>\n      <td>0.0</td>\n      <td>0.0</td>\n      <td>0</td>\n    </tr>\n    <tr>\n      <th>2022-12-31 21:00:00</th>\n      <td>8.4</td>\n      <td>991.6</td>\n      <td>1021.1</td>\n      <td>9.0</td>\n      <td>20000</td>\n      <td>7</td>\n      <td>0</td>\n      <td>0</td>\n      <td>0</td>\n      <td>0</td>\n      <td>...</td>\n      <td>2</td>\n      <td>5.5</td>\n      <td>82</td>\n      <td>2.0</td>\n      <td>0</td>\n      <td>0.5</td>\n      <td>0.0</td>\n      <td>0.0</td>\n      <td>0.0</td>\n      <td>0</td>\n    </tr>\n    <tr>\n      <th>2022-12-31 22:00:00</th>\n      <td>9.3</td>\n      <td>991.6</td>\n      <td>1021.0</td>\n      <td>8.7</td>\n      <td>20000</td>\n      <td>7</td>\n      <td>0</td>\n      <td>0</td>\n      <td>0</td>\n      <td>0</td>\n      <td>...</td>\n      <td>2</td>\n      <td>4.9</td>\n      <td>74</td>\n      <td>3.0</td>\n      <td>0</td>\n      <td>0.4</td>\n      <td>0.0</td>\n      <td>0.0</td>\n      <td>0.0</td>\n      <td>0</td>\n    </tr>\n    <tr>\n      <th>2022-12-31 23:00:00</th>\n      <td>6.1</td>\n      <td>991.5</td>\n      <td>1021.2</td>\n      <td>8.0</td>\n      <td>20000</td>\n      <td>7</td>\n      <td>0</td>\n      <td>0</td>\n      <td>0</td>\n      <td>0</td>\n      <td>...</td>\n      <td>1</td>\n      <td>3.8</td>\n      <td>85</td>\n      <td>1.4</td>\n      <td>0</td>\n      <td>0.1</td>\n      <td>0.0</td>\n      <td>0.0</td>\n      <td>0.0</td>\n      <td>0</td>\n    </tr>\n  </tbody>\n</table>\n<p>52584 rows × 22 columns</p>\n</div>"
     },
     "execution_count": 5,
     "metadata": {},
     "output_type": "execute_result"
    }
   ],
   "source": [
    "cols = data_6h.columns\n",
    "new_order = [0, 1, 21, 22, 11] + list(range(2, 11)) + list(range(12, 21))\n",
    "cols = [cols[i] for i in new_order]\n",
    "data_6h = data_6h[cols]\n",
    "data"
   ],
   "metadata": {
    "collapsed": false,
    "ExecuteTime": {
     "end_time": "2024-01-21T16:08:55.732260600Z",
     "start_time": "2024-01-21T16:08:55.555252200Z"
    }
   },
   "id": "d2f4a9a835be25af"
  },
  {
   "cell_type": "code",
   "execution_count": 6,
   "outputs": [
    {
     "data": {
      "text/plain": "array([[-1.84111251,  0.96474493,  0.215925  , ..., -0.6736711 ,\n        -0.15217187, -0.28491282],\n       [-1.8746059 ,  0.60170017,  0.29607542, ..., -0.6736711 ,\n        -0.15217187, -0.28491282],\n       [-0.57952796,  0.22613662, -0.78683026, ..., -0.6736711 ,\n        -0.15217187, -0.28491282],\n       ...,\n       [-1.11542228,  0.1635427 ,  0.29607542, ..., -0.6736711 ,\n        -0.15217187, -0.28491282],\n       [ 0.25780691,  0.25117419, -0.56030608, ..., -0.6736711 ,\n        -0.15217187, -0.28491282],\n       [-0.07712704,  0.37636204, -1.11364084, ..., -0.6736711 ,\n        -0.15217187, -0.28491282]])"
     },
     "execution_count": 6,
     "metadata": {},
     "output_type": "execute_result"
    }
   ],
   "source": [
    "# Assuming 'data' is your dataset with shape (total_hours, 26_features)\n",
    "# and 'total_hours' is a multiple of 24\n",
    "\n",
    "# Normalize your data\n",
    "scaler = StandardScaler()\n",
    "data_normalized = scaler.fit_transform(data_6h)\n",
    "data_normalized"
   ],
   "metadata": {
    "collapsed": false,
    "ExecuteTime": {
     "end_time": "2024-01-21T16:08:55.774650100Z",
     "start_time": "2024-01-21T16:08:55.611120400Z"
    }
   },
   "id": "7dfc731fb566ec0b"
  },
  {
   "cell_type": "code",
   "execution_count": 7,
   "outputs": [],
   "source": [
    "# Create sequences\n",
    "X, y = create_sequences(data_normalized)"
   ],
   "metadata": {
    "collapsed": false,
    "ExecuteTime": {
     "end_time": "2024-01-21T16:08:56.037751200Z",
     "start_time": "2024-01-21T16:08:55.637929800Z"
    }
   },
   "id": "91ee8ef49c64629e"
  },
  {
   "cell_type": "code",
   "execution_count": 8,
   "outputs": [],
   "source": [
    "train_size = 4 * (365 * 3 + 366)  # train data includes first 4 years (2017-20)\n",
    "val_size = 4 * 365                # validation data includes the next 2021 year  \n",
    "test_size = 4 * 365               # test data includes the last 2022 year\n",
    "\n",
    "X_train, y_train = X[:train_size], y[:train_size]\n",
    "X_val, y_val = X[train_size:train_size+val_size], y[train_size:train_size+val_size]\n",
    "X_test, y_test = X[train_size+val_size:], y[train_size+val_size:]"
   ],
   "metadata": {
    "collapsed": false,
    "ExecuteTime": {
     "end_time": "2024-01-21T16:08:56.038750700Z",
     "start_time": "2024-01-21T16:08:55.750724500Z"
    }
   },
   "id": "e4506792c347f490"
  },
  {
   "cell_type": "code",
   "execution_count": null,
   "outputs": [],
   "source": [
    "input_layer = Input(shape=(SEQUENCE_LEN, INPUT_FEATURES))  # 21 days * 4 hours (0,6,12,18), 23 parameters\n",
    "reshape = Reshape((INPUT_FEATURES, SEQUENCE_LEN)) (input_layer)\n",
    "# Downsampling\n",
    "conv1 = Conv1D(filters=24, kernel_size=7, activation='relu', strides=1, padding=\"causal\") (reshape)\n",
    "\n",
    "lstm1 = Bidirectional(LSTM(256, return_sequences=True))(conv1)\n",
    "lstm2 = Bidirectional(LSTM(172, return_sequences=False))(lstm1)\n",
    "dense1 = Dense(128, activation='ReLU') (lstm2)\n",
    "output_layer = Dense(100, activation='linear') (dense1)\n",
    "\n",
    "# Build the model\n",
    "model = Model(inputs=input_layer, outputs=output_layer)\n",
    "\n",
    "model.compile(optimizer='adam', loss='mean_squared_error')  # Adjust optimizer and loss as needed\n",
    "model.summary()"
   ],
   "metadata": {
    "collapsed": false
   },
   "id": "925b23cdbb1ad289"
  },
  {
   "cell_type": "code",
   "execution_count": null,
   "outputs": [],
   "source": [
    "history = model.fit(X_train, y_train, epochs=30, batch_size=32, validation_data=(X_val, y_val))"
   ],
   "metadata": {
    "collapsed": false
   },
   "id": "490ab33971707b8e"
  },
  {
   "cell_type": "code",
   "execution_count": null,
   "outputs": [],
   "source": [
    "model.save('ConvLSTM_5d_08-01-2024_final')"
   ],
   "metadata": {
    "collapsed": false
   },
   "id": "4fb320195262ea87"
  },
  {
   "cell_type": "code",
   "execution_count": 9,
   "outputs": [],
   "source": [
    "\n",
    "from keras.models import load_model\n",
    "\n",
    "model = load_model('ConvLSTM_5d_08-01-2024_final')\n"
   ],
   "metadata": {
    "collapsed": false,
    "ExecuteTime": {
     "end_time": "2024-01-21T16:09:09.558830100Z",
     "start_time": "2024-01-21T16:08:55.762706900Z"
    }
   },
   "id": "5a1ea48c1178994d"
  },
  {
   "cell_type": "code",
   "execution_count": 10,
   "outputs": [],
   "source": [
    "january_t = (0, 31*4)\n",
    "april_t = ((31+28+31)*4, (31+28+31+30)*4)\n",
    "july_t = ((31+28+31+30+31+30)*4, (31+28+31+30+31+30+31)*4)\n",
    "october_t = ((31+28+31+30+31+30+31+30+31)*4, (31+28+31+30+31+30+31+30+31+30)*4)"
   ],
   "metadata": {
    "collapsed": false,
    "ExecuteTime": {
     "end_time": "2024-01-21T16:09:15.226077600Z",
     "start_time": "2024-01-21T16:09:15.205894100Z"
    }
   },
   "id": "70beb34992c5979c"
  },
  {
   "cell_type": "code",
   "execution_count": 34,
   "outputs": [
    {
     "name": "stdout",
     "output_type": "stream",
     "text": [
      "4/4 [==============================] - 1s 81ms/step\n"
     ]
    }
   ],
   "source": [
    "# Make predictions\n",
    "y_pred = model.predict(X_test[april_t[0]:april_t[1]])"
   ],
   "metadata": {
    "collapsed": false,
    "ExecuteTime": {
     "end_time": "2024-01-21T16:21:24.037127600Z",
     "start_time": "2024-01-21T16:21:23.277093700Z"
    }
   },
   "id": "99cbaacbe32b193e"
  },
  {
   "cell_type": "code",
   "execution_count": 35,
   "outputs": [
    {
     "name": "stdout",
     "output_type": "stream",
     "text": [
      "\n",
      "\n",
      "\n",
      "\n"
     ]
    }
   ],
   "source": [
    "inv_y_pred = invert_scale_for_y(y_pred, scaler)\n",
    "real_y_pred = back_to_degrees_for_y(inv_y_pred)\n",
    "\n",
    "inv_y_test = invert_scale_for_y(y_test, scaler)\n",
    "real_y_test = back_to_degrees_for_y(inv_y_test)\n",
    "\n",
    "inv_X_test = invert_scale_for_X(X_test, scaler)\n",
    "real_X_test = back_to_degrees_for_X(inv_X_test)"
   ],
   "metadata": {
    "collapsed": false,
    "ExecuteTime": {
     "end_time": "2024-01-21T16:21:24.172676500Z",
     "start_time": "2024-01-21T16:21:24.006984900Z"
    }
   },
   "id": "2199ee2ae50da7f3"
  },
  {
   "cell_type": "code",
   "execution_count": null,
   "outputs": [],
   "source": [
    "plot_one_prediction(900, real_X_test, real_y_test, real_y_pred)"
   ],
   "metadata": {
    "collapsed": false
   },
   "id": "2b71fb2b4cf3b7b1"
  },
  {
   "cell_type": "code",
   "execution_count": 39,
   "outputs": [
    {
     "data": {
      "text/plain": "array([-0.66663325, -1.43353968,  4.33884184,  0.34426992])"
     },
     "execution_count": 39,
     "metadata": {},
     "output_type": "execute_result"
    }
   ],
   "source": [
    "bias_5d = BIAS(real_y_test[april_t[0]:april_t[1]], real_y_pred)\n",
    "(np.average(bias_5d, axis=1))"
   ],
   "metadata": {
    "collapsed": false,
    "ExecuteTime": {
     "end_time": "2024-01-21T16:27:55.921972Z",
     "start_time": "2024-01-21T16:27:55.808217800Z"
    }
   },
   "id": "a454171b1eccb90a"
  },
  {
   "cell_type": "code",
   "execution_count": 42,
   "outputs": [
    {
     "data": {
      "text/plain": "array([ 3.06230826,  4.70813399, 74.98831202,  1.6551339 ])"
     },
     "execution_count": 42,
     "metadata": {},
     "output_type": "execute_result"
    }
   ],
   "source": [
    "mae_5d = MAE(real_y_test[april_t[0]:april_t[1]], real_y_pred)\n",
    "np.average(mae_5d, axis=1)"
   ],
   "metadata": {
    "collapsed": false,
    "ExecuteTime": {
     "end_time": "2024-01-21T16:29:23.440990700Z",
     "start_time": "2024-01-21T16:29:23.312281700Z"
    }
   },
   "id": "1eef9484aba4a9f"
  },
  {
   "cell_type": "code",
   "execution_count": 45,
   "outputs": [
    {
     "data": {
      "text/plain": "array([ 3.78199845,  5.92844191, 92.87115485,  2.11179034])"
     },
     "execution_count": 45,
     "metadata": {},
     "output_type": "execute_result"
    }
   ],
   "source": [
    "rmse_5d = RMSE(real_y_test[april_t[0]:april_t[1]], real_y_pred)\n",
    "np.average(rmse_5d, axis=1)"
   ],
   "metadata": {
    "collapsed": false,
    "ExecuteTime": {
     "end_time": "2024-01-21T16:31:07.355435200Z",
     "start_time": "2024-01-21T16:31:07.308408100Z"
    }
   },
   "id": "de4d9e0acffc1570"
  },
  {
   "cell_type": "code",
   "execution_count": null,
   "outputs": [],
   "source": [
    "x = range(0, (OUTPUT_LEN+1)*3, 6)\n",
    "fig, axs = plt.subplots(3, figsize=(6, 7))\n",
    "fig.suptitle('Temperatura', fontsize='xx-large')\n",
    "axs[0].stem(x[1:], bias_5d[0, :10])\n",
    "axs[0].set_ylabel('BIAS [°C]')\n",
    "axs[0].grid()\n",
    "axs[0].set_xticks(x)\n",
    "axs[1].stem(x[1:], mae_5d[0, :10])\n",
    "axs[1].set_ylabel('MAE [°C]')\n",
    "axs[1].grid()\n",
    "axs[1].set_xticks(x)\n",
    "axs[2].stem(x[1:], rmse_5d[0, :10])\n",
    "axs[2].set_ylabel('RMSE [°C]')\n",
    "axs[2].grid()\n",
    "axs[2].set_xlabel('Czas [godz.]')\n",
    "axs[2].set_xticks(x)\n",
    "plt.show()"
   ],
   "metadata": {
    "collapsed": false
   },
   "id": "828b901898cd55b0"
  },
  {
   "cell_type": "code",
   "execution_count": null,
   "outputs": [],
   "source": [
    "x = range(0, (OUTPUT_LEN+1)*3, 6)\n",
    "fig, axs = plt.subplots(3, figsize=(6, 7))\n",
    "fig.suptitle('Ciśnienie atmosferyczne', fontsize='xx-large')\n",
    "axs[0].stem(x[1:], bias_5d[1, :10])\n",
    "axs[0].set_ylabel('BIAS [hPa]')\n",
    "axs[0].grid()\n",
    "axs[0].set_xticks(x)\n",
    "axs[1].stem(x[1:], mae_5d[1, :10])\n",
    "axs[1].set_ylabel('MAE [hPa]')\n",
    "axs[1].grid()\n",
    "axs[1].set_xticks(x)\n",
    "axs[2].stem(x[1:], rmse_5d[1, :10])\n",
    "axs[2].set_ylabel('RMSE [hPa]')\n",
    "axs[2].grid()\n",
    "axs[2].set_xlabel('Czas [godz.]')\n",
    "axs[2].set_xticks(x)\n",
    "plt.show()"
   ],
   "metadata": {
    "collapsed": false
   },
   "id": "beebb28a6093810"
  },
  {
   "cell_type": "code",
   "execution_count": null,
   "outputs": [],
   "source": [
    "plt.show()\n",
    "x = range(0, (OUTPUT_LEN + 1) * 3, 6)\n",
    "fig, axs = plt.subplots(3, figsize=(6, 7))\n",
    "fig.suptitle('Kierunek wiatru', fontsize='xx-large')\n",
    "axs[0].stem(x[1:], bias_5d[2, :10])\n",
    "axs[0].set_ylabel('BIAS [°]')\n",
    "axs[0].grid()\n",
    "axs[0].set_xticks(x)\n",
    "axs[1].stem(x[1:], mae_5d[2, :10])\n",
    "axs[1].set_ylabel('MAE [°]')\n",
    "axs[1].grid()\n",
    "axs[1].set_xticks(x)\n",
    "axs[2].stem(x[1:], rmse_5d[2, :10])\n",
    "axs[2].set_ylabel('RMSE [°]')\n",
    "axs[2].grid()\n",
    "axs[2].set_xlabel('Czas [godz.]')\n",
    "axs[2].set_xticks(x)\n",
    "plt.show()"
   ],
   "metadata": {
    "collapsed": false
   },
   "id": "7329fd22ee443664"
  },
  {
   "cell_type": "code",
   "execution_count": null,
   "outputs": [],
   "source": [
    "x = range(0, (OUTPUT_LEN+1)*3, 6)\n",
    "fig, axs = plt.subplots(3, figsize=(6, 7))\n",
    "fig.suptitle('Prędkość wiatru', fontsize='xx-large')\n",
    "axs[0].stem(x[1:], bias_5d[3, :10])\n",
    "axs[0].set_ylabel('BIAS [m/s]')\n",
    "axs[0].grid()\n",
    "axs[0].set_xticks(x)\n",
    "axs[1].stem(x[1:], mae_5d[3, :10])\n",
    "axs[1].set_ylabel('MAE [m/s]')\n",
    "axs[1].grid()\n",
    "axs[1].set_xticks(x)\n",
    "axs[2].stem(x[1:], rmse_5d[3, :10])\n",
    "axs[2].set_ylabel('RMSE [m/s]')\n",
    "axs[2].grid()\n",
    "axs[2].set_xlabel('Czas [godz.]')\n",
    "axs[2].set_xticks(x)\n",
    "plt.show()"
   ],
   "metadata": {
    "collapsed": false
   },
   "id": "376166b0594724b9"
  },
  {
   "cell_type": "code",
   "execution_count": null,
   "outputs": [],
   "source": [],
   "metadata": {
    "collapsed": false
   },
   "id": "980c0b3c26437d36"
  }
 ],
 "metadata": {
  "kernelspec": {
   "display_name": "Python 3",
   "language": "python",
   "name": "python3"
  },
  "language_info": {
   "codemirror_mode": {
    "name": "ipython",
    "version": 2
   },
   "file_extension": ".py",
   "mimetype": "text/x-python",
   "name": "python",
   "nbconvert_exporter": "python",
   "pygments_lexer": "ipython2",
   "version": "2.7.6"
  }
 },
 "nbformat": 4,
 "nbformat_minor": 5
}
