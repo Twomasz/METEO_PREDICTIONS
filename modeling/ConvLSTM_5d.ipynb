{
 "cells": [
  {
   "cell_type": "code",
   "execution_count": 1,
   "id": "initial_id",
   "metadata": {
    "collapsed": true,
    "ExecuteTime": {
     "end_time": "2024-01-07T23:17:01.888930100Z",
     "start_time": "2024-01-07T23:16:57.449014100Z"
    }
   },
   "outputs": [],
   "source": [
    "import pandas as pd\n",
    "from keras.models import Model\n",
    "from keras.layers import LSTM, Dense, Dropout, Input, Bidirectional, Reshape, Conv1D\n",
    "import numpy as np\n",
    "from sklearn.preprocessing import StandardScaler\n",
    "import matplotlib.pyplot as plt\n",
    "from typing import Tuple"
   ]
  },
  {
   "cell_type": "code",
   "execution_count": 2,
   "outputs": [],
   "source": [
    "# Constants\n",
    "SEQUENCE_LEN = 21 * 4              # 21 days of 6-hours data\n",
    "OUTPUT_LEN = 5 * 4                 # 5 days of 6-hours data\n",
    "INPUT_FEATURES = 23                # Number of input features (e.g., temperature, humidity, etc.)\n",
    "OUTPUT_FEATURES = 5 * OUTPUT_LEN   # Predicting flatten 4 features for each timestamp (wind direction is described as two cols)"
   ],
   "metadata": {
    "collapsed": false,
    "ExecuteTime": {
     "end_time": "2024-01-07T23:17:01.916095100Z",
     "start_time": "2024-01-07T23:17:01.893431900Z"
    }
   },
   "id": "75ae269bf08a7bad"
  },
  {
   "cell_type": "code",
   "execution_count": 3,
   "outputs": [],
   "source": [
    "def wind_direction_sin_cos(data: pd.DataFrame):\n",
    "    \"\"\" To avoid problem of huge MSE error degrees are replaced by sin and cos functions \"\"\"\n",
    "    data['Kierunek wiatru [sin]'] = np.sin(data['Kierunek wiatru  [°]'] * 2 * np.pi / 360)  # transform to radians and calculate sin\n",
    "    data['Kierunek wiatru [cos]'] = np.cos(data['Kierunek wiatru  [°]'] * 2 * np.pi / 360)  # transform to radians and calculate sin\n",
    "    data.drop('Kierunek wiatru  [°]', axis=1, inplace=True)\n",
    "    return data\n",
    "\n",
    "def create_sequences(data: pd.DataFrame):\n",
    "    X, y = [], []\n",
    "    for i in range(len(data) - SEQUENCE_LEN - OUTPUT_LEN):\n",
    "        X.append(data[i: i + SEQUENCE_LEN])\n",
    "        y.append(data[i + SEQUENCE_LEN: i + SEQUENCE_LEN + OUTPUT_LEN, :5].flatten()) # Taking the first 4 features for the next 24 hours\n",
    "    return np.array(X), np.array(y)\n",
    "\n",
    "def invert_scale_for_X(X: np.ndarray, scaler):\n",
    "    copy_X = X.copy()\n",
    "    for i in range(X.shape[-1]):\n",
    "        print()\n",
    "        std, mean = scaler.scale_[i], scaler.mean_[i]\n",
    "        copy_X[:, :, i] = X[:, :, i] * std + mean\n",
    "    return copy_X\n",
    "\n",
    "def invert_scale_for_y(y: np.ndarray, scaler):\n",
    "    copy_y = y.copy()\n",
    "    for i in range(5):\n",
    "        std, mean = scaler.scale_[i], scaler.mean_[i]\n",
    "        copy_y[:, i::5] = y[:, i::5] * std + mean\n",
    "    return copy_y\n",
    "\n",
    "def back_to_degrees_for_X(X: np.ndarray):\n",
    "    sin_part, cos_part = X[:, :, 2], X[:, :, 3]  # get all \n",
    "    X[:, :, 2] = np.arctan2(sin_part, cos_part) * 180 / np.pi\n",
    "    replaced_X = np.delete(X, 3, axis=2)\n",
    "    return replaced_X\n",
    "\n",
    "def back_to_degrees_for_y(y: np.ndarray):\n",
    "    sin_part, cos_part = y[:, 2::5], y[:, 3::5]  # get all \n",
    "    y[:, 2::5] = np.arctan2(sin_part, cos_part) * 180 / np.pi\n",
    "    replaced_y = np.delete(y, list(range(3, 119, 5)), axis=1)\n",
    "    return replaced_y\n",
    "\n",
    "def plot_one_prediction(idx: int, X_true, y_true, y_pred, figsize: Tuple[int] = (15, 10)):\n",
    "    x = range(-SEQUENCE_LEN, OUTPUT_LEN)\n",
    "    x1, x2 = x[1:1 + SEQUENCE_LEN], x[SEQUENCE_LEN:]\n",
    "    labels = ['Temperatura [°C]', 'Ciśnienie atmos. [hPa]', 'Kierunek wiatru [°]', 'Prędkość wiatru [m/s]']\n",
    "\n",
    "    fig, axs = plt.subplots(4, figsize=figsize)\n",
    "    fig.suptitle('Porównanie wyników modelu z faktycznym stanem pogody')\n",
    "    for i in range(4):\n",
    "        axs[i].plot(x1, X_true[idx + 1, :, i], label='Dane wejściowe', color='green')\n",
    "        axs[i].plot(x2, y_true[:, i::4][idx], label='Wartość prawdziwa', color='blue')\n",
    "        axs[i].plot(x2, y_pred[:, i::4][idx], label='Predykcja', color='red')\n",
    "        axs[i].set_ylabel(labels[i])\n",
    "        axs[i].grid()\n",
    "        axs[i].legend()\n",
    "    axs[3].set_xlabel('Czas [godz.]')\n",
    "    plt.show()\n",
    "    \n",
    "def MSE(y_true: np.ndarray, y_pred: np.ndarray):\n",
    "    T_mse = np.mean((y_true[:, 0::4] - y_pred[:, 0::4])**2, axis=0).reshape(1, -1)\n",
    "    P_mse = np.mean((y_true[:, 1::4] - y_pred[:, 1::4])**2, axis=0).reshape(1, -1)\n",
    "    WD_mse = np.mean((y_true[:, 2::4] - y_pred[:, 2::4])**2, axis=0).reshape(1, -1)\n",
    "    WV_mse = np.mean((y_true[:, 3::4] - y_pred[:, 3::4])**2, axis=0).reshape(1, -1)\n",
    "    MSE_by_hour = np.append(np.append(np.append(T_mse, P_mse, axis=0), WD_mse, axis=0), WV_mse, axis=0)\n",
    "    \n",
    "    return MSE_by_hour, np.mean(MSE_by_hour, axis=1), np.mean(MSE_by_hour)"
   ],
   "metadata": {
    "collapsed": false,
    "ExecuteTime": {
     "end_time": "2024-01-07T23:17:01.960153200Z",
     "start_time": "2024-01-07T23:17:01.916095100Z"
    }
   },
   "id": "43e79de22311d35c"
  },
  {
   "cell_type": "code",
   "execution_count": 4,
   "outputs": [
    {
     "data": {
      "text/plain": "       Temperatura powietrza [°C]/1  Ciśnienie na poziomie stacji [hPa]  \\\n0                              -6.8                               995.8   \n1                              -6.9                               995.6   \n2                              -3.9                               994.9   \n3                              -6.5                               994.1   \n4                              -6.1                               993.6   \n...                             ...                                 ...   \n52579                           8.3                               991.2   \n52580                           9.1                               991.4   \n52581                           8.4                               991.6   \n52582                           9.3                               991.6   \n52583                           6.1                               991.5   \n\n       Ciśnienie na poziomie morza [hPa]  Ciśnienie pary wodnej [hPa]  \\\n0                                 1027.1                          3.5   \n1                                 1026.9                          3.5   \n2                                 1025.8                          3.8   \n3                                 1025.3                          3.5   \n4                                 1024.8                          3.3   \n...                                  ...                          ...   \n52579                             1020.7                          9.5   \n52580                             1020.8                          9.2   \n52581                             1021.1                          9.0   \n52582                             1021.0                          8.7   \n52583                             1021.2                          8.0   \n\n       Widzialność operatora [m]  Zachmurzenie ogólne [oktanty]  \\\n0                           3500                              0   \n1                           3500                              0   \n2                           5000                              0   \n3                           4000                              0   \n4                           4000                              0   \n...                          ...                            ...   \n52579                      20000                              7   \n52580                      20000                              7   \n52581                      20000                              7   \n52582                      20000                              7   \n52583                      20000                              7   \n\n       Zachmurzenie niskie [oktanty]  Chmury CL [kod]  Chmury CM [kod]  \\\n0                                  0                0                0   \n1                                  0                0                0   \n2                                  0                0                0   \n3                                  0                0                0   \n4                                  0                0                0   \n...                              ...              ...              ...   \n52579                              0                0                0   \n52580                              0                0                0   \n52581                              0                0                0   \n52582                              0                0                0   \n52583                              0                0                0   \n\n       Chmury CH [kod]  ...  Wilgotność względna [%]  \\\n0                    0  ...                       95   \n1                    0  ...                       95   \n2                    0  ...                       83   \n3                    0  ...                       92   \n4                    0  ...                       85   \n...                ...  ...                      ...   \n52579                0  ...                       87   \n52580                0  ...                       80   \n52581                0  ...                       82   \n52582                0  ...                       74   \n52583                0  ...                       85   \n\n       Niedosyt wilgotności [hPa]  Wystąpienie rosy [0/1]  \\\n0                             0.2                       0   \n1                             0.2                       0   \n2                             0.8                       0   \n3                             0.3                       0   \n4                             0.6                       0   \n...                           ...                     ...   \n52579                         1.4                       0   \n52580                         2.3                       0   \n52581                         2.0                       0   \n52582                         3.0                       0   \n52583                         1.4                       0   \n\n       Wartość tendencji [wartość]  Opad godzinowy [mm]  \\\n0                             -1.5                  0.0   \n1                             -1.4                  0.0   \n2                             -1.4                  0.0   \n3                             -1.7                  0.0   \n4                             -2.0                  0.0   \n...                            ...                  ...   \n52579                          0.7                  0.0   \n52580                          0.5                  0.0   \n52581                          0.5                  0.0   \n52582                          0.4                  0.0   \n52583                          0.1                  0.0   \n\n       Rodzaj opadu za 6 godzin [kod]  Wysokość pokrywy śnieżnej [cm]  \\\n0                                 0.0                             0.0   \n1                                 0.0                             0.0   \n2                                 0.0                             0.0   \n3                                 0.0                             0.0   \n4                                 0.0                             0.0   \n...                               ...                             ...   \n52579                             0.0                             0.0   \n52580                             0.0                             0.0   \n52581                             0.0                             0.0   \n52582                             0.0                             0.0   \n52583                             0.0                             0.0   \n\n       Gatunek śniegu  [kod]  Kierunek wiatru [sin]  Kierunek wiatru [cos]  \n0                          0              -0.052336               0.998630  \n1                          0               0.990268              -0.139173  \n2                          0              -0.422618              -0.906308  \n3                          0              -0.515038              -0.857167  \n4                          0               0.207912              -0.978148  \n...                      ...                    ...                    ...  \n52579                      0              -0.939693              -0.342020  \n52580                      0              -0.829038              -0.559193  \n52581                      0              -0.342020              -0.939693  \n52582                      0              -0.990268              -0.139173  \n52583                      0               0.819152              -0.573576  \n\n[52584 rows x 23 columns]",
      "text/html": "<div>\n<style scoped>\n    .dataframe tbody tr th:only-of-type {\n        vertical-align: middle;\n    }\n\n    .dataframe tbody tr th {\n        vertical-align: top;\n    }\n\n    .dataframe thead th {\n        text-align: right;\n    }\n</style>\n<table border=\"1\" class=\"dataframe\">\n  <thead>\n    <tr style=\"text-align: right;\">\n      <th></th>\n      <th>Temperatura powietrza [°C]/1</th>\n      <th>Ciśnienie na poziomie stacji [hPa]</th>\n      <th>Ciśnienie na poziomie morza [hPa]</th>\n      <th>Ciśnienie pary wodnej [hPa]</th>\n      <th>Widzialność operatora [m]</th>\n      <th>Zachmurzenie ogólne [oktanty]</th>\n      <th>Zachmurzenie niskie [oktanty]</th>\n      <th>Chmury CL [kod]</th>\n      <th>Chmury CM [kod]</th>\n      <th>Chmury CH [kod]</th>\n      <th>...</th>\n      <th>Wilgotność względna [%]</th>\n      <th>Niedosyt wilgotności [hPa]</th>\n      <th>Wystąpienie rosy [0/1]</th>\n      <th>Wartość tendencji [wartość]</th>\n      <th>Opad godzinowy [mm]</th>\n      <th>Rodzaj opadu za 6 godzin [kod]</th>\n      <th>Wysokość pokrywy śnieżnej [cm]</th>\n      <th>Gatunek śniegu  [kod]</th>\n      <th>Kierunek wiatru [sin]</th>\n      <th>Kierunek wiatru [cos]</th>\n    </tr>\n  </thead>\n  <tbody>\n    <tr>\n      <th>0</th>\n      <td>-6.8</td>\n      <td>995.8</td>\n      <td>1027.1</td>\n      <td>3.5</td>\n      <td>3500</td>\n      <td>0</td>\n      <td>0</td>\n      <td>0</td>\n      <td>0</td>\n      <td>0</td>\n      <td>...</td>\n      <td>95</td>\n      <td>0.2</td>\n      <td>0</td>\n      <td>-1.5</td>\n      <td>0.0</td>\n      <td>0.0</td>\n      <td>0.0</td>\n      <td>0</td>\n      <td>-0.052336</td>\n      <td>0.998630</td>\n    </tr>\n    <tr>\n      <th>1</th>\n      <td>-6.9</td>\n      <td>995.6</td>\n      <td>1026.9</td>\n      <td>3.5</td>\n      <td>3500</td>\n      <td>0</td>\n      <td>0</td>\n      <td>0</td>\n      <td>0</td>\n      <td>0</td>\n      <td>...</td>\n      <td>95</td>\n      <td>0.2</td>\n      <td>0</td>\n      <td>-1.4</td>\n      <td>0.0</td>\n      <td>0.0</td>\n      <td>0.0</td>\n      <td>0</td>\n      <td>0.990268</td>\n      <td>-0.139173</td>\n    </tr>\n    <tr>\n      <th>2</th>\n      <td>-3.9</td>\n      <td>994.9</td>\n      <td>1025.8</td>\n      <td>3.8</td>\n      <td>5000</td>\n      <td>0</td>\n      <td>0</td>\n      <td>0</td>\n      <td>0</td>\n      <td>0</td>\n      <td>...</td>\n      <td>83</td>\n      <td>0.8</td>\n      <td>0</td>\n      <td>-1.4</td>\n      <td>0.0</td>\n      <td>0.0</td>\n      <td>0.0</td>\n      <td>0</td>\n      <td>-0.422618</td>\n      <td>-0.906308</td>\n    </tr>\n    <tr>\n      <th>3</th>\n      <td>-6.5</td>\n      <td>994.1</td>\n      <td>1025.3</td>\n      <td>3.5</td>\n      <td>4000</td>\n      <td>0</td>\n      <td>0</td>\n      <td>0</td>\n      <td>0</td>\n      <td>0</td>\n      <td>...</td>\n      <td>92</td>\n      <td>0.3</td>\n      <td>0</td>\n      <td>-1.7</td>\n      <td>0.0</td>\n      <td>0.0</td>\n      <td>0.0</td>\n      <td>0</td>\n      <td>-0.515038</td>\n      <td>-0.857167</td>\n    </tr>\n    <tr>\n      <th>4</th>\n      <td>-6.1</td>\n      <td>993.6</td>\n      <td>1024.8</td>\n      <td>3.3</td>\n      <td>4000</td>\n      <td>0</td>\n      <td>0</td>\n      <td>0</td>\n      <td>0</td>\n      <td>0</td>\n      <td>...</td>\n      <td>85</td>\n      <td>0.6</td>\n      <td>0</td>\n      <td>-2.0</td>\n      <td>0.0</td>\n      <td>0.0</td>\n      <td>0.0</td>\n      <td>0</td>\n      <td>0.207912</td>\n      <td>-0.978148</td>\n    </tr>\n    <tr>\n      <th>...</th>\n      <td>...</td>\n      <td>...</td>\n      <td>...</td>\n      <td>...</td>\n      <td>...</td>\n      <td>...</td>\n      <td>...</td>\n      <td>...</td>\n      <td>...</td>\n      <td>...</td>\n      <td>...</td>\n      <td>...</td>\n      <td>...</td>\n      <td>...</td>\n      <td>...</td>\n      <td>...</td>\n      <td>...</td>\n      <td>...</td>\n      <td>...</td>\n      <td>...</td>\n      <td>...</td>\n    </tr>\n    <tr>\n      <th>52579</th>\n      <td>8.3</td>\n      <td>991.2</td>\n      <td>1020.7</td>\n      <td>9.5</td>\n      <td>20000</td>\n      <td>7</td>\n      <td>0</td>\n      <td>0</td>\n      <td>0</td>\n      <td>0</td>\n      <td>...</td>\n      <td>87</td>\n      <td>1.4</td>\n      <td>0</td>\n      <td>0.7</td>\n      <td>0.0</td>\n      <td>0.0</td>\n      <td>0.0</td>\n      <td>0</td>\n      <td>-0.939693</td>\n      <td>-0.342020</td>\n    </tr>\n    <tr>\n      <th>52580</th>\n      <td>9.1</td>\n      <td>991.4</td>\n      <td>1020.8</td>\n      <td>9.2</td>\n      <td>20000</td>\n      <td>7</td>\n      <td>0</td>\n      <td>0</td>\n      <td>0</td>\n      <td>0</td>\n      <td>...</td>\n      <td>80</td>\n      <td>2.3</td>\n      <td>0</td>\n      <td>0.5</td>\n      <td>0.0</td>\n      <td>0.0</td>\n      <td>0.0</td>\n      <td>0</td>\n      <td>-0.829038</td>\n      <td>-0.559193</td>\n    </tr>\n    <tr>\n      <th>52581</th>\n      <td>8.4</td>\n      <td>991.6</td>\n      <td>1021.1</td>\n      <td>9.0</td>\n      <td>20000</td>\n      <td>7</td>\n      <td>0</td>\n      <td>0</td>\n      <td>0</td>\n      <td>0</td>\n      <td>...</td>\n      <td>82</td>\n      <td>2.0</td>\n      <td>0</td>\n      <td>0.5</td>\n      <td>0.0</td>\n      <td>0.0</td>\n      <td>0.0</td>\n      <td>0</td>\n      <td>-0.342020</td>\n      <td>-0.939693</td>\n    </tr>\n    <tr>\n      <th>52582</th>\n      <td>9.3</td>\n      <td>991.6</td>\n      <td>1021.0</td>\n      <td>8.7</td>\n      <td>20000</td>\n      <td>7</td>\n      <td>0</td>\n      <td>0</td>\n      <td>0</td>\n      <td>0</td>\n      <td>...</td>\n      <td>74</td>\n      <td>3.0</td>\n      <td>0</td>\n      <td>0.4</td>\n      <td>0.0</td>\n      <td>0.0</td>\n      <td>0.0</td>\n      <td>0</td>\n      <td>-0.990268</td>\n      <td>-0.139173</td>\n    </tr>\n    <tr>\n      <th>52583</th>\n      <td>6.1</td>\n      <td>991.5</td>\n      <td>1021.2</td>\n      <td>8.0</td>\n      <td>20000</td>\n      <td>7</td>\n      <td>0</td>\n      <td>0</td>\n      <td>0</td>\n      <td>0</td>\n      <td>...</td>\n      <td>85</td>\n      <td>1.4</td>\n      <td>0</td>\n      <td>0.1</td>\n      <td>0.0</td>\n      <td>0.0</td>\n      <td>0.0</td>\n      <td>0</td>\n      <td>0.819152</td>\n      <td>-0.573576</td>\n    </tr>\n  </tbody>\n</table>\n<p>52584 rows × 23 columns</p>\n</div>"
     },
     "execution_count": 4,
     "metadata": {},
     "output_type": "execute_result"
    }
   ],
   "source": [
    "data = pd.read_csv('../data/preprocessed_data/complete_krk_2017-22.csv')\n",
    "data['timestamp'] = pd.to_datetime(data['timestamp'])\n",
    "data = data.set_index('timestamp')\n",
    "data_6h = data[data.index.hour.isin([0, 6, 12, 18])]\n",
    "data_6h = data.drop('timestamp', axis=1)\n",
    "data_6h = wind_direction_sin_cos(data_6h)\n",
    "data_6h"
   ],
   "metadata": {
    "collapsed": false,
    "ExecuteTime": {
     "end_time": "2024-01-07T23:17:02.142781Z",
     "start_time": "2024-01-07T23:17:01.961149500Z"
    }
   },
   "id": "af2ce373e77b48bd"
  },
  {
   "cell_type": "code",
   "execution_count": 5,
   "outputs": [
    {
     "data": {
      "text/plain": "       Temperatura powietrza [°C]/1  Ciśnienie na poziomie stacji [hPa]  \\\n0                              -6.8                               995.8   \n1                              -6.9                               995.6   \n2                              -3.9                               994.9   \n3                              -6.5                               994.1   \n4                              -6.1                               993.6   \n...                             ...                                 ...   \n52579                           8.3                               991.2   \n52580                           9.1                               991.4   \n52581                           8.4                               991.6   \n52582                           9.3                               991.6   \n52583                           6.1                               991.5   \n\n       Kierunek wiatru [sin]  Kierunek wiatru [cos]  Prędkość wiatru  [m/s]  \\\n0                  -0.052336               0.998630                       1   \n1                   0.990268              -0.139173                       1   \n2                  -0.422618              -0.906308                       3   \n3                  -0.515038              -0.857167                       2   \n4                   0.207912              -0.978148                       1   \n...                      ...                    ...                     ...   \n52579              -0.939693              -0.342020                       3   \n52580              -0.829038              -0.559193                       3   \n52581              -0.342020              -0.939693                       2   \n52582              -0.990268              -0.139173                       2   \n52583               0.819152              -0.573576                       1   \n\n       Ciśnienie na poziomie morza [hPa]  Ciśnienie pary wodnej [hPa]  \\\n0                                 1027.1                          3.5   \n1                                 1026.9                          3.5   \n2                                 1025.8                          3.8   \n3                                 1025.3                          3.5   \n4                                 1024.8                          3.3   \n...                                  ...                          ...   \n52579                             1020.7                          9.5   \n52580                             1020.8                          9.2   \n52581                             1021.1                          9.0   \n52582                             1021.0                          8.7   \n52583                             1021.2                          8.0   \n\n       Widzialność operatora [m]  Zachmurzenie ogólne [oktanty]  \\\n0                           3500                              0   \n1                           3500                              0   \n2                           5000                              0   \n3                           4000                              0   \n4                           4000                              0   \n...                          ...                            ...   \n52579                      20000                              7   \n52580                      20000                              7   \n52581                      20000                              7   \n52582                      20000                              7   \n52583                      20000                              7   \n\n       Zachmurzenie niskie [oktanty]  ...  \\\n0                                  0  ...   \n1                                  0  ...   \n2                                  0  ...   \n3                                  0  ...   \n4                                  0  ...   \n...                              ...  ...   \n52579                              0  ...   \n52580                              0  ...   \n52581                              0  ...   \n52582                              0  ...   \n52583                              0  ...   \n\n       Wysokość podstawy chmur CL CM szyfrowana [kod]  \\\n0                                                   9   \n1                                                   9   \n2                                                   9   \n3                                                   9   \n4                                                   9   \n...                                               ...   \n52579                                               9   \n52580                                               9   \n52581                                               9   \n52582                                               9   \n52583                                               9   \n\n       Temperatura punktu rosy [°C]  Wilgotność względna [%]  \\\n0                              -7.5                       95   \n1                              -7.6                       95   \n2                              -6.4                       83   \n3                              -7.6                       92   \n4                              -8.2                       85   \n...                             ...                      ...   \n52579                           6.3                       87   \n52580                           5.8                       80   \n52581                           5.5                       82   \n52582                           4.9                       74   \n52583                           3.8                       85   \n\n       Niedosyt wilgotności [hPa]  Wystąpienie rosy [0/1]  \\\n0                             0.2                       0   \n1                             0.2                       0   \n2                             0.8                       0   \n3                             0.3                       0   \n4                             0.6                       0   \n...                           ...                     ...   \n52579                         1.4                       0   \n52580                         2.3                       0   \n52581                         2.0                       0   \n52582                         3.0                       0   \n52583                         1.4                       0   \n\n       Wartość tendencji [wartość]  Opad godzinowy [mm]  \\\n0                             -1.5                  0.0   \n1                             -1.4                  0.0   \n2                             -1.4                  0.0   \n3                             -1.7                  0.0   \n4                             -2.0                  0.0   \n...                            ...                  ...   \n52579                          0.7                  0.0   \n52580                          0.5                  0.0   \n52581                          0.5                  0.0   \n52582                          0.4                  0.0   \n52583                          0.1                  0.0   \n\n       Rodzaj opadu za 6 godzin [kod]  Wysokość pokrywy śnieżnej [cm]  \\\n0                                 0.0                             0.0   \n1                                 0.0                             0.0   \n2                                 0.0                             0.0   \n3                                 0.0                             0.0   \n4                                 0.0                             0.0   \n...                               ...                             ...   \n52579                             0.0                             0.0   \n52580                             0.0                             0.0   \n52581                             0.0                             0.0   \n52582                             0.0                             0.0   \n52583                             0.0                             0.0   \n\n       Gatunek śniegu  [kod]  \n0                          0  \n1                          0  \n2                          0  \n3                          0  \n4                          0  \n...                      ...  \n52579                      0  \n52580                      0  \n52581                      0  \n52582                      0  \n52583                      0  \n\n[52584 rows x 23 columns]",
      "text/html": "<div>\n<style scoped>\n    .dataframe tbody tr th:only-of-type {\n        vertical-align: middle;\n    }\n\n    .dataframe tbody tr th {\n        vertical-align: top;\n    }\n\n    .dataframe thead th {\n        text-align: right;\n    }\n</style>\n<table border=\"1\" class=\"dataframe\">\n  <thead>\n    <tr style=\"text-align: right;\">\n      <th></th>\n      <th>Temperatura powietrza [°C]/1</th>\n      <th>Ciśnienie na poziomie stacji [hPa]</th>\n      <th>Kierunek wiatru [sin]</th>\n      <th>Kierunek wiatru [cos]</th>\n      <th>Prędkość wiatru  [m/s]</th>\n      <th>Ciśnienie na poziomie morza [hPa]</th>\n      <th>Ciśnienie pary wodnej [hPa]</th>\n      <th>Widzialność operatora [m]</th>\n      <th>Zachmurzenie ogólne [oktanty]</th>\n      <th>Zachmurzenie niskie [oktanty]</th>\n      <th>...</th>\n      <th>Wysokość podstawy chmur CL CM szyfrowana [kod]</th>\n      <th>Temperatura punktu rosy [°C]</th>\n      <th>Wilgotność względna [%]</th>\n      <th>Niedosyt wilgotności [hPa]</th>\n      <th>Wystąpienie rosy [0/1]</th>\n      <th>Wartość tendencji [wartość]</th>\n      <th>Opad godzinowy [mm]</th>\n      <th>Rodzaj opadu za 6 godzin [kod]</th>\n      <th>Wysokość pokrywy śnieżnej [cm]</th>\n      <th>Gatunek śniegu  [kod]</th>\n    </tr>\n  </thead>\n  <tbody>\n    <tr>\n      <th>0</th>\n      <td>-6.8</td>\n      <td>995.8</td>\n      <td>-0.052336</td>\n      <td>0.998630</td>\n      <td>1</td>\n      <td>1027.1</td>\n      <td>3.5</td>\n      <td>3500</td>\n      <td>0</td>\n      <td>0</td>\n      <td>...</td>\n      <td>9</td>\n      <td>-7.5</td>\n      <td>95</td>\n      <td>0.2</td>\n      <td>0</td>\n      <td>-1.5</td>\n      <td>0.0</td>\n      <td>0.0</td>\n      <td>0.0</td>\n      <td>0</td>\n    </tr>\n    <tr>\n      <th>1</th>\n      <td>-6.9</td>\n      <td>995.6</td>\n      <td>0.990268</td>\n      <td>-0.139173</td>\n      <td>1</td>\n      <td>1026.9</td>\n      <td>3.5</td>\n      <td>3500</td>\n      <td>0</td>\n      <td>0</td>\n      <td>...</td>\n      <td>9</td>\n      <td>-7.6</td>\n      <td>95</td>\n      <td>0.2</td>\n      <td>0</td>\n      <td>-1.4</td>\n      <td>0.0</td>\n      <td>0.0</td>\n      <td>0.0</td>\n      <td>0</td>\n    </tr>\n    <tr>\n      <th>2</th>\n      <td>-3.9</td>\n      <td>994.9</td>\n      <td>-0.422618</td>\n      <td>-0.906308</td>\n      <td>3</td>\n      <td>1025.8</td>\n      <td>3.8</td>\n      <td>5000</td>\n      <td>0</td>\n      <td>0</td>\n      <td>...</td>\n      <td>9</td>\n      <td>-6.4</td>\n      <td>83</td>\n      <td>0.8</td>\n      <td>0</td>\n      <td>-1.4</td>\n      <td>0.0</td>\n      <td>0.0</td>\n      <td>0.0</td>\n      <td>0</td>\n    </tr>\n    <tr>\n      <th>3</th>\n      <td>-6.5</td>\n      <td>994.1</td>\n      <td>-0.515038</td>\n      <td>-0.857167</td>\n      <td>2</td>\n      <td>1025.3</td>\n      <td>3.5</td>\n      <td>4000</td>\n      <td>0</td>\n      <td>0</td>\n      <td>...</td>\n      <td>9</td>\n      <td>-7.6</td>\n      <td>92</td>\n      <td>0.3</td>\n      <td>0</td>\n      <td>-1.7</td>\n      <td>0.0</td>\n      <td>0.0</td>\n      <td>0.0</td>\n      <td>0</td>\n    </tr>\n    <tr>\n      <th>4</th>\n      <td>-6.1</td>\n      <td>993.6</td>\n      <td>0.207912</td>\n      <td>-0.978148</td>\n      <td>1</td>\n      <td>1024.8</td>\n      <td>3.3</td>\n      <td>4000</td>\n      <td>0</td>\n      <td>0</td>\n      <td>...</td>\n      <td>9</td>\n      <td>-8.2</td>\n      <td>85</td>\n      <td>0.6</td>\n      <td>0</td>\n      <td>-2.0</td>\n      <td>0.0</td>\n      <td>0.0</td>\n      <td>0.0</td>\n      <td>0</td>\n    </tr>\n    <tr>\n      <th>...</th>\n      <td>...</td>\n      <td>...</td>\n      <td>...</td>\n      <td>...</td>\n      <td>...</td>\n      <td>...</td>\n      <td>...</td>\n      <td>...</td>\n      <td>...</td>\n      <td>...</td>\n      <td>...</td>\n      <td>...</td>\n      <td>...</td>\n      <td>...</td>\n      <td>...</td>\n      <td>...</td>\n      <td>...</td>\n      <td>...</td>\n      <td>...</td>\n      <td>...</td>\n      <td>...</td>\n    </tr>\n    <tr>\n      <th>52579</th>\n      <td>8.3</td>\n      <td>991.2</td>\n      <td>-0.939693</td>\n      <td>-0.342020</td>\n      <td>3</td>\n      <td>1020.7</td>\n      <td>9.5</td>\n      <td>20000</td>\n      <td>7</td>\n      <td>0</td>\n      <td>...</td>\n      <td>9</td>\n      <td>6.3</td>\n      <td>87</td>\n      <td>1.4</td>\n      <td>0</td>\n      <td>0.7</td>\n      <td>0.0</td>\n      <td>0.0</td>\n      <td>0.0</td>\n      <td>0</td>\n    </tr>\n    <tr>\n      <th>52580</th>\n      <td>9.1</td>\n      <td>991.4</td>\n      <td>-0.829038</td>\n      <td>-0.559193</td>\n      <td>3</td>\n      <td>1020.8</td>\n      <td>9.2</td>\n      <td>20000</td>\n      <td>7</td>\n      <td>0</td>\n      <td>...</td>\n      <td>9</td>\n      <td>5.8</td>\n      <td>80</td>\n      <td>2.3</td>\n      <td>0</td>\n      <td>0.5</td>\n      <td>0.0</td>\n      <td>0.0</td>\n      <td>0.0</td>\n      <td>0</td>\n    </tr>\n    <tr>\n      <th>52581</th>\n      <td>8.4</td>\n      <td>991.6</td>\n      <td>-0.342020</td>\n      <td>-0.939693</td>\n      <td>2</td>\n      <td>1021.1</td>\n      <td>9.0</td>\n      <td>20000</td>\n      <td>7</td>\n      <td>0</td>\n      <td>...</td>\n      <td>9</td>\n      <td>5.5</td>\n      <td>82</td>\n      <td>2.0</td>\n      <td>0</td>\n      <td>0.5</td>\n      <td>0.0</td>\n      <td>0.0</td>\n      <td>0.0</td>\n      <td>0</td>\n    </tr>\n    <tr>\n      <th>52582</th>\n      <td>9.3</td>\n      <td>991.6</td>\n      <td>-0.990268</td>\n      <td>-0.139173</td>\n      <td>2</td>\n      <td>1021.0</td>\n      <td>8.7</td>\n      <td>20000</td>\n      <td>7</td>\n      <td>0</td>\n      <td>...</td>\n      <td>9</td>\n      <td>4.9</td>\n      <td>74</td>\n      <td>3.0</td>\n      <td>0</td>\n      <td>0.4</td>\n      <td>0.0</td>\n      <td>0.0</td>\n      <td>0.0</td>\n      <td>0</td>\n    </tr>\n    <tr>\n      <th>52583</th>\n      <td>6.1</td>\n      <td>991.5</td>\n      <td>0.819152</td>\n      <td>-0.573576</td>\n      <td>1</td>\n      <td>1021.2</td>\n      <td>8.0</td>\n      <td>20000</td>\n      <td>7</td>\n      <td>0</td>\n      <td>...</td>\n      <td>9</td>\n      <td>3.8</td>\n      <td>85</td>\n      <td>1.4</td>\n      <td>0</td>\n      <td>0.1</td>\n      <td>0.0</td>\n      <td>0.0</td>\n      <td>0.0</td>\n      <td>0</td>\n    </tr>\n  </tbody>\n</table>\n<p>52584 rows × 23 columns</p>\n</div>"
     },
     "execution_count": 5,
     "metadata": {},
     "output_type": "execute_result"
    }
   ],
   "source": [
    "cols = data_6h.columns\n",
    "new_order = [0, 1, 21, 22, 11] + list(range(2, 11)) + list(range(12, 21))\n",
    "cols = [cols[i] for i in new_order]\n",
    "data_6h = data_6h[cols]\n",
    "data"
   ],
   "metadata": {
    "collapsed": false,
    "ExecuteTime": {
     "end_time": "2024-01-07T23:17:02.296402Z",
     "start_time": "2024-01-07T23:17:02.142781Z"
    }
   },
   "id": "d2f4a9a835be25af"
  },
  {
   "cell_type": "code",
   "execution_count": 6,
   "outputs": [
    {
     "data": {
      "text/plain": "array([[-1.84487084,  0.96334401,  0.20771005, ..., -0.6736711 ,\n        -0.15217187, -0.28491282],\n       [-1.85603007,  0.93829589,  1.79956292, ..., -0.6736711 ,\n        -0.15217187, -0.28491282],\n       [-1.52125303,  0.85062749, -0.35763876, ..., -0.6736711 ,\n        -0.15217187, -0.28491282],\n       ...,\n       [-0.14866714,  0.43733359, -0.23458116, ..., -0.6736711 ,\n        -0.15217187, -0.28491282],\n       [-0.04823402,  0.43733359, -1.22432923, ..., -0.6736711 ,\n        -0.15217187, -0.28491282],\n       [-0.40532954,  0.42480953,  1.53830215, ..., -0.6736711 ,\n        -0.15217187, -0.28491282]])"
     },
     "execution_count": 6,
     "metadata": {},
     "output_type": "execute_result"
    }
   ],
   "source": [
    "# Assuming 'data' is your dataset with shape (total_hours, 26_features)\n",
    "# and 'total_hours' is a multiple of 24\n",
    "\n",
    "# Normalize your data\n",
    "scaler = StandardScaler()\n",
    "data_normalized = scaler.fit_transform(data_6h)\n",
    "data_normalized"
   ],
   "metadata": {
    "collapsed": false,
    "ExecuteTime": {
     "end_time": "2024-01-07T23:17:02.350703400Z",
     "start_time": "2024-01-07T23:17:02.230013500Z"
    }
   },
   "id": "7dfc731fb566ec0b"
  },
  {
   "cell_type": "code",
   "execution_count": 7,
   "outputs": [],
   "source": [
    "# Create sequences\n",
    "X, y = create_sequences(data_normalized)"
   ],
   "metadata": {
    "collapsed": false,
    "ExecuteTime": {
     "end_time": "2024-01-07T23:17:02.994764700Z",
     "start_time": "2024-01-07T23:17:02.293447900Z"
    }
   },
   "id": "91ee8ef49c64629e"
  },
  {
   "cell_type": "code",
   "execution_count": 8,
   "outputs": [],
   "source": [
    "train_size = 4 * (365 * 3 + 366)  # train data includes first 4 years (2017-20)\n",
    "val_size = 4 * 365                # validation data includes the next 2021 year  \n",
    "test_size = 4 * 365               # test data includes the last 2022 year\n",
    "\n",
    "X_train, y_train = X[:train_size], y[:train_size]\n",
    "X_val, y_val = X[train_size:train_size+val_size], y[train_size:train_size+val_size]\n",
    "X_test, y_test = X[train_size+val_size:], y[train_size+val_size:]"
   ],
   "metadata": {
    "collapsed": false,
    "ExecuteTime": {
     "end_time": "2024-01-07T23:17:03.010162500Z",
     "start_time": "2024-01-07T23:17:03.000834200Z"
    }
   },
   "id": "e4506792c347f490"
  },
  {
   "cell_type": "code",
   "execution_count": 9,
   "outputs": [
    {
     "name": "stdout",
     "output_type": "stream",
     "text": [
      "Model: \"sequential\"\n",
      "_________________________________________________________________\n",
      " Layer (type)                Output Shape              Param #   \n",
      "=================================================================\n",
      " lstm (LSTM)                 (None, 120, 96)           46080     \n",
      "                                                                 \n",
      " lstm_1 (LSTM)               (None, 172)               185072    \n",
      "                                                                 \n",
      " dense (Dense)               (None, 128)               22144     \n",
      "                                                                 \n",
      " dropout (Dropout)           (None, 128)               0         \n",
      "                                                                 \n",
      " dense_1 (Dense)             (None, 120)               15480     \n",
      "                                                                 \n",
      "=================================================================\n",
      "Total params: 268776 (1.03 MB)\n",
      "Trainable params: 268776 (1.03 MB)\n",
      "Non-trainable params: 0 (0.00 Byte)\n",
      "_________________________________________________________________\n"
     ]
    }
   ],
   "source": [
    "input_layer = Input(shape=(SEQUENCE_LEN, INPUT_FEATURES))  # 21 days * 4 hours (0,6,12,18), 23 parameters\n",
    "reshape = Reshape((INPUT_FEATURES, SEQUENCE_LEN)) (input_layer)\n",
    "# Downsampling\n",
    "conv1 = Conv1D(filters=24, kernel_size=7, activation='relu', strides=1, padding=\"causal\") (reshape)\n",
    "\n",
    "lstm1 = Bidirectional(LSTM(84, return_sequences=True))(conv1)\n",
    "lstm2 = Bidirectional(LSTM(42, return_sequences=False))(lstm1)\n",
    "dense1 = Dense(60, activation='ReLU') (lstm2)\n",
    "output_layer = Dense(60, activation='linear') (dense1)\n",
    "\n",
    "# Build the model\n",
    "model = Model(inputs=input_layer, outputs=output_layer)\n",
    "\n",
    "model.compile(optimizer='adam', loss='mean_squared_error')  # Adjust optimizer and loss as needed\n",
    "model.summary()"
   ],
   "metadata": {
    "collapsed": false,
    "ExecuteTime": {
     "end_time": "2024-01-07T23:17:03.995164400Z",
     "start_time": "2024-01-07T23:17:03.014331200Z"
    }
   },
   "id": "925b23cdbb1ad289"
  },
  {
   "cell_type": "code",
   "execution_count": null,
   "outputs": [
    {
     "name": "stdout",
     "output_type": "stream",
     "text": [
      "Epoch 1/10\n",
      "1096/1096 [==============================] - 258s 231ms/step - loss: 0.4981 - val_loss: 0.4752\n",
      "Epoch 2/10\n",
      "1096/1096 [==============================] - 265s 242ms/step - loss: 0.3813 - val_loss: 0.5602\n",
      "Epoch 3/10\n",
      "1096/1096 [==============================] - 269s 246ms/step - loss: 0.3013 - val_loss: 0.5812\n",
      "Epoch 4/10\n",
      "1096/1096 [==============================] - 274s 250ms/step - loss: 0.2619 - val_loss: 0.6102\n",
      "Epoch 5/10\n",
      " 834/1096 [=====================>........] - ETA: 59s - loss: 0.2443 "
     ]
    }
   ],
   "source": [
    "history = model.fit(X_train, y_train, epochs=10, batch_size=32, validation_data=(X_val, y_val))"
   ],
   "metadata": {
    "collapsed": false,
    "is_executing": true,
    "ExecuteTime": {
     "start_time": "2024-01-07T23:17:03.962076Z"
    }
   },
   "id": "490ab33971707b8e"
  },
  {
   "cell_type": "code",
   "execution_count": null,
   "outputs": [],
   "source": [
    "model.save('LSTM_07-01-2024_final')"
   ],
   "metadata": {
    "collapsed": false,
    "is_executing": true
   },
   "id": "4fb320195262ea87"
  },
  {
   "cell_type": "code",
   "execution_count": null,
   "outputs": [],
   "source": [
    "\n",
    "from keras.models import load_model\n",
    "\n",
    "model = load_model('LSTM_07-01-2024_final')\n"
   ],
   "metadata": {
    "collapsed": false,
    "is_executing": true
   },
   "id": "5a1ea48c1178994d"
  },
  {
   "cell_type": "code",
   "execution_count": null,
   "outputs": [],
   "source": [
    "# Make predictions\n",
    "y_pred = model.predict(X_test)"
   ],
   "metadata": {
    "collapsed": false,
    "is_executing": true
   },
   "id": "99cbaacbe32b193e"
  },
  {
   "cell_type": "code",
   "execution_count": null,
   "outputs": [],
   "source": [
    "inv_y_pred = invert_scale_for_y(y_pred, scaler)\n",
    "real_y_pred = back_to_degrees_for_y(inv_y_pred)\n",
    "\n",
    "inv_y_test = invert_scale_for_y(y_test, scaler)\n",
    "real_y_test = back_to_degrees_for_y(inv_y_test)\n",
    "\n",
    "inv_X_test = invert_scale_for_X(X_test, scaler)\n",
    "real_X_test = back_to_degrees_for_X(inv_X_test)"
   ],
   "metadata": {
    "collapsed": false,
    "is_executing": true
   },
   "id": "2199ee2ae50da7f3"
  },
  {
   "cell_type": "code",
   "execution_count": null,
   "outputs": [],
   "source": [
    "plot_one_prediction(700, real_X_test, real_y_test, real_y_pred)"
   ],
   "metadata": {
    "collapsed": false,
    "is_executing": true
   },
   "id": "2b71fb2b4cf3b7b1"
  },
  {
   "cell_type": "code",
   "execution_count": null,
   "outputs": [],
   "source": [
    "MSE(real_y_test, real_y_pred)[0]"
   ],
   "metadata": {
    "collapsed": false,
    "is_executing": true
   },
   "id": "a454171b1eccb90a"
  },
  {
   "cell_type": "code",
   "execution_count": null,
   "outputs": [],
   "source": [
    "MSE(real_y_test, real_y_pred)[1]"
   ],
   "metadata": {
    "collapsed": false,
    "is_executing": true
   },
   "id": "1eef9484aba4a9f"
  },
  {
   "cell_type": "code",
   "execution_count": null,
   "outputs": [],
   "source": [
    "X_test"
   ],
   "metadata": {
    "collapsed": false,
    "is_executing": true
   },
   "id": "de4d9e0acffc1570"
  },
  {
   "cell_type": "code",
   "execution_count": null,
   "outputs": [],
   "source": [
    "inv_X_test"
   ],
   "metadata": {
    "collapsed": false,
    "is_executing": true
   },
   "id": "828b901898cd55b0"
  },
  {
   "cell_type": "code",
   "execution_count": null,
   "outputs": [],
   "source": [],
   "metadata": {
    "collapsed": false,
    "is_executing": true
   },
   "id": "beebb28a6093810"
  }
 ],
 "metadata": {
  "kernelspec": {
   "display_name": "Python 3",
   "language": "python",
   "name": "python3"
  },
  "language_info": {
   "codemirror_mode": {
    "name": "ipython",
    "version": 2
   },
   "file_extension": ".py",
   "mimetype": "text/x-python",
   "name": "python",
   "nbconvert_exporter": "python",
   "pygments_lexer": "ipython2",
   "version": "2.7.6"
  }
 },
 "nbformat": 4,
 "nbformat_minor": 5
}
