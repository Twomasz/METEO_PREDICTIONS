{
 "cells": [
  {
   "cell_type": "code",
   "execution_count": 27,
   "id": "initial_id",
   "metadata": {
    "collapsed": true,
    "ExecuteTime": {
     "end_time": "2023-09-18T21:18:44.023959Z",
     "start_time": "2023-09-18T21:18:43.993557900Z"
    }
   },
   "outputs": [],
   "source": [
    "import pandas as pd\n",
    "import numpy as np"
   ]
  },
  {
   "cell_type": "code",
   "execution_count": 28,
   "outputs": [],
   "source": [
    "description = pd.read_csv('dane_archiwalne_meteo/kody_parametr.csv', encoding='cp1250', delimiter=';')\n",
    "geo_loc = pd.read_csv('dane_archiwalne_meteo/kody_stacji.csv', encoding='cp1250', delimiter=';')"
   ],
   "metadata": {
    "collapsed": false,
    "ExecuteTime": {
     "end_time": "2023-09-18T21:18:44.023959Z",
     "start_time": "2023-09-18T21:18:44.000362600Z"
    }
   },
   "id": "a79d6fc14035611a"
  },
  {
   "cell_type": "code",
   "execution_count": 29,
   "outputs": [
    {
     "data": {
      "text/plain": "        Kod                                              Nazwa\n0   B00300S                  Temperatura powietrza (oficjalna)\n1   B00305A                       Temperatura gruntu (czujnik)\n2   B00202A                          Kierunek wiatru (czujnik)\n3   B00702A           Średnia prędkość wiatru czujnik 10 minut\n4   B00703A                      Prędkość maksymalna (czujnik)\n8   B00802A            Wilgotność względna powietrza (czujnik)\n9   B00714A  Największy poryw w okresie 10min ze stacji Syn...\n10  B00910A                   Zapas wody w śniegu (obserwator)",
      "text/html": "<div>\n<style scoped>\n    .dataframe tbody tr th:only-of-type {\n        vertical-align: middle;\n    }\n\n    .dataframe tbody tr th {\n        vertical-align: top;\n    }\n\n    .dataframe thead th {\n        text-align: right;\n    }\n</style>\n<table border=\"1\" class=\"dataframe\">\n  <thead>\n    <tr style=\"text-align: right;\">\n      <th></th>\n      <th>Kod</th>\n      <th>Nazwa</th>\n    </tr>\n  </thead>\n  <tbody>\n    <tr>\n      <th>0</th>\n      <td>B00300S</td>\n      <td>Temperatura powietrza (oficjalna)</td>\n    </tr>\n    <tr>\n      <th>1</th>\n      <td>B00305A</td>\n      <td>Temperatura gruntu (czujnik)</td>\n    </tr>\n    <tr>\n      <th>2</th>\n      <td>B00202A</td>\n      <td>Kierunek wiatru (czujnik)</td>\n    </tr>\n    <tr>\n      <th>3</th>\n      <td>B00702A</td>\n      <td>Średnia prędkość wiatru czujnik 10 minut</td>\n    </tr>\n    <tr>\n      <th>4</th>\n      <td>B00703A</td>\n      <td>Prędkość maksymalna (czujnik)</td>\n    </tr>\n    <tr>\n      <th>8</th>\n      <td>B00802A</td>\n      <td>Wilgotność względna powietrza (czujnik)</td>\n    </tr>\n    <tr>\n      <th>9</th>\n      <td>B00714A</td>\n      <td>Największy poryw w okresie 10min ze stacji Syn...</td>\n    </tr>\n    <tr>\n      <th>10</th>\n      <td>B00910A</td>\n      <td>Zapas wody w śniegu (obserwator)</td>\n    </tr>\n  </tbody>\n</table>\n</div>"
     },
     "execution_count": 29,
     "metadata": {},
     "output_type": "execute_result"
    }
   ],
   "source": [
    "description.drop([5, 6, 7], inplace=True)  # rain is taken in another source\n",
    "description"
   ],
   "metadata": {
    "collapsed": false,
    "ExecuteTime": {
     "end_time": "2023-09-18T21:18:44.076441200Z",
     "start_time": "2023-09-18T21:18:44.014395400Z"
    }
   },
   "id": "1fa59e2844aa22cd"
  },
  {
   "cell_type": "code",
   "execution_count": 30,
   "outputs": [
    {
     "data": {
      "text/plain": "          ID           Nazwa Szerokość geograficzna Długość geograficzna  \\\n0  250180590  RYBNIK-STODOŁY               50 09 16             18 28 59   \n1  254140010         DZIWNÓW               54 01 20             14 43 54   \n2  250160530       ZIELENIEC               50 19 48             16 23 39   \n3  250160630     MIĘDZYGÓRZE               50 13 06             16 46 23   \n4  250160650     MIĘDZYLESIE               50 09 12             16 40 15   \n\n  Wysokość n.p.m.  \n0             216  \n1               7  \n2             840  \n3             800  \n4             453  ",
      "text/html": "<div>\n<style scoped>\n    .dataframe tbody tr th:only-of-type {\n        vertical-align: middle;\n    }\n\n    .dataframe tbody tr th {\n        vertical-align: top;\n    }\n\n    .dataframe thead th {\n        text-align: right;\n    }\n</style>\n<table border=\"1\" class=\"dataframe\">\n  <thead>\n    <tr style=\"text-align: right;\">\n      <th></th>\n      <th>ID</th>\n      <th>Nazwa</th>\n      <th>Szerokość geograficzna</th>\n      <th>Długość geograficzna</th>\n      <th>Wysokość n.p.m.</th>\n    </tr>\n  </thead>\n  <tbody>\n    <tr>\n      <th>0</th>\n      <td>250180590</td>\n      <td>RYBNIK-STODOŁY</td>\n      <td>50 09 16</td>\n      <td>18 28 59</td>\n      <td>216</td>\n    </tr>\n    <tr>\n      <th>1</th>\n      <td>254140010</td>\n      <td>DZIWNÓW</td>\n      <td>54 01 20</td>\n      <td>14 43 54</td>\n      <td>7</td>\n    </tr>\n    <tr>\n      <th>2</th>\n      <td>250160530</td>\n      <td>ZIELENIEC</td>\n      <td>50 19 48</td>\n      <td>16 23 39</td>\n      <td>840</td>\n    </tr>\n    <tr>\n      <th>3</th>\n      <td>250160630</td>\n      <td>MIĘDZYGÓRZE</td>\n      <td>50 13 06</td>\n      <td>16 46 23</td>\n      <td>800</td>\n    </tr>\n    <tr>\n      <th>4</th>\n      <td>250160650</td>\n      <td>MIĘDZYLESIE</td>\n      <td>50 09 12</td>\n      <td>16 40 15</td>\n      <td>453</td>\n    </tr>\n  </tbody>\n</table>\n</div>"
     },
     "execution_count": 30,
     "metadata": {},
     "output_type": "execute_result"
    }
   ],
   "source": [
    "geo_loc = geo_loc[['ID', 'Nazwa', 'Szerokość geograficzna', 'Długość geograficzna', 'Wysokość n.p.m.']]\n",
    "geo_loc.head()"
   ],
   "metadata": {
    "collapsed": false,
    "ExecuteTime": {
     "end_time": "2023-09-18T21:18:44.080454300Z",
     "start_time": "2023-09-18T21:18:44.027950100Z"
    }
   },
   "id": "fc2d22b393e91630"
  },
  {
   "cell_type": "code",
   "execution_count": 31,
   "outputs": [
    {
     "data": {
      "text/plain": "Empty DataFrame\nColumns: [B00300S, B00305A, B00202A, B00702A, B00703A, B00802A, B00714A, B00910A]\nIndex: []",
      "text/html": "<div>\n<style scoped>\n    .dataframe tbody tr th:only-of-type {\n        vertical-align: middle;\n    }\n\n    .dataframe tbody tr th {\n        vertical-align: top;\n    }\n\n    .dataframe thead th {\n        text-align: right;\n    }\n</style>\n<table border=\"1\" class=\"dataframe\">\n  <thead>\n    <tr style=\"text-align: right;\">\n      <th></th>\n      <th>B00300S</th>\n      <th>B00305A</th>\n      <th>B00202A</th>\n      <th>B00702A</th>\n      <th>B00703A</th>\n      <th>B00802A</th>\n      <th>B00714A</th>\n      <th>B00910A</th>\n    </tr>\n  </thead>\n  <tbody>\n  </tbody>\n</table>\n</div>"
     },
     "execution_count": 31,
     "metadata": {},
     "output_type": "execute_result"
    }
   ],
   "source": [],
   "metadata": {
    "collapsed": false,
    "ExecuteTime": {
     "end_time": "2023-09-18T21:18:44.080454300Z",
     "start_time": "2023-09-18T21:18:44.049474100Z"
    }
   },
   "id": "7ec21f64ed4b769c"
  },
  {
   "cell_type": "code",
   "execution_count": 32,
   "outputs": [
    {
     "ename": "SyntaxError",
     "evalue": "unmatched ')' (2775454523.py, line 10)",
     "output_type": "error",
     "traceback": [
      "\u001B[1;36m  Cell \u001B[1;32mIn[32], line 10\u001B[1;36m\u001B[0m\n\u001B[1;33m    value = single_parameter_per_month_data[4].replace(',', '.'))\u001B[0m\n\u001B[1;37m                                                                ^\u001B[0m\n\u001B[1;31mSyntaxError\u001B[0m\u001B[1;31m:\u001B[0m unmatched ')'\n"
     ]
    }
   ],
   "source": [
    "year = 2022\n",
    "for month in range(1, 13):\n",
    "    for param_code in parameters:\n",
    "        path = f'dane_archiwalne_meteo/data/{param_code}/{param_code}_{year}_{month:02d}.csv'\n",
    "        single_parameter_per_month_data = pd.read_csv(path, delimiter=';', header=None)\n",
    "        \n",
    "        \n",
    "        single_parameter_per_month_data\n",
    "        date = single_parameter_per_month_data[3][0]\n",
    "        value = single_parameter_per_month_data[4].replace(',', '.')\n",
    "        # \n",
    "        # data_for_cracow[param_code] = single_parameter_per_month_data"
   ],
   "metadata": {
    "collapsed": false,
    "ExecuteTime": {
     "end_time": "2023-09-18T21:18:44.080454300Z",
     "start_time": "2023-09-18T21:18:44.058155500Z"
    }
   },
   "id": "5818f3235f058537"
  },
  {
   "cell_type": "code",
   "execution_count": 36,
   "outputs": [
    {
     "data": {
      "text/plain": "DatetimeIndex(['2022-01-01 00:00:00', '2022-01-01 00:10:00',\n               '2022-01-01 00:20:00', '2022-01-01 00:30:00',\n               '2022-01-01 00:40:00', '2022-01-01 00:50:00',\n               '2022-01-01 01:00:00', '2022-01-01 01:10:00',\n               '2022-01-01 01:20:00', '2022-01-01 01:30:00',\n               ...\n               '2022-12-31 22:30:00', '2022-12-31 22:40:00',\n               '2022-12-31 22:50:00', '2022-12-31 23:00:00',\n               '2022-12-31 23:10:00', '2022-12-31 23:20:00',\n               '2022-12-31 23:30:00', '2022-12-31 23:40:00',\n               '2022-12-31 23:50:00', '2023-01-01 00:00:00'],\n              dtype='datetime64[ns]', length=52561, freq='10T')"
     },
     "execution_count": 36,
     "metadata": {},
     "output_type": "execute_result"
    }
   ],
   "source": [
    "dti = pd.date_range('2022-01-01', '2023-01-01', freq='10min')\n",
    "dti"
   ],
   "metadata": {
    "collapsed": false,
    "ExecuteTime": {
     "end_time": "2023-09-18T21:26:53.821410700Z",
     "start_time": "2023-09-18T21:26:53.805788500Z"
    }
   },
   "id": "6d03a77cf39299c9"
  },
  {
   "cell_type": "code",
   "execution_count": 44,
   "outputs": [
    {
     "data": {
      "text/plain": "                    B00300S B00305A B00202A B00702A B00703A B00802A B00714A  \\\n2022-01-01 00:00:00     NaN     NaN     NaN     NaN     NaN     NaN     NaN   \n2022-01-01 00:10:00     NaN     NaN     NaN     NaN     NaN     NaN     NaN   \n2022-01-01 00:20:00     NaN     NaN     NaN     NaN     NaN     NaN     NaN   \n2022-01-01 00:30:00     NaN     NaN     NaN     NaN     NaN     NaN     NaN   \n2022-01-01 00:40:00     NaN     NaN     NaN     NaN     NaN     NaN     NaN   \n...                     ...     ...     ...     ...     ...     ...     ...   \n2022-12-31 23:20:00     NaN     NaN     NaN     NaN     NaN     NaN     NaN   \n2022-12-31 23:30:00     NaN     NaN     NaN     NaN     NaN     NaN     NaN   \n2022-12-31 23:40:00     NaN     NaN     NaN     NaN     NaN     NaN     NaN   \n2022-12-31 23:50:00     NaN     NaN     NaN     NaN     NaN     NaN     NaN   \n2023-01-01 00:00:00     NaN     NaN     NaN     NaN     NaN     NaN     NaN   \n\n                    B00910A  \n2022-01-01 00:00:00     NaN  \n2022-01-01 00:10:00     NaN  \n2022-01-01 00:20:00     NaN  \n2022-01-01 00:30:00     NaN  \n2022-01-01 00:40:00     NaN  \n...                     ...  \n2022-12-31 23:20:00     NaN  \n2022-12-31 23:30:00     NaN  \n2022-12-31 23:40:00     NaN  \n2022-12-31 23:50:00     NaN  \n2023-01-01 00:00:00     NaN  \n\n[52561 rows x 8 columns]",
      "text/html": "<div>\n<style scoped>\n    .dataframe tbody tr th:only-of-type {\n        vertical-align: middle;\n    }\n\n    .dataframe tbody tr th {\n        vertical-align: top;\n    }\n\n    .dataframe thead th {\n        text-align: right;\n    }\n</style>\n<table border=\"1\" class=\"dataframe\">\n  <thead>\n    <tr style=\"text-align: right;\">\n      <th></th>\n      <th>B00300S</th>\n      <th>B00305A</th>\n      <th>B00202A</th>\n      <th>B00702A</th>\n      <th>B00703A</th>\n      <th>B00802A</th>\n      <th>B00714A</th>\n      <th>B00910A</th>\n    </tr>\n  </thead>\n  <tbody>\n    <tr>\n      <th>2022-01-01 00:00:00</th>\n      <td>NaN</td>\n      <td>NaN</td>\n      <td>NaN</td>\n      <td>NaN</td>\n      <td>NaN</td>\n      <td>NaN</td>\n      <td>NaN</td>\n      <td>NaN</td>\n    </tr>\n    <tr>\n      <th>2022-01-01 00:10:00</th>\n      <td>NaN</td>\n      <td>NaN</td>\n      <td>NaN</td>\n      <td>NaN</td>\n      <td>NaN</td>\n      <td>NaN</td>\n      <td>NaN</td>\n      <td>NaN</td>\n    </tr>\n    <tr>\n      <th>2022-01-01 00:20:00</th>\n      <td>NaN</td>\n      <td>NaN</td>\n      <td>NaN</td>\n      <td>NaN</td>\n      <td>NaN</td>\n      <td>NaN</td>\n      <td>NaN</td>\n      <td>NaN</td>\n    </tr>\n    <tr>\n      <th>2022-01-01 00:30:00</th>\n      <td>NaN</td>\n      <td>NaN</td>\n      <td>NaN</td>\n      <td>NaN</td>\n      <td>NaN</td>\n      <td>NaN</td>\n      <td>NaN</td>\n      <td>NaN</td>\n    </tr>\n    <tr>\n      <th>2022-01-01 00:40:00</th>\n      <td>NaN</td>\n      <td>NaN</td>\n      <td>NaN</td>\n      <td>NaN</td>\n      <td>NaN</td>\n      <td>NaN</td>\n      <td>NaN</td>\n      <td>NaN</td>\n    </tr>\n    <tr>\n      <th>...</th>\n      <td>...</td>\n      <td>...</td>\n      <td>...</td>\n      <td>...</td>\n      <td>...</td>\n      <td>...</td>\n      <td>...</td>\n      <td>...</td>\n    </tr>\n    <tr>\n      <th>2022-12-31 23:20:00</th>\n      <td>NaN</td>\n      <td>NaN</td>\n      <td>NaN</td>\n      <td>NaN</td>\n      <td>NaN</td>\n      <td>NaN</td>\n      <td>NaN</td>\n      <td>NaN</td>\n    </tr>\n    <tr>\n      <th>2022-12-31 23:30:00</th>\n      <td>NaN</td>\n      <td>NaN</td>\n      <td>NaN</td>\n      <td>NaN</td>\n      <td>NaN</td>\n      <td>NaN</td>\n      <td>NaN</td>\n      <td>NaN</td>\n    </tr>\n    <tr>\n      <th>2022-12-31 23:40:00</th>\n      <td>NaN</td>\n      <td>NaN</td>\n      <td>NaN</td>\n      <td>NaN</td>\n      <td>NaN</td>\n      <td>NaN</td>\n      <td>NaN</td>\n      <td>NaN</td>\n    </tr>\n    <tr>\n      <th>2022-12-31 23:50:00</th>\n      <td>NaN</td>\n      <td>NaN</td>\n      <td>NaN</td>\n      <td>NaN</td>\n      <td>NaN</td>\n      <td>NaN</td>\n      <td>NaN</td>\n      <td>NaN</td>\n    </tr>\n    <tr>\n      <th>2023-01-01 00:00:00</th>\n      <td>NaN</td>\n      <td>NaN</td>\n      <td>NaN</td>\n      <td>NaN</td>\n      <td>NaN</td>\n      <td>NaN</td>\n      <td>NaN</td>\n      <td>NaN</td>\n    </tr>\n  </tbody>\n</table>\n<p>52561 rows × 8 columns</p>\n</div>"
     },
     "execution_count": 44,
     "metadata": {},
     "output_type": "execute_result"
    }
   ],
   "source": [
    "parameters = description[['Kod']].to_numpy().reshape(-1)  # columns\n",
    "dti = pd.date_range('2022-01-01', '2023-01-01', freq='10min')  # indexes as timestamp\n",
    "\n",
    "data_for_cracow = pd.DataFrame(columns=parameters, index=dti)\n",
    "\n",
    "# data_for_cracow.xs('2022-01-01 00:50:00')['B00300S'] = 1\n",
    "data_for_cracow"
   ],
   "metadata": {
    "collapsed": false,
    "ExecuteTime": {
     "end_time": "2023-09-18T21:40:52.661473500Z",
     "start_time": "2023-09-18T21:40:52.624341800Z"
    }
   },
   "id": "6278bac0efdf9e1a"
  },
  {
   "cell_type": "code",
   "execution_count": null,
   "outputs": [],
   "source": [
    "year = 2022\n",
    "for month in range(1, 13):\n",
    "    for param_code in parameters:\n",
    "        path = f'dane_archiwalne_meteo/data/{param_code}/{param_code}_{year}_{month:02d}.csv'\n",
    "        single_parameter_per_month_data = pd.read_csv(path, delimiter=';', header=None)\n",
    "        \n",
    "        single_parameter_per_cracow = \n",
    "        \n",
    "        dates = single_parameter_per_month_data[2]\n",
    "        dates = pd.to_datetime(dates)\n",
    "        value = single_parameter_per_month_data[3].str.replace(',', '.')\n",
    "        \n",
    "        for i in dates.index:\n",
    "            single_row = \n"
   ],
   "metadata": {
    "collapsed": false,
    "ExecuteTime": {
     "start_time": "2023-09-18T23:27:07.950814300Z"
    }
   },
   "id": "38b4fe48bd0ea717"
  },
  {
   "cell_type": "code",
   "execution_count": 54,
   "outputs": [
    {
     "ename": "ValueError",
     "evalue": "invalid literal for int() with base 10: '4.3'",
     "output_type": "error",
     "traceback": [
      "\u001B[1;31m---------------------------------------------------------------------------\u001B[0m",
      "\u001B[1;31mValueError\u001B[0m                                Traceback (most recent call last)",
      "Cell \u001B[1;32mIn[54], line 1\u001B[0m\n\u001B[1;32m----> 1\u001B[0m i \u001B[38;5;241m=\u001B[39m \u001B[38;5;28;43mint\u001B[39;49m\u001B[43m(\u001B[49m\u001B[38;5;124;43m'\u001B[39;49m\u001B[38;5;124;43m4.3\u001B[39;49m\u001B[38;5;124;43m'\u001B[39;49m\u001B[43m)\u001B[49m\n",
      "\u001B[1;31mValueError\u001B[0m: invalid literal for int() with base 10: '4.3'"
     ]
    }
   ],
   "source": [
    "i = int('4.3')"
   ],
   "metadata": {
    "collapsed": false,
    "ExecuteTime": {
     "end_time": "2023-09-18T21:49:51.500002500Z",
     "start_time": "2023-09-18T21:49:51.484085500Z"
    }
   },
   "id": "15db7dcaec079e6c"
  },
  {
   "cell_type": "code",
   "execution_count": null,
   "outputs": [],
   "source": [],
   "metadata": {
    "collapsed": false
   },
   "id": "e70ac631efd6ab51"
  }
 ],
 "metadata": {
  "kernelspec": {
   "display_name": "Python 3",
   "language": "python",
   "name": "python3"
  },
  "language_info": {
   "codemirror_mode": {
    "name": "ipython",
    "version": 2
   },
   "file_extension": ".py",
   "mimetype": "text/x-python",
   "name": "python",
   "nbconvert_exporter": "python",
   "pygments_lexer": "ipython2",
   "version": "2.7.6"
  }
 },
 "nbformat": 4,
 "nbformat_minor": 5
}
