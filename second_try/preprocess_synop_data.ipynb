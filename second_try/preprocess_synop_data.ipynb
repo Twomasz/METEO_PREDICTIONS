{
 "cells": [
  {
   "cell_type": "code",
   "execution_count": 1,
   "id": "initial_id",
   "metadata": {
    "collapsed": true,
    "ExecuteTime": {
     "end_time": "2023-10-15T21:20:01.723069400Z",
     "start_time": "2023-10-15T21:20:01.711066500Z"
    }
   },
   "outputs": [],
   "source": [
    "import pandas as pd"
   ]
  },
  {
   "cell_type": "markdown",
   "source": [
    "### Get description of data"
   ],
   "metadata": {
    "collapsed": false
   },
   "id": "5c8a7c19b9695192"
  },
  {
   "cell_type": "code",
   "execution_count": 2,
   "outputs": [
    {
     "data": {
      "text/plain": "array([['Kod stacji', 'Nazwa stacji', 'Rok', 'Miesiąc', 'Dzień',\n        'Godzina', 'Wysokość podstawy chmur CL CM szyfrowana [kod]',\n        'Status pomiaru HPOD', 'Wysokość podstawy niższej  [m]',\n        'Status pomiaru HPON', 'Wysokość podstawy wyższej [m]',\n        'Status pomiaru HPOW', 'Wysokość podstawy tekstowy [opis]',\n        'Pomiar przyrzadem 1 (niższa) [P]',\n        'Pomiar przyrzadem 2 (wyższa) [P]', 'Widzialność  [kod]',\n        'Status pomiaru WID', 'Widzialność operatora [m]',\n        'Status pomiaru WIDO', 'Widzialność automat [m]',\n        'Status pomiaru WIDA', 'Zachmurzenie ogólne [oktanty]',\n        'Status pomiaru NOG', 'Kierunek wiatru  [°]',\n        'Status pomiaru KRWR', 'Prędkość wiatru  [m/s]',\n        'Status pomiaru FWR', 'Poryw wiatru  [m/s]',\n        'Status pomiaru PORW', 'Temperatura powietrza [°C]/1',\n        'Status pomiaru TEMP', 'Temperatura termometru zwilżonego [°C]',\n        'Status pomiaru TTZW', 'Wskaźnik wentylacji [W/N]',\n        'Wskaźnik lodu       [L/W]', 'Ciśnienie pary wodnej [hPa]',\n        'Status pomiaru CPW', 'Wilgotność względna [%]',\n        'Status pomiaru WLGW', 'Temperatura punktu rosy [°C]',\n        'Status pomiaru TPTR', 'Ciśnienie na pozimie stacji [hPa]',\n        'Status pomiaru PPPS', 'Ciśnienie na pozimie morza [hPa]',\n        'Status pomiaru PPPM', 'Charakterystyka tendencji [kod]',\n        'Wartość tendencji [wartość]', 'Status pomiaru APP',\n        'Opad za 6 godzin [mm]', 'Status pomiaru WO6G',\n        'Rodzaj opadu za 6 godzin [kod]', 'Status pomiaru ROPT',\n        'Pogoda bieżąca [kod]', 'Pogoda ubiegła [kod]',\n        'Zachmurzenie niskie [oktanty]', 'Status pomiaru CLCM',\n        'Chmury CL [kod]', 'Status pomiaru CHCL', 'Chmury CL tekstem',\n        'Chmury CM [kod]', 'Status pomiaru CHCM', 'Chmury CM tekstem',\n        'Chmury CH [kod]', 'Status pomiaru CHCH', 'Chmury CH tekstem',\n        'Stan gruntu [kod]', 'Status pomiaru SGRN',\n        'Niedosyt wilgotności [hPa]', 'Status pomiaru DEFI',\n        'Usłonecznienie', 'Status pomiaru USLN',\n        'Wystąpienie rosy [0/1]', 'Status pomiaru ROSW',\n        'Poryw maksymalny za okres WW [m/s]', 'Status pomiaru PORK',\n        'Godzina wystąpienia porywu', 'Minuta wystąpienia porywu',\n        'Temperatura gruntu -5 [°C]', 'Status pomiaru TG05',\n        'Temperatura gruntu -10 [°C]', 'Status pomiaru TG10',\n        'Temperatura gruntu -20 [°C]', 'Status pomiaru TG20',\n        'Temperatura gruntu -50 [°C]', 'Status pomiaru TG50',\n        'Temperatura gruntu -100 [°C]', 'Status pomiaru TG100',\n        'Temperatura minimalna za 12 godzin  [°C]',\n        'Status pomiaru TMIN',\n        'Temperatura maksymalna za 12 godzin [°C]',\n        'Status pomiaru TMAX',\n        'Temperatura minimalna przy gruncie za 12 godzin [°C]',\n        'Status pomiaru TGMI', 'Równoważnik wodny śniegu [mm/cm]',\n        'Status pomiaru RWSN', 'Wysokość pokrywy śnieżnej [cm]',\n        'Status pomiaru PKSN', 'Wysokość świeżo spadłego śniegu  [cm]',\n        'Status pomiaru HSS', 'Wysokość śniegu na poletku [cm]',\n        'Status pomiaru GRSN', 'Gatunek śniegu  [kod]',\n        'Ukształtowanie pokrywy [kod]', 'Wysokość próbki [cm]',\n        'Status pomiaru HPRO', 'Ciężar próbki [g]',\n        'Status pomiaru CIPR']], dtype=object)"
     },
     "execution_count": 2,
     "metadata": {},
     "output_type": "execute_result"
    }
   ],
   "source": [
    "description_data = pd.read_csv('../all_new_data/opis_parametrow.txt', header=None)\n",
    "headers = description_data.to_numpy().reshape((1, -1))\n",
    "headers"
   ],
   "metadata": {
    "collapsed": false,
    "ExecuteTime": {
     "end_time": "2023-10-15T21:20:01.743162400Z",
     "start_time": "2023-10-15T21:20:01.715070Z"
    }
   },
   "id": "8798a7951c715e4a"
  },
  {
   "cell_type": "markdown",
   "source": [
    "### Get data for 2020-22 and merge to one DF"
   ],
   "metadata": {
    "collapsed": false
   },
   "id": "bf60ef45e194dcda"
  },
  {
   "cell_type": "code",
   "execution_count": 3,
   "outputs": [
    {
     "name": "stderr",
     "output_type": "stream",
     "text": [
      "C:\\Users\\Tomek\\AppData\\Local\\Temp\\ipykernel_15540\\785422830.py:3: DtypeWarning: Columns (6,56) have mixed types. Specify dtype option on import or set low_memory=False.\n",
      "  synop_2022 = pd.read_csv('../all_new_data/s_t_566_2022.csv', encoding='cp1250', header=None)\n"
     ]
    },
    {
     "data": {
      "text/plain": "      Kod stacji   Nazwa stacji   Rok  Miesiąc  Dzień  Godzina  \\\n0      350190566  KRAKÓW-BALICE  2020        1      1        0   \n1      350190566  KRAKÓW-BALICE  2020        1      1        1   \n2      350190566  KRAKÓW-BALICE  2020        1      1        2   \n3      350190566  KRAKÓW-BALICE  2020        1      1        3   \n4      350190566  KRAKÓW-BALICE  2020        1      1        4   \n...          ...            ...   ...      ...    ...      ...   \n8755   350190566  KRAKÓW-BALICE  2022       12     31       19   \n8756   350190566  KRAKÓW-BALICE  2022       12     31       20   \n8757   350190566  KRAKÓW-BALICE  2022       12     31       21   \n8758   350190566  KRAKÓW-BALICE  2022       12     31       22   \n8759   350190566  KRAKÓW-BALICE  2022       12     31       23   \n\n     Wysokość podstawy chmur CL CM szyfrowana [kod]  Status pomiaru HPOD  \\\n0                                                 5                  NaN   \n1                                                 5                  NaN   \n2                                                 5                  NaN   \n3                                                 5                  NaN   \n4                                                 5                  NaN   \n...                                             ...                  ...   \n8755                                              9                  NaN   \n8756                                              9                  NaN   \n8757                                              9                  NaN   \n8758                                              9                  NaN   \n8759                                              9                  NaN   \n\n      Wysokość podstawy niższej  [m]  Status pomiaru HPON  ...  \\\n0                                700                  NaN  ...   \n1                                700                  NaN  ...   \n2                                900                  NaN  ...   \n3                                700                  NaN  ...   \n4                                700                  NaN  ...   \n...                              ...                  ...  ...   \n8755                               0                  8.0  ...   \n8756                               0                  8.0  ...   \n8757                               0                  8.0  ...   \n8758                               0                  8.0  ...   \n8759                               0                  8.0  ...   \n\n      Wysokość świeżo spadłego śniegu  [cm]  Status pomiaru HSS  \\\n0                                         0                 8.0   \n1                                         0                 8.0   \n2                                         0                 8.0   \n3                                         0                 8.0   \n4                                         0                 8.0   \n...                                     ...                 ...   \n8755                                      0                 8.0   \n8756                                      0                 8.0   \n8757                                      0                 8.0   \n8758                                      0                 8.0   \n8759                                      0                 8.0   \n\n     Wysokość śniegu na poletku [cm] Status pomiaru GRSN  \\\n0                                  0                 8.0   \n1                                  0                 8.0   \n2                                  0                 8.0   \n3                                  0                 8.0   \n4                                  0                 8.0   \n...                              ...                 ...   \n8755                               0                 8.0   \n8756                               0                 8.0   \n8757                               0                 8.0   \n8758                               0                 8.0   \n8759                               0                 8.0   \n\n     Gatunek śniegu  [kod]  Ukształtowanie pokrywy [kod]  \\\n0                      NaN                           NaN   \n1                      NaN                           NaN   \n2                      NaN                           NaN   \n3                      NaN                           NaN   \n4                      NaN                           NaN   \n...                    ...                           ...   \n8755                   NaN                           NaN   \n8756                   NaN                           NaN   \n8757                   NaN                           NaN   \n8758                   NaN                           NaN   \n8759                   NaN                           NaN   \n\n      Wysokość próbki [cm]  Status pomiaru HPRO  Ciężar próbki [g]  \\\n0                        0                  8.0                  0   \n1                        0                  8.0                  0   \n2                        0                  8.0                  0   \n3                        0                  8.0                  0   \n4                        0                  8.0                  0   \n...                    ...                  ...                ...   \n8755                     0                  8.0                  0   \n8756                     0                  8.0                  0   \n8757                     0                  8.0                  0   \n8758                     0                  8.0                  0   \n8759                     0                  8.0                  0   \n\n      Status pomiaru CIPR  \n0                     8.0  \n1                     8.0  \n2                     8.0  \n3                     8.0  \n4                     8.0  \n...                   ...  \n8755                  8.0  \n8756                  8.0  \n8757                  8.0  \n8758                  8.0  \n8759                  8.0  \n\n[26304 rows x 107 columns]",
      "text/html": "<div>\n<style scoped>\n    .dataframe tbody tr th:only-of-type {\n        vertical-align: middle;\n    }\n\n    .dataframe tbody tr th {\n        vertical-align: top;\n    }\n\n    .dataframe thead th {\n        text-align: right;\n    }\n</style>\n<table border=\"1\" class=\"dataframe\">\n  <thead>\n    <tr style=\"text-align: right;\">\n      <th></th>\n      <th>Kod stacji</th>\n      <th>Nazwa stacji</th>\n      <th>Rok</th>\n      <th>Miesiąc</th>\n      <th>Dzień</th>\n      <th>Godzina</th>\n      <th>Wysokość podstawy chmur CL CM szyfrowana [kod]</th>\n      <th>Status pomiaru HPOD</th>\n      <th>Wysokość podstawy niższej  [m]</th>\n      <th>Status pomiaru HPON</th>\n      <th>...</th>\n      <th>Wysokość świeżo spadłego śniegu  [cm]</th>\n      <th>Status pomiaru HSS</th>\n      <th>Wysokość śniegu na poletku [cm]</th>\n      <th>Status pomiaru GRSN</th>\n      <th>Gatunek śniegu  [kod]</th>\n      <th>Ukształtowanie pokrywy [kod]</th>\n      <th>Wysokość próbki [cm]</th>\n      <th>Status pomiaru HPRO</th>\n      <th>Ciężar próbki [g]</th>\n      <th>Status pomiaru CIPR</th>\n    </tr>\n  </thead>\n  <tbody>\n    <tr>\n      <th>0</th>\n      <td>350190566</td>\n      <td>KRAKÓW-BALICE</td>\n      <td>2020</td>\n      <td>1</td>\n      <td>1</td>\n      <td>0</td>\n      <td>5</td>\n      <td>NaN</td>\n      <td>700</td>\n      <td>NaN</td>\n      <td>...</td>\n      <td>0</td>\n      <td>8.0</td>\n      <td>0</td>\n      <td>8.0</td>\n      <td>NaN</td>\n      <td>NaN</td>\n      <td>0</td>\n      <td>8.0</td>\n      <td>0</td>\n      <td>8.0</td>\n    </tr>\n    <tr>\n      <th>1</th>\n      <td>350190566</td>\n      <td>KRAKÓW-BALICE</td>\n      <td>2020</td>\n      <td>1</td>\n      <td>1</td>\n      <td>1</td>\n      <td>5</td>\n      <td>NaN</td>\n      <td>700</td>\n      <td>NaN</td>\n      <td>...</td>\n      <td>0</td>\n      <td>8.0</td>\n      <td>0</td>\n      <td>8.0</td>\n      <td>NaN</td>\n      <td>NaN</td>\n      <td>0</td>\n      <td>8.0</td>\n      <td>0</td>\n      <td>8.0</td>\n    </tr>\n    <tr>\n      <th>2</th>\n      <td>350190566</td>\n      <td>KRAKÓW-BALICE</td>\n      <td>2020</td>\n      <td>1</td>\n      <td>1</td>\n      <td>2</td>\n      <td>5</td>\n      <td>NaN</td>\n      <td>900</td>\n      <td>NaN</td>\n      <td>...</td>\n      <td>0</td>\n      <td>8.0</td>\n      <td>0</td>\n      <td>8.0</td>\n      <td>NaN</td>\n      <td>NaN</td>\n      <td>0</td>\n      <td>8.0</td>\n      <td>0</td>\n      <td>8.0</td>\n    </tr>\n    <tr>\n      <th>3</th>\n      <td>350190566</td>\n      <td>KRAKÓW-BALICE</td>\n      <td>2020</td>\n      <td>1</td>\n      <td>1</td>\n      <td>3</td>\n      <td>5</td>\n      <td>NaN</td>\n      <td>700</td>\n      <td>NaN</td>\n      <td>...</td>\n      <td>0</td>\n      <td>8.0</td>\n      <td>0</td>\n      <td>8.0</td>\n      <td>NaN</td>\n      <td>NaN</td>\n      <td>0</td>\n      <td>8.0</td>\n      <td>0</td>\n      <td>8.0</td>\n    </tr>\n    <tr>\n      <th>4</th>\n      <td>350190566</td>\n      <td>KRAKÓW-BALICE</td>\n      <td>2020</td>\n      <td>1</td>\n      <td>1</td>\n      <td>4</td>\n      <td>5</td>\n      <td>NaN</td>\n      <td>700</td>\n      <td>NaN</td>\n      <td>...</td>\n      <td>0</td>\n      <td>8.0</td>\n      <td>0</td>\n      <td>8.0</td>\n      <td>NaN</td>\n      <td>NaN</td>\n      <td>0</td>\n      <td>8.0</td>\n      <td>0</td>\n      <td>8.0</td>\n    </tr>\n    <tr>\n      <th>...</th>\n      <td>...</td>\n      <td>...</td>\n      <td>...</td>\n      <td>...</td>\n      <td>...</td>\n      <td>...</td>\n      <td>...</td>\n      <td>...</td>\n      <td>...</td>\n      <td>...</td>\n      <td>...</td>\n      <td>...</td>\n      <td>...</td>\n      <td>...</td>\n      <td>...</td>\n      <td>...</td>\n      <td>...</td>\n      <td>...</td>\n      <td>...</td>\n      <td>...</td>\n      <td>...</td>\n    </tr>\n    <tr>\n      <th>8755</th>\n      <td>350190566</td>\n      <td>KRAKÓW-BALICE</td>\n      <td>2022</td>\n      <td>12</td>\n      <td>31</td>\n      <td>19</td>\n      <td>9</td>\n      <td>NaN</td>\n      <td>0</td>\n      <td>8.0</td>\n      <td>...</td>\n      <td>0</td>\n      <td>8.0</td>\n      <td>0</td>\n      <td>8.0</td>\n      <td>NaN</td>\n      <td>NaN</td>\n      <td>0</td>\n      <td>8.0</td>\n      <td>0</td>\n      <td>8.0</td>\n    </tr>\n    <tr>\n      <th>8756</th>\n      <td>350190566</td>\n      <td>KRAKÓW-BALICE</td>\n      <td>2022</td>\n      <td>12</td>\n      <td>31</td>\n      <td>20</td>\n      <td>9</td>\n      <td>NaN</td>\n      <td>0</td>\n      <td>8.0</td>\n      <td>...</td>\n      <td>0</td>\n      <td>8.0</td>\n      <td>0</td>\n      <td>8.0</td>\n      <td>NaN</td>\n      <td>NaN</td>\n      <td>0</td>\n      <td>8.0</td>\n      <td>0</td>\n      <td>8.0</td>\n    </tr>\n    <tr>\n      <th>8757</th>\n      <td>350190566</td>\n      <td>KRAKÓW-BALICE</td>\n      <td>2022</td>\n      <td>12</td>\n      <td>31</td>\n      <td>21</td>\n      <td>9</td>\n      <td>NaN</td>\n      <td>0</td>\n      <td>8.0</td>\n      <td>...</td>\n      <td>0</td>\n      <td>8.0</td>\n      <td>0</td>\n      <td>8.0</td>\n      <td>NaN</td>\n      <td>NaN</td>\n      <td>0</td>\n      <td>8.0</td>\n      <td>0</td>\n      <td>8.0</td>\n    </tr>\n    <tr>\n      <th>8758</th>\n      <td>350190566</td>\n      <td>KRAKÓW-BALICE</td>\n      <td>2022</td>\n      <td>12</td>\n      <td>31</td>\n      <td>22</td>\n      <td>9</td>\n      <td>NaN</td>\n      <td>0</td>\n      <td>8.0</td>\n      <td>...</td>\n      <td>0</td>\n      <td>8.0</td>\n      <td>0</td>\n      <td>8.0</td>\n      <td>NaN</td>\n      <td>NaN</td>\n      <td>0</td>\n      <td>8.0</td>\n      <td>0</td>\n      <td>8.0</td>\n    </tr>\n    <tr>\n      <th>8759</th>\n      <td>350190566</td>\n      <td>KRAKÓW-BALICE</td>\n      <td>2022</td>\n      <td>12</td>\n      <td>31</td>\n      <td>23</td>\n      <td>9</td>\n      <td>NaN</td>\n      <td>0</td>\n      <td>8.0</td>\n      <td>...</td>\n      <td>0</td>\n      <td>8.0</td>\n      <td>0</td>\n      <td>8.0</td>\n      <td>NaN</td>\n      <td>NaN</td>\n      <td>0</td>\n      <td>8.0</td>\n      <td>0</td>\n      <td>8.0</td>\n    </tr>\n  </tbody>\n</table>\n<p>26304 rows × 107 columns</p>\n</div>"
     },
     "execution_count": 3,
     "metadata": {},
     "output_type": "execute_result"
    }
   ],
   "source": [
    "synop_2020 = pd.read_csv('../all_new_data/s_t_566_2020.csv', encoding='cp1250', header=None)\n",
    "synop_2021 = pd.read_csv('../all_new_data/s_t_566_2021.csv', encoding='cp1250', header=None)\n",
    "synop_2022 = pd.read_csv('../all_new_data/s_t_566_2022.csv', encoding='cp1250', header=None)\n",
    "\n",
    "merged_data = pd.concat([synop_2020, synop_2021, synop_2022])\n",
    "merged_data.columns = headers[0]\n",
    "merged_data"
   ],
   "metadata": {
    "collapsed": false,
    "ExecuteTime": {
     "end_time": "2023-10-15T21:20:02.161965300Z",
     "start_time": "2023-10-15T21:20:01.739158600Z"
    }
   },
   "id": "1bf653494256d74b"
  },
  {
   "cell_type": "markdown",
   "source": [
    "### Set date as index from another columns"
   ],
   "metadata": {
    "collapsed": false
   },
   "id": "f77cb29b547d3d6c"
  },
  {
   "cell_type": "code",
   "execution_count": 4,
   "outputs": [
    {
     "name": "stderr",
     "output_type": "stream",
     "text": [
      "C:\\Users\\Tomek\\AppData\\Local\\Temp\\ipykernel_15540\\4152552355.py:8: PerformanceWarning: DataFrame is highly fragmented.  This is usually the result of calling `frame.insert` many times, which has poor performance.  Consider joining all columns at once using pd.concat(axis=1) instead. To get a de-fragmented frame, use `newframe = frame.copy()`\n",
      "  merged_data['timestamp'] = merged_data['Rok'] + '-' + merged_data['Miesiąc'] + '-' + merged_data['Dzień'] + ' ' + merged_data['Godzina'] + ':00:00'\n"
     ]
    },
    {
     "data": {
      "text/plain": "                     Kod stacji   Nazwa stacji   Rok Miesiąc Dzień Godzina  \\\ntimestamp                                                                    \n2020-01-01 00:00:00   350190566  KRAKÓW-BALICE  2020       1     1       0   \n2020-01-01 01:00:00   350190566  KRAKÓW-BALICE  2020       1     1       1   \n2020-01-01 02:00:00   350190566  KRAKÓW-BALICE  2020       1     1       2   \n2020-01-01 03:00:00   350190566  KRAKÓW-BALICE  2020       1     1       3   \n2020-01-01 04:00:00   350190566  KRAKÓW-BALICE  2020       1     1       4   \n...                         ...            ...   ...     ...   ...     ...   \n2022-12-31 19:00:00   350190566  KRAKÓW-BALICE  2022      12    31      19   \n2022-12-31 20:00:00   350190566  KRAKÓW-BALICE  2022      12    31      20   \n2022-12-31 21:00:00   350190566  KRAKÓW-BALICE  2022      12    31      21   \n2022-12-31 22:00:00   350190566  KRAKÓW-BALICE  2022      12    31      22   \n2022-12-31 23:00:00   350190566  KRAKÓW-BALICE  2022      12    31      23   \n\n                    Wysokość podstawy chmur CL CM szyfrowana [kod]  \\\ntimestamp                                                            \n2020-01-01 00:00:00                                              5   \n2020-01-01 01:00:00                                              5   \n2020-01-01 02:00:00                                              5   \n2020-01-01 03:00:00                                              5   \n2020-01-01 04:00:00                                              5   \n...                                                            ...   \n2022-12-31 19:00:00                                              9   \n2022-12-31 20:00:00                                              9   \n2022-12-31 21:00:00                                              9   \n2022-12-31 22:00:00                                              9   \n2022-12-31 23:00:00                                              9   \n\n                     Status pomiaru HPOD  Wysokość podstawy niższej  [m]  \\\ntimestamp                                                                  \n2020-01-01 00:00:00                  NaN                             700   \n2020-01-01 01:00:00                  NaN                             700   \n2020-01-01 02:00:00                  NaN                             900   \n2020-01-01 03:00:00                  NaN                             700   \n2020-01-01 04:00:00                  NaN                             700   \n...                                  ...                             ...   \n2022-12-31 19:00:00                  NaN                               0   \n2022-12-31 20:00:00                  NaN                               0   \n2022-12-31 21:00:00                  NaN                               0   \n2022-12-31 22:00:00                  NaN                               0   \n2022-12-31 23:00:00                  NaN                               0   \n\n                     Status pomiaru HPON  ...  \\\ntimestamp                                 ...   \n2020-01-01 00:00:00                  NaN  ...   \n2020-01-01 01:00:00                  NaN  ...   \n2020-01-01 02:00:00                  NaN  ...   \n2020-01-01 03:00:00                  NaN  ...   \n2020-01-01 04:00:00                  NaN  ...   \n...                                  ...  ...   \n2022-12-31 19:00:00                  8.0  ...   \n2022-12-31 20:00:00                  8.0  ...   \n2022-12-31 21:00:00                  8.0  ...   \n2022-12-31 22:00:00                  8.0  ...   \n2022-12-31 23:00:00                  8.0  ...   \n\n                     Wysokość świeżo spadłego śniegu  [cm]  \\\ntimestamp                                                    \n2020-01-01 00:00:00                                      0   \n2020-01-01 01:00:00                                      0   \n2020-01-01 02:00:00                                      0   \n2020-01-01 03:00:00                                      0   \n2020-01-01 04:00:00                                      0   \n...                                                    ...   \n2022-12-31 19:00:00                                      0   \n2022-12-31 20:00:00                                      0   \n2022-12-31 21:00:00                                      0   \n2022-12-31 22:00:00                                      0   \n2022-12-31 23:00:00                                      0   \n\n                     Status pomiaru HSS Wysokość śniegu na poletku [cm]  \\\ntimestamp                                                                 \n2020-01-01 00:00:00                 8.0                               0   \n2020-01-01 01:00:00                 8.0                               0   \n2020-01-01 02:00:00                 8.0                               0   \n2020-01-01 03:00:00                 8.0                               0   \n2020-01-01 04:00:00                 8.0                               0   \n...                                 ...                             ...   \n2022-12-31 19:00:00                 8.0                               0   \n2022-12-31 20:00:00                 8.0                               0   \n2022-12-31 21:00:00                 8.0                               0   \n2022-12-31 22:00:00                 8.0                               0   \n2022-12-31 23:00:00                 8.0                               0   \n\n                    Status pomiaru GRSN Gatunek śniegu  [kod]  \\\ntimestamp                                                       \n2020-01-01 00:00:00                 8.0                   NaN   \n2020-01-01 01:00:00                 8.0                   NaN   \n2020-01-01 02:00:00                 8.0                   NaN   \n2020-01-01 03:00:00                 8.0                   NaN   \n2020-01-01 04:00:00                 8.0                   NaN   \n...                                 ...                   ...   \n2022-12-31 19:00:00                 8.0                   NaN   \n2022-12-31 20:00:00                 8.0                   NaN   \n2022-12-31 21:00:00                 8.0                   NaN   \n2022-12-31 22:00:00                 8.0                   NaN   \n2022-12-31 23:00:00                 8.0                   NaN   \n\n                     Ukształtowanie pokrywy [kod]  Wysokość próbki [cm]  \\\ntimestamp                                                                 \n2020-01-01 00:00:00                           NaN                     0   \n2020-01-01 01:00:00                           NaN                     0   \n2020-01-01 02:00:00                           NaN                     0   \n2020-01-01 03:00:00                           NaN                     0   \n2020-01-01 04:00:00                           NaN                     0   \n...                                           ...                   ...   \n2022-12-31 19:00:00                           NaN                     0   \n2022-12-31 20:00:00                           NaN                     0   \n2022-12-31 21:00:00                           NaN                     0   \n2022-12-31 22:00:00                           NaN                     0   \n2022-12-31 23:00:00                           NaN                     0   \n\n                     Status pomiaru HPRO  Ciężar próbki [g]  \\\ntimestamp                                                     \n2020-01-01 00:00:00                  8.0                  0   \n2020-01-01 01:00:00                  8.0                  0   \n2020-01-01 02:00:00                  8.0                  0   \n2020-01-01 03:00:00                  8.0                  0   \n2020-01-01 04:00:00                  8.0                  0   \n...                                  ...                ...   \n2022-12-31 19:00:00                  8.0                  0   \n2022-12-31 20:00:00                  8.0                  0   \n2022-12-31 21:00:00                  8.0                  0   \n2022-12-31 22:00:00                  8.0                  0   \n2022-12-31 23:00:00                  8.0                  0   \n\n                     Status pomiaru CIPR  \ntimestamp                                 \n2020-01-01 00:00:00                  8.0  \n2020-01-01 01:00:00                  8.0  \n2020-01-01 02:00:00                  8.0  \n2020-01-01 03:00:00                  8.0  \n2020-01-01 04:00:00                  8.0  \n...                                  ...  \n2022-12-31 19:00:00                  8.0  \n2022-12-31 20:00:00                  8.0  \n2022-12-31 21:00:00                  8.0  \n2022-12-31 22:00:00                  8.0  \n2022-12-31 23:00:00                  8.0  \n\n[26304 rows x 107 columns]",
      "text/html": "<div>\n<style scoped>\n    .dataframe tbody tr th:only-of-type {\n        vertical-align: middle;\n    }\n\n    .dataframe tbody tr th {\n        vertical-align: top;\n    }\n\n    .dataframe thead th {\n        text-align: right;\n    }\n</style>\n<table border=\"1\" class=\"dataframe\">\n  <thead>\n    <tr style=\"text-align: right;\">\n      <th></th>\n      <th>Kod stacji</th>\n      <th>Nazwa stacji</th>\n      <th>Rok</th>\n      <th>Miesiąc</th>\n      <th>Dzień</th>\n      <th>Godzina</th>\n      <th>Wysokość podstawy chmur CL CM szyfrowana [kod]</th>\n      <th>Status pomiaru HPOD</th>\n      <th>Wysokość podstawy niższej  [m]</th>\n      <th>Status pomiaru HPON</th>\n      <th>...</th>\n      <th>Wysokość świeżo spadłego śniegu  [cm]</th>\n      <th>Status pomiaru HSS</th>\n      <th>Wysokość śniegu na poletku [cm]</th>\n      <th>Status pomiaru GRSN</th>\n      <th>Gatunek śniegu  [kod]</th>\n      <th>Ukształtowanie pokrywy [kod]</th>\n      <th>Wysokość próbki [cm]</th>\n      <th>Status pomiaru HPRO</th>\n      <th>Ciężar próbki [g]</th>\n      <th>Status pomiaru CIPR</th>\n    </tr>\n    <tr>\n      <th>timestamp</th>\n      <th></th>\n      <th></th>\n      <th></th>\n      <th></th>\n      <th></th>\n      <th></th>\n      <th></th>\n      <th></th>\n      <th></th>\n      <th></th>\n      <th></th>\n      <th></th>\n      <th></th>\n      <th></th>\n      <th></th>\n      <th></th>\n      <th></th>\n      <th></th>\n      <th></th>\n      <th></th>\n      <th></th>\n    </tr>\n  </thead>\n  <tbody>\n    <tr>\n      <th>2020-01-01 00:00:00</th>\n      <td>350190566</td>\n      <td>KRAKÓW-BALICE</td>\n      <td>2020</td>\n      <td>1</td>\n      <td>1</td>\n      <td>0</td>\n      <td>5</td>\n      <td>NaN</td>\n      <td>700</td>\n      <td>NaN</td>\n      <td>...</td>\n      <td>0</td>\n      <td>8.0</td>\n      <td>0</td>\n      <td>8.0</td>\n      <td>NaN</td>\n      <td>NaN</td>\n      <td>0</td>\n      <td>8.0</td>\n      <td>0</td>\n      <td>8.0</td>\n    </tr>\n    <tr>\n      <th>2020-01-01 01:00:00</th>\n      <td>350190566</td>\n      <td>KRAKÓW-BALICE</td>\n      <td>2020</td>\n      <td>1</td>\n      <td>1</td>\n      <td>1</td>\n      <td>5</td>\n      <td>NaN</td>\n      <td>700</td>\n      <td>NaN</td>\n      <td>...</td>\n      <td>0</td>\n      <td>8.0</td>\n      <td>0</td>\n      <td>8.0</td>\n      <td>NaN</td>\n      <td>NaN</td>\n      <td>0</td>\n      <td>8.0</td>\n      <td>0</td>\n      <td>8.0</td>\n    </tr>\n    <tr>\n      <th>2020-01-01 02:00:00</th>\n      <td>350190566</td>\n      <td>KRAKÓW-BALICE</td>\n      <td>2020</td>\n      <td>1</td>\n      <td>1</td>\n      <td>2</td>\n      <td>5</td>\n      <td>NaN</td>\n      <td>900</td>\n      <td>NaN</td>\n      <td>...</td>\n      <td>0</td>\n      <td>8.0</td>\n      <td>0</td>\n      <td>8.0</td>\n      <td>NaN</td>\n      <td>NaN</td>\n      <td>0</td>\n      <td>8.0</td>\n      <td>0</td>\n      <td>8.0</td>\n    </tr>\n    <tr>\n      <th>2020-01-01 03:00:00</th>\n      <td>350190566</td>\n      <td>KRAKÓW-BALICE</td>\n      <td>2020</td>\n      <td>1</td>\n      <td>1</td>\n      <td>3</td>\n      <td>5</td>\n      <td>NaN</td>\n      <td>700</td>\n      <td>NaN</td>\n      <td>...</td>\n      <td>0</td>\n      <td>8.0</td>\n      <td>0</td>\n      <td>8.0</td>\n      <td>NaN</td>\n      <td>NaN</td>\n      <td>0</td>\n      <td>8.0</td>\n      <td>0</td>\n      <td>8.0</td>\n    </tr>\n    <tr>\n      <th>2020-01-01 04:00:00</th>\n      <td>350190566</td>\n      <td>KRAKÓW-BALICE</td>\n      <td>2020</td>\n      <td>1</td>\n      <td>1</td>\n      <td>4</td>\n      <td>5</td>\n      <td>NaN</td>\n      <td>700</td>\n      <td>NaN</td>\n      <td>...</td>\n      <td>0</td>\n      <td>8.0</td>\n      <td>0</td>\n      <td>8.0</td>\n      <td>NaN</td>\n      <td>NaN</td>\n      <td>0</td>\n      <td>8.0</td>\n      <td>0</td>\n      <td>8.0</td>\n    </tr>\n    <tr>\n      <th>...</th>\n      <td>...</td>\n      <td>...</td>\n      <td>...</td>\n      <td>...</td>\n      <td>...</td>\n      <td>...</td>\n      <td>...</td>\n      <td>...</td>\n      <td>...</td>\n      <td>...</td>\n      <td>...</td>\n      <td>...</td>\n      <td>...</td>\n      <td>...</td>\n      <td>...</td>\n      <td>...</td>\n      <td>...</td>\n      <td>...</td>\n      <td>...</td>\n      <td>...</td>\n      <td>...</td>\n    </tr>\n    <tr>\n      <th>2022-12-31 19:00:00</th>\n      <td>350190566</td>\n      <td>KRAKÓW-BALICE</td>\n      <td>2022</td>\n      <td>12</td>\n      <td>31</td>\n      <td>19</td>\n      <td>9</td>\n      <td>NaN</td>\n      <td>0</td>\n      <td>8.0</td>\n      <td>...</td>\n      <td>0</td>\n      <td>8.0</td>\n      <td>0</td>\n      <td>8.0</td>\n      <td>NaN</td>\n      <td>NaN</td>\n      <td>0</td>\n      <td>8.0</td>\n      <td>0</td>\n      <td>8.0</td>\n    </tr>\n    <tr>\n      <th>2022-12-31 20:00:00</th>\n      <td>350190566</td>\n      <td>KRAKÓW-BALICE</td>\n      <td>2022</td>\n      <td>12</td>\n      <td>31</td>\n      <td>20</td>\n      <td>9</td>\n      <td>NaN</td>\n      <td>0</td>\n      <td>8.0</td>\n      <td>...</td>\n      <td>0</td>\n      <td>8.0</td>\n      <td>0</td>\n      <td>8.0</td>\n      <td>NaN</td>\n      <td>NaN</td>\n      <td>0</td>\n      <td>8.0</td>\n      <td>0</td>\n      <td>8.0</td>\n    </tr>\n    <tr>\n      <th>2022-12-31 21:00:00</th>\n      <td>350190566</td>\n      <td>KRAKÓW-BALICE</td>\n      <td>2022</td>\n      <td>12</td>\n      <td>31</td>\n      <td>21</td>\n      <td>9</td>\n      <td>NaN</td>\n      <td>0</td>\n      <td>8.0</td>\n      <td>...</td>\n      <td>0</td>\n      <td>8.0</td>\n      <td>0</td>\n      <td>8.0</td>\n      <td>NaN</td>\n      <td>NaN</td>\n      <td>0</td>\n      <td>8.0</td>\n      <td>0</td>\n      <td>8.0</td>\n    </tr>\n    <tr>\n      <th>2022-12-31 22:00:00</th>\n      <td>350190566</td>\n      <td>KRAKÓW-BALICE</td>\n      <td>2022</td>\n      <td>12</td>\n      <td>31</td>\n      <td>22</td>\n      <td>9</td>\n      <td>NaN</td>\n      <td>0</td>\n      <td>8.0</td>\n      <td>...</td>\n      <td>0</td>\n      <td>8.0</td>\n      <td>0</td>\n      <td>8.0</td>\n      <td>NaN</td>\n      <td>NaN</td>\n      <td>0</td>\n      <td>8.0</td>\n      <td>0</td>\n      <td>8.0</td>\n    </tr>\n    <tr>\n      <th>2022-12-31 23:00:00</th>\n      <td>350190566</td>\n      <td>KRAKÓW-BALICE</td>\n      <td>2022</td>\n      <td>12</td>\n      <td>31</td>\n      <td>23</td>\n      <td>9</td>\n      <td>NaN</td>\n      <td>0</td>\n      <td>8.0</td>\n      <td>...</td>\n      <td>0</td>\n      <td>8.0</td>\n      <td>0</td>\n      <td>8.0</td>\n      <td>NaN</td>\n      <td>NaN</td>\n      <td>0</td>\n      <td>8.0</td>\n      <td>0</td>\n      <td>8.0</td>\n    </tr>\n  </tbody>\n</table>\n<p>26304 rows × 107 columns</p>\n</div>"
     },
     "execution_count": 4,
     "metadata": {},
     "output_type": "execute_result"
    }
   ],
   "source": [
    "convert_types_dict = {'Rok': str,\n",
    "                      'Miesiąc': str,\n",
    "                      'Dzień': str,\n",
    "                      'Godzina': str}\n",
    "\n",
    "merged_data = merged_data.astype(convert_types_dict)\n",
    "\n",
    "merged_data['timestamp'] = merged_data['Rok'] + '-' + merged_data['Miesiąc'] + '-' + merged_data['Dzień'] + ' ' + merged_data['Godzina'] + ':00:00'\n",
    "\n",
    "merged_data['timestamp'] = pd.to_datetime(merged_data['timestamp'])\n",
    "merged_data = merged_data.set_index('timestamp')\n",
    "\n",
    "merged_data"
   ],
   "metadata": {
    "collapsed": false,
    "ExecuteTime": {
     "end_time": "2023-10-15T21:20:02.518223600Z",
     "start_time": "2023-10-15T21:20:02.165971300Z"
    }
   },
   "id": "cc8a2e6773da0a0a"
  },
  {
   "cell_type": "markdown",
   "source": [
    "### Drop unnesessary columns\n",
    "THIS IS DATA ONLY FOR CRACOW\n",
    "Dates is no longer needed, because dates are indexes\n",
    "\n",
    "\n"
   ],
   "metadata": {
    "collapsed": false
   },
   "id": "f361d53aaa65b0"
  },
  {
   "cell_type": "code",
   "execution_count": 5,
   "outputs": [
    {
     "data": {
      "text/plain": "                    Wysokość podstawy chmur CL CM szyfrowana [kod]  \\\ntimestamp                                                            \n2020-01-01 00:00:00                                              5   \n2020-01-01 01:00:00                                              5   \n2020-01-01 02:00:00                                              5   \n2020-01-01 03:00:00                                              5   \n2020-01-01 04:00:00                                              5   \n...                                                            ...   \n2022-12-31 19:00:00                                              9   \n2022-12-31 20:00:00                                              9   \n2022-12-31 21:00:00                                              9   \n2022-12-31 22:00:00                                              9   \n2022-12-31 23:00:00                                              9   \n\n                     Status pomiaru HPOD  Wysokość podstawy niższej  [m]  \\\ntimestamp                                                                  \n2020-01-01 00:00:00                  NaN                             700   \n2020-01-01 01:00:00                  NaN                             700   \n2020-01-01 02:00:00                  NaN                             900   \n2020-01-01 03:00:00                  NaN                             700   \n2020-01-01 04:00:00                  NaN                             700   \n...                                  ...                             ...   \n2022-12-31 19:00:00                  NaN                               0   \n2022-12-31 20:00:00                  NaN                               0   \n2022-12-31 21:00:00                  NaN                               0   \n2022-12-31 22:00:00                  NaN                               0   \n2022-12-31 23:00:00                  NaN                               0   \n\n                     Status pomiaru HPON  Wysokość podstawy wyższej [m]  \\\ntimestamp                                                                 \n2020-01-01 00:00:00                  NaN                           1000   \n2020-01-01 01:00:00                  NaN                           1000   \n2020-01-01 02:00:00                  NaN                              0   \n2020-01-01 03:00:00                  NaN                           1000   \n2020-01-01 04:00:00                  NaN                           1000   \n...                                  ...                            ...   \n2022-12-31 19:00:00                  8.0                              0   \n2022-12-31 20:00:00                  8.0                              0   \n2022-12-31 21:00:00                  8.0                              0   \n2022-12-31 22:00:00                  8.0                              0   \n2022-12-31 23:00:00                  8.0                              0   \n\n                     Status pomiaru HPOW Wysokość podstawy tekstowy [opis]  \\\ntimestamp                                                                    \n2020-01-01 00:00:00                  NaN                          700/1000   \n2020-01-01 01:00:00                  NaN                          700/1000   \n2020-01-01 02:00:00                  8.0                               900   \n2020-01-01 03:00:00                  NaN                          700/1000   \n2020-01-01 04:00:00                  NaN                          700/1000   \n...                                  ...                               ...   \n2022-12-31 19:00:00                  8.0                             >2500   \n2022-12-31 20:00:00                  8.0                             >2500   \n2022-12-31 21:00:00                  8.0                             >2500   \n2022-12-31 22:00:00                  8.0                             >2500   \n2022-12-31 23:00:00                  8.0                             >2500   \n\n                    Pomiar przyrzadem 1 (niższa) [P]  \\\ntimestamp                                              \n2020-01-01 00:00:00                              NaN   \n2020-01-01 01:00:00                              NaN   \n2020-01-01 02:00:00                              NaN   \n2020-01-01 03:00:00                              NaN   \n2020-01-01 04:00:00                              NaN   \n...                                              ...   \n2022-12-31 19:00:00                              NaN   \n2022-12-31 20:00:00                              NaN   \n2022-12-31 21:00:00                              NaN   \n2022-12-31 22:00:00                              NaN   \n2022-12-31 23:00:00                              NaN   \n\n                    Pomiar przyrzadem 2 (wyższa) [P]  Widzialność  [kod]  ...  \\\ntimestamp                                                                 ...   \n2020-01-01 00:00:00                              NaN                   8  ...   \n2020-01-01 01:00:00                              NaN                   8  ...   \n2020-01-01 02:00:00                              NaN                   8  ...   \n2020-01-01 03:00:00                              NaN                   8  ...   \n2020-01-01 04:00:00                              NaN                   8  ...   \n...                                              ...                 ...  ...   \n2022-12-31 19:00:00                              NaN                   8  ...   \n2022-12-31 20:00:00                              NaN                   8  ...   \n2022-12-31 21:00:00                              NaN                   8  ...   \n2022-12-31 22:00:00                              NaN                   8  ...   \n2022-12-31 23:00:00                              NaN                   8  ...   \n\n                     Wysokość świeżo spadłego śniegu  [cm]  \\\ntimestamp                                                    \n2020-01-01 00:00:00                                      0   \n2020-01-01 01:00:00                                      0   \n2020-01-01 02:00:00                                      0   \n2020-01-01 03:00:00                                      0   \n2020-01-01 04:00:00                                      0   \n...                                                    ...   \n2022-12-31 19:00:00                                      0   \n2022-12-31 20:00:00                                      0   \n2022-12-31 21:00:00                                      0   \n2022-12-31 22:00:00                                      0   \n2022-12-31 23:00:00                                      0   \n\n                     Status pomiaru HSS  Wysokość śniegu na poletku [cm]  \\\ntimestamp                                                                  \n2020-01-01 00:00:00                 8.0                                0   \n2020-01-01 01:00:00                 8.0                                0   \n2020-01-01 02:00:00                 8.0                                0   \n2020-01-01 03:00:00                 8.0                                0   \n2020-01-01 04:00:00                 8.0                                0   \n...                                 ...                              ...   \n2022-12-31 19:00:00                 8.0                                0   \n2022-12-31 20:00:00                 8.0                                0   \n2022-12-31 21:00:00                 8.0                                0   \n2022-12-31 22:00:00                 8.0                                0   \n2022-12-31 23:00:00                 8.0                                0   \n\n                     Status pomiaru GRSN  Gatunek śniegu  [kod]  \\\ntimestamp                                                         \n2020-01-01 00:00:00                  8.0                    NaN   \n2020-01-01 01:00:00                  8.0                    NaN   \n2020-01-01 02:00:00                  8.0                    NaN   \n2020-01-01 03:00:00                  8.0                    NaN   \n2020-01-01 04:00:00                  8.0                    NaN   \n...                                  ...                    ...   \n2022-12-31 19:00:00                  8.0                    NaN   \n2022-12-31 20:00:00                  8.0                    NaN   \n2022-12-31 21:00:00                  8.0                    NaN   \n2022-12-31 22:00:00                  8.0                    NaN   \n2022-12-31 23:00:00                  8.0                    NaN   \n\n                     Ukształtowanie pokrywy [kod]  Wysokość próbki [cm]  \\\ntimestamp                                                                 \n2020-01-01 00:00:00                           NaN                     0   \n2020-01-01 01:00:00                           NaN                     0   \n2020-01-01 02:00:00                           NaN                     0   \n2020-01-01 03:00:00                           NaN                     0   \n2020-01-01 04:00:00                           NaN                     0   \n...                                           ...                   ...   \n2022-12-31 19:00:00                           NaN                     0   \n2022-12-31 20:00:00                           NaN                     0   \n2022-12-31 21:00:00                           NaN                     0   \n2022-12-31 22:00:00                           NaN                     0   \n2022-12-31 23:00:00                           NaN                     0   \n\n                     Status pomiaru HPRO  Ciężar próbki [g]  \\\ntimestamp                                                     \n2020-01-01 00:00:00                  8.0                  0   \n2020-01-01 01:00:00                  8.0                  0   \n2020-01-01 02:00:00                  8.0                  0   \n2020-01-01 03:00:00                  8.0                  0   \n2020-01-01 04:00:00                  8.0                  0   \n...                                  ...                ...   \n2022-12-31 19:00:00                  8.0                  0   \n2022-12-31 20:00:00                  8.0                  0   \n2022-12-31 21:00:00                  8.0                  0   \n2022-12-31 22:00:00                  8.0                  0   \n2022-12-31 23:00:00                  8.0                  0   \n\n                     Status pomiaru CIPR  \ntimestamp                                 \n2020-01-01 00:00:00                  8.0  \n2020-01-01 01:00:00                  8.0  \n2020-01-01 02:00:00                  8.0  \n2020-01-01 03:00:00                  8.0  \n2020-01-01 04:00:00                  8.0  \n...                                  ...  \n2022-12-31 19:00:00                  8.0  \n2022-12-31 20:00:00                  8.0  \n2022-12-31 21:00:00                  8.0  \n2022-12-31 22:00:00                  8.0  \n2022-12-31 23:00:00                  8.0  \n\n[26304 rows x 101 columns]",
      "text/html": "<div>\n<style scoped>\n    .dataframe tbody tr th:only-of-type {\n        vertical-align: middle;\n    }\n\n    .dataframe tbody tr th {\n        vertical-align: top;\n    }\n\n    .dataframe thead th {\n        text-align: right;\n    }\n</style>\n<table border=\"1\" class=\"dataframe\">\n  <thead>\n    <tr style=\"text-align: right;\">\n      <th></th>\n      <th>Wysokość podstawy chmur CL CM szyfrowana [kod]</th>\n      <th>Status pomiaru HPOD</th>\n      <th>Wysokość podstawy niższej  [m]</th>\n      <th>Status pomiaru HPON</th>\n      <th>Wysokość podstawy wyższej [m]</th>\n      <th>Status pomiaru HPOW</th>\n      <th>Wysokość podstawy tekstowy [opis]</th>\n      <th>Pomiar przyrzadem 1 (niższa) [P]</th>\n      <th>Pomiar przyrzadem 2 (wyższa) [P]</th>\n      <th>Widzialność  [kod]</th>\n      <th>...</th>\n      <th>Wysokość świeżo spadłego śniegu  [cm]</th>\n      <th>Status pomiaru HSS</th>\n      <th>Wysokość śniegu na poletku [cm]</th>\n      <th>Status pomiaru GRSN</th>\n      <th>Gatunek śniegu  [kod]</th>\n      <th>Ukształtowanie pokrywy [kod]</th>\n      <th>Wysokość próbki [cm]</th>\n      <th>Status pomiaru HPRO</th>\n      <th>Ciężar próbki [g]</th>\n      <th>Status pomiaru CIPR</th>\n    </tr>\n    <tr>\n      <th>timestamp</th>\n      <th></th>\n      <th></th>\n      <th></th>\n      <th></th>\n      <th></th>\n      <th></th>\n      <th></th>\n      <th></th>\n      <th></th>\n      <th></th>\n      <th></th>\n      <th></th>\n      <th></th>\n      <th></th>\n      <th></th>\n      <th></th>\n      <th></th>\n      <th></th>\n      <th></th>\n      <th></th>\n      <th></th>\n    </tr>\n  </thead>\n  <tbody>\n    <tr>\n      <th>2020-01-01 00:00:00</th>\n      <td>5</td>\n      <td>NaN</td>\n      <td>700</td>\n      <td>NaN</td>\n      <td>1000</td>\n      <td>NaN</td>\n      <td>700/1000</td>\n      <td>NaN</td>\n      <td>NaN</td>\n      <td>8</td>\n      <td>...</td>\n      <td>0</td>\n      <td>8.0</td>\n      <td>0</td>\n      <td>8.0</td>\n      <td>NaN</td>\n      <td>NaN</td>\n      <td>0</td>\n      <td>8.0</td>\n      <td>0</td>\n      <td>8.0</td>\n    </tr>\n    <tr>\n      <th>2020-01-01 01:00:00</th>\n      <td>5</td>\n      <td>NaN</td>\n      <td>700</td>\n      <td>NaN</td>\n      <td>1000</td>\n      <td>NaN</td>\n      <td>700/1000</td>\n      <td>NaN</td>\n      <td>NaN</td>\n      <td>8</td>\n      <td>...</td>\n      <td>0</td>\n      <td>8.0</td>\n      <td>0</td>\n      <td>8.0</td>\n      <td>NaN</td>\n      <td>NaN</td>\n      <td>0</td>\n      <td>8.0</td>\n      <td>0</td>\n      <td>8.0</td>\n    </tr>\n    <tr>\n      <th>2020-01-01 02:00:00</th>\n      <td>5</td>\n      <td>NaN</td>\n      <td>900</td>\n      <td>NaN</td>\n      <td>0</td>\n      <td>8.0</td>\n      <td>900</td>\n      <td>NaN</td>\n      <td>NaN</td>\n      <td>8</td>\n      <td>...</td>\n      <td>0</td>\n      <td>8.0</td>\n      <td>0</td>\n      <td>8.0</td>\n      <td>NaN</td>\n      <td>NaN</td>\n      <td>0</td>\n      <td>8.0</td>\n      <td>0</td>\n      <td>8.0</td>\n    </tr>\n    <tr>\n      <th>2020-01-01 03:00:00</th>\n      <td>5</td>\n      <td>NaN</td>\n      <td>700</td>\n      <td>NaN</td>\n      <td>1000</td>\n      <td>NaN</td>\n      <td>700/1000</td>\n      <td>NaN</td>\n      <td>NaN</td>\n      <td>8</td>\n      <td>...</td>\n      <td>0</td>\n      <td>8.0</td>\n      <td>0</td>\n      <td>8.0</td>\n      <td>NaN</td>\n      <td>NaN</td>\n      <td>0</td>\n      <td>8.0</td>\n      <td>0</td>\n      <td>8.0</td>\n    </tr>\n    <tr>\n      <th>2020-01-01 04:00:00</th>\n      <td>5</td>\n      <td>NaN</td>\n      <td>700</td>\n      <td>NaN</td>\n      <td>1000</td>\n      <td>NaN</td>\n      <td>700/1000</td>\n      <td>NaN</td>\n      <td>NaN</td>\n      <td>8</td>\n      <td>...</td>\n      <td>0</td>\n      <td>8.0</td>\n      <td>0</td>\n      <td>8.0</td>\n      <td>NaN</td>\n      <td>NaN</td>\n      <td>0</td>\n      <td>8.0</td>\n      <td>0</td>\n      <td>8.0</td>\n    </tr>\n    <tr>\n      <th>...</th>\n      <td>...</td>\n      <td>...</td>\n      <td>...</td>\n      <td>...</td>\n      <td>...</td>\n      <td>...</td>\n      <td>...</td>\n      <td>...</td>\n      <td>...</td>\n      <td>...</td>\n      <td>...</td>\n      <td>...</td>\n      <td>...</td>\n      <td>...</td>\n      <td>...</td>\n      <td>...</td>\n      <td>...</td>\n      <td>...</td>\n      <td>...</td>\n      <td>...</td>\n      <td>...</td>\n    </tr>\n    <tr>\n      <th>2022-12-31 19:00:00</th>\n      <td>9</td>\n      <td>NaN</td>\n      <td>0</td>\n      <td>8.0</td>\n      <td>0</td>\n      <td>8.0</td>\n      <td>&gt;2500</td>\n      <td>NaN</td>\n      <td>NaN</td>\n      <td>8</td>\n      <td>...</td>\n      <td>0</td>\n      <td>8.0</td>\n      <td>0</td>\n      <td>8.0</td>\n      <td>NaN</td>\n      <td>NaN</td>\n      <td>0</td>\n      <td>8.0</td>\n      <td>0</td>\n      <td>8.0</td>\n    </tr>\n    <tr>\n      <th>2022-12-31 20:00:00</th>\n      <td>9</td>\n      <td>NaN</td>\n      <td>0</td>\n      <td>8.0</td>\n      <td>0</td>\n      <td>8.0</td>\n      <td>&gt;2500</td>\n      <td>NaN</td>\n      <td>NaN</td>\n      <td>8</td>\n      <td>...</td>\n      <td>0</td>\n      <td>8.0</td>\n      <td>0</td>\n      <td>8.0</td>\n      <td>NaN</td>\n      <td>NaN</td>\n      <td>0</td>\n      <td>8.0</td>\n      <td>0</td>\n      <td>8.0</td>\n    </tr>\n    <tr>\n      <th>2022-12-31 21:00:00</th>\n      <td>9</td>\n      <td>NaN</td>\n      <td>0</td>\n      <td>8.0</td>\n      <td>0</td>\n      <td>8.0</td>\n      <td>&gt;2500</td>\n      <td>NaN</td>\n      <td>NaN</td>\n      <td>8</td>\n      <td>...</td>\n      <td>0</td>\n      <td>8.0</td>\n      <td>0</td>\n      <td>8.0</td>\n      <td>NaN</td>\n      <td>NaN</td>\n      <td>0</td>\n      <td>8.0</td>\n      <td>0</td>\n      <td>8.0</td>\n    </tr>\n    <tr>\n      <th>2022-12-31 22:00:00</th>\n      <td>9</td>\n      <td>NaN</td>\n      <td>0</td>\n      <td>8.0</td>\n      <td>0</td>\n      <td>8.0</td>\n      <td>&gt;2500</td>\n      <td>NaN</td>\n      <td>NaN</td>\n      <td>8</td>\n      <td>...</td>\n      <td>0</td>\n      <td>8.0</td>\n      <td>0</td>\n      <td>8.0</td>\n      <td>NaN</td>\n      <td>NaN</td>\n      <td>0</td>\n      <td>8.0</td>\n      <td>0</td>\n      <td>8.0</td>\n    </tr>\n    <tr>\n      <th>2022-12-31 23:00:00</th>\n      <td>9</td>\n      <td>NaN</td>\n      <td>0</td>\n      <td>8.0</td>\n      <td>0</td>\n      <td>8.0</td>\n      <td>&gt;2500</td>\n      <td>NaN</td>\n      <td>NaN</td>\n      <td>8</td>\n      <td>...</td>\n      <td>0</td>\n      <td>8.0</td>\n      <td>0</td>\n      <td>8.0</td>\n      <td>NaN</td>\n      <td>NaN</td>\n      <td>0</td>\n      <td>8.0</td>\n      <td>0</td>\n      <td>8.0</td>\n    </tr>\n  </tbody>\n</table>\n<p>26304 rows × 101 columns</p>\n</div>"
     },
     "execution_count": 5,
     "metadata": {},
     "output_type": "execute_result"
    }
   ],
   "source": [
    "merged_data.drop(columns=['Kod stacji', 'Nazwa stacji', 'Rok', 'Miesiąc', 'Dzień', 'Godzina'], inplace=True)\n",
    "merged_data"
   ],
   "metadata": {
    "collapsed": false,
    "ExecuteTime": {
     "end_time": "2023-10-15T21:20:02.677140800Z",
     "start_time": "2023-10-15T21:20:02.422211100Z"
    }
   },
   "id": "9cd41fb9cacf212f"
  },
  {
   "cell_type": "markdown",
   "source": [
    "# INFO about future steps\n",
    "\n",
    "--- POLISH NOTES ---\n",
    "Wysokość podstawy chmur CL CM szyfrowana [kod]  - OK\n",
    "Status pomiaru HPOD                             - do wyrzucenia (dane są ok)\n",
    "\n",
    "Wysokość podstawy niższej  [m]                  - OK \n",
    "Status pomiaru HPON                             - do wyrzucenia (dane są ok)  Są STATUSY 8 czyli brak pomiaru uzupełnione 0 DO ZASTANOWIENIA CO Z TYM ZROBIĆ\n",
    "\n",
    "Wysokość podstawy wyższej [m]                   - OK\n",
    "Status pomiaru HPOW                             - do wyrzucenia (dane są ok)  Są STATUSY 8 czyli brak pomiaru uzupełnione 0 DO ZASTANOWIENIA CO Z TYM ZROBIĆ\n",
    "\n",
    "Wysokość podstawy tekstowy [opis]               - ! tekstowy opis w ułampu poprzednich parametrów (można wyrzucić, choć do rozważenia, czy nie stosowac wysokości chmur jako jeden parametr)\n",
    "\n",
    "Pomiar przyrzadem 1 (niższa) [P]                - ! (wartości albo P, albo BLANK - nie wiem co z tym zrobić więc na razie wyrzucę)\n",
    "\n",
    "Pomiar przyrzadem 2 (wyższa) [P]                - ! (wartości albo P, albo BLANK - nie wiem co z tym zrobić więc na razie wyrzucę)\n",
    "\n",
    "Widzialność  [kod]                              - OK\n",
    "Status pomiaru WID                              - do wyrzucenia (dane są OK)\n",
    "\n",
    "Widzialność operatora [m]                       - OK\n",
    "Status pomiaru WIDO                             - do wyrzucenia (dane są OK)\n",
    "\n",
    "Widzialność automat [m]                         - do wyrzucenia (same 0, coś jest zepsuje z tym pomiarem)\n",
    "Status pomiaru WIDA                             - do wyrzucenia (dane nieprzydatne)\n",
    "\n",
    "Zachmurzenie ogólne [oktanty]                   - OK\n",
    "Status pomiaru NOG                              - do wyrzucenia (dane są OK)\n",
    "\n",
    "Kierunek wiatru  [°]                            - OK\n",
    "Status pomiaru KRWR                             - do wyrzucenia (dane są OK)\n",
    "\n",
    "Prędkość wiatru  [m/s]                          - OK\n",
    "Status pomiaru FWR                              - do wyrzucenia (dane są OK)\n",
    "\n",
    "Poryw wiatru  [m/s]                             - OK\n",
    "Status pomiaru PORW                             - do wyrzucenia (dane są OK)\n",
    "\n",
    "Temperatura powietrza [°C]/1                    - OK\n",
    "Status pomiaru TEMP                             - do wyrzucenia (dane są OK)\n",
    "\n",
    "Temperatura termometru zwilżonego [°C]          - do wyrzucenia (same 8 - BRAKI POMIAROW)\n",
    "Status pomiaru TTZW                             - do wyrzucenia (dane nieprzydatne)\n",
    "\n",
    "Wskaźnik wentylacji [W/N]                       - do wyrzucenia (same wartości \"U\")\n",
    "\n",
    "Wskaźnik lodu       [L/W]                       - do wyrzucenia (same BLANKI)\n",
    "\n",
    "Ciśnienie pary wodnej [hPa]                     - OK\n",
    "Status pomiaru CPW                              - do wyrzucenia (dane są OK)\n",
    "\n",
    "Wilgotność względna [%]                         - OK\n",
    "Status pomiaru WLGW                             - do wyrzucenia (dane są OK)\n",
    "\n",
    "Temperatura punktu rosy [°C]                    - OK\n",
    "Status pomiaru TPTR                             - do wyrzucenia (dane są OK)\n",
    "\n",
    "Ciśnienie na pozimie stacji [hPa]               - OK\n",
    "Status pomiaru PPPS                             - do wyrzucenia (dane są OK)\n",
    "\n",
    "Ciśnienie na pozimie morza [hPa]                - OK\n",
    "Status pomiaru PPPM                             - do wyrzucenia (dane są OK)\n",
    "\n",
    "Charakterystyka tendencji [kod]                 - OK\n",
    "\n",
    "Wartość tendencji [wartość]                     - OK\n",
    "Status pomiaru APP                              - do wyrzucenia (dane są OK)\n",
    "\n",
    "Opad za 6 godzin [mm]                           - OK ale uwaga bo są tutaj 8 i 9\n",
    "Status pomiaru WO6G                             - UWAGA SĄ BRAKI POMIARÓW UZUPEŁNIONE \"8\"\n",
    "\n",
    "Rodzaj opadu za 6 godzin [kod]                  - OK ale uwaga bo są tutaj 8 i 9\n",
    "Status pomiaru ROPT                             - UWAGA SĄ BRAKI POMIARÓW UZUPEŁNIONE \"8\"\n",
    "\n",
    "Pogoda bieżąca [kod]                            - OK\n",
    "\n",
    "Pogoda ubiegła [kod]                            - OK\n",
    "\n",
    "Zachmurzenie niskie [oktanty]                   - OK\n",
    "Status pomiaru CLCM                             - do wyrzucenia (dane są OK)\n",
    "\n",
    "Chmury CL [kod]                                 - ! OK, ale trzeba zastąpić dane \"/\" na coś innego\n",
    "Status pomiaru CHCL                             - do wyrzucenia (dane są PRAWIE OK)\n",
    "\n",
    "Chmury CL tekstem                               - do wyrzucenia (dane tekstowe)\n",
    "\n",
    "Chmury CM [kod]                                 - ! OK, ale trzeba zastąpić dane \"/\" na coś innego\n",
    "Status pomiaru CHCM                             - do wyrzucenia (dane są PRAWIE OK)\n",
    "\n",
    "Chmury CM tekstem                               - do wyrzucenia (dane tekstowe)\n",
    "\n",
    "Chmury CH [kod]                                 - ! OK, ale trzeba zastąpić dane \"/\" na coś innego\n",
    "Status pomiaru CHCH                             - do wyrzucenia (dane są PRAWIE OK)\n",
    "\n",
    "Chmury CH tekstem                               - do wyrzucenia (dane tekstowe)\n",
    "\n",
    "Stan gruntu [kod]                               - OK\n",
    "Status pomiaru SGRN                             - do wyrzucenia (dane są OK)\n",
    "\n",
    "Niedosyt wilgotności [hPa]                      - OK\n",
    "Status pomiaru DEFI                             - do wyrzucenia (dane są OK)\n",
    "\n",
    "Usłonecznienie                                  - do wyrzucenia (SAME \"8\")\n",
    "Status pomiaru USLN                             - do wyrzucenia (SAME 8)\n",
    "\n",
    "Wystąpienie rosy [0/1]                          - OK\n",
    "Status pomiaru ROSW                             - do wyrzucenia (dane są OK)\n",
    "\n",
    "Poryw maksymalny za okres WW [m/s]              - OK\n",
    "Status pomiaru PORK                             - do wyrzucenia (dane są OK)\n",
    "\n",
    "Godzina wystąpienia porywu                      - do wyrzucenia (nieistotne dane)\n",
    "\n",
    "Minuta wystąpienia porywu                       - do wyrzucenia (nieistotne dane)\n",
    "\n",
    "Temperatura gruntu -5 [°C]                      - do wyrzucenia (SAME \"8\")\n",
    "Status pomiaru TG05                             - do wyrzucenia (SAME \"8\")\n",
    "\n",
    "Temperatura gruntu -10 [°C]                     - do wyrzucenia (SAME \"8\")\n",
    "Status pomiaru TG10                             - do wyrzucenia (SAME \"8\")\n",
    "\n",
    "Temperatura gruntu -20 [°C]                     - do wyrzucenia (SAME \"8\")\n",
    "Status pomiaru TG20                             - do wyrzucenia (SAME \"8\")\n",
    "\n",
    "Temperatura gruntu -50 [°C]                     - do wyrzucenia (SAME \"8\")\n",
    "Status pomiaru TG50                             - do wyrzucenia (SAME \"8\")\n",
    "\n",
    "Temperatura gruntu -100 [°C]                    - do wyrzucenia (SAME \"8\")\n",
    "Status pomiaru TG100                            - do wyrzucenia (SAME \"8\")\n",
    "\n",
    "Temperatura minimalna za 12 godzin  [°C]        - OK (trzeba usunąć BRAKI POMIARÓW)\n",
    "Status pomiaru TMIN                             - do wyrzucenia po obrobieniu danych\n",
    "\n",
    "Temperatura maksymalna za 12 godzin [°C]        - OK (trzeba usunąć BRAKI POMIARÓW)\n",
    "Status pomiaru TMAX                             - do wyrzucenia po obrobieniu danych\n",
    "\n",
    "Temperatura minimalna przy gruncie za 12 godzin [°C]  - OK (trzeba usunąć BRAKI POMIARÓW)\n",
    "Status pomiaru TGMI                                   - do wyrzucenia po obrobieniu danych\n",
    "\n",
    "Równoważnik wodny śniegu [mm/cm]                - OK (trzeba usunąć BRAKI POMIARÓW)\n",
    "Status pomiaru RWSN                             - do wyrzucenia po obrobieniu danych\n",
    "\n",
    "Wysokość pokrywy śnieżnej [cm]                  - OK (trzeba usunąć BRAKI POMIARÓW + są jakeiś smieci czyli pomiary '999' czy '998' co jest niemożliwe)\n",
    "Status pomiaru PKSN                             - do wyrzucenia po obrobieniu danych\n",
    "\n",
    "Wysokość świeżo spadłego śniegu [cm]            - OK (trzeba usunąć BRAKI POMIARÓW + są jakeiś smieci czyli pomiary '999' czy '998' co jest niemożliwe)\n",
    "Status pomiaru HSS                              - do wyrzucenia po obrobieniu danych\n",
    "\n",
    "Wysokość śniegu na poletku [cm]                 - OK (trzeba usunąć BRAKI POMIARÓW + są jakeiś smieci czyli pomiary '999' czy '998' co jest niemożliwe)\n",
    "Status pomiaru GRSN                             - do wyrzucenia po obrobieniu danych\n",
    "\n",
    "Gatunek śniegu  [kod]                           - OK (trzeba usunąć jakieś kropki wartość \".\")\n",
    "\n",
    "Ukształtowanie pokrywy [kod]                    - OK (trzeba usunąć jakieś kropki wartość \".\")\n",
    "\n",
    "Wysokość próbki [cm]                            - OK (trzeba usunąć BRAKI POMIARÓW)\n",
    "Status pomiaru HPRO                             - do wyrzucenia po obrobieniu danych\n",
    "\n",
    "Ciężar próbki [g]                               - OK (trzeba usunąć BRAKI POMIARÓW)\n",
    "Status pomiaru CIPR                             - do wyrzucenia po obrobieniu danych\n"
   ],
   "metadata": {
    "collapsed": false
   },
   "id": "a7cbcd328d73a01b"
  },
  {
   "cell_type": "code",
   "execution_count": 8,
   "outputs": [],
   "source": [
    "# TODO: get rain data from another source!!!!!!!!!!!\n",
    "# TODO: get data about sun !!!!!!!!"
   ],
   "metadata": {
    "collapsed": false,
    "ExecuteTime": {
     "end_time": "2023-10-15T22:31:26.191488800Z",
     "start_time": "2023-10-15T22:31:26.181844400Z"
    }
   },
   "id": "be943ec95b8f013b"
  },
  {
   "cell_type": "code",
   "execution_count": null,
   "outputs": [],
   "source": [],
   "metadata": {
    "collapsed": false
   },
   "id": "c7d1a6d0271d8ddf"
  }
 ],
 "metadata": {
  "kernelspec": {
   "display_name": "Python 3",
   "language": "python",
   "name": "python3"
  },
  "language_info": {
   "codemirror_mode": {
    "name": "ipython",
    "version": 2
   },
   "file_extension": ".py",
   "mimetype": "text/x-python",
   "name": "python",
   "nbconvert_exporter": "python",
   "pygments_lexer": "ipython2",
   "version": "2.7.6"
  }
 },
 "nbformat": 4,
 "nbformat_minor": 5
}
