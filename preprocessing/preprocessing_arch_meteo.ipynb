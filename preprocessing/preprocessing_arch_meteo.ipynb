{
 "cells": [
  {
   "cell_type": "code",
   "execution_count": 46,
   "id": "initial_id",
   "metadata": {
    "collapsed": true,
    "ExecuteTime": {
     "end_time": "2023-09-20T00:20:48.868041500Z",
     "start_time": "2023-09-20T00:20:48.808137800Z"
    }
   },
   "outputs": [],
   "source": [
    "import pandas as pd\n",
    "import numpy as np"
   ]
  },
  {
   "cell_type": "code",
   "execution_count": 47,
   "outputs": [],
   "source": [
    "description = pd.read_csv('dane_archiwalne_meteo/kody_parametr.csv', encoding='cp1250', delimiter=';')\n",
    "geo_loc = pd.read_csv('dane_archiwalne_meteo/kody_stacji.csv', encoding='cp1250', delimiter=';')"
   ],
   "metadata": {
    "collapsed": false,
    "ExecuteTime": {
     "end_time": "2023-09-20T00:20:48.970367Z",
     "start_time": "2023-09-20T00:20:48.812155800Z"
    }
   },
   "id": "a79d6fc14035611a"
  },
  {
   "cell_type": "code",
   "execution_count": 48,
   "outputs": [
    {
     "data": {
      "text/plain": "        Kod                                              Nazwa\n0   B00300S                  Temperatura powietrza (oficjalna)\n1   B00305A                       Temperatura gruntu (czujnik)\n2   B00202A                          Kierunek wiatru (czujnik)\n3   B00702A           Średnia prędkość wiatru czujnik 10 minut\n4   B00703A                      Prędkość maksymalna (czujnik)\n8   B00802A            Wilgotność względna powietrza (czujnik)\n9   B00714A  Największy poryw w okresie 10min ze stacji Syn...\n10  B00910A                   Zapas wody w śniegu (obserwator)",
      "text/html": "<div>\n<style scoped>\n    .dataframe tbody tr th:only-of-type {\n        vertical-align: middle;\n    }\n\n    .dataframe tbody tr th {\n        vertical-align: top;\n    }\n\n    .dataframe thead th {\n        text-align: right;\n    }\n</style>\n<table border=\"1\" class=\"dataframe\">\n  <thead>\n    <tr style=\"text-align: right;\">\n      <th></th>\n      <th>Kod</th>\n      <th>Nazwa</th>\n    </tr>\n  </thead>\n  <tbody>\n    <tr>\n      <th>0</th>\n      <td>B00300S</td>\n      <td>Temperatura powietrza (oficjalna)</td>\n    </tr>\n    <tr>\n      <th>1</th>\n      <td>B00305A</td>\n      <td>Temperatura gruntu (czujnik)</td>\n    </tr>\n    <tr>\n      <th>2</th>\n      <td>B00202A</td>\n      <td>Kierunek wiatru (czujnik)</td>\n    </tr>\n    <tr>\n      <th>3</th>\n      <td>B00702A</td>\n      <td>Średnia prędkość wiatru czujnik 10 minut</td>\n    </tr>\n    <tr>\n      <th>4</th>\n      <td>B00703A</td>\n      <td>Prędkość maksymalna (czujnik)</td>\n    </tr>\n    <tr>\n      <th>8</th>\n      <td>B00802A</td>\n      <td>Wilgotność względna powietrza (czujnik)</td>\n    </tr>\n    <tr>\n      <th>9</th>\n      <td>B00714A</td>\n      <td>Największy poryw w okresie 10min ze stacji Syn...</td>\n    </tr>\n    <tr>\n      <th>10</th>\n      <td>B00910A</td>\n      <td>Zapas wody w śniegu (obserwator)</td>\n    </tr>\n  </tbody>\n</table>\n</div>"
     },
     "execution_count": 48,
     "metadata": {},
     "output_type": "execute_result"
    }
   ],
   "source": [
    "description.drop([5, 6, 7], inplace=True)  # rain is taken in another source\n",
    "description"
   ],
   "metadata": {
    "collapsed": false,
    "ExecuteTime": {
     "end_time": "2023-09-20T00:20:48.970367Z",
     "start_time": "2023-09-20T00:20:48.832569800Z"
    }
   },
   "id": "1fa59e2844aa22cd"
  },
  {
   "cell_type": "code",
   "execution_count": 49,
   "outputs": [
    {
     "data": {
      "text/plain": "          ID           Nazwa Szerokość geograficzna Długość geograficzna  \\\n0  250180590  RYBNIK-STODOŁY               50 09 16             18 28 59   \n1  254140010         DZIWNÓW               54 01 20             14 43 54   \n2  250160530       ZIELENIEC               50 19 48             16 23 39   \n3  250160630     MIĘDZYGÓRZE               50 13 06             16 46 23   \n4  250160650     MIĘDZYLESIE               50 09 12             16 40 15   \n\n  Wysokość n.p.m.  \n0             216  \n1               7  \n2             840  \n3             800  \n4             453  ",
      "text/html": "<div>\n<style scoped>\n    .dataframe tbody tr th:only-of-type {\n        vertical-align: middle;\n    }\n\n    .dataframe tbody tr th {\n        vertical-align: top;\n    }\n\n    .dataframe thead th {\n        text-align: right;\n    }\n</style>\n<table border=\"1\" class=\"dataframe\">\n  <thead>\n    <tr style=\"text-align: right;\">\n      <th></th>\n      <th>ID</th>\n      <th>Nazwa</th>\n      <th>Szerokość geograficzna</th>\n      <th>Długość geograficzna</th>\n      <th>Wysokość n.p.m.</th>\n    </tr>\n  </thead>\n  <tbody>\n    <tr>\n      <th>0</th>\n      <td>250180590</td>\n      <td>RYBNIK-STODOŁY</td>\n      <td>50 09 16</td>\n      <td>18 28 59</td>\n      <td>216</td>\n    </tr>\n    <tr>\n      <th>1</th>\n      <td>254140010</td>\n      <td>DZIWNÓW</td>\n      <td>54 01 20</td>\n      <td>14 43 54</td>\n      <td>7</td>\n    </tr>\n    <tr>\n      <th>2</th>\n      <td>250160530</td>\n      <td>ZIELENIEC</td>\n      <td>50 19 48</td>\n      <td>16 23 39</td>\n      <td>840</td>\n    </tr>\n    <tr>\n      <th>3</th>\n      <td>250160630</td>\n      <td>MIĘDZYGÓRZE</td>\n      <td>50 13 06</td>\n      <td>16 46 23</td>\n      <td>800</td>\n    </tr>\n    <tr>\n      <th>4</th>\n      <td>250160650</td>\n      <td>MIĘDZYLESIE</td>\n      <td>50 09 12</td>\n      <td>16 40 15</td>\n      <td>453</td>\n    </tr>\n  </tbody>\n</table>\n</div>"
     },
     "execution_count": 49,
     "metadata": {},
     "output_type": "execute_result"
    }
   ],
   "source": [
    "geo_loc = geo_loc[['ID', 'Nazwa', 'Szerokość geograficzna', 'Długość geograficzna', 'Wysokość n.p.m.']]\n",
    "geo_loc.head()"
   ],
   "metadata": {
    "collapsed": false,
    "ExecuteTime": {
     "end_time": "2023-09-20T00:20:48.974365100Z",
     "start_time": "2023-09-20T00:20:48.847826600Z"
    }
   },
   "id": "fc2d22b393e91630"
  },
  {
   "cell_type": "code",
   "execution_count": 49,
   "outputs": [],
   "source": [],
   "metadata": {
    "collapsed": false,
    "ExecuteTime": {
     "end_time": "2023-09-20T00:20:48.974365100Z",
     "start_time": "2023-09-20T00:20:48.874632100Z"
    }
   },
   "id": "7ec21f64ed4b769c"
  },
  {
   "cell_type": "code",
   "execution_count": 50,
   "outputs": [
    {
     "data": {
      "text/plain": "DatetimeIndex(['2022-01-01 00:00:00', '2022-01-01 00:10:00',\n               '2022-01-01 00:20:00', '2022-01-01 00:30:00',\n               '2022-01-01 00:40:00', '2022-01-01 00:50:00',\n               '2022-01-01 01:00:00', '2022-01-01 01:10:00',\n               '2022-01-01 01:20:00', '2022-01-01 01:30:00',\n               ...\n               '2022-12-31 22:30:00', '2022-12-31 22:40:00',\n               '2022-12-31 22:50:00', '2022-12-31 23:00:00',\n               '2022-12-31 23:10:00', '2022-12-31 23:20:00',\n               '2022-12-31 23:30:00', '2022-12-31 23:40:00',\n               '2022-12-31 23:50:00', '2023-01-01 00:00:00'],\n              dtype='datetime64[ns]', length=52561, freq='10T')"
     },
     "execution_count": 50,
     "metadata": {},
     "output_type": "execute_result"
    }
   ],
   "source": [
    "dti = pd.date_range('2022-01-01', '2023-01-01', freq='10min')\n",
    "dti"
   ],
   "metadata": {
    "collapsed": false,
    "ExecuteTime": {
     "end_time": "2023-09-20T00:20:48.974365100Z",
     "start_time": "2023-09-20T00:20:48.874632100Z"
    }
   },
   "id": "6d03a77cf39299c9"
  },
  {
   "cell_type": "code",
   "execution_count": 51,
   "outputs": [
    {
     "data": {
      "text/plain": "                    B00300S B00305A B00202A B00702A B00703A B00802A B00714A  \\\n2022-01-01 00:00:00     NaN     NaN     NaN     NaN     NaN     NaN     NaN   \n2022-01-01 00:10:00     NaN     NaN     NaN     NaN     NaN     NaN     NaN   \n2022-01-01 00:20:00     NaN     NaN     NaN     NaN     NaN     NaN     NaN   \n2022-01-01 00:30:00     NaN     NaN     NaN     NaN     NaN     NaN     NaN   \n2022-01-01 00:40:00     NaN     NaN     NaN     NaN     NaN     NaN     NaN   \n...                     ...     ...     ...     ...     ...     ...     ...   \n2022-12-31 23:20:00     NaN     NaN     NaN     NaN     NaN     NaN     NaN   \n2022-12-31 23:30:00     NaN     NaN     NaN     NaN     NaN     NaN     NaN   \n2022-12-31 23:40:00     NaN     NaN     NaN     NaN     NaN     NaN     NaN   \n2022-12-31 23:50:00     NaN     NaN     NaN     NaN     NaN     NaN     NaN   \n2023-01-01 00:00:00     NaN     NaN     NaN     NaN     NaN     NaN     NaN   \n\n                    B00910A  \n2022-01-01 00:00:00     NaN  \n2022-01-01 00:10:00     NaN  \n2022-01-01 00:20:00     NaN  \n2022-01-01 00:30:00     NaN  \n2022-01-01 00:40:00     NaN  \n...                     ...  \n2022-12-31 23:20:00     NaN  \n2022-12-31 23:30:00     NaN  \n2022-12-31 23:40:00     NaN  \n2022-12-31 23:50:00     NaN  \n2023-01-01 00:00:00     NaN  \n\n[52561 rows x 8 columns]",
      "text/html": "<div>\n<style scoped>\n    .dataframe tbody tr th:only-of-type {\n        vertical-align: middle;\n    }\n\n    .dataframe tbody tr th {\n        vertical-align: top;\n    }\n\n    .dataframe thead th {\n        text-align: right;\n    }\n</style>\n<table border=\"1\" class=\"dataframe\">\n  <thead>\n    <tr style=\"text-align: right;\">\n      <th></th>\n      <th>B00300S</th>\n      <th>B00305A</th>\n      <th>B00202A</th>\n      <th>B00702A</th>\n      <th>B00703A</th>\n      <th>B00802A</th>\n      <th>B00714A</th>\n      <th>B00910A</th>\n    </tr>\n  </thead>\n  <tbody>\n    <tr>\n      <th>2022-01-01 00:00:00</th>\n      <td>NaN</td>\n      <td>NaN</td>\n      <td>NaN</td>\n      <td>NaN</td>\n      <td>NaN</td>\n      <td>NaN</td>\n      <td>NaN</td>\n      <td>NaN</td>\n    </tr>\n    <tr>\n      <th>2022-01-01 00:10:00</th>\n      <td>NaN</td>\n      <td>NaN</td>\n      <td>NaN</td>\n      <td>NaN</td>\n      <td>NaN</td>\n      <td>NaN</td>\n      <td>NaN</td>\n      <td>NaN</td>\n    </tr>\n    <tr>\n      <th>2022-01-01 00:20:00</th>\n      <td>NaN</td>\n      <td>NaN</td>\n      <td>NaN</td>\n      <td>NaN</td>\n      <td>NaN</td>\n      <td>NaN</td>\n      <td>NaN</td>\n      <td>NaN</td>\n    </tr>\n    <tr>\n      <th>2022-01-01 00:30:00</th>\n      <td>NaN</td>\n      <td>NaN</td>\n      <td>NaN</td>\n      <td>NaN</td>\n      <td>NaN</td>\n      <td>NaN</td>\n      <td>NaN</td>\n      <td>NaN</td>\n    </tr>\n    <tr>\n      <th>2022-01-01 00:40:00</th>\n      <td>NaN</td>\n      <td>NaN</td>\n      <td>NaN</td>\n      <td>NaN</td>\n      <td>NaN</td>\n      <td>NaN</td>\n      <td>NaN</td>\n      <td>NaN</td>\n    </tr>\n    <tr>\n      <th>...</th>\n      <td>...</td>\n      <td>...</td>\n      <td>...</td>\n      <td>...</td>\n      <td>...</td>\n      <td>...</td>\n      <td>...</td>\n      <td>...</td>\n    </tr>\n    <tr>\n      <th>2022-12-31 23:20:00</th>\n      <td>NaN</td>\n      <td>NaN</td>\n      <td>NaN</td>\n      <td>NaN</td>\n      <td>NaN</td>\n      <td>NaN</td>\n      <td>NaN</td>\n      <td>NaN</td>\n    </tr>\n    <tr>\n      <th>2022-12-31 23:30:00</th>\n      <td>NaN</td>\n      <td>NaN</td>\n      <td>NaN</td>\n      <td>NaN</td>\n      <td>NaN</td>\n      <td>NaN</td>\n      <td>NaN</td>\n      <td>NaN</td>\n    </tr>\n    <tr>\n      <th>2022-12-31 23:40:00</th>\n      <td>NaN</td>\n      <td>NaN</td>\n      <td>NaN</td>\n      <td>NaN</td>\n      <td>NaN</td>\n      <td>NaN</td>\n      <td>NaN</td>\n      <td>NaN</td>\n    </tr>\n    <tr>\n      <th>2022-12-31 23:50:00</th>\n      <td>NaN</td>\n      <td>NaN</td>\n      <td>NaN</td>\n      <td>NaN</td>\n      <td>NaN</td>\n      <td>NaN</td>\n      <td>NaN</td>\n      <td>NaN</td>\n    </tr>\n    <tr>\n      <th>2023-01-01 00:00:00</th>\n      <td>NaN</td>\n      <td>NaN</td>\n      <td>NaN</td>\n      <td>NaN</td>\n      <td>NaN</td>\n      <td>NaN</td>\n      <td>NaN</td>\n      <td>NaN</td>\n    </tr>\n  </tbody>\n</table>\n<p>52561 rows × 8 columns</p>\n</div>"
     },
     "execution_count": 51,
     "metadata": {},
     "output_type": "execute_result"
    }
   ],
   "source": [
    "parameters = description[['Kod']].to_numpy().reshape(-1)  # columns\n",
    "dti = pd.date_range('2022-01-01', '2023-01-01', freq='10min')  # indexes as timestamp\n",
    "\n",
    "data_for_cracow = pd.DataFrame(columns=parameters, index=dti)\n",
    "\n",
    "# data_for_cracow.xs('2022-01-01 00:50:00')['B00300S'] = 1\n",
    "data_for_cracow"
   ],
   "metadata": {
    "collapsed": false,
    "ExecuteTime": {
     "end_time": "2023-09-20T00:20:48.974365100Z",
     "start_time": "2023-09-20T00:20:48.887816900Z"
    }
   },
   "id": "6278bac0efdf9e1a"
  },
  {
   "cell_type": "code",
   "execution_count": 52,
   "outputs": [
    {
     "name": "stderr",
     "output_type": "stream",
     "text": [
      "C:\\Users\\Tomek\\AppData\\Local\\Temp\\ipykernel_14172\\4275870745.py:7: DtypeWarning: Columns (3) have mixed types. Specify dtype option on import or set low_memory=False.\n",
      "  single_parameter_per_month_data = pd.read_csv(path, delimiter=';', header=None)\n",
      "C:\\Users\\Tomek\\AppData\\Local\\Temp\\ipykernel_14172\\4275870745.py:7: DtypeWarning: Columns (3) have mixed types. Specify dtype option on import or set low_memory=False.\n",
      "  single_parameter_per_month_data = pd.read_csv(path, delimiter=';', header=None)\n",
      "C:\\Users\\Tomek\\AppData\\Local\\Temp\\ipykernel_14172\\4275870745.py:7: DtypeWarning: Columns (3) have mixed types. Specify dtype option on import or set low_memory=False.\n",
      "  single_parameter_per_month_data = pd.read_csv(path, delimiter=';', header=None)\n",
      "C:\\Users\\Tomek\\AppData\\Local\\Temp\\ipykernel_14172\\4275870745.py:7: DtypeWarning: Columns (3) have mixed types. Specify dtype option on import or set low_memory=False.\n",
      "  single_parameter_per_month_data = pd.read_csv(path, delimiter=';', header=None)\n",
      "C:\\Users\\Tomek\\AppData\\Local\\Temp\\ipykernel_14172\\4275870745.py:7: DtypeWarning: Columns (3) have mixed types. Specify dtype option on import or set low_memory=False.\n",
      "  single_parameter_per_month_data = pd.read_csv(path, delimiter=';', header=None)\n",
      "C:\\Users\\Tomek\\AppData\\Local\\Temp\\ipykernel_14172\\4275870745.py:7: DtypeWarning: Columns (3) have mixed types. Specify dtype option on import or set low_memory=False.\n",
      "  single_parameter_per_month_data = pd.read_csv(path, delimiter=';', header=None)\n",
      "C:\\Users\\Tomek\\AppData\\Local\\Temp\\ipykernel_14172\\4275870745.py:7: DtypeWarning: Columns (3) have mixed types. Specify dtype option on import or set low_memory=False.\n",
      "  single_parameter_per_month_data = pd.read_csv(path, delimiter=';', header=None)\n",
      "C:\\Users\\Tomek\\AppData\\Local\\Temp\\ipykernel_14172\\4275870745.py:7: DtypeWarning: Columns (3) have mixed types. Specify dtype option on import or set low_memory=False.\n",
      "  single_parameter_per_month_data = pd.read_csv(path, delimiter=';', header=None)\n",
      "C:\\Users\\Tomek\\AppData\\Local\\Temp\\ipykernel_14172\\4275870745.py:7: DtypeWarning: Columns (3) have mixed types. Specify dtype option on import or set low_memory=False.\n",
      "  single_parameter_per_month_data = pd.read_csv(path, delimiter=';', header=None)\n",
      "C:\\Users\\Tomek\\AppData\\Local\\Temp\\ipykernel_14172\\4275870745.py:7: DtypeWarning: Columns (3) have mixed types. Specify dtype option on import or set low_memory=False.\n",
      "  single_parameter_per_month_data = pd.read_csv(path, delimiter=';', header=None)\n",
      "C:\\Users\\Tomek\\AppData\\Local\\Temp\\ipykernel_14172\\4275870745.py:7: DtypeWarning: Columns (3) have mixed types. Specify dtype option on import or set low_memory=False.\n",
      "  single_parameter_per_month_data = pd.read_csv(path, delimiter=';', header=None)\n",
      "C:\\Users\\Tomek\\AppData\\Local\\Temp\\ipykernel_14172\\4275870745.py:7: DtypeWarning: Columns (3) have mixed types. Specify dtype option on import or set low_memory=False.\n",
      "  single_parameter_per_month_data = pd.read_csv(path, delimiter=';', header=None)\n",
      "C:\\Users\\Tomek\\AppData\\Local\\Temp\\ipykernel_14172\\4275870745.py:7: DtypeWarning: Columns (3) have mixed types. Specify dtype option on import or set low_memory=False.\n",
      "  single_parameter_per_month_data = pd.read_csv(path, delimiter=';', header=None)\n",
      "C:\\Users\\Tomek\\AppData\\Local\\Temp\\ipykernel_14172\\4275870745.py:7: DtypeWarning: Columns (3) have mixed types. Specify dtype option on import or set low_memory=False.\n",
      "  single_parameter_per_month_data = pd.read_csv(path, delimiter=';', header=None)\n",
      "C:\\Users\\Tomek\\AppData\\Local\\Temp\\ipykernel_14172\\4275870745.py:7: DtypeWarning: Columns (3) have mixed types. Specify dtype option on import or set low_memory=False.\n",
      "  single_parameter_per_month_data = pd.read_csv(path, delimiter=';', header=None)\n",
      "C:\\Users\\Tomek\\AppData\\Local\\Temp\\ipykernel_14172\\4275870745.py:7: DtypeWarning: Columns (3) have mixed types. Specify dtype option on import or set low_memory=False.\n",
      "  single_parameter_per_month_data = pd.read_csv(path, delimiter=';', header=None)\n",
      "C:\\Users\\Tomek\\AppData\\Local\\Temp\\ipykernel_14172\\4275870745.py:7: DtypeWarning: Columns (3) have mixed types. Specify dtype option on import or set low_memory=False.\n",
      "  single_parameter_per_month_data = pd.read_csv(path, delimiter=';', header=None)\n",
      "C:\\Users\\Tomek\\AppData\\Local\\Temp\\ipykernel_14172\\4275870745.py:7: DtypeWarning: Columns (3) have mixed types. Specify dtype option on import or set low_memory=False.\n",
      "  single_parameter_per_month_data = pd.read_csv(path, delimiter=';', header=None)\n",
      "C:\\Users\\Tomek\\AppData\\Local\\Temp\\ipykernel_14172\\4275870745.py:7: DtypeWarning: Columns (3) have mixed types. Specify dtype option on import or set low_memory=False.\n",
      "  single_parameter_per_month_data = pd.read_csv(path, delimiter=';', header=None)\n",
      "C:\\Users\\Tomek\\AppData\\Local\\Temp\\ipykernel_14172\\4275870745.py:7: DtypeWarning: Columns (3) have mixed types. Specify dtype option on import or set low_memory=False.\n",
      "  single_parameter_per_month_data = pd.read_csv(path, delimiter=';', header=None)\n",
      "C:\\Users\\Tomek\\AppData\\Local\\Temp\\ipykernel_14172\\4275870745.py:7: DtypeWarning: Columns (3) have mixed types. Specify dtype option on import or set low_memory=False.\n",
      "  single_parameter_per_month_data = pd.read_csv(path, delimiter=';', header=None)\n",
      "C:\\Users\\Tomek\\AppData\\Local\\Temp\\ipykernel_14172\\4275870745.py:7: DtypeWarning: Columns (3) have mixed types. Specify dtype option on import or set low_memory=False.\n",
      "  single_parameter_per_month_data = pd.read_csv(path, delimiter=';', header=None)\n",
      "C:\\Users\\Tomek\\AppData\\Local\\Temp\\ipykernel_14172\\4275870745.py:7: DtypeWarning: Columns (3) have mixed types. Specify dtype option on import or set low_memory=False.\n",
      "  single_parameter_per_month_data = pd.read_csv(path, delimiter=';', header=None)\n",
      "C:\\Users\\Tomek\\AppData\\Local\\Temp\\ipykernel_14172\\4275870745.py:7: DtypeWarning: Columns (3) have mixed types. Specify dtype option on import or set low_memory=False.\n",
      "  single_parameter_per_month_data = pd.read_csv(path, delimiter=';', header=None)\n"
     ]
    }
   ],
   "source": [
    "station_codes_near_cracow = [350190566, 250190470]\n",
    "\n",
    "year = 2022\n",
    "for month in range(1, 13):\n",
    "    for param_code in parameters:\n",
    "        path = f'dane_archiwalne_meteo/data/{param_code}/{param_code}_{year}_{month:02d}.csv'\n",
    "        single_parameter_per_month_data = pd.read_csv(path, delimiter=';', header=None)\n",
    "        \n",
    "        single_parameter_per_month_data = single_parameter_per_month_data[[0, 1, 2, 3]]\n",
    "        \n",
    "        # take data from one station near Cracow\n",
    "        single_parameter_per_cracow = single_parameter_per_month_data.where(single_parameter_per_month_data[0] == station_codes_near_cracow[0])\n",
    "        \n",
    "        single_parameter_per_cracow.dropna(inplace=True)\n",
    "        \n",
    "        if len(single_parameter_per_cracow.index) == 0:\n",
    "            single_parameter_per_cracow = single_parameter_per_month_data.where(single_parameter_per_month_data[0] == station_codes_near_cracow[1])\n",
    "        \n",
    "        single_parameter_per_cracow.dropna(inplace=True)\n",
    "        \n",
    "        dates = single_parameter_per_cracow[2]\n",
    "        dates = pd.to_datetime(dates)\n",
    "        values = single_parameter_per_cracow[3]\n",
    "        \n",
    "        for i in dates.index:\n",
    "            data_for_cracow.xs(dates[i])[param_code] = values[i]\n"
   ],
   "metadata": {
    "collapsed": false,
    "ExecuteTime": {
     "end_time": "2023-09-20T00:22:22.454072900Z",
     "start_time": "2023-09-20T00:20:48.922368700Z"
    }
   },
   "id": "38b4fe48bd0ea717"
  },
  {
   "cell_type": "code",
   "execution_count": 53,
   "outputs": [
    {
     "ename": "ValueError",
     "evalue": "invalid literal for int() with base 10: '4.3'",
     "output_type": "error",
     "traceback": [
      "\u001B[1;31m---------------------------------------------------------------------------\u001B[0m",
      "\u001B[1;31mValueError\u001B[0m                                Traceback (most recent call last)",
      "Cell \u001B[1;32mIn[53], line 1\u001B[0m\n\u001B[1;32m----> 1\u001B[0m i \u001B[38;5;241m=\u001B[39m \u001B[38;5;28;43mint\u001B[39;49m\u001B[43m(\u001B[49m\u001B[38;5;124;43m'\u001B[39;49m\u001B[38;5;124;43m4.3\u001B[39;49m\u001B[38;5;124;43m'\u001B[39;49m\u001B[43m)\u001B[49m\n",
      "\u001B[1;31mValueError\u001B[0m: invalid literal for int() with base 10: '4.3'"
     ]
    }
   ],
   "source": [
    "i = int('4.3')"
   ],
   "metadata": {
    "collapsed": false,
    "ExecuteTime": {
     "end_time": "2023-09-20T00:22:22.472Z",
     "start_time": "2023-09-20T00:22:22.454072900Z"
    }
   },
   "id": "15db7dcaec079e6c"
  },
  {
   "cell_type": "code",
   "execution_count": 54,
   "outputs": [
    {
     "data": {
      "text/plain": "                    B00300S B00305A B00202A B00702A B00703A B00802A B00714A  \\\n2022-01-01 00:00:00     9,5    9,21     234     6,6     5,5      93     NaN   \n2022-01-01 00:10:00     9,4    9,05     232     6,2     6,8      93     NaN   \n2022-01-01 00:20:00     9,2    8,93     227     5,7     5,6      94     NaN   \n2022-01-01 00:30:00     9,2    8,97     223     5,5     7,3      95     NaN   \n2022-01-01 00:40:00     9,1    9,05     225     5,1     6,3      95     NaN   \n...                     ...     ...     ...     ...     ...     ...     ...   \n2022-12-31 23:20:00     5,5    4,74     184     0,6     1,2      87     NaN   \n2022-12-31 23:30:00     5,6    4,48     199     0,7     1,4      88     NaN   \n2022-12-31 23:40:00     5,8    4,38       0       0     1,2      89     NaN   \n2022-12-31 23:50:00     5,4    4,31       0       0     1,1      89     NaN   \n2023-01-01 00:00:00     NaN     NaN     NaN     NaN     NaN     NaN     NaN   \n\n                    B00910A  \n2022-01-01 00:00:00     NaN  \n2022-01-01 00:10:00     NaN  \n2022-01-01 00:20:00     NaN  \n2022-01-01 00:30:00     NaN  \n2022-01-01 00:40:00     NaN  \n...                     ...  \n2022-12-31 23:20:00     NaN  \n2022-12-31 23:30:00     NaN  \n2022-12-31 23:40:00     NaN  \n2022-12-31 23:50:00     NaN  \n2023-01-01 00:00:00     NaN  \n\n[52561 rows x 8 columns]",
      "text/html": "<div>\n<style scoped>\n    .dataframe tbody tr th:only-of-type {\n        vertical-align: middle;\n    }\n\n    .dataframe tbody tr th {\n        vertical-align: top;\n    }\n\n    .dataframe thead th {\n        text-align: right;\n    }\n</style>\n<table border=\"1\" class=\"dataframe\">\n  <thead>\n    <tr style=\"text-align: right;\">\n      <th></th>\n      <th>B00300S</th>\n      <th>B00305A</th>\n      <th>B00202A</th>\n      <th>B00702A</th>\n      <th>B00703A</th>\n      <th>B00802A</th>\n      <th>B00714A</th>\n      <th>B00910A</th>\n    </tr>\n  </thead>\n  <tbody>\n    <tr>\n      <th>2022-01-01 00:00:00</th>\n      <td>9,5</td>\n      <td>9,21</td>\n      <td>234</td>\n      <td>6,6</td>\n      <td>5,5</td>\n      <td>93</td>\n      <td>NaN</td>\n      <td>NaN</td>\n    </tr>\n    <tr>\n      <th>2022-01-01 00:10:00</th>\n      <td>9,4</td>\n      <td>9,05</td>\n      <td>232</td>\n      <td>6,2</td>\n      <td>6,8</td>\n      <td>93</td>\n      <td>NaN</td>\n      <td>NaN</td>\n    </tr>\n    <tr>\n      <th>2022-01-01 00:20:00</th>\n      <td>9,2</td>\n      <td>8,93</td>\n      <td>227</td>\n      <td>5,7</td>\n      <td>5,6</td>\n      <td>94</td>\n      <td>NaN</td>\n      <td>NaN</td>\n    </tr>\n    <tr>\n      <th>2022-01-01 00:30:00</th>\n      <td>9,2</td>\n      <td>8,97</td>\n      <td>223</td>\n      <td>5,5</td>\n      <td>7,3</td>\n      <td>95</td>\n      <td>NaN</td>\n      <td>NaN</td>\n    </tr>\n    <tr>\n      <th>2022-01-01 00:40:00</th>\n      <td>9,1</td>\n      <td>9,05</td>\n      <td>225</td>\n      <td>5,1</td>\n      <td>6,3</td>\n      <td>95</td>\n      <td>NaN</td>\n      <td>NaN</td>\n    </tr>\n    <tr>\n      <th>...</th>\n      <td>...</td>\n      <td>...</td>\n      <td>...</td>\n      <td>...</td>\n      <td>...</td>\n      <td>...</td>\n      <td>...</td>\n      <td>...</td>\n    </tr>\n    <tr>\n      <th>2022-12-31 23:20:00</th>\n      <td>5,5</td>\n      <td>4,74</td>\n      <td>184</td>\n      <td>0,6</td>\n      <td>1,2</td>\n      <td>87</td>\n      <td>NaN</td>\n      <td>NaN</td>\n    </tr>\n    <tr>\n      <th>2022-12-31 23:30:00</th>\n      <td>5,6</td>\n      <td>4,48</td>\n      <td>199</td>\n      <td>0,7</td>\n      <td>1,4</td>\n      <td>88</td>\n      <td>NaN</td>\n      <td>NaN</td>\n    </tr>\n    <tr>\n      <th>2022-12-31 23:40:00</th>\n      <td>5,8</td>\n      <td>4,38</td>\n      <td>0</td>\n      <td>0</td>\n      <td>1,2</td>\n      <td>89</td>\n      <td>NaN</td>\n      <td>NaN</td>\n    </tr>\n    <tr>\n      <th>2022-12-31 23:50:00</th>\n      <td>5,4</td>\n      <td>4,31</td>\n      <td>0</td>\n      <td>0</td>\n      <td>1,1</td>\n      <td>89</td>\n      <td>NaN</td>\n      <td>NaN</td>\n    </tr>\n    <tr>\n      <th>2023-01-01 00:00:00</th>\n      <td>NaN</td>\n      <td>NaN</td>\n      <td>NaN</td>\n      <td>NaN</td>\n      <td>NaN</td>\n      <td>NaN</td>\n      <td>NaN</td>\n      <td>NaN</td>\n    </tr>\n  </tbody>\n</table>\n<p>52561 rows × 8 columns</p>\n</div>"
     },
     "execution_count": 54,
     "metadata": {},
     "output_type": "execute_result"
    }
   ],
   "source": [
    "data_for_cracow"
   ],
   "metadata": {
    "collapsed": false,
    "ExecuteTime": {
     "end_time": "2023-09-20T00:22:30.022142Z",
     "start_time": "2023-09-20T00:22:30.012477800Z"
    }
   },
   "id": "e70ac631efd6ab51"
  },
  {
   "cell_type": "code",
   "execution_count": 58,
   "outputs": [
    {
     "data": {
      "text/plain": "143"
     },
     "execution_count": 58,
     "metadata": {},
     "output_type": "execute_result"
    }
   ],
   "source": [
    "data_for_cracow.B00714A.count()"
   ],
   "metadata": {
    "collapsed": false,
    "ExecuteTime": {
     "end_time": "2023-09-20T00:25:52.063908300Z",
     "start_time": "2023-09-20T00:25:52.044744Z"
    }
   },
   "id": "fdaad6e89590a962"
  },
  {
   "cell_type": "code",
   "execution_count": 59,
   "outputs": [
    {
     "data": {
      "text/plain": "26"
     },
     "execution_count": 59,
     "metadata": {},
     "output_type": "execute_result"
    }
   ],
   "source": [
    "data_for_cracow.B00910A.count()"
   ],
   "metadata": {
    "collapsed": false,
    "ExecuteTime": {
     "end_time": "2023-09-20T00:26:05.643156Z",
     "start_time": "2023-09-20T00:26:05.628839300Z"
    }
   },
   "id": "596b260adb9dad2b"
  },
  {
   "cell_type": "code",
   "execution_count": 61,
   "outputs": [],
   "source": [
    "data_for_cracow.to_csv('arch_meteo_krakow.csv')"
   ],
   "metadata": {
    "collapsed": false,
    "ExecuteTime": {
     "end_time": "2023-09-20T00:28:52.375805300Z",
     "start_time": "2023-09-20T00:28:52.163276400Z"
    }
   },
   "id": "abac20a8eb985183"
  },
  {
   "cell_type": "code",
   "execution_count": null,
   "outputs": [],
   "source": [],
   "metadata": {
    "collapsed": false
   },
   "id": "13242b495ee8f579"
  }
 ],
 "metadata": {
  "kernelspec": {
   "display_name": "Python 3",
   "language": "python",
   "name": "python3"
  },
  "language_info": {
   "codemirror_mode": {
    "name": "ipython",
    "version": 2
   },
   "file_extension": ".py",
   "mimetype": "text/x-python",
   "name": "python",
   "nbconvert_exporter": "python",
   "pygments_lexer": "ipython2",
   "version": "2.7.6"
  }
 },
 "nbformat": 4,
 "nbformat_minor": 5
}
