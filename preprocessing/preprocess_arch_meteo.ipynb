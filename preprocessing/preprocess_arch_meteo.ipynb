{
 "cells": [
  {
   "cell_type": "code",
   "execution_count": 1,
   "id": "initial_id",
   "metadata": {
    "collapsed": true,
    "ExecuteTime": {
     "end_time": "2023-12-20T00:34:36.463997900Z",
     "start_time": "2023-12-20T00:34:35.981509700Z"
    }
   },
   "outputs": [],
   "source": [
    "import pandas as pd\n",
    "import numpy as np\n"
   ]
  },
  {
   "cell_type": "code",
   "execution_count": 2,
   "outputs": [],
   "source": [
    "KRK_STATION_ID = 250190470  # Krakow Wola Justowska station\n",
    "BLC_STATION_ID = 350190566  # Balice station\n",
    "LIB_STATION_ID = 249190030  # Libertów station\n",
    "PARAM_CODE = 'B00606S'  # hourly rain parameter code"
   ],
   "metadata": {
    "collapsed": false,
    "ExecuteTime": {
     "end_time": "2023-12-20T00:34:36.481439100Z",
     "start_time": "2023-12-20T00:34:36.468416700Z"
    }
   },
   "id": "c590a4bf2446b652"
  },
  {
   "cell_type": "code",
   "execution_count": 3,
   "outputs": [
    {
     "data": {
      "text/plain": "                    B00606S\n2022-12-31 20:00:00    None\n2022-12-31 21:00:00    None\n2022-12-31 22:00:00    None\n2022-12-31 23:00:00    None\n2023-01-01 00:00:00    None",
      "text/html": "<div>\n<style scoped>\n    .dataframe tbody tr th:only-of-type {\n        vertical-align: middle;\n    }\n\n    .dataframe tbody tr th {\n        vertical-align: top;\n    }\n\n    .dataframe thead th {\n        text-align: right;\n    }\n</style>\n<table border=\"1\" class=\"dataframe\">\n  <thead>\n    <tr style=\"text-align: right;\">\n      <th></th>\n      <th>B00606S</th>\n    </tr>\n  </thead>\n  <tbody>\n    <tr>\n      <th>2022-12-31 20:00:00</th>\n      <td>None</td>\n    </tr>\n    <tr>\n      <th>2022-12-31 21:00:00</th>\n      <td>None</td>\n    </tr>\n    <tr>\n      <th>2022-12-31 22:00:00</th>\n      <td>None</td>\n    </tr>\n    <tr>\n      <th>2022-12-31 23:00:00</th>\n      <td>None</td>\n    </tr>\n    <tr>\n      <th>2023-01-01 00:00:00</th>\n      <td>None</td>\n    </tr>\n  </tbody>\n</table>\n</div>"
     },
     "execution_count": 3,
     "metadata": {},
     "output_type": "execute_result"
    }
   ],
   "source": [
    "dti = pd.date_range('2017-01-01', '2023-01-01', freq='1h')  # indexes as timestamp\n",
    "\n",
    "data_for_cracow = pd.DataFrame(columns=[PARAM_CODE], index=dti)\n",
    "data_for_cracow[PARAM_CODE] = None\n",
    "data_for_cracow.tail()"
   ],
   "metadata": {
    "collapsed": false,
    "ExecuteTime": {
     "end_time": "2023-12-20T00:34:36.526805600Z",
     "start_time": "2023-12-20T00:34:36.483438200Z"
    }
   },
   "id": "6bb05bffa209829c"
  },
  {
   "cell_type": "markdown",
   "source": [
    "# Fill data from proper station (Balice)"
   ],
   "metadata": {
    "collapsed": false
   },
   "id": "8ee471dc4148707b"
  },
  {
   "cell_type": "code",
   "execution_count": 5,
   "outputs": [
    {
     "name": "stdout",
     "output_type": "stream",
     "text": [
      "2017/1\n",
      "2017/2\n",
      "2017/3\n",
      "2017/4\n",
      "2017/5\n",
      "2017/6\n",
      "2017/7\n",
      "2017/8\n",
      "2017/9\n",
      "2017/10\n",
      "2017/11\n",
      "2017/12\n",
      "2018/1\n",
      "2018/2\n",
      "2018/3\n",
      "2018/4\n",
      "2018/5\n",
      "2018/6\n",
      "2018/7\n",
      "2018/8\n",
      "2018/9\n",
      "2018/10\n",
      "2018/11\n",
      "2018/12\n",
      "2019/1\n",
      "2019/2\n",
      "2019/3\n",
      "2019/4\n",
      "2019/5\n",
      "2019/6\n",
      "2019/7\n",
      "2019/8\n",
      "2019/9\n",
      "2019/10\n",
      "2019/11\n",
      "2019/12\n",
      "2020/1\n",
      "2020/2\n",
      "2020/3\n",
      "2020/4\n",
      "2020/5\n",
      "2020/6\n",
      "2020/7\n",
      "2020/8\n",
      "2020/9\n",
      "2020/10\n",
      "2020/11\n",
      "2020/12\n",
      "2021/1\n",
      "2021/2\n",
      "2021/3\n",
      "2021/4\n",
      "2021/5\n",
      "2021/6\n",
      "2021/7\n",
      "2021/8\n",
      "2021/9\n",
      "2021/10\n",
      "2021/11\n",
      "2021/12\n",
      "2022/1\n",
      "2022/2\n",
      "2022/3\n",
      "2022/4\n",
      "2022/5\n",
      "2022/6\n",
      "2022/7\n",
      "2022/8\n",
      "2022/9\n",
      "2022/10\n",
      "2022/11\n",
      "2022/12\n"
     ]
    }
   ],
   "source": [
    "for year in range(2017, 2023):\n",
    "    for month in range(1, 13):\n",
    "        print(f'{year}/{month}')\n",
    "        path = f'../data/original_data/hourly_rain/{PARAM_CODE}/{PARAM_CODE}_{year}_{month:02d}.csv'\n",
    "        rain_in_month_df = pd.read_csv(path, delimiter=';', header=None)\n",
    "        \n",
    "        rain_in_month_df = rain_in_month_df[[0, 1, 2, 3]]\n",
    "        \n",
    "        # take data from one station near Cracow\n",
    "        rain_monthly_per_blc = rain_in_month_df.where(rain_in_month_df[0] == BLC_STATION_ID)\n",
    "        \n",
    "        rain_monthly_per_blc.dropna(inplace=True)\n",
    "        \n",
    "        dates = rain_monthly_per_blc[2]\n",
    "        dates = pd.to_datetime(dates)\n",
    "        values_blc = rain_monthly_per_blc[3]\n",
    "        \n",
    "        for i in dates.index:\n",
    "            data_for_cracow.xs(dates[i])[PARAM_CODE] = values_blc[i]"
   ],
   "metadata": {
    "collapsed": false,
    "ExecuteTime": {
     "end_time": "2023-12-20T00:35:36.569993100Z",
     "start_time": "2023-12-20T00:35:04.607045100Z"
    }
   },
   "id": "93e03004118f0c5f"
  },
  {
   "cell_type": "code",
   "execution_count": 6,
   "outputs": [
    {
     "data": {
      "text/plain": "B00606S    27586\ndtype: int64"
     },
     "execution_count": 6,
     "metadata": {},
     "output_type": "execute_result"
    }
   ],
   "source": [
    "data_for_cracow.isna().sum()"
   ],
   "metadata": {
    "collapsed": false,
    "ExecuteTime": {
     "end_time": "2023-12-20T00:35:36.630035600Z",
     "start_time": "2023-12-20T00:35:36.571994500Z"
    }
   },
   "id": "b4aca8f40e91846a"
  },
  {
   "cell_type": "markdown",
   "source": [
    "# Fill missing values from Wola Justowska station"
   ],
   "metadata": {
    "collapsed": false
   },
   "id": "7ada00e93183915d"
  },
  {
   "cell_type": "code",
   "execution_count": 7,
   "outputs": [
    {
     "name": "stdout",
     "output_type": "stream",
     "text": [
      "2017/1\n",
      "2017/2\n",
      "2017/3\n",
      "2017/4\n",
      "2017/5\n",
      "2017/6\n",
      "2017/7\n",
      "2017/8\n",
      "2017/9\n",
      "2017/10\n",
      "2017/11\n",
      "2017/12\n",
      "2018/1\n",
      "2018/2\n",
      "2018/3\n",
      "2018/4\n",
      "2018/5\n",
      "2018/6\n",
      "2018/7\n",
      "2018/8\n",
      "2018/9\n",
      "2018/10\n",
      "2018/11\n",
      "2018/12\n",
      "2019/1\n",
      "2019/2\n",
      "2019/3\n",
      "2019/4\n",
      "2019/5\n",
      "2019/6\n",
      "2019/7\n",
      "2019/8\n",
      "2019/9\n",
      "2019/10\n",
      "2019/11\n",
      "2019/12\n",
      "2020/1\n",
      "2020/2\n",
      "2020/3\n",
      "2020/4\n",
      "2020/5\n",
      "2020/6\n",
      "2020/7\n",
      "2020/8\n",
      "2020/9\n",
      "2020/10\n",
      "2020/11\n",
      "2020/12\n",
      "2021/1\n",
      "2021/2\n",
      "2021/3\n",
      "2021/4\n",
      "2021/5\n",
      "2021/6\n",
      "2021/7\n",
      "2021/8\n",
      "2021/9\n",
      "2021/10\n",
      "2021/11\n",
      "2021/12\n",
      "2022/1\n",
      "2022/2\n",
      "2022/3\n",
      "2022/4\n",
      "2022/5\n",
      "2022/6\n",
      "2022/7\n",
      "2022/8\n",
      "2022/9\n",
      "2022/10\n",
      "2022/11\n",
      "2022/12\n"
     ]
    }
   ],
   "source": [
    "for year in range(2017, 2023):\n",
    "    for month in range(1, 13):\n",
    "        print(f'{year}/{month}')\n",
    "        path = f'../data/original_data/hourly_rain/{PARAM_CODE}/{PARAM_CODE}_{year}_{month:02d}.csv'\n",
    "        rain_in_month_df = pd.read_csv(path, delimiter=';', header=None)\n",
    "        \n",
    "        rain_in_month_df = rain_in_month_df[[0, 1, 2, 3]]\n",
    "        \n",
    "        rain_monthly_per_krk = rain_in_month_df.where(rain_in_month_df[0] == KRK_STATION_ID)\n",
    "        \n",
    "        rain_monthly_per_krk.dropna(inplace=True)\n",
    "\n",
    "        if len(rain_monthly_per_krk) != 0:\n",
    "            dates = rain_monthly_per_krk[2]\n",
    "            dates = pd.to_datetime(dates)\n",
    "            values_blc = rain_monthly_per_krk[3]\n",
    "        \n",
    "            for i in dates.index:\n",
    "                if data_for_cracow.xs(dates[i])[PARAM_CODE] is None:\n",
    "                    data_for_cracow.xs(dates[i])[PARAM_CODE] = values_blc[i]"
   ],
   "metadata": {
    "collapsed": false,
    "ExecuteTime": {
     "end_time": "2023-12-20T00:36:11.441194600Z",
     "start_time": "2023-12-20T00:35:36.607997900Z"
    }
   },
   "id": "be29358f398c5b69"
  },
  {
   "cell_type": "code",
   "execution_count": 8,
   "outputs": [
    {
     "data": {
      "text/plain": "B00606S    95\ndtype: int64"
     },
     "execution_count": 8,
     "metadata": {},
     "output_type": "execute_result"
    }
   ],
   "source": [
    "data_for_cracow.isna().sum()"
   ],
   "metadata": {
    "collapsed": false,
    "ExecuteTime": {
     "end_time": "2023-12-20T00:36:11.492181400Z",
     "start_time": "2023-12-20T00:36:11.444264900Z"
    }
   },
   "id": "c7e5a3de901d3065"
  },
  {
   "cell_type": "markdown",
   "source": [
    "# Fill STILL missing values from Libertów station"
   ],
   "metadata": {
    "collapsed": false
   },
   "id": "72b790d389d9e61c"
  },
  {
   "cell_type": "code",
   "execution_count": 9,
   "outputs": [
    {
     "name": "stdout",
     "output_type": "stream",
     "text": [
      "2017/1\n",
      "2017/2\n",
      "2017/3\n",
      "2017/4\n",
      "2017/5\n",
      "2017/6\n",
      "2017/7\n",
      "2017/8\n",
      "2017/9\n",
      "2017/10\n",
      "2017/11\n",
      "2017/12\n",
      "2018/1\n",
      "2018/2\n",
      "2018/3\n",
      "2018/4\n",
      "2018/5\n",
      "2018/6\n",
      "2018/7\n",
      "2018/8\n",
      "2018/9\n",
      "2018/10\n",
      "2018/11\n",
      "2018/12\n",
      "2019/1\n",
      "2019/2\n",
      "2019/3\n",
      "2019/4\n",
      "2019/5\n",
      "2019/6\n",
      "2019/7\n",
      "2019/8\n",
      "2019/9\n",
      "2019/10\n",
      "2019/11\n",
      "2019/12\n",
      "2020/1\n",
      "2020/2\n",
      "2020/3\n",
      "2020/4\n",
      "2020/5\n",
      "2020/6\n",
      "2020/7\n",
      "2020/8\n",
      "2020/9\n",
      "2020/10\n",
      "2020/11\n",
      "2020/12\n",
      "2021/1\n",
      "2021/2\n",
      "2021/3\n",
      "2021/4\n",
      "2021/5\n",
      "2021/6\n",
      "2021/7\n",
      "2021/8\n",
      "2021/9\n",
      "2021/10\n",
      "2021/11\n",
      "2021/12\n",
      "2022/1\n",
      "2022/2\n",
      "2022/3\n",
      "2022/4\n",
      "2022/5\n",
      "2022/6\n",
      "2022/7\n",
      "2022/8\n",
      "2022/9\n",
      "2022/10\n",
      "2022/11\n",
      "2022/12\n"
     ]
    }
   ],
   "source": [
    "for year in range(2017, 2023):\n",
    "    for month in range(1, 13):\n",
    "        print(f'{year}/{month}')\n",
    "        path = f'../data/original_data/hourly_rain/{PARAM_CODE}/{PARAM_CODE}_{year}_{month:02d}.csv'\n",
    "        rain_in_month_df = pd.read_csv(path, delimiter=';', header=None)\n",
    "        \n",
    "        rain_in_month_df = rain_in_month_df[[0, 1, 2, 3]]\n",
    "        \n",
    "        rain_monthly_per_lib = rain_in_month_df.where(rain_in_month_df[0] == LIB_STATION_ID)\n",
    "        \n",
    "        rain_monthly_per_lib.dropna(inplace=True)\n",
    "\n",
    "        if len(rain_monthly_per_lib) != 0:\n",
    "            dates = rain_monthly_per_lib[2]\n",
    "            dates = pd.to_datetime(dates)\n",
    "            values_lib = rain_monthly_per_lib[3]\n",
    "        \n",
    "            for i in dates.index:\n",
    "                if data_for_cracow.xs(dates[i])[PARAM_CODE] is None:\n",
    "                    data_for_cracow.xs(dates[i])[PARAM_CODE] = values_lib[i]"
   ],
   "metadata": {
    "collapsed": false,
    "ExecuteTime": {
     "end_time": "2023-12-20T00:36:42.467284600Z",
     "start_time": "2023-12-20T00:36:11.477185800Z"
    }
   },
   "id": "e8fe0cdd58062624"
  },
  {
   "cell_type": "code",
   "execution_count": 10,
   "outputs": [
    {
     "data": {
      "text/plain": "B00606S    4\ndtype: int64"
     },
     "execution_count": 10,
     "metadata": {},
     "output_type": "execute_result"
    }
   ],
   "source": [
    "data_for_cracow.isna().sum()"
   ],
   "metadata": {
    "collapsed": false,
    "ExecuteTime": {
     "end_time": "2023-12-20T00:36:42.522917700Z",
     "start_time": "2023-12-20T00:36:42.477448Z"
    }
   },
   "id": "70ef5fcf9e775cf9"
  },
  {
   "cell_type": "code",
   "execution_count": 11,
   "outputs": [
    {
     "data": {
      "text/plain": "                    B00606S\n2018-04-06 22:00:00    None\n2018-04-06 23:00:00    None\n2019-07-17 14:00:00    None\n2023-01-01 00:00:00    None",
      "text/html": "<div>\n<style scoped>\n    .dataframe tbody tr th:only-of-type {\n        vertical-align: middle;\n    }\n\n    .dataframe tbody tr th {\n        vertical-align: top;\n    }\n\n    .dataframe thead th {\n        text-align: right;\n    }\n</style>\n<table border=\"1\" class=\"dataframe\">\n  <thead>\n    <tr style=\"text-align: right;\">\n      <th></th>\n      <th>B00606S</th>\n    </tr>\n  </thead>\n  <tbody>\n    <tr>\n      <th>2018-04-06 22:00:00</th>\n      <td>None</td>\n    </tr>\n    <tr>\n      <th>2018-04-06 23:00:00</th>\n      <td>None</td>\n    </tr>\n    <tr>\n      <th>2019-07-17 14:00:00</th>\n      <td>None</td>\n    </tr>\n    <tr>\n      <th>2023-01-01 00:00:00</th>\n      <td>None</td>\n    </tr>\n  </tbody>\n</table>\n</div>"
     },
     "execution_count": 11,
     "metadata": {},
     "output_type": "execute_result"
    }
   ],
   "source": [
    "data_for_cracow[data_for_cracow[PARAM_CODE].isna()]"
   ],
   "metadata": {
    "collapsed": false,
    "ExecuteTime": {
     "end_time": "2023-12-20T00:36:42.523917700Z",
     "start_time": "2023-12-20T00:36:42.500916200Z"
    }
   },
   "id": "89f4be1a09ae4df4"
  },
  {
   "cell_type": "code",
   "execution_count": 12,
   "outputs": [],
   "source": [
    "complete_rain_data = data_for_cracow.fillna(method='ffill')"
   ],
   "metadata": {
    "collapsed": false,
    "ExecuteTime": {
     "end_time": "2023-12-20T00:36:42.551923700Z",
     "start_time": "2023-12-20T00:36:42.516914200Z"
    }
   },
   "id": "d6c1009ece2899b1"
  },
  {
   "cell_type": "code",
   "execution_count": 13,
   "outputs": [
    {
     "data": {
      "text/plain": "B00606S    0\ndtype: int64"
     },
     "execution_count": 13,
     "metadata": {},
     "output_type": "execute_result"
    }
   ],
   "source": [
    "complete_rain_data.isna().sum()"
   ],
   "metadata": {
    "collapsed": false,
    "ExecuteTime": {
     "end_time": "2023-12-20T00:36:42.623302100Z",
     "start_time": "2023-12-20T00:36:42.533925500Z"
    }
   },
   "id": "4ef46d30d2e38550"
  },
  {
   "cell_type": "code",
   "execution_count": 14,
   "outputs": [
    {
     "data": {
      "text/plain": "                    B00606S\n2022-12-31 19:00:00       0\n2022-12-31 20:00:00       0\n2022-12-31 21:00:00       0\n2022-12-31 22:00:00       0\n2022-12-31 23:00:00       0",
      "text/html": "<div>\n<style scoped>\n    .dataframe tbody tr th:only-of-type {\n        vertical-align: middle;\n    }\n\n    .dataframe tbody tr th {\n        vertical-align: top;\n    }\n\n    .dataframe thead th {\n        text-align: right;\n    }\n</style>\n<table border=\"1\" class=\"dataframe\">\n  <thead>\n    <tr style=\"text-align: right;\">\n      <th></th>\n      <th>B00606S</th>\n    </tr>\n  </thead>\n  <tbody>\n    <tr>\n      <th>2022-12-31 19:00:00</th>\n      <td>0</td>\n    </tr>\n    <tr>\n      <th>2022-12-31 20:00:00</th>\n      <td>0</td>\n    </tr>\n    <tr>\n      <th>2022-12-31 21:00:00</th>\n      <td>0</td>\n    </tr>\n    <tr>\n      <th>2022-12-31 22:00:00</th>\n      <td>0</td>\n    </tr>\n    <tr>\n      <th>2022-12-31 23:00:00</th>\n      <td>0</td>\n    </tr>\n  </tbody>\n</table>\n</div>"
     },
     "execution_count": 14,
     "metadata": {},
     "output_type": "execute_result"
    }
   ],
   "source": [
    "complete_rain_data = complete_rain_data[0:-1]\n",
    "complete_rain_data.tail()"
   ],
   "metadata": {
    "collapsed": false,
    "ExecuteTime": {
     "end_time": "2023-12-20T00:36:42.624300300Z",
     "start_time": "2023-12-20T00:36:42.568303800Z"
    }
   },
   "id": "3a2741f4ef9bc008"
  },
  {
   "cell_type": "code",
   "execution_count": 19,
   "outputs": [],
   "source": [
    "complete_rain_data[PARAM_CODE] = complete_rain_data[PARAM_CODE].astype(str)\n",
    "complete_rain_data[PARAM_CODE] = complete_rain_data[PARAM_CODE].str.replace(',', '.')\n",
    "complete_rain_data[PARAM_CODE] = complete_rain_data[PARAM_CODE].astype(float)"
   ],
   "metadata": {
    "collapsed": false,
    "ExecuteTime": {
     "end_time": "2023-12-20T00:39:14.150305200Z",
     "start_time": "2023-12-20T00:39:14.075266600Z"
    }
   },
   "id": "3e7d55d92f73acf8"
  },
  {
   "cell_type": "code",
   "execution_count": 20,
   "outputs": [],
   "source": [
    "complete_rain_data.to_csv('../data/preprocessed_data/rain_krk_17-22_preprocessed.csv')"
   ],
   "metadata": {
    "collapsed": false,
    "ExecuteTime": {
     "end_time": "2023-12-20T00:39:15.933646Z",
     "start_time": "2023-12-20T00:39:15.766629800Z"
    }
   },
   "id": "abac20a8eb985183"
  },
  {
   "cell_type": "code",
   "execution_count": null,
   "outputs": [],
   "source": [],
   "metadata": {
    "collapsed": false,
    "ExecuteTime": {
     "start_time": "2023-12-20T00:34:37.721238100Z"
    }
   },
   "id": "13242b495ee8f579"
  }
 ],
 "metadata": {
  "kernelspec": {
   "display_name": "Python 3",
   "language": "python",
   "name": "python3"
  },
  "language_info": {
   "codemirror_mode": {
    "name": "ipython",
    "version": 2
   },
   "file_extension": ".py",
   "mimetype": "text/x-python",
   "name": "python",
   "nbconvert_exporter": "python",
   "pygments_lexer": "ipython2",
   "version": "2.7.6"
  }
 },
 "nbformat": 4,
 "nbformat_minor": 5
}
