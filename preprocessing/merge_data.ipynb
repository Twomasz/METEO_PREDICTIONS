{
 "cells": [
  {
   "cell_type": "code",
   "execution_count": 1,
   "id": "initial_id",
   "metadata": {
    "collapsed": true,
    "ExecuteTime": {
     "end_time": "2023-12-27T18:01:31.212792700Z",
     "start_time": "2023-12-27T18:01:30.773791600Z"
    }
   },
   "outputs": [],
   "source": [
    "import pandas as pd"
   ]
  },
  {
   "cell_type": "code",
   "execution_count": 2,
   "outputs": [],
   "source": [
    "rain_data = pd.read_csv('../data/preprocessed_data/rain_krk_17-22_preprocessed.csv')\n",
    "rest_data = pd.read_csv('../data/preprocessed_data/general_krk_data_17-22_preprocessed.csv')"
   ],
   "metadata": {
    "collapsed": false,
    "ExecuteTime": {
     "end_time": "2023-12-27T18:01:31.416942200Z",
     "start_time": "2023-12-27T18:01:31.216791500Z"
    }
   },
   "id": "ef3d48f79a9a5c69"
  },
  {
   "cell_type": "code",
   "execution_count": 3,
   "outputs": [],
   "source": [
    "rest_data.set_index('timestamp', inplace=True)\n",
    "rain_data.set_index('Unnamed: 0', inplace=True)"
   ],
   "metadata": {
    "collapsed": false,
    "ExecuteTime": {
     "end_time": "2023-12-27T18:01:31.434950100Z",
     "start_time": "2023-12-27T18:01:31.422942300Z"
    }
   },
   "id": "1d4667273311cb35"
  },
  {
   "cell_type": "code",
   "execution_count": 4,
   "outputs": [],
   "source": [
    "complete_data = rest_data.copy()\n",
    "complete_data['Opad za 6 godzin [mm]'] = rain_data['B00606S']\n",
    "complete_data.rename(columns={'Opad za 6 godzin [mm]': 'Opad godzinowy [mm]'}, inplace=True)"
   ],
   "metadata": {
    "collapsed": false,
    "ExecuteTime": {
     "end_time": "2023-12-27T18:01:31.484946900Z",
     "start_time": "2023-12-27T18:01:31.437951800Z"
    }
   },
   "id": "36f4762f4ab893fe"
  },
  {
   "cell_type": "code",
   "execution_count": 5,
   "outputs": [
    {
     "data": {
      "text/plain": "                     Temperatura powietrza [°C]/1  \\\ntimestamp                                           \n2017-01-01 00:00:00                          -6.8   \n2017-01-01 01:00:00                          -6.9   \n2017-01-01 02:00:00                          -3.9   \n2017-01-01 03:00:00                          -6.5   \n2017-01-01 04:00:00                          -6.1   \n...                                           ...   \n2022-12-31 19:00:00                           8.3   \n2022-12-31 20:00:00                           9.1   \n2022-12-31 21:00:00                           8.4   \n2022-12-31 22:00:00                           9.3   \n2022-12-31 23:00:00                           6.1   \n\n                     Ciśnienie na poziomie stacji [hPa]  Opad godzinowy [mm]  \\\ntimestamp                                                                      \n2017-01-01 00:00:00                               995.8                  0.0   \n2017-01-01 01:00:00                               995.6                  0.0   \n2017-01-01 02:00:00                               994.9                  0.0   \n2017-01-01 03:00:00                               994.1                  0.0   \n2017-01-01 04:00:00                               993.6                  0.0   \n...                                                 ...                  ...   \n2022-12-31 19:00:00                               991.2                  0.0   \n2022-12-31 20:00:00                               991.4                  0.0   \n2022-12-31 21:00:00                               991.6                  0.0   \n2022-12-31 22:00:00                               991.6                  0.0   \n2022-12-31 23:00:00                               991.5                  0.0   \n\n                     Wysokość podstawy chmur CL CM szyfrowana [kod]  \\\ntimestamp                                                             \n2017-01-01 00:00:00                                               9   \n2017-01-01 01:00:00                                               9   \n2017-01-01 02:00:00                                               9   \n2017-01-01 03:00:00                                               9   \n2017-01-01 04:00:00                                               9   \n...                                                             ...   \n2022-12-31 19:00:00                                               9   \n2022-12-31 20:00:00                                               9   \n2022-12-31 21:00:00                                               9   \n2022-12-31 22:00:00                                               9   \n2022-12-31 23:00:00                                               9   \n\n                     Chmury CL [kod]  Chmury CM [kod]  Chmury CH [kod]  \\\ntimestamp                                                                \n2017-01-01 00:00:00                0                0                0   \n2017-01-01 01:00:00                0                0                0   \n2017-01-01 02:00:00                0                0                0   \n2017-01-01 03:00:00                0                0                0   \n2017-01-01 04:00:00                0                0                0   \n...                              ...              ...              ...   \n2022-12-31 19:00:00                0                0                0   \n2022-12-31 20:00:00                0                0                0   \n2022-12-31 21:00:00                0                0                0   \n2022-12-31 22:00:00                0                0                0   \n2022-12-31 23:00:00                0                0                0   \n\n                     Widzialność operatora [m]  Zachmurzenie ogólne [oktanty]  \\\ntimestamp                                                                       \n2017-01-01 00:00:00                       3500                              0   \n2017-01-01 01:00:00                       3500                              0   \n2017-01-01 02:00:00                       5000                              0   \n2017-01-01 03:00:00                       4000                              0   \n2017-01-01 04:00:00                       4000                              0   \n...                                        ...                            ...   \n2022-12-31 19:00:00                      20000                              7   \n2022-12-31 20:00:00                      20000                              7   \n2022-12-31 21:00:00                      20000                              7   \n2022-12-31 22:00:00                      20000                              7   \n2022-12-31 23:00:00                      20000                              7   \n\n                     Zachmurzenie niskie [oktanty]  ...  \\\ntimestamp                                           ...   \n2017-01-01 00:00:00                              0  ...   \n2017-01-01 01:00:00                              0  ...   \n2017-01-01 02:00:00                              0  ...   \n2017-01-01 03:00:00                              0  ...   \n2017-01-01 04:00:00                              0  ...   \n...                                            ...  ...   \n2022-12-31 19:00:00                              0  ...   \n2022-12-31 20:00:00                              0  ...   \n2022-12-31 21:00:00                              0  ...   \n2022-12-31 22:00:00                              0  ...   \n2022-12-31 23:00:00                              0  ...   \n\n                     Ciśnienie pary wodnej [hPa]  \\\ntimestamp                                          \n2017-01-01 00:00:00                          3.5   \n2017-01-01 01:00:00                          3.5   \n2017-01-01 02:00:00                          3.8   \n2017-01-01 03:00:00                          3.5   \n2017-01-01 04:00:00                          3.3   \n...                                          ...   \n2022-12-31 19:00:00                          9.5   \n2022-12-31 20:00:00                          9.2   \n2022-12-31 21:00:00                          9.0   \n2022-12-31 22:00:00                          8.7   \n2022-12-31 23:00:00                          8.0   \n\n                     Charakterystyka tendencji [kod]  \\\ntimestamp                                              \n2017-01-01 00:00:00                                7   \n2017-01-01 01:00:00                                6   \n2017-01-01 02:00:00                                7   \n2017-01-01 03:00:00                                8   \n2017-01-01 04:00:00                                7   \n...                                              ...   \n2022-12-31 19:00:00                                1   \n2022-12-31 20:00:00                                2   \n2022-12-31 21:00:00                                2   \n2022-12-31 22:00:00                                1   \n2022-12-31 23:00:00                                0   \n\n                     Wartość tendencji [wartość]  \\\ntimestamp                                          \n2017-01-01 00:00:00                         -1.5   \n2017-01-01 01:00:00                         -1.4   \n2017-01-01 02:00:00                         -1.4   \n2017-01-01 03:00:00                         -1.7   \n2017-01-01 04:00:00                         -2.0   \n...                                          ...   \n2022-12-31 19:00:00                          0.7   \n2022-12-31 20:00:00                          0.5   \n2022-12-31 21:00:00                          0.5   \n2022-12-31 22:00:00                          0.4   \n2022-12-31 23:00:00                          0.1   \n\n                     Rodzaj opadu za 6 godzin [kod]  Stan gruntu [kod]  \\\ntimestamp                                                                \n2017-01-01 00:00:00                               0                  4   \n2017-01-01 01:00:00                               0                  0   \n2017-01-01 02:00:00                               0                  0   \n2017-01-01 03:00:00                               0                  0   \n2017-01-01 04:00:00                               0                  0   \n...                                             ...                ...   \n2022-12-31 19:00:00                               0                  0   \n2022-12-31 20:00:00                               0                  0   \n2022-12-31 21:00:00                               0                  0   \n2022-12-31 22:00:00                               0                  0   \n2022-12-31 23:00:00                               0                  0   \n\n                     Wystąpienie rosy [0/1]  Równoważnik wodny śniegu [mm/cm]  \\\ntimestamp                                                                       \n2017-01-01 00:00:00                       0                               0.0   \n2017-01-01 01:00:00                       0                               0.0   \n2017-01-01 02:00:00                       0                               0.0   \n2017-01-01 03:00:00                       0                               0.0   \n2017-01-01 04:00:00                       0                               0.0   \n...                                     ...                               ...   \n2022-12-31 19:00:00                       0                               0.0   \n2022-12-31 20:00:00                       0                               0.0   \n2022-12-31 21:00:00                       0                               0.0   \n2022-12-31 22:00:00                       0                               0.0   \n2022-12-31 23:00:00                       0                               0.0   \n\n                     Wysokość pokrywy śnieżnej [cm]  \\\ntimestamp                                             \n2017-01-01 00:00:00                             0.0   \n2017-01-01 01:00:00                             0.0   \n2017-01-01 02:00:00                             0.0   \n2017-01-01 03:00:00                             0.0   \n2017-01-01 04:00:00                             0.0   \n...                                             ...   \n2022-12-31 19:00:00                             0.0   \n2022-12-31 20:00:00                             0.0   \n2022-12-31 21:00:00                             0.0   \n2022-12-31 22:00:00                             0.0   \n2022-12-31 23:00:00                             0.0   \n\n                     Wysokość świeżo spadłego śniegu  [cm]  \\\ntimestamp                                                    \n2017-01-01 00:00:00                                    0.0   \n2017-01-01 01:00:00                                    0.0   \n2017-01-01 02:00:00                                    0.0   \n2017-01-01 03:00:00                                    0.0   \n2017-01-01 04:00:00                                    0.0   \n...                                                    ...   \n2022-12-31 19:00:00                                    0.0   \n2022-12-31 20:00:00                                    0.0   \n2022-12-31 21:00:00                                    0.0   \n2022-12-31 22:00:00                                    0.0   \n2022-12-31 23:00:00                                    0.0   \n\n                     Gatunek śniegu  [kod]  \ntimestamp                                   \n2017-01-01 00:00:00                      0  \n2017-01-01 01:00:00                      0  \n2017-01-01 02:00:00                      0  \n2017-01-01 03:00:00                      0  \n2017-01-01 04:00:00                      0  \n...                                    ...  \n2022-12-31 19:00:00                      0  \n2022-12-31 20:00:00                      0  \n2022-12-31 21:00:00                      0  \n2022-12-31 22:00:00                      0  \n2022-12-31 23:00:00                      0  \n\n[52584 rows x 26 columns]",
      "text/html": "<div>\n<style scoped>\n    .dataframe tbody tr th:only-of-type {\n        vertical-align: middle;\n    }\n\n    .dataframe tbody tr th {\n        vertical-align: top;\n    }\n\n    .dataframe thead th {\n        text-align: right;\n    }\n</style>\n<table border=\"1\" class=\"dataframe\">\n  <thead>\n    <tr style=\"text-align: right;\">\n      <th></th>\n      <th>Temperatura powietrza [°C]/1</th>\n      <th>Ciśnienie na poziomie stacji [hPa]</th>\n      <th>Opad godzinowy [mm]</th>\n      <th>Wysokość podstawy chmur CL CM szyfrowana [kod]</th>\n      <th>Chmury CL [kod]</th>\n      <th>Chmury CM [kod]</th>\n      <th>Chmury CH [kod]</th>\n      <th>Widzialność operatora [m]</th>\n      <th>Zachmurzenie ogólne [oktanty]</th>\n      <th>Zachmurzenie niskie [oktanty]</th>\n      <th>...</th>\n      <th>Ciśnienie pary wodnej [hPa]</th>\n      <th>Charakterystyka tendencji [kod]</th>\n      <th>Wartość tendencji [wartość]</th>\n      <th>Rodzaj opadu za 6 godzin [kod]</th>\n      <th>Stan gruntu [kod]</th>\n      <th>Wystąpienie rosy [0/1]</th>\n      <th>Równoważnik wodny śniegu [mm/cm]</th>\n      <th>Wysokość pokrywy śnieżnej [cm]</th>\n      <th>Wysokość świeżo spadłego śniegu  [cm]</th>\n      <th>Gatunek śniegu  [kod]</th>\n    </tr>\n    <tr>\n      <th>timestamp</th>\n      <th></th>\n      <th></th>\n      <th></th>\n      <th></th>\n      <th></th>\n      <th></th>\n      <th></th>\n      <th></th>\n      <th></th>\n      <th></th>\n      <th></th>\n      <th></th>\n      <th></th>\n      <th></th>\n      <th></th>\n      <th></th>\n      <th></th>\n      <th></th>\n      <th></th>\n      <th></th>\n      <th></th>\n    </tr>\n  </thead>\n  <tbody>\n    <tr>\n      <th>2017-01-01 00:00:00</th>\n      <td>-6.8</td>\n      <td>995.8</td>\n      <td>0.0</td>\n      <td>9</td>\n      <td>0</td>\n      <td>0</td>\n      <td>0</td>\n      <td>3500</td>\n      <td>0</td>\n      <td>0</td>\n      <td>...</td>\n      <td>3.5</td>\n      <td>7</td>\n      <td>-1.5</td>\n      <td>0</td>\n      <td>4</td>\n      <td>0</td>\n      <td>0.0</td>\n      <td>0.0</td>\n      <td>0.0</td>\n      <td>0</td>\n    </tr>\n    <tr>\n      <th>2017-01-01 01:00:00</th>\n      <td>-6.9</td>\n      <td>995.6</td>\n      <td>0.0</td>\n      <td>9</td>\n      <td>0</td>\n      <td>0</td>\n      <td>0</td>\n      <td>3500</td>\n      <td>0</td>\n      <td>0</td>\n      <td>...</td>\n      <td>3.5</td>\n      <td>6</td>\n      <td>-1.4</td>\n      <td>0</td>\n      <td>0</td>\n      <td>0</td>\n      <td>0.0</td>\n      <td>0.0</td>\n      <td>0.0</td>\n      <td>0</td>\n    </tr>\n    <tr>\n      <th>2017-01-01 02:00:00</th>\n      <td>-3.9</td>\n      <td>994.9</td>\n      <td>0.0</td>\n      <td>9</td>\n      <td>0</td>\n      <td>0</td>\n      <td>0</td>\n      <td>5000</td>\n      <td>0</td>\n      <td>0</td>\n      <td>...</td>\n      <td>3.8</td>\n      <td>7</td>\n      <td>-1.4</td>\n      <td>0</td>\n      <td>0</td>\n      <td>0</td>\n      <td>0.0</td>\n      <td>0.0</td>\n      <td>0.0</td>\n      <td>0</td>\n    </tr>\n    <tr>\n      <th>2017-01-01 03:00:00</th>\n      <td>-6.5</td>\n      <td>994.1</td>\n      <td>0.0</td>\n      <td>9</td>\n      <td>0</td>\n      <td>0</td>\n      <td>0</td>\n      <td>4000</td>\n      <td>0</td>\n      <td>0</td>\n      <td>...</td>\n      <td>3.5</td>\n      <td>8</td>\n      <td>-1.7</td>\n      <td>0</td>\n      <td>0</td>\n      <td>0</td>\n      <td>0.0</td>\n      <td>0.0</td>\n      <td>0.0</td>\n      <td>0</td>\n    </tr>\n    <tr>\n      <th>2017-01-01 04:00:00</th>\n      <td>-6.1</td>\n      <td>993.6</td>\n      <td>0.0</td>\n      <td>9</td>\n      <td>0</td>\n      <td>0</td>\n      <td>0</td>\n      <td>4000</td>\n      <td>0</td>\n      <td>0</td>\n      <td>...</td>\n      <td>3.3</td>\n      <td>7</td>\n      <td>-2.0</td>\n      <td>0</td>\n      <td>0</td>\n      <td>0</td>\n      <td>0.0</td>\n      <td>0.0</td>\n      <td>0.0</td>\n      <td>0</td>\n    </tr>\n    <tr>\n      <th>...</th>\n      <td>...</td>\n      <td>...</td>\n      <td>...</td>\n      <td>...</td>\n      <td>...</td>\n      <td>...</td>\n      <td>...</td>\n      <td>...</td>\n      <td>...</td>\n      <td>...</td>\n      <td>...</td>\n      <td>...</td>\n      <td>...</td>\n      <td>...</td>\n      <td>...</td>\n      <td>...</td>\n      <td>...</td>\n      <td>...</td>\n      <td>...</td>\n      <td>...</td>\n      <td>...</td>\n    </tr>\n    <tr>\n      <th>2022-12-31 19:00:00</th>\n      <td>8.3</td>\n      <td>991.2</td>\n      <td>0.0</td>\n      <td>9</td>\n      <td>0</td>\n      <td>0</td>\n      <td>0</td>\n      <td>20000</td>\n      <td>7</td>\n      <td>0</td>\n      <td>...</td>\n      <td>9.5</td>\n      <td>1</td>\n      <td>0.7</td>\n      <td>0</td>\n      <td>0</td>\n      <td>0</td>\n      <td>0.0</td>\n      <td>0.0</td>\n      <td>0.0</td>\n      <td>0</td>\n    </tr>\n    <tr>\n      <th>2022-12-31 20:00:00</th>\n      <td>9.1</td>\n      <td>991.4</td>\n      <td>0.0</td>\n      <td>9</td>\n      <td>0</td>\n      <td>0</td>\n      <td>0</td>\n      <td>20000</td>\n      <td>7</td>\n      <td>0</td>\n      <td>...</td>\n      <td>9.2</td>\n      <td>2</td>\n      <td>0.5</td>\n      <td>0</td>\n      <td>0</td>\n      <td>0</td>\n      <td>0.0</td>\n      <td>0.0</td>\n      <td>0.0</td>\n      <td>0</td>\n    </tr>\n    <tr>\n      <th>2022-12-31 21:00:00</th>\n      <td>8.4</td>\n      <td>991.6</td>\n      <td>0.0</td>\n      <td>9</td>\n      <td>0</td>\n      <td>0</td>\n      <td>0</td>\n      <td>20000</td>\n      <td>7</td>\n      <td>0</td>\n      <td>...</td>\n      <td>9.0</td>\n      <td>2</td>\n      <td>0.5</td>\n      <td>0</td>\n      <td>0</td>\n      <td>0</td>\n      <td>0.0</td>\n      <td>0.0</td>\n      <td>0.0</td>\n      <td>0</td>\n    </tr>\n    <tr>\n      <th>2022-12-31 22:00:00</th>\n      <td>9.3</td>\n      <td>991.6</td>\n      <td>0.0</td>\n      <td>9</td>\n      <td>0</td>\n      <td>0</td>\n      <td>0</td>\n      <td>20000</td>\n      <td>7</td>\n      <td>0</td>\n      <td>...</td>\n      <td>8.7</td>\n      <td>1</td>\n      <td>0.4</td>\n      <td>0</td>\n      <td>0</td>\n      <td>0</td>\n      <td>0.0</td>\n      <td>0.0</td>\n      <td>0.0</td>\n      <td>0</td>\n    </tr>\n    <tr>\n      <th>2022-12-31 23:00:00</th>\n      <td>6.1</td>\n      <td>991.5</td>\n      <td>0.0</td>\n      <td>9</td>\n      <td>0</td>\n      <td>0</td>\n      <td>0</td>\n      <td>20000</td>\n      <td>7</td>\n      <td>0</td>\n      <td>...</td>\n      <td>8.0</td>\n      <td>0</td>\n      <td>0.1</td>\n      <td>0</td>\n      <td>0</td>\n      <td>0</td>\n      <td>0.0</td>\n      <td>0.0</td>\n      <td>0.0</td>\n      <td>0</td>\n    </tr>\n  </tbody>\n</table>\n<p>52584 rows × 26 columns</p>\n</div>"
     },
     "execution_count": 5,
     "metadata": {},
     "output_type": "execute_result"
    }
   ],
   "source": [
    "complete_data"
   ],
   "metadata": {
    "collapsed": false,
    "ExecuteTime": {
     "end_time": "2023-12-27T18:01:31.552941700Z",
     "start_time": "2023-12-27T18:01:31.467950700Z"
    }
   },
   "id": "5b3079693ec91283"
  },
  {
   "cell_type": "code",
   "execution_count": 6,
   "outputs": [],
   "source": [
    "complete_data.to_csv('../data/preprocessed_data/complete_krk_2017-22.csv')"
   ],
   "metadata": {
    "collapsed": false,
    "ExecuteTime": {
     "end_time": "2023-12-27T18:01:32.141646100Z",
     "start_time": "2023-12-27T18:01:31.544945100Z"
    }
   },
   "id": "9ebda28424fdc9"
  },
  {
   "cell_type": "code",
   "execution_count": 6,
   "outputs": [],
   "source": [],
   "metadata": {
    "collapsed": false,
    "ExecuteTime": {
     "end_time": "2023-12-27T18:01:32.179644800Z",
     "start_time": "2023-12-27T18:01:32.144699400Z"
    }
   },
   "id": "34ac0428c83f49a1"
  }
 ],
 "metadata": {
  "kernelspec": {
   "display_name": "Python 3",
   "language": "python",
   "name": "python3"
  },
  "language_info": {
   "codemirror_mode": {
    "name": "ipython",
    "version": 2
   },
   "file_extension": ".py",
   "mimetype": "text/x-python",
   "name": "python",
   "nbconvert_exporter": "python",
   "pygments_lexer": "ipython2",
   "version": "2.7.6"
  }
 },
 "nbformat": 4,
 "nbformat_minor": 5
}
