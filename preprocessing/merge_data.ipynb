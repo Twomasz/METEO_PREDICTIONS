{
 "cells": [
  {
   "cell_type": "code",
   "execution_count": 7,
   "id": "initial_id",
   "metadata": {
    "collapsed": true,
    "ExecuteTime": {
     "end_time": "2023-12-20T00:43:18.198179100Z",
     "start_time": "2023-12-20T00:43:18.111627300Z"
    }
   },
   "outputs": [],
   "source": [
    "import pandas as pd"
   ]
  },
  {
   "cell_type": "code",
   "execution_count": 24,
   "outputs": [],
   "source": [
    "rain_data = pd.read_csv('../data/preprocessed_data/rain_krk_17-22_preprocessed.csv')\n",
    "rest_data = pd.read_csv('../data/preprocessed_data/general_krk_data_17-22_preprocessed.csv')"
   ],
   "metadata": {
    "collapsed": false,
    "ExecuteTime": {
     "end_time": "2023-12-20T00:50:18.997856500Z",
     "start_time": "2023-12-20T00:50:18.749857600Z"
    }
   },
   "id": "ef3d48f79a9a5c69"
  },
  {
   "cell_type": "code",
   "execution_count": 25,
   "outputs": [],
   "source": [
    "rest_data.set_index('timestamp', inplace=True)\n",
    "rain_data.set_index('Unnamed: 0', inplace=True)"
   ],
   "metadata": {
    "collapsed": false,
    "ExecuteTime": {
     "end_time": "2023-12-20T00:50:19.295272Z",
     "start_time": "2023-12-20T00:50:19.184207Z"
    }
   },
   "id": "1d4667273311cb35"
  },
  {
   "cell_type": "code",
   "execution_count": 29,
   "outputs": [],
   "source": [
    "complete_data = rest_data.copy()\n",
    "complete_data['Opad za 6 godzin [mm]'] = rain_data['B00606S']\n",
    "complete_data.rename(columns={'Opad za 6 godzin [mm]': 'Opad godzinowy [mm]'}, inplace=True)"
   ],
   "metadata": {
    "collapsed": false,
    "ExecuteTime": {
     "end_time": "2023-12-20T00:54:22.635752600Z",
     "start_time": "2023-12-20T00:54:22.594749200Z"
    }
   },
   "id": "36f4762f4ab893fe"
  },
  {
   "cell_type": "code",
   "execution_count": 30,
   "outputs": [
    {
     "data": {
      "text/plain": "                     Temperatura powietrza [°C]/1  \\\ntimestamp                                           \n2017-01-01 00:00:00                          -6.8   \n2017-01-01 01:00:00                          -6.9   \n2017-01-01 02:00:00                          -3.9   \n2017-01-01 03:00:00                          -6.5   \n2017-01-01 04:00:00                          -6.1   \n...                                           ...   \n2022-12-31 19:00:00                           8.3   \n2022-12-31 20:00:00                           9.1   \n2022-12-31 21:00:00                           8.4   \n2022-12-31 22:00:00                           9.3   \n2022-12-31 23:00:00                           6.1   \n\n                     Ciśnienie na pozimie stacji [hPa]  Opad godzinowy [mm]  \\\ntimestamp                                                                     \n2017-01-01 00:00:00                              995.8                  0.0   \n2017-01-01 01:00:00                              995.6                  0.0   \n2017-01-01 02:00:00                              994.9                  0.0   \n2017-01-01 03:00:00                              994.1                  0.0   \n2017-01-01 04:00:00                              993.6                  0.0   \n...                                                ...                  ...   \n2022-12-31 19:00:00                              991.2                  0.0   \n2022-12-31 20:00:00                              991.4                  0.0   \n2022-12-31 21:00:00                              991.6                  0.0   \n2022-12-31 22:00:00                              991.6                  0.0   \n2022-12-31 23:00:00                              991.5                  0.0   \n\n                     Wysokość podstawy niższej  [m]  \\\ntimestamp                                             \n2017-01-01 00:00:00                               0   \n2017-01-01 01:00:00                               0   \n2017-01-01 02:00:00                               0   \n2017-01-01 03:00:00                               0   \n2017-01-01 04:00:00                               0   \n...                                             ...   \n2022-12-31 19:00:00                               0   \n2022-12-31 20:00:00                               0   \n2022-12-31 21:00:00                               0   \n2022-12-31 22:00:00                               0   \n2022-12-31 23:00:00                               0   \n\n                     Wysokość podstawy wyższej [m]  Widzialność  [kod]  \\\ntimestamp                                                                \n2017-01-01 00:00:00                              0                   5   \n2017-01-01 01:00:00                              0                   5   \n2017-01-01 02:00:00                              0                   6   \n2017-01-01 03:00:00                              0                   6   \n2017-01-01 04:00:00                              0                   6   \n...                                            ...                 ...   \n2022-12-31 19:00:00                              0                   8   \n2022-12-31 20:00:00                              0                   8   \n2022-12-31 21:00:00                              0                   8   \n2022-12-31 22:00:00                              0                   8   \n2022-12-31 23:00:00                              0                   8   \n\n                     Widzialność operatora [m]  Zachmurzenie ogólne [oktanty]  \\\ntimestamp                                                                       \n2017-01-01 00:00:00                       3500                              0   \n2017-01-01 01:00:00                       3500                              0   \n2017-01-01 02:00:00                       5000                              0   \n2017-01-01 03:00:00                       4000                              0   \n2017-01-01 04:00:00                       4000                              0   \n...                                        ...                            ...   \n2022-12-31 19:00:00                      20000                              7   \n2022-12-31 20:00:00                      20000                              7   \n2022-12-31 21:00:00                      20000                              7   \n2022-12-31 22:00:00                      20000                              7   \n2022-12-31 23:00:00                      20000                              7   \n\n                     Kierunek wiatru  [°]  Prędkość wiatru  [m/s]  ...  \\\ntimestamp                                                          ...   \n2017-01-01 00:00:00                   357                       1  ...   \n2017-01-01 01:00:00                    98                       1  ...   \n2017-01-01 02:00:00                   205                       3  ...   \n2017-01-01 03:00:00                   211                       2  ...   \n2017-01-01 04:00:00                   168                       1  ...   \n...                                   ...                     ...  ...   \n2022-12-31 19:00:00                   250                       3  ...   \n2022-12-31 20:00:00                   236                       3  ...   \n2022-12-31 21:00:00                   200                       2  ...   \n2022-12-31 22:00:00                   262                       2  ...   \n2022-12-31 23:00:00                   125                       1  ...   \n\n                     Wystąpienie rosy [0/1]  \\\ntimestamp                                     \n2017-01-01 00:00:00                       0   \n2017-01-01 01:00:00                       0   \n2017-01-01 02:00:00                       0   \n2017-01-01 03:00:00                       0   \n2017-01-01 04:00:00                       0   \n...                                     ...   \n2022-12-31 19:00:00                       0   \n2022-12-31 20:00:00                       0   \n2022-12-31 21:00:00                       0   \n2022-12-31 22:00:00                       0   \n2022-12-31 23:00:00                       0   \n\n                     Poryw maksymalny za okres WW [m/s]  \\\ntimestamp                                                 \n2017-01-01 00:00:00                                   0   \n2017-01-01 01:00:00                                   0   \n2017-01-01 02:00:00                                   0   \n2017-01-01 03:00:00                                   0   \n2017-01-01 04:00:00                                   0   \n...                                                 ...   \n2022-12-31 19:00:00                                   0   \n2022-12-31 20:00:00                                   0   \n2022-12-31 21:00:00                                   0   \n2022-12-31 22:00:00                                   0   \n2022-12-31 23:00:00                                   0   \n\n                     Temperatura minimalna za 12 godzin  [°C]  \\\ntimestamp                                                       \n2017-01-01 00:00:00                                       0.0   \n2017-01-01 01:00:00                                       0.0   \n2017-01-01 02:00:00                                       0.0   \n2017-01-01 03:00:00                                       0.0   \n2017-01-01 04:00:00                                       0.0   \n...                                                       ...   \n2022-12-31 19:00:00                                       0.0   \n2022-12-31 20:00:00                                       0.0   \n2022-12-31 21:00:00                                       0.0   \n2022-12-31 22:00:00                                       0.0   \n2022-12-31 23:00:00                                       0.0   \n\n                     Temperatura maksymalna za 12 godzin [°C]  \\\ntimestamp                                                       \n2017-01-01 00:00:00                                       0.0   \n2017-01-01 01:00:00                                       0.0   \n2017-01-01 02:00:00                                       0.0   \n2017-01-01 03:00:00                                       0.0   \n2017-01-01 04:00:00                                       0.0   \n...                                                       ...   \n2022-12-31 19:00:00                                       0.0   \n2022-12-31 20:00:00                                       0.0   \n2022-12-31 21:00:00                                       0.0   \n2022-12-31 22:00:00                                       0.0   \n2022-12-31 23:00:00                                       0.0   \n\n                     Równoważnik wodny śniegu [mm/cm]  \\\ntimestamp                                               \n2017-01-01 00:00:00                               0.0   \n2017-01-01 01:00:00                               0.0   \n2017-01-01 02:00:00                               0.0   \n2017-01-01 03:00:00                               0.0   \n2017-01-01 04:00:00                               0.0   \n...                                               ...   \n2022-12-31 19:00:00                               0.0   \n2022-12-31 20:00:00                               0.0   \n2022-12-31 21:00:00                               0.0   \n2022-12-31 22:00:00                               0.0   \n2022-12-31 23:00:00                               0.0   \n\n                     Wysokość pokrywy śnieżnej [cm]  \\\ntimestamp                                             \n2017-01-01 00:00:00                               0   \n2017-01-01 01:00:00                               0   \n2017-01-01 02:00:00                               0   \n2017-01-01 03:00:00                               0   \n2017-01-01 04:00:00                               0   \n...                                             ...   \n2022-12-31 19:00:00                               0   \n2022-12-31 20:00:00                               0   \n2022-12-31 21:00:00                               0   \n2022-12-31 22:00:00                               0   \n2022-12-31 23:00:00                               0   \n\n                     Wysokość świeżo spadłego śniegu  [cm]  \\\ntimestamp                                                    \n2017-01-01 00:00:00                                      0   \n2017-01-01 01:00:00                                      0   \n2017-01-01 02:00:00                                      0   \n2017-01-01 03:00:00                                      0   \n2017-01-01 04:00:00                                      0   \n...                                                    ...   \n2022-12-31 19:00:00                                      0   \n2022-12-31 20:00:00                                      0   \n2022-12-31 21:00:00                                      0   \n2022-12-31 22:00:00                                      0   \n2022-12-31 23:00:00                                      0   \n\n                     Wysokość śniegu na poletku [cm]  Wysokość próbki [cm]  \\\ntimestamp                                                                    \n2017-01-01 00:00:00                                0                     0   \n2017-01-01 01:00:00                                0                     0   \n2017-01-01 02:00:00                                0                     0   \n2017-01-01 03:00:00                                0                     0   \n2017-01-01 04:00:00                                0                     0   \n...                                              ...                   ...   \n2022-12-31 19:00:00                                0                     0   \n2022-12-31 20:00:00                                0                     0   \n2022-12-31 21:00:00                                0                     0   \n2022-12-31 22:00:00                                0                     0   \n2022-12-31 23:00:00                                0                     0   \n\n                     Ciężar próbki [g]  \ntimestamp                               \n2017-01-01 00:00:00                  0  \n2017-01-01 01:00:00                  0  \n2017-01-01 02:00:00                  0  \n2017-01-01 03:00:00                  0  \n2017-01-01 04:00:00                  0  \n...                                ...  \n2022-12-31 19:00:00                  0  \n2022-12-31 20:00:00                  0  \n2022-12-31 21:00:00                  0  \n2022-12-31 22:00:00                  0  \n2022-12-31 23:00:00                  0  \n\n[52584 rows x 33 columns]",
      "text/html": "<div>\n<style scoped>\n    .dataframe tbody tr th:only-of-type {\n        vertical-align: middle;\n    }\n\n    .dataframe tbody tr th {\n        vertical-align: top;\n    }\n\n    .dataframe thead th {\n        text-align: right;\n    }\n</style>\n<table border=\"1\" class=\"dataframe\">\n  <thead>\n    <tr style=\"text-align: right;\">\n      <th></th>\n      <th>Temperatura powietrza [°C]/1</th>\n      <th>Ciśnienie na pozimie stacji [hPa]</th>\n      <th>Opad godzinowy [mm]</th>\n      <th>Wysokość podstawy niższej  [m]</th>\n      <th>Wysokość podstawy wyższej [m]</th>\n      <th>Widzialność  [kod]</th>\n      <th>Widzialność operatora [m]</th>\n      <th>Zachmurzenie ogólne [oktanty]</th>\n      <th>Kierunek wiatru  [°]</th>\n      <th>Prędkość wiatru  [m/s]</th>\n      <th>...</th>\n      <th>Wystąpienie rosy [0/1]</th>\n      <th>Poryw maksymalny za okres WW [m/s]</th>\n      <th>Temperatura minimalna za 12 godzin  [°C]</th>\n      <th>Temperatura maksymalna za 12 godzin [°C]</th>\n      <th>Równoważnik wodny śniegu [mm/cm]</th>\n      <th>Wysokość pokrywy śnieżnej [cm]</th>\n      <th>Wysokość świeżo spadłego śniegu  [cm]</th>\n      <th>Wysokość śniegu na poletku [cm]</th>\n      <th>Wysokość próbki [cm]</th>\n      <th>Ciężar próbki [g]</th>\n    </tr>\n    <tr>\n      <th>timestamp</th>\n      <th></th>\n      <th></th>\n      <th></th>\n      <th></th>\n      <th></th>\n      <th></th>\n      <th></th>\n      <th></th>\n      <th></th>\n      <th></th>\n      <th></th>\n      <th></th>\n      <th></th>\n      <th></th>\n      <th></th>\n      <th></th>\n      <th></th>\n      <th></th>\n      <th></th>\n      <th></th>\n      <th></th>\n    </tr>\n  </thead>\n  <tbody>\n    <tr>\n      <th>2017-01-01 00:00:00</th>\n      <td>-6.8</td>\n      <td>995.8</td>\n      <td>0.0</td>\n      <td>0</td>\n      <td>0</td>\n      <td>5</td>\n      <td>3500</td>\n      <td>0</td>\n      <td>357</td>\n      <td>1</td>\n      <td>...</td>\n      <td>0</td>\n      <td>0</td>\n      <td>0.0</td>\n      <td>0.0</td>\n      <td>0.0</td>\n      <td>0</td>\n      <td>0</td>\n      <td>0</td>\n      <td>0</td>\n      <td>0</td>\n    </tr>\n    <tr>\n      <th>2017-01-01 01:00:00</th>\n      <td>-6.9</td>\n      <td>995.6</td>\n      <td>0.0</td>\n      <td>0</td>\n      <td>0</td>\n      <td>5</td>\n      <td>3500</td>\n      <td>0</td>\n      <td>98</td>\n      <td>1</td>\n      <td>...</td>\n      <td>0</td>\n      <td>0</td>\n      <td>0.0</td>\n      <td>0.0</td>\n      <td>0.0</td>\n      <td>0</td>\n      <td>0</td>\n      <td>0</td>\n      <td>0</td>\n      <td>0</td>\n    </tr>\n    <tr>\n      <th>2017-01-01 02:00:00</th>\n      <td>-3.9</td>\n      <td>994.9</td>\n      <td>0.0</td>\n      <td>0</td>\n      <td>0</td>\n      <td>6</td>\n      <td>5000</td>\n      <td>0</td>\n      <td>205</td>\n      <td>3</td>\n      <td>...</td>\n      <td>0</td>\n      <td>0</td>\n      <td>0.0</td>\n      <td>0.0</td>\n      <td>0.0</td>\n      <td>0</td>\n      <td>0</td>\n      <td>0</td>\n      <td>0</td>\n      <td>0</td>\n    </tr>\n    <tr>\n      <th>2017-01-01 03:00:00</th>\n      <td>-6.5</td>\n      <td>994.1</td>\n      <td>0.0</td>\n      <td>0</td>\n      <td>0</td>\n      <td>6</td>\n      <td>4000</td>\n      <td>0</td>\n      <td>211</td>\n      <td>2</td>\n      <td>...</td>\n      <td>0</td>\n      <td>0</td>\n      <td>0.0</td>\n      <td>0.0</td>\n      <td>0.0</td>\n      <td>0</td>\n      <td>0</td>\n      <td>0</td>\n      <td>0</td>\n      <td>0</td>\n    </tr>\n    <tr>\n      <th>2017-01-01 04:00:00</th>\n      <td>-6.1</td>\n      <td>993.6</td>\n      <td>0.0</td>\n      <td>0</td>\n      <td>0</td>\n      <td>6</td>\n      <td>4000</td>\n      <td>0</td>\n      <td>168</td>\n      <td>1</td>\n      <td>...</td>\n      <td>0</td>\n      <td>0</td>\n      <td>0.0</td>\n      <td>0.0</td>\n      <td>0.0</td>\n      <td>0</td>\n      <td>0</td>\n      <td>0</td>\n      <td>0</td>\n      <td>0</td>\n    </tr>\n    <tr>\n      <th>...</th>\n      <td>...</td>\n      <td>...</td>\n      <td>...</td>\n      <td>...</td>\n      <td>...</td>\n      <td>...</td>\n      <td>...</td>\n      <td>...</td>\n      <td>...</td>\n      <td>...</td>\n      <td>...</td>\n      <td>...</td>\n      <td>...</td>\n      <td>...</td>\n      <td>...</td>\n      <td>...</td>\n      <td>...</td>\n      <td>...</td>\n      <td>...</td>\n      <td>...</td>\n      <td>...</td>\n    </tr>\n    <tr>\n      <th>2022-12-31 19:00:00</th>\n      <td>8.3</td>\n      <td>991.2</td>\n      <td>0.0</td>\n      <td>0</td>\n      <td>0</td>\n      <td>8</td>\n      <td>20000</td>\n      <td>7</td>\n      <td>250</td>\n      <td>3</td>\n      <td>...</td>\n      <td>0</td>\n      <td>0</td>\n      <td>0.0</td>\n      <td>0.0</td>\n      <td>0.0</td>\n      <td>0</td>\n      <td>0</td>\n      <td>0</td>\n      <td>0</td>\n      <td>0</td>\n    </tr>\n    <tr>\n      <th>2022-12-31 20:00:00</th>\n      <td>9.1</td>\n      <td>991.4</td>\n      <td>0.0</td>\n      <td>0</td>\n      <td>0</td>\n      <td>8</td>\n      <td>20000</td>\n      <td>7</td>\n      <td>236</td>\n      <td>3</td>\n      <td>...</td>\n      <td>0</td>\n      <td>0</td>\n      <td>0.0</td>\n      <td>0.0</td>\n      <td>0.0</td>\n      <td>0</td>\n      <td>0</td>\n      <td>0</td>\n      <td>0</td>\n      <td>0</td>\n    </tr>\n    <tr>\n      <th>2022-12-31 21:00:00</th>\n      <td>8.4</td>\n      <td>991.6</td>\n      <td>0.0</td>\n      <td>0</td>\n      <td>0</td>\n      <td>8</td>\n      <td>20000</td>\n      <td>7</td>\n      <td>200</td>\n      <td>2</td>\n      <td>...</td>\n      <td>0</td>\n      <td>0</td>\n      <td>0.0</td>\n      <td>0.0</td>\n      <td>0.0</td>\n      <td>0</td>\n      <td>0</td>\n      <td>0</td>\n      <td>0</td>\n      <td>0</td>\n    </tr>\n    <tr>\n      <th>2022-12-31 22:00:00</th>\n      <td>9.3</td>\n      <td>991.6</td>\n      <td>0.0</td>\n      <td>0</td>\n      <td>0</td>\n      <td>8</td>\n      <td>20000</td>\n      <td>7</td>\n      <td>262</td>\n      <td>2</td>\n      <td>...</td>\n      <td>0</td>\n      <td>0</td>\n      <td>0.0</td>\n      <td>0.0</td>\n      <td>0.0</td>\n      <td>0</td>\n      <td>0</td>\n      <td>0</td>\n      <td>0</td>\n      <td>0</td>\n    </tr>\n    <tr>\n      <th>2022-12-31 23:00:00</th>\n      <td>6.1</td>\n      <td>991.5</td>\n      <td>0.0</td>\n      <td>0</td>\n      <td>0</td>\n      <td>8</td>\n      <td>20000</td>\n      <td>7</td>\n      <td>125</td>\n      <td>1</td>\n      <td>...</td>\n      <td>0</td>\n      <td>0</td>\n      <td>0.0</td>\n      <td>0.0</td>\n      <td>0.0</td>\n      <td>0</td>\n      <td>0</td>\n      <td>0</td>\n      <td>0</td>\n      <td>0</td>\n    </tr>\n  </tbody>\n</table>\n<p>52584 rows × 33 columns</p>\n</div>"
     },
     "execution_count": 30,
     "metadata": {},
     "output_type": "execute_result"
    }
   ],
   "source": [
    "complete_data"
   ],
   "metadata": {
    "collapsed": false,
    "ExecuteTime": {
     "end_time": "2023-12-20T00:54:24.035882600Z",
     "start_time": "2023-12-20T00:54:23.969885800Z"
    }
   },
   "id": "5b3079693ec91283"
  },
  {
   "cell_type": "code",
   "execution_count": 31,
   "outputs": [],
   "source": [
    "complete_data.to_csv('../data/preprocessed_data/complete_krk_2017-22.csv')"
   ],
   "metadata": {
    "collapsed": false,
    "ExecuteTime": {
     "end_time": "2023-12-20T00:57:08.775495300Z",
     "start_time": "2023-12-20T00:57:08.027571500Z"
    }
   },
   "id": "9ebda28424fdc9"
  },
  {
   "cell_type": "code",
   "execution_count": null,
   "outputs": [],
   "source": [],
   "metadata": {
    "collapsed": false
   },
   "id": "34ac0428c83f49a1"
  }
 ],
 "metadata": {
  "kernelspec": {
   "display_name": "Python 3",
   "language": "python",
   "name": "python3"
  },
  "language_info": {
   "codemirror_mode": {
    "name": "ipython",
    "version": 2
   },
   "file_extension": ".py",
   "mimetype": "text/x-python",
   "name": "python",
   "nbconvert_exporter": "python",
   "pygments_lexer": "ipython2",
   "version": "2.7.6"
  }
 },
 "nbformat": 4,
 "nbformat_minor": 5
}
