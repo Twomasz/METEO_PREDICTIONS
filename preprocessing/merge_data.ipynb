{
 "cells": [
  {
   "cell_type": "code",
   "execution_count": 1,
   "id": "initial_id",
   "metadata": {
    "collapsed": true,
    "ExecuteTime": {
     "end_time": "2024-01-07T22:23:54.858950300Z",
     "start_time": "2024-01-07T22:23:54.408578800Z"
    }
   },
   "outputs": [],
   "source": [
    "import pandas as pd"
   ]
  },
  {
   "cell_type": "code",
   "execution_count": 2,
   "outputs": [],
   "source": [
    "rain_data = pd.read_csv('../data/preprocessed_data/rain_krk_17-22_preprocessed.csv')\n",
    "rest_data = pd.read_csv('../data/preprocessed_data/general_krk_data_17-22_preprocessed.csv')"
   ],
   "metadata": {
    "collapsed": false,
    "ExecuteTime": {
     "end_time": "2024-01-07T22:23:55.040269900Z",
     "start_time": "2024-01-07T22:23:54.865960200Z"
    }
   },
   "id": "ef3d48f79a9a5c69"
  },
  {
   "cell_type": "code",
   "execution_count": 3,
   "outputs": [],
   "source": [
    "rest_data.set_index('timestamp', inplace=True)\n",
    "rain_data.set_index('Unnamed: 0', inplace=True)"
   ],
   "metadata": {
    "collapsed": false,
    "ExecuteTime": {
     "end_time": "2024-01-07T22:23:55.065643300Z",
     "start_time": "2024-01-07T22:23:55.046477Z"
    }
   },
   "id": "1d4667273311cb35"
  },
  {
   "cell_type": "code",
   "execution_count": 4,
   "outputs": [],
   "source": [
    "complete_data = rest_data.copy()\n",
    "complete_data['Opad za 6 godzin [mm]'] = rain_data['B00606S']\n",
    "complete_data.rename(columns={'Opad za 6 godzin [mm]': 'Opad godzinowy [mm]'}, inplace=True)"
   ],
   "metadata": {
    "collapsed": false,
    "ExecuteTime": {
     "end_time": "2024-01-07T22:23:55.092352500Z",
     "start_time": "2024-01-07T22:23:55.076418600Z"
    }
   },
   "id": "36f4762f4ab893fe"
  },
  {
   "cell_type": "code",
   "execution_count": 5,
   "outputs": [
    {
     "data": {
      "text/plain": "                     Temperatura powietrza [°C]/1  \\\ntimestamp                                           \n2017-01-01 00:00:00                          -6.8   \n2017-01-01 01:00:00                          -6.9   \n2017-01-01 02:00:00                          -3.9   \n2017-01-01 03:00:00                          -6.5   \n2017-01-01 04:00:00                          -6.1   \n...                                           ...   \n2022-12-31 19:00:00                           8.3   \n2022-12-31 20:00:00                           9.1   \n2022-12-31 21:00:00                           8.4   \n2022-12-31 22:00:00                           9.3   \n2022-12-31 23:00:00                           6.1   \n\n                     Ciśnienie na poziomie stacji [hPa]  \\\ntimestamp                                                 \n2017-01-01 00:00:00                               995.8   \n2017-01-01 01:00:00                               995.6   \n2017-01-01 02:00:00                               994.9   \n2017-01-01 03:00:00                               994.1   \n2017-01-01 04:00:00                               993.6   \n...                                                 ...   \n2022-12-31 19:00:00                               991.2   \n2022-12-31 20:00:00                               991.4   \n2022-12-31 21:00:00                               991.6   \n2022-12-31 22:00:00                               991.6   \n2022-12-31 23:00:00                               991.5   \n\n                     Ciśnienie na poziomie morza [hPa]  \\\ntimestamp                                                \n2017-01-01 00:00:00                             1027.1   \n2017-01-01 01:00:00                             1026.9   \n2017-01-01 02:00:00                             1025.8   \n2017-01-01 03:00:00                             1025.3   \n2017-01-01 04:00:00                             1024.8   \n...                                                ...   \n2022-12-31 19:00:00                             1020.7   \n2022-12-31 20:00:00                             1020.8   \n2022-12-31 21:00:00                             1021.1   \n2022-12-31 22:00:00                             1021.0   \n2022-12-31 23:00:00                             1021.2   \n\n                     Ciśnienie pary wodnej [hPa]  Widzialność operatora [m]  \\\ntimestamp                                                                     \n2017-01-01 00:00:00                          3.5                       3500   \n2017-01-01 01:00:00                          3.5                       3500   \n2017-01-01 02:00:00                          3.8                       5000   \n2017-01-01 03:00:00                          3.5                       4000   \n2017-01-01 04:00:00                          3.3                       4000   \n...                                          ...                        ...   \n2022-12-31 19:00:00                          9.5                      20000   \n2022-12-31 20:00:00                          9.2                      20000   \n2022-12-31 21:00:00                          9.0                      20000   \n2022-12-31 22:00:00                          8.7                      20000   \n2022-12-31 23:00:00                          8.0                      20000   \n\n                     Zachmurzenie ogólne [oktanty]  \\\ntimestamp                                            \n2017-01-01 00:00:00                              0   \n2017-01-01 01:00:00                              0   \n2017-01-01 02:00:00                              0   \n2017-01-01 03:00:00                              0   \n2017-01-01 04:00:00                              0   \n...                                            ...   \n2022-12-31 19:00:00                              7   \n2022-12-31 20:00:00                              7   \n2022-12-31 21:00:00                              7   \n2022-12-31 22:00:00                              7   \n2022-12-31 23:00:00                              7   \n\n                     Zachmurzenie niskie [oktanty]  Chmury CL [kod]  \\\ntimestamp                                                             \n2017-01-01 00:00:00                              0                0   \n2017-01-01 01:00:00                              0                0   \n2017-01-01 02:00:00                              0                0   \n2017-01-01 03:00:00                              0                0   \n2017-01-01 04:00:00                              0                0   \n...                                            ...              ...   \n2022-12-31 19:00:00                              0                0   \n2022-12-31 20:00:00                              0                0   \n2022-12-31 21:00:00                              0                0   \n2022-12-31 22:00:00                              0                0   \n2022-12-31 23:00:00                              0                0   \n\n                     Chmury CM [kod]  Chmury CH [kod]  ...  \\\ntimestamp                                              ...   \n2017-01-01 00:00:00                0                0  ...   \n2017-01-01 01:00:00                0                0  ...   \n2017-01-01 02:00:00                0                0  ...   \n2017-01-01 03:00:00                0                0  ...   \n2017-01-01 04:00:00                0                0  ...   \n...                              ...              ...  ...   \n2022-12-31 19:00:00                0                0  ...   \n2022-12-31 20:00:00                0                0  ...   \n2022-12-31 21:00:00                0                0  ...   \n2022-12-31 22:00:00                0                0  ...   \n2022-12-31 23:00:00                0                0  ...   \n\n                     Prędkość wiatru  [m/s]  Temperatura punktu rosy [°C]  \\\ntimestamp                                                                   \n2017-01-01 00:00:00                       1                          -7.5   \n2017-01-01 01:00:00                       1                          -7.6   \n2017-01-01 02:00:00                       3                          -6.4   \n2017-01-01 03:00:00                       2                          -7.6   \n2017-01-01 04:00:00                       1                          -8.2   \n...                                     ...                           ...   \n2022-12-31 19:00:00                       3                           6.3   \n2022-12-31 20:00:00                       3                           5.8   \n2022-12-31 21:00:00                       2                           5.5   \n2022-12-31 22:00:00                       2                           4.9   \n2022-12-31 23:00:00                       1                           3.8   \n\n                     Wilgotność względna [%]  Niedosyt wilgotności [hPa]  \\\ntimestamp                                                                  \n2017-01-01 00:00:00                       95                         0.2   \n2017-01-01 01:00:00                       95                         0.2   \n2017-01-01 02:00:00                       83                         0.8   \n2017-01-01 03:00:00                       92                         0.3   \n2017-01-01 04:00:00                       85                         0.6   \n...                                      ...                         ...   \n2022-12-31 19:00:00                       87                         1.4   \n2022-12-31 20:00:00                       80                         2.3   \n2022-12-31 21:00:00                       82                         2.0   \n2022-12-31 22:00:00                       74                         3.0   \n2022-12-31 23:00:00                       85                         1.4   \n\n                     Wystąpienie rosy [0/1]  Wartość tendencji [wartość]  \\\ntimestamp                                                                  \n2017-01-01 00:00:00                       0                         -1.5   \n2017-01-01 01:00:00                       0                         -1.4   \n2017-01-01 02:00:00                       0                         -1.4   \n2017-01-01 03:00:00                       0                         -1.7   \n2017-01-01 04:00:00                       0                         -2.0   \n...                                     ...                          ...   \n2022-12-31 19:00:00                       0                          0.7   \n2022-12-31 20:00:00                       0                          0.5   \n2022-12-31 21:00:00                       0                          0.5   \n2022-12-31 22:00:00                       0                          0.4   \n2022-12-31 23:00:00                       0                          0.1   \n\n                     Opad godzinowy [mm]  Rodzaj opadu za 6 godzin [kod]  \\\ntimestamp                                                                  \n2017-01-01 00:00:00                  0.0                             0.0   \n2017-01-01 01:00:00                  0.0                             0.0   \n2017-01-01 02:00:00                  0.0                             0.0   \n2017-01-01 03:00:00                  0.0                             0.0   \n2017-01-01 04:00:00                  0.0                             0.0   \n...                                  ...                             ...   \n2022-12-31 19:00:00                  0.0                             NaN   \n2022-12-31 20:00:00                  0.0                             NaN   \n2022-12-31 21:00:00                  0.0                             NaN   \n2022-12-31 22:00:00                  0.0                             NaN   \n2022-12-31 23:00:00                  0.0                             NaN   \n\n                     Wysokość pokrywy śnieżnej [cm]  Gatunek śniegu  [kod]  \ntimestamp                                                                   \n2017-01-01 00:00:00                             0.0                      0  \n2017-01-01 01:00:00                             0.0                      0  \n2017-01-01 02:00:00                             0.0                      0  \n2017-01-01 03:00:00                             0.0                      0  \n2017-01-01 04:00:00                             0.0                      0  \n...                                             ...                    ...  \n2022-12-31 19:00:00                             0.0                      0  \n2022-12-31 20:00:00                             0.0                      0  \n2022-12-31 21:00:00                             0.0                      0  \n2022-12-31 22:00:00                             0.0                      0  \n2022-12-31 23:00:00                             0.0                      0  \n\n[52584 rows x 22 columns]",
      "text/html": "<div>\n<style scoped>\n    .dataframe tbody tr th:only-of-type {\n        vertical-align: middle;\n    }\n\n    .dataframe tbody tr th {\n        vertical-align: top;\n    }\n\n    .dataframe thead th {\n        text-align: right;\n    }\n</style>\n<table border=\"1\" class=\"dataframe\">\n  <thead>\n    <tr style=\"text-align: right;\">\n      <th></th>\n      <th>Temperatura powietrza [°C]/1</th>\n      <th>Ciśnienie na poziomie stacji [hPa]</th>\n      <th>Ciśnienie na poziomie morza [hPa]</th>\n      <th>Ciśnienie pary wodnej [hPa]</th>\n      <th>Widzialność operatora [m]</th>\n      <th>Zachmurzenie ogólne [oktanty]</th>\n      <th>Zachmurzenie niskie [oktanty]</th>\n      <th>Chmury CL [kod]</th>\n      <th>Chmury CM [kod]</th>\n      <th>Chmury CH [kod]</th>\n      <th>...</th>\n      <th>Prędkość wiatru  [m/s]</th>\n      <th>Temperatura punktu rosy [°C]</th>\n      <th>Wilgotność względna [%]</th>\n      <th>Niedosyt wilgotności [hPa]</th>\n      <th>Wystąpienie rosy [0/1]</th>\n      <th>Wartość tendencji [wartość]</th>\n      <th>Opad godzinowy [mm]</th>\n      <th>Rodzaj opadu za 6 godzin [kod]</th>\n      <th>Wysokość pokrywy śnieżnej [cm]</th>\n      <th>Gatunek śniegu  [kod]</th>\n    </tr>\n    <tr>\n      <th>timestamp</th>\n      <th></th>\n      <th></th>\n      <th></th>\n      <th></th>\n      <th></th>\n      <th></th>\n      <th></th>\n      <th></th>\n      <th></th>\n      <th></th>\n      <th></th>\n      <th></th>\n      <th></th>\n      <th></th>\n      <th></th>\n      <th></th>\n      <th></th>\n      <th></th>\n      <th></th>\n      <th></th>\n      <th></th>\n    </tr>\n  </thead>\n  <tbody>\n    <tr>\n      <th>2017-01-01 00:00:00</th>\n      <td>-6.8</td>\n      <td>995.8</td>\n      <td>1027.1</td>\n      <td>3.5</td>\n      <td>3500</td>\n      <td>0</td>\n      <td>0</td>\n      <td>0</td>\n      <td>0</td>\n      <td>0</td>\n      <td>...</td>\n      <td>1</td>\n      <td>-7.5</td>\n      <td>95</td>\n      <td>0.2</td>\n      <td>0</td>\n      <td>-1.5</td>\n      <td>0.0</td>\n      <td>0.0</td>\n      <td>0.0</td>\n      <td>0</td>\n    </tr>\n    <tr>\n      <th>2017-01-01 01:00:00</th>\n      <td>-6.9</td>\n      <td>995.6</td>\n      <td>1026.9</td>\n      <td>3.5</td>\n      <td>3500</td>\n      <td>0</td>\n      <td>0</td>\n      <td>0</td>\n      <td>0</td>\n      <td>0</td>\n      <td>...</td>\n      <td>1</td>\n      <td>-7.6</td>\n      <td>95</td>\n      <td>0.2</td>\n      <td>0</td>\n      <td>-1.4</td>\n      <td>0.0</td>\n      <td>0.0</td>\n      <td>0.0</td>\n      <td>0</td>\n    </tr>\n    <tr>\n      <th>2017-01-01 02:00:00</th>\n      <td>-3.9</td>\n      <td>994.9</td>\n      <td>1025.8</td>\n      <td>3.8</td>\n      <td>5000</td>\n      <td>0</td>\n      <td>0</td>\n      <td>0</td>\n      <td>0</td>\n      <td>0</td>\n      <td>...</td>\n      <td>3</td>\n      <td>-6.4</td>\n      <td>83</td>\n      <td>0.8</td>\n      <td>0</td>\n      <td>-1.4</td>\n      <td>0.0</td>\n      <td>0.0</td>\n      <td>0.0</td>\n      <td>0</td>\n    </tr>\n    <tr>\n      <th>2017-01-01 03:00:00</th>\n      <td>-6.5</td>\n      <td>994.1</td>\n      <td>1025.3</td>\n      <td>3.5</td>\n      <td>4000</td>\n      <td>0</td>\n      <td>0</td>\n      <td>0</td>\n      <td>0</td>\n      <td>0</td>\n      <td>...</td>\n      <td>2</td>\n      <td>-7.6</td>\n      <td>92</td>\n      <td>0.3</td>\n      <td>0</td>\n      <td>-1.7</td>\n      <td>0.0</td>\n      <td>0.0</td>\n      <td>0.0</td>\n      <td>0</td>\n    </tr>\n    <tr>\n      <th>2017-01-01 04:00:00</th>\n      <td>-6.1</td>\n      <td>993.6</td>\n      <td>1024.8</td>\n      <td>3.3</td>\n      <td>4000</td>\n      <td>0</td>\n      <td>0</td>\n      <td>0</td>\n      <td>0</td>\n      <td>0</td>\n      <td>...</td>\n      <td>1</td>\n      <td>-8.2</td>\n      <td>85</td>\n      <td>0.6</td>\n      <td>0</td>\n      <td>-2.0</td>\n      <td>0.0</td>\n      <td>0.0</td>\n      <td>0.0</td>\n      <td>0</td>\n    </tr>\n    <tr>\n      <th>...</th>\n      <td>...</td>\n      <td>...</td>\n      <td>...</td>\n      <td>...</td>\n      <td>...</td>\n      <td>...</td>\n      <td>...</td>\n      <td>...</td>\n      <td>...</td>\n      <td>...</td>\n      <td>...</td>\n      <td>...</td>\n      <td>...</td>\n      <td>...</td>\n      <td>...</td>\n      <td>...</td>\n      <td>...</td>\n      <td>...</td>\n      <td>...</td>\n      <td>...</td>\n      <td>...</td>\n    </tr>\n    <tr>\n      <th>2022-12-31 19:00:00</th>\n      <td>8.3</td>\n      <td>991.2</td>\n      <td>1020.7</td>\n      <td>9.5</td>\n      <td>20000</td>\n      <td>7</td>\n      <td>0</td>\n      <td>0</td>\n      <td>0</td>\n      <td>0</td>\n      <td>...</td>\n      <td>3</td>\n      <td>6.3</td>\n      <td>87</td>\n      <td>1.4</td>\n      <td>0</td>\n      <td>0.7</td>\n      <td>0.0</td>\n      <td>NaN</td>\n      <td>0.0</td>\n      <td>0</td>\n    </tr>\n    <tr>\n      <th>2022-12-31 20:00:00</th>\n      <td>9.1</td>\n      <td>991.4</td>\n      <td>1020.8</td>\n      <td>9.2</td>\n      <td>20000</td>\n      <td>7</td>\n      <td>0</td>\n      <td>0</td>\n      <td>0</td>\n      <td>0</td>\n      <td>...</td>\n      <td>3</td>\n      <td>5.8</td>\n      <td>80</td>\n      <td>2.3</td>\n      <td>0</td>\n      <td>0.5</td>\n      <td>0.0</td>\n      <td>NaN</td>\n      <td>0.0</td>\n      <td>0</td>\n    </tr>\n    <tr>\n      <th>2022-12-31 21:00:00</th>\n      <td>8.4</td>\n      <td>991.6</td>\n      <td>1021.1</td>\n      <td>9.0</td>\n      <td>20000</td>\n      <td>7</td>\n      <td>0</td>\n      <td>0</td>\n      <td>0</td>\n      <td>0</td>\n      <td>...</td>\n      <td>2</td>\n      <td>5.5</td>\n      <td>82</td>\n      <td>2.0</td>\n      <td>0</td>\n      <td>0.5</td>\n      <td>0.0</td>\n      <td>NaN</td>\n      <td>0.0</td>\n      <td>0</td>\n    </tr>\n    <tr>\n      <th>2022-12-31 22:00:00</th>\n      <td>9.3</td>\n      <td>991.6</td>\n      <td>1021.0</td>\n      <td>8.7</td>\n      <td>20000</td>\n      <td>7</td>\n      <td>0</td>\n      <td>0</td>\n      <td>0</td>\n      <td>0</td>\n      <td>...</td>\n      <td>2</td>\n      <td>4.9</td>\n      <td>74</td>\n      <td>3.0</td>\n      <td>0</td>\n      <td>0.4</td>\n      <td>0.0</td>\n      <td>NaN</td>\n      <td>0.0</td>\n      <td>0</td>\n    </tr>\n    <tr>\n      <th>2022-12-31 23:00:00</th>\n      <td>6.1</td>\n      <td>991.5</td>\n      <td>1021.2</td>\n      <td>8.0</td>\n      <td>20000</td>\n      <td>7</td>\n      <td>0</td>\n      <td>0</td>\n      <td>0</td>\n      <td>0</td>\n      <td>...</td>\n      <td>1</td>\n      <td>3.8</td>\n      <td>85</td>\n      <td>1.4</td>\n      <td>0</td>\n      <td>0.1</td>\n      <td>0.0</td>\n      <td>NaN</td>\n      <td>0.0</td>\n      <td>0</td>\n    </tr>\n  </tbody>\n</table>\n<p>52584 rows × 22 columns</p>\n</div>"
     },
     "execution_count": 5,
     "metadata": {},
     "output_type": "execute_result"
    }
   ],
   "source": [
    "complete_data"
   ],
   "metadata": {
    "collapsed": false,
    "ExecuteTime": {
     "end_time": "2024-01-07T22:23:55.163526500Z",
     "start_time": "2024-01-07T22:23:55.111881700Z"
    }
   },
   "id": "5b3079693ec91283"
  },
  {
   "cell_type": "code",
   "execution_count": 6,
   "outputs": [],
   "source": [
    "complete_data.to_csv('../data/preprocessed_data/complete_krk_2017-22.csv')"
   ],
   "metadata": {
    "collapsed": false,
    "ExecuteTime": {
     "end_time": "2024-01-07T22:23:55.814345100Z",
     "start_time": "2024-01-07T22:23:55.173500Z"
    }
   },
   "id": "9ebda28424fdc9"
  },
  {
   "cell_type": "code",
   "execution_count": 6,
   "outputs": [],
   "source": [],
   "metadata": {
    "collapsed": false,
    "ExecuteTime": {
     "end_time": "2024-01-07T22:23:55.837642100Z",
     "start_time": "2024-01-07T22:23:55.817716700Z"
    }
   },
   "id": "34ac0428c83f49a1"
  }
 ],
 "metadata": {
  "kernelspec": {
   "display_name": "Python 3",
   "language": "python",
   "name": "python3"
  },
  "language_info": {
   "codemirror_mode": {
    "name": "ipython",
    "version": 2
   },
   "file_extension": ".py",
   "mimetype": "text/x-python",
   "name": "python",
   "nbconvert_exporter": "python",
   "pygments_lexer": "ipython2",
   "version": "2.7.6"
  }
 },
 "nbformat": 4,
 "nbformat_minor": 5
}
