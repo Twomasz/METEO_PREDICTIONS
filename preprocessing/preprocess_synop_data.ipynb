{
 "cells": [
  {
   "cell_type": "code",
   "execution_count": 25,
   "id": "initial_id",
   "metadata": {
    "collapsed": true,
    "ExecuteTime": {
     "end_time": "2024-01-07T22:36:52.063882Z",
     "start_time": "2024-01-07T22:36:52.039094300Z"
    }
   },
   "outputs": [],
   "source": [
    "import pandas as pd\n",
    "import numpy as np"
   ]
  },
  {
   "cell_type": "markdown",
   "source": [
    "### Get description of data"
   ],
   "metadata": {
    "collapsed": false
   },
   "id": "5c8a7c19b9695192"
  },
  {
   "cell_type": "code",
   "execution_count": 2,
   "outputs": [
    {
     "data": {
      "text/plain": "array([['Kod stacji', 'Nazwa stacji', 'Rok', 'Miesiąc', 'Dzień',\n        'Godzina', 'Wysokość podstawy chmur CL CM szyfrowana [kod]',\n        'Status pomiaru HPOD', 'Wysokość podstawy niższej  [m]',\n        'Status pomiaru HPON', 'Wysokość podstawy wyższej [m]',\n        'Status pomiaru HPOW', 'Wysokość podstawy tekstowy [opis]',\n        'Pomiar przyrzadem 1 (niższa) [P]',\n        'Pomiar przyrzadem 2 (wyższa) [P]', 'Widzialność  [kod]',\n        'Status pomiaru WID', 'Widzialność operatora [m]',\n        'Status pomiaru WIDO', 'Widzialność automat [m]',\n        'Status pomiaru WIDA', 'Zachmurzenie ogólne [oktanty]',\n        'Status pomiaru NOG', 'Kierunek wiatru  [°]',\n        'Status pomiaru KRWR', 'Prędkość wiatru  [m/s]',\n        'Status pomiaru FWR', 'Poryw wiatru  [m/s]',\n        'Status pomiaru PORW', 'Temperatura powietrza [°C]/1',\n        'Status pomiaru TEMP', 'Temperatura termometru zwilżonego [°C]',\n        'Status pomiaru TTZW', 'Wskaźnik wentylacji [W/N]',\n        'Wskaźnik lodu       [L/W]', 'Ciśnienie pary wodnej [hPa]',\n        'Status pomiaru CPW', 'Wilgotność względna [%]',\n        'Status pomiaru WLGW', 'Temperatura punktu rosy [°C]',\n        'Status pomiaru TPTR', 'Ciśnienie na poziomie stacji [hPa]',\n        'Status pomiaru PPPS', 'Ciśnienie na poziomie morza [hPa]',\n        'Status pomiaru PPPM', 'Charakterystyka tendencji [kod]',\n        'Wartość tendencji [wartość]', 'Status pomiaru APP',\n        'Opad za 6 godzin [mm]', 'Status pomiaru WO6G',\n        'Rodzaj opadu za 6 godzin [kod]', 'Status pomiaru ROPT',\n        'Pogoda bieżąca [kod]', 'Pogoda ubiegła [kod]',\n        'Zachmurzenie niskie [oktanty]', 'Status pomiaru CLCM',\n        'Chmury CL [kod]', 'Status pomiaru CHCL', 'Chmury CL tekstem',\n        'Chmury CM [kod]', 'Status pomiaru CHCM', 'Chmury CM tekstem',\n        'Chmury CH [kod]', 'Status pomiaru CHCH', 'Chmury CH tekstem',\n        'Stan gruntu [kod]', 'Status pomiaru SGRN',\n        'Niedosyt wilgotności [hPa]', 'Status pomiaru DEFI',\n        'Usłonecznienie', 'Status pomiaru USLN',\n        'Wystąpienie rosy [0/1]', 'Status pomiaru ROSW',\n        'Poryw maksymalny za okres WW [m/s]', 'Status pomiaru PORK',\n        'Godzina wystąpienia porywu', 'Minuta wystąpienia porywu',\n        'Temperatura gruntu -5 [°C]', 'Status pomiaru TG05',\n        'Temperatura gruntu -10 [°C]', 'Status pomiaru TG10',\n        'Temperatura gruntu -20 [°C]', 'Status pomiaru TG20',\n        'Temperatura gruntu -50 [°C]', 'Status pomiaru TG50',\n        'Temperatura gruntu -100 [°C]', 'Status pomiaru TG100',\n        'Temperatura minimalna za 12 godzin  [°C]',\n        'Status pomiaru TMIN',\n        'Temperatura maksymalna za 12 godzin [°C]',\n        'Status pomiaru TMAX',\n        'Temperatura minimalna przy gruncie za 12 godzin [°C]',\n        'Status pomiaru TGMI', 'Równoważnik wodny śniegu [mm/cm]',\n        'Status pomiaru RWSN', 'Wysokość pokrywy śnieżnej [cm]',\n        'Status pomiaru PKSN', 'Wysokość świeżo spadłego śniegu  [cm]',\n        'Status pomiaru HSS', 'Wysokość śniegu na poletku [cm]',\n        'Status pomiaru GRSN', 'Gatunek śniegu  [kod]',\n        'Ukształtowanie pokrywy [kod]', 'Wysokość próbki [cm]',\n        'Status pomiaru HPRO', 'Ciężar próbki [g]',\n        'Status pomiaru CIPR']], dtype=object)"
     },
     "execution_count": 2,
     "metadata": {},
     "output_type": "execute_result"
    }
   ],
   "source": [
    "description_data = pd.read_csv('../data/original_data/hourly_general/opis_parametrow.txt', header=None)\n",
    "headers = description_data.to_numpy().reshape((1, -1))\n",
    "headers"
   ],
   "metadata": {
    "collapsed": false,
    "ExecuteTime": {
     "end_time": "2023-12-27T18:00:21.970987600Z",
     "start_time": "2023-12-27T18:00:21.920545700Z"
    }
   },
   "id": "8798a7951c715e4a"
  },
  {
   "cell_type": "markdown",
   "source": [
    "### Get data for 2020-22 and merge to one DF"
   ],
   "metadata": {
    "collapsed": false
   },
   "id": "bf60ef45e194dcda"
  },
  {
   "cell_type": "code",
   "execution_count": 3,
   "outputs": [
    {
     "name": "stderr",
     "output_type": "stream",
     "text": [
      "C:\\Users\\Tomek\\AppData\\Local\\Temp\\ipykernel_9184\\3963293477.py:2: DtypeWarning: Columns (6,56) have mixed types. Specify dtype option on import or set low_memory=False.\n",
      "  synop_2018 = pd.read_csv('../data/original_data/hourly_general/s_t_566_2018.csv', encoding='cp1250', header=None)\n",
      "C:\\Users\\Tomek\\AppData\\Local\\Temp\\ipykernel_9184\\3963293477.py:6: DtypeWarning: Columns (6,56) have mixed types. Specify dtype option on import or set low_memory=False.\n",
      "  synop_2022 = pd.read_csv('../data/original_data/hourly_general/s_t_566_2022.csv', encoding='cp1250', header=None)\n"
     ]
    },
    {
     "data": {
      "text/plain": "      Kod stacji   Nazwa stacji   Rok  Miesiąc  Dzień  Godzina  \\\n0      350190566  KRAKÓW-BALICE  2017        1      1        0   \n1      350190566  KRAKÓW-BALICE  2017        1      1        1   \n2      350190566  KRAKÓW-BALICE  2017        1      1        2   \n3      350190566  KRAKÓW-BALICE  2017        1      1        3   \n4      350190566  KRAKÓW-BALICE  2017        1      1        4   \n...          ...            ...   ...      ...    ...      ...   \n8755   350190566  KRAKÓW-BALICE  2022       12     31       19   \n8756   350190566  KRAKÓW-BALICE  2022       12     31       20   \n8757   350190566  KRAKÓW-BALICE  2022       12     31       21   \n8758   350190566  KRAKÓW-BALICE  2022       12     31       22   \n8759   350190566  KRAKÓW-BALICE  2022       12     31       23   \n\n     Wysokość podstawy chmur CL CM szyfrowana [kod]  Status pomiaru HPOD  \\\n0                                                 9                  NaN   \n1                                                 9                  NaN   \n2                                                 9                  NaN   \n3                                                 9                  NaN   \n4                                                 9                  NaN   \n...                                             ...                  ...   \n8755                                              9                  NaN   \n8756                                              9                  NaN   \n8757                                              9                  NaN   \n8758                                              9                  NaN   \n8759                                              9                  NaN   \n\n      Wysokość podstawy niższej  [m]  Status pomiaru HPON  ...  \\\n0                                  0                  8.0  ...   \n1                                  0                  8.0  ...   \n2                                  0                  8.0  ...   \n3                                  0                  8.0  ...   \n4                                  0                  8.0  ...   \n...                              ...                  ...  ...   \n8755                               0                  8.0  ...   \n8756                               0                  8.0  ...   \n8757                               0                  8.0  ...   \n8758                               0                  8.0  ...   \n8759                               0                  8.0  ...   \n\n      Wysokość świeżo spadłego śniegu  [cm]  Status pomiaru HSS  \\\n0                                         0                 8.0   \n1                                         0                 8.0   \n2                                         0                 8.0   \n3                                         0                 8.0   \n4                                         0                 8.0   \n...                                     ...                 ...   \n8755                                      0                 8.0   \n8756                                      0                 8.0   \n8757                                      0                 8.0   \n8758                                      0                 8.0   \n8759                                      0                 8.0   \n\n     Wysokość śniegu na poletku [cm] Status pomiaru GRSN  \\\n0                                  0                 8.0   \n1                                  0                 8.0   \n2                                  0                 8.0   \n3                                  0                 8.0   \n4                                  0                 8.0   \n...                              ...                 ...   \n8755                               0                 8.0   \n8756                               0                 8.0   \n8757                               0                 8.0   \n8758                               0                 8.0   \n8759                               0                 8.0   \n\n     Gatunek śniegu  [kod]  Ukształtowanie pokrywy [kod]  \\\n0                      NaN                           NaN   \n1                      NaN                           NaN   \n2                      NaN                           NaN   \n3                      NaN                           NaN   \n4                      NaN                           NaN   \n...                    ...                           ...   \n8755                   NaN                           NaN   \n8756                   NaN                           NaN   \n8757                   NaN                           NaN   \n8758                   NaN                           NaN   \n8759                   NaN                           NaN   \n\n      Wysokość próbki [cm]  Status pomiaru HPRO  Ciężar próbki [g]  \\\n0                        0                  8.0                  0   \n1                        0                  8.0                  0   \n2                        0                  8.0                  0   \n3                        0                  8.0                  0   \n4                        0                  8.0                  0   \n...                    ...                  ...                ...   \n8755                     0                  8.0                  0   \n8756                     0                  8.0                  0   \n8757                     0                  8.0                  0   \n8758                     0                  8.0                  0   \n8759                     0                  8.0                  0   \n\n      Status pomiaru CIPR  \n0                     8.0  \n1                     8.0  \n2                     8.0  \n3                     8.0  \n4                     8.0  \n...                   ...  \n8755                  8.0  \n8756                  8.0  \n8757                  8.0  \n8758                  8.0  \n8759                  8.0  \n\n[52584 rows x 107 columns]",
      "text/html": "<div>\n<style scoped>\n    .dataframe tbody tr th:only-of-type {\n        vertical-align: middle;\n    }\n\n    .dataframe tbody tr th {\n        vertical-align: top;\n    }\n\n    .dataframe thead th {\n        text-align: right;\n    }\n</style>\n<table border=\"1\" class=\"dataframe\">\n  <thead>\n    <tr style=\"text-align: right;\">\n      <th></th>\n      <th>Kod stacji</th>\n      <th>Nazwa stacji</th>\n      <th>Rok</th>\n      <th>Miesiąc</th>\n      <th>Dzień</th>\n      <th>Godzina</th>\n      <th>Wysokość podstawy chmur CL CM szyfrowana [kod]</th>\n      <th>Status pomiaru HPOD</th>\n      <th>Wysokość podstawy niższej  [m]</th>\n      <th>Status pomiaru HPON</th>\n      <th>...</th>\n      <th>Wysokość świeżo spadłego śniegu  [cm]</th>\n      <th>Status pomiaru HSS</th>\n      <th>Wysokość śniegu na poletku [cm]</th>\n      <th>Status pomiaru GRSN</th>\n      <th>Gatunek śniegu  [kod]</th>\n      <th>Ukształtowanie pokrywy [kod]</th>\n      <th>Wysokość próbki [cm]</th>\n      <th>Status pomiaru HPRO</th>\n      <th>Ciężar próbki [g]</th>\n      <th>Status pomiaru CIPR</th>\n    </tr>\n  </thead>\n  <tbody>\n    <tr>\n      <th>0</th>\n      <td>350190566</td>\n      <td>KRAKÓW-BALICE</td>\n      <td>2017</td>\n      <td>1</td>\n      <td>1</td>\n      <td>0</td>\n      <td>9</td>\n      <td>NaN</td>\n      <td>0</td>\n      <td>8.0</td>\n      <td>...</td>\n      <td>0</td>\n      <td>8.0</td>\n      <td>0</td>\n      <td>8.0</td>\n      <td>NaN</td>\n      <td>NaN</td>\n      <td>0</td>\n      <td>8.0</td>\n      <td>0</td>\n      <td>8.0</td>\n    </tr>\n    <tr>\n      <th>1</th>\n      <td>350190566</td>\n      <td>KRAKÓW-BALICE</td>\n      <td>2017</td>\n      <td>1</td>\n      <td>1</td>\n      <td>1</td>\n      <td>9</td>\n      <td>NaN</td>\n      <td>0</td>\n      <td>8.0</td>\n      <td>...</td>\n      <td>0</td>\n      <td>8.0</td>\n      <td>0</td>\n      <td>8.0</td>\n      <td>NaN</td>\n      <td>NaN</td>\n      <td>0</td>\n      <td>8.0</td>\n      <td>0</td>\n      <td>8.0</td>\n    </tr>\n    <tr>\n      <th>2</th>\n      <td>350190566</td>\n      <td>KRAKÓW-BALICE</td>\n      <td>2017</td>\n      <td>1</td>\n      <td>1</td>\n      <td>2</td>\n      <td>9</td>\n      <td>NaN</td>\n      <td>0</td>\n      <td>8.0</td>\n      <td>...</td>\n      <td>0</td>\n      <td>8.0</td>\n      <td>0</td>\n      <td>8.0</td>\n      <td>NaN</td>\n      <td>NaN</td>\n      <td>0</td>\n      <td>8.0</td>\n      <td>0</td>\n      <td>8.0</td>\n    </tr>\n    <tr>\n      <th>3</th>\n      <td>350190566</td>\n      <td>KRAKÓW-BALICE</td>\n      <td>2017</td>\n      <td>1</td>\n      <td>1</td>\n      <td>3</td>\n      <td>9</td>\n      <td>NaN</td>\n      <td>0</td>\n      <td>8.0</td>\n      <td>...</td>\n      <td>0</td>\n      <td>8.0</td>\n      <td>0</td>\n      <td>8.0</td>\n      <td>NaN</td>\n      <td>NaN</td>\n      <td>0</td>\n      <td>8.0</td>\n      <td>0</td>\n      <td>8.0</td>\n    </tr>\n    <tr>\n      <th>4</th>\n      <td>350190566</td>\n      <td>KRAKÓW-BALICE</td>\n      <td>2017</td>\n      <td>1</td>\n      <td>1</td>\n      <td>4</td>\n      <td>9</td>\n      <td>NaN</td>\n      <td>0</td>\n      <td>8.0</td>\n      <td>...</td>\n      <td>0</td>\n      <td>8.0</td>\n      <td>0</td>\n      <td>8.0</td>\n      <td>NaN</td>\n      <td>NaN</td>\n      <td>0</td>\n      <td>8.0</td>\n      <td>0</td>\n      <td>8.0</td>\n    </tr>\n    <tr>\n      <th>...</th>\n      <td>...</td>\n      <td>...</td>\n      <td>...</td>\n      <td>...</td>\n      <td>...</td>\n      <td>...</td>\n      <td>...</td>\n      <td>...</td>\n      <td>...</td>\n      <td>...</td>\n      <td>...</td>\n      <td>...</td>\n      <td>...</td>\n      <td>...</td>\n      <td>...</td>\n      <td>...</td>\n      <td>...</td>\n      <td>...</td>\n      <td>...</td>\n      <td>...</td>\n      <td>...</td>\n    </tr>\n    <tr>\n      <th>8755</th>\n      <td>350190566</td>\n      <td>KRAKÓW-BALICE</td>\n      <td>2022</td>\n      <td>12</td>\n      <td>31</td>\n      <td>19</td>\n      <td>9</td>\n      <td>NaN</td>\n      <td>0</td>\n      <td>8.0</td>\n      <td>...</td>\n      <td>0</td>\n      <td>8.0</td>\n      <td>0</td>\n      <td>8.0</td>\n      <td>NaN</td>\n      <td>NaN</td>\n      <td>0</td>\n      <td>8.0</td>\n      <td>0</td>\n      <td>8.0</td>\n    </tr>\n    <tr>\n      <th>8756</th>\n      <td>350190566</td>\n      <td>KRAKÓW-BALICE</td>\n      <td>2022</td>\n      <td>12</td>\n      <td>31</td>\n      <td>20</td>\n      <td>9</td>\n      <td>NaN</td>\n      <td>0</td>\n      <td>8.0</td>\n      <td>...</td>\n      <td>0</td>\n      <td>8.0</td>\n      <td>0</td>\n      <td>8.0</td>\n      <td>NaN</td>\n      <td>NaN</td>\n      <td>0</td>\n      <td>8.0</td>\n      <td>0</td>\n      <td>8.0</td>\n    </tr>\n    <tr>\n      <th>8757</th>\n      <td>350190566</td>\n      <td>KRAKÓW-BALICE</td>\n      <td>2022</td>\n      <td>12</td>\n      <td>31</td>\n      <td>21</td>\n      <td>9</td>\n      <td>NaN</td>\n      <td>0</td>\n      <td>8.0</td>\n      <td>...</td>\n      <td>0</td>\n      <td>8.0</td>\n      <td>0</td>\n      <td>8.0</td>\n      <td>NaN</td>\n      <td>NaN</td>\n      <td>0</td>\n      <td>8.0</td>\n      <td>0</td>\n      <td>8.0</td>\n    </tr>\n    <tr>\n      <th>8758</th>\n      <td>350190566</td>\n      <td>KRAKÓW-BALICE</td>\n      <td>2022</td>\n      <td>12</td>\n      <td>31</td>\n      <td>22</td>\n      <td>9</td>\n      <td>NaN</td>\n      <td>0</td>\n      <td>8.0</td>\n      <td>...</td>\n      <td>0</td>\n      <td>8.0</td>\n      <td>0</td>\n      <td>8.0</td>\n      <td>NaN</td>\n      <td>NaN</td>\n      <td>0</td>\n      <td>8.0</td>\n      <td>0</td>\n      <td>8.0</td>\n    </tr>\n    <tr>\n      <th>8759</th>\n      <td>350190566</td>\n      <td>KRAKÓW-BALICE</td>\n      <td>2022</td>\n      <td>12</td>\n      <td>31</td>\n      <td>23</td>\n      <td>9</td>\n      <td>NaN</td>\n      <td>0</td>\n      <td>8.0</td>\n      <td>...</td>\n      <td>0</td>\n      <td>8.0</td>\n      <td>0</td>\n      <td>8.0</td>\n      <td>NaN</td>\n      <td>NaN</td>\n      <td>0</td>\n      <td>8.0</td>\n      <td>0</td>\n      <td>8.0</td>\n    </tr>\n  </tbody>\n</table>\n<p>52584 rows × 107 columns</p>\n</div>"
     },
     "execution_count": 3,
     "metadata": {},
     "output_type": "execute_result"
    }
   ],
   "source": [
    "synop_2017 = pd.read_csv('../data/original_data/hourly_general/s_t_566_2017.csv', encoding='cp1250', header=None)\n",
    "synop_2018 = pd.read_csv('../data/original_data/hourly_general/s_t_566_2018.csv', encoding='cp1250', header=None)\n",
    "synop_2019 = pd.read_csv('../data/original_data/hourly_general/s_t_566_2019.csv', encoding='cp1250', header=None)\n",
    "synop_2020 = pd.read_csv('../data/original_data/hourly_general/s_t_566_2020.csv', encoding='cp1250', header=None)\n",
    "synop_2021 = pd.read_csv('../data/original_data/hourly_general/s_t_566_2021.csv', encoding='cp1250', header=None)\n",
    "synop_2022 = pd.read_csv('../data/original_data/hourly_general/s_t_566_2022.csv', encoding='cp1250', header=None)\n",
    "\n",
    "merged_data = pd.concat([synop_2017, synop_2018, synop_2019, synop_2020, synop_2021, synop_2022])\n",
    "merged_data.columns = headers[0]\n",
    "merged_data"
   ],
   "metadata": {
    "collapsed": false,
    "ExecuteTime": {
     "end_time": "2023-12-27T18:00:23.179999300Z",
     "start_time": "2023-12-27T18:00:21.948546100Z"
    }
   },
   "id": "1bf653494256d74b"
  },
  {
   "cell_type": "markdown",
   "source": [
    "### Set date as index from another columns"
   ],
   "metadata": {
    "collapsed": false
   },
   "id": "f77cb29b547d3d6c"
  },
  {
   "cell_type": "code",
   "execution_count": 4,
   "outputs": [
    {
     "name": "stderr",
     "output_type": "stream",
     "text": [
      "C:\\Users\\Tomek\\AppData\\Local\\Temp\\ipykernel_9184\\4152552355.py:8: PerformanceWarning: DataFrame is highly fragmented.  This is usually the result of calling `frame.insert` many times, which has poor performance.  Consider joining all columns at once using pd.concat(axis=1) instead. To get a de-fragmented frame, use `newframe = frame.copy()`\n",
      "  merged_data['timestamp'] = merged_data['Rok'] + '-' + merged_data['Miesiąc'] + '-' + merged_data['Dzień'] + ' ' + merged_data['Godzina'] + ':00:00'\n"
     ]
    },
    {
     "data": {
      "text/plain": "                     Kod stacji   Nazwa stacji   Rok Miesiąc Dzień Godzina  \\\ntimestamp                                                                    \n2017-01-01 00:00:00   350190566  KRAKÓW-BALICE  2017       1     1       0   \n2017-01-01 01:00:00   350190566  KRAKÓW-BALICE  2017       1     1       1   \n2017-01-01 02:00:00   350190566  KRAKÓW-BALICE  2017       1     1       2   \n2017-01-01 03:00:00   350190566  KRAKÓW-BALICE  2017       1     1       3   \n2017-01-01 04:00:00   350190566  KRAKÓW-BALICE  2017       1     1       4   \n...                         ...            ...   ...     ...   ...     ...   \n2022-12-31 19:00:00   350190566  KRAKÓW-BALICE  2022      12    31      19   \n2022-12-31 20:00:00   350190566  KRAKÓW-BALICE  2022      12    31      20   \n2022-12-31 21:00:00   350190566  KRAKÓW-BALICE  2022      12    31      21   \n2022-12-31 22:00:00   350190566  KRAKÓW-BALICE  2022      12    31      22   \n2022-12-31 23:00:00   350190566  KRAKÓW-BALICE  2022      12    31      23   \n\n                    Wysokość podstawy chmur CL CM szyfrowana [kod]  \\\ntimestamp                                                            \n2017-01-01 00:00:00                                              9   \n2017-01-01 01:00:00                                              9   \n2017-01-01 02:00:00                                              9   \n2017-01-01 03:00:00                                              9   \n2017-01-01 04:00:00                                              9   \n...                                                            ...   \n2022-12-31 19:00:00                                              9   \n2022-12-31 20:00:00                                              9   \n2022-12-31 21:00:00                                              9   \n2022-12-31 22:00:00                                              9   \n2022-12-31 23:00:00                                              9   \n\n                     Status pomiaru HPOD  Wysokość podstawy niższej  [m]  \\\ntimestamp                                                                  \n2017-01-01 00:00:00                  NaN                               0   \n2017-01-01 01:00:00                  NaN                               0   \n2017-01-01 02:00:00                  NaN                               0   \n2017-01-01 03:00:00                  NaN                               0   \n2017-01-01 04:00:00                  NaN                               0   \n...                                  ...                             ...   \n2022-12-31 19:00:00                  NaN                               0   \n2022-12-31 20:00:00                  NaN                               0   \n2022-12-31 21:00:00                  NaN                               0   \n2022-12-31 22:00:00                  NaN                               0   \n2022-12-31 23:00:00                  NaN                               0   \n\n                     Status pomiaru HPON  ...  \\\ntimestamp                                 ...   \n2017-01-01 00:00:00                  8.0  ...   \n2017-01-01 01:00:00                  8.0  ...   \n2017-01-01 02:00:00                  8.0  ...   \n2017-01-01 03:00:00                  8.0  ...   \n2017-01-01 04:00:00                  8.0  ...   \n...                                  ...  ...   \n2022-12-31 19:00:00                  8.0  ...   \n2022-12-31 20:00:00                  8.0  ...   \n2022-12-31 21:00:00                  8.0  ...   \n2022-12-31 22:00:00                  8.0  ...   \n2022-12-31 23:00:00                  8.0  ...   \n\n                     Wysokość świeżo spadłego śniegu  [cm]  \\\ntimestamp                                                    \n2017-01-01 00:00:00                                      0   \n2017-01-01 01:00:00                                      0   \n2017-01-01 02:00:00                                      0   \n2017-01-01 03:00:00                                      0   \n2017-01-01 04:00:00                                      0   \n...                                                    ...   \n2022-12-31 19:00:00                                      0   \n2022-12-31 20:00:00                                      0   \n2022-12-31 21:00:00                                      0   \n2022-12-31 22:00:00                                      0   \n2022-12-31 23:00:00                                      0   \n\n                     Status pomiaru HSS Wysokość śniegu na poletku [cm]  \\\ntimestamp                                                                 \n2017-01-01 00:00:00                 8.0                               0   \n2017-01-01 01:00:00                 8.0                               0   \n2017-01-01 02:00:00                 8.0                               0   \n2017-01-01 03:00:00                 8.0                               0   \n2017-01-01 04:00:00                 8.0                               0   \n...                                 ...                             ...   \n2022-12-31 19:00:00                 8.0                               0   \n2022-12-31 20:00:00                 8.0                               0   \n2022-12-31 21:00:00                 8.0                               0   \n2022-12-31 22:00:00                 8.0                               0   \n2022-12-31 23:00:00                 8.0                               0   \n\n                    Status pomiaru GRSN Gatunek śniegu  [kod]  \\\ntimestamp                                                       \n2017-01-01 00:00:00                 8.0                   NaN   \n2017-01-01 01:00:00                 8.0                   NaN   \n2017-01-01 02:00:00                 8.0                   NaN   \n2017-01-01 03:00:00                 8.0                   NaN   \n2017-01-01 04:00:00                 8.0                   NaN   \n...                                 ...                   ...   \n2022-12-31 19:00:00                 8.0                   NaN   \n2022-12-31 20:00:00                 8.0                   NaN   \n2022-12-31 21:00:00                 8.0                   NaN   \n2022-12-31 22:00:00                 8.0                   NaN   \n2022-12-31 23:00:00                 8.0                   NaN   \n\n                     Ukształtowanie pokrywy [kod]  Wysokość próbki [cm]  \\\ntimestamp                                                                 \n2017-01-01 00:00:00                           NaN                     0   \n2017-01-01 01:00:00                           NaN                     0   \n2017-01-01 02:00:00                           NaN                     0   \n2017-01-01 03:00:00                           NaN                     0   \n2017-01-01 04:00:00                           NaN                     0   \n...                                           ...                   ...   \n2022-12-31 19:00:00                           NaN                     0   \n2022-12-31 20:00:00                           NaN                     0   \n2022-12-31 21:00:00                           NaN                     0   \n2022-12-31 22:00:00                           NaN                     0   \n2022-12-31 23:00:00                           NaN                     0   \n\n                     Status pomiaru HPRO  Ciężar próbki [g]  \\\ntimestamp                                                     \n2017-01-01 00:00:00                  8.0                  0   \n2017-01-01 01:00:00                  8.0                  0   \n2017-01-01 02:00:00                  8.0                  0   \n2017-01-01 03:00:00                  8.0                  0   \n2017-01-01 04:00:00                  8.0                  0   \n...                                  ...                ...   \n2022-12-31 19:00:00                  8.0                  0   \n2022-12-31 20:00:00                  8.0                  0   \n2022-12-31 21:00:00                  8.0                  0   \n2022-12-31 22:00:00                  8.0                  0   \n2022-12-31 23:00:00                  8.0                  0   \n\n                     Status pomiaru CIPR  \ntimestamp                                 \n2017-01-01 00:00:00                  8.0  \n2017-01-01 01:00:00                  8.0  \n2017-01-01 02:00:00                  8.0  \n2017-01-01 03:00:00                  8.0  \n2017-01-01 04:00:00                  8.0  \n...                                  ...  \n2022-12-31 19:00:00                  8.0  \n2022-12-31 20:00:00                  8.0  \n2022-12-31 21:00:00                  8.0  \n2022-12-31 22:00:00                  8.0  \n2022-12-31 23:00:00                  8.0  \n\n[52584 rows x 107 columns]",
      "text/html": "<div>\n<style scoped>\n    .dataframe tbody tr th:only-of-type {\n        vertical-align: middle;\n    }\n\n    .dataframe tbody tr th {\n        vertical-align: top;\n    }\n\n    .dataframe thead th {\n        text-align: right;\n    }\n</style>\n<table border=\"1\" class=\"dataframe\">\n  <thead>\n    <tr style=\"text-align: right;\">\n      <th></th>\n      <th>Kod stacji</th>\n      <th>Nazwa stacji</th>\n      <th>Rok</th>\n      <th>Miesiąc</th>\n      <th>Dzień</th>\n      <th>Godzina</th>\n      <th>Wysokość podstawy chmur CL CM szyfrowana [kod]</th>\n      <th>Status pomiaru HPOD</th>\n      <th>Wysokość podstawy niższej  [m]</th>\n      <th>Status pomiaru HPON</th>\n      <th>...</th>\n      <th>Wysokość świeżo spadłego śniegu  [cm]</th>\n      <th>Status pomiaru HSS</th>\n      <th>Wysokość śniegu na poletku [cm]</th>\n      <th>Status pomiaru GRSN</th>\n      <th>Gatunek śniegu  [kod]</th>\n      <th>Ukształtowanie pokrywy [kod]</th>\n      <th>Wysokość próbki [cm]</th>\n      <th>Status pomiaru HPRO</th>\n      <th>Ciężar próbki [g]</th>\n      <th>Status pomiaru CIPR</th>\n    </tr>\n    <tr>\n      <th>timestamp</th>\n      <th></th>\n      <th></th>\n      <th></th>\n      <th></th>\n      <th></th>\n      <th></th>\n      <th></th>\n      <th></th>\n      <th></th>\n      <th></th>\n      <th></th>\n      <th></th>\n      <th></th>\n      <th></th>\n      <th></th>\n      <th></th>\n      <th></th>\n      <th></th>\n      <th></th>\n      <th></th>\n      <th></th>\n    </tr>\n  </thead>\n  <tbody>\n    <tr>\n      <th>2017-01-01 00:00:00</th>\n      <td>350190566</td>\n      <td>KRAKÓW-BALICE</td>\n      <td>2017</td>\n      <td>1</td>\n      <td>1</td>\n      <td>0</td>\n      <td>9</td>\n      <td>NaN</td>\n      <td>0</td>\n      <td>8.0</td>\n      <td>...</td>\n      <td>0</td>\n      <td>8.0</td>\n      <td>0</td>\n      <td>8.0</td>\n      <td>NaN</td>\n      <td>NaN</td>\n      <td>0</td>\n      <td>8.0</td>\n      <td>0</td>\n      <td>8.0</td>\n    </tr>\n    <tr>\n      <th>2017-01-01 01:00:00</th>\n      <td>350190566</td>\n      <td>KRAKÓW-BALICE</td>\n      <td>2017</td>\n      <td>1</td>\n      <td>1</td>\n      <td>1</td>\n      <td>9</td>\n      <td>NaN</td>\n      <td>0</td>\n      <td>8.0</td>\n      <td>...</td>\n      <td>0</td>\n      <td>8.0</td>\n      <td>0</td>\n      <td>8.0</td>\n      <td>NaN</td>\n      <td>NaN</td>\n      <td>0</td>\n      <td>8.0</td>\n      <td>0</td>\n      <td>8.0</td>\n    </tr>\n    <tr>\n      <th>2017-01-01 02:00:00</th>\n      <td>350190566</td>\n      <td>KRAKÓW-BALICE</td>\n      <td>2017</td>\n      <td>1</td>\n      <td>1</td>\n      <td>2</td>\n      <td>9</td>\n      <td>NaN</td>\n      <td>0</td>\n      <td>8.0</td>\n      <td>...</td>\n      <td>0</td>\n      <td>8.0</td>\n      <td>0</td>\n      <td>8.0</td>\n      <td>NaN</td>\n      <td>NaN</td>\n      <td>0</td>\n      <td>8.0</td>\n      <td>0</td>\n      <td>8.0</td>\n    </tr>\n    <tr>\n      <th>2017-01-01 03:00:00</th>\n      <td>350190566</td>\n      <td>KRAKÓW-BALICE</td>\n      <td>2017</td>\n      <td>1</td>\n      <td>1</td>\n      <td>3</td>\n      <td>9</td>\n      <td>NaN</td>\n      <td>0</td>\n      <td>8.0</td>\n      <td>...</td>\n      <td>0</td>\n      <td>8.0</td>\n      <td>0</td>\n      <td>8.0</td>\n      <td>NaN</td>\n      <td>NaN</td>\n      <td>0</td>\n      <td>8.0</td>\n      <td>0</td>\n      <td>8.0</td>\n    </tr>\n    <tr>\n      <th>2017-01-01 04:00:00</th>\n      <td>350190566</td>\n      <td>KRAKÓW-BALICE</td>\n      <td>2017</td>\n      <td>1</td>\n      <td>1</td>\n      <td>4</td>\n      <td>9</td>\n      <td>NaN</td>\n      <td>0</td>\n      <td>8.0</td>\n      <td>...</td>\n      <td>0</td>\n      <td>8.0</td>\n      <td>0</td>\n      <td>8.0</td>\n      <td>NaN</td>\n      <td>NaN</td>\n      <td>0</td>\n      <td>8.0</td>\n      <td>0</td>\n      <td>8.0</td>\n    </tr>\n    <tr>\n      <th>...</th>\n      <td>...</td>\n      <td>...</td>\n      <td>...</td>\n      <td>...</td>\n      <td>...</td>\n      <td>...</td>\n      <td>...</td>\n      <td>...</td>\n      <td>...</td>\n      <td>...</td>\n      <td>...</td>\n      <td>...</td>\n      <td>...</td>\n      <td>...</td>\n      <td>...</td>\n      <td>...</td>\n      <td>...</td>\n      <td>...</td>\n      <td>...</td>\n      <td>...</td>\n      <td>...</td>\n    </tr>\n    <tr>\n      <th>2022-12-31 19:00:00</th>\n      <td>350190566</td>\n      <td>KRAKÓW-BALICE</td>\n      <td>2022</td>\n      <td>12</td>\n      <td>31</td>\n      <td>19</td>\n      <td>9</td>\n      <td>NaN</td>\n      <td>0</td>\n      <td>8.0</td>\n      <td>...</td>\n      <td>0</td>\n      <td>8.0</td>\n      <td>0</td>\n      <td>8.0</td>\n      <td>NaN</td>\n      <td>NaN</td>\n      <td>0</td>\n      <td>8.0</td>\n      <td>0</td>\n      <td>8.0</td>\n    </tr>\n    <tr>\n      <th>2022-12-31 20:00:00</th>\n      <td>350190566</td>\n      <td>KRAKÓW-BALICE</td>\n      <td>2022</td>\n      <td>12</td>\n      <td>31</td>\n      <td>20</td>\n      <td>9</td>\n      <td>NaN</td>\n      <td>0</td>\n      <td>8.0</td>\n      <td>...</td>\n      <td>0</td>\n      <td>8.0</td>\n      <td>0</td>\n      <td>8.0</td>\n      <td>NaN</td>\n      <td>NaN</td>\n      <td>0</td>\n      <td>8.0</td>\n      <td>0</td>\n      <td>8.0</td>\n    </tr>\n    <tr>\n      <th>2022-12-31 21:00:00</th>\n      <td>350190566</td>\n      <td>KRAKÓW-BALICE</td>\n      <td>2022</td>\n      <td>12</td>\n      <td>31</td>\n      <td>21</td>\n      <td>9</td>\n      <td>NaN</td>\n      <td>0</td>\n      <td>8.0</td>\n      <td>...</td>\n      <td>0</td>\n      <td>8.0</td>\n      <td>0</td>\n      <td>8.0</td>\n      <td>NaN</td>\n      <td>NaN</td>\n      <td>0</td>\n      <td>8.0</td>\n      <td>0</td>\n      <td>8.0</td>\n    </tr>\n    <tr>\n      <th>2022-12-31 22:00:00</th>\n      <td>350190566</td>\n      <td>KRAKÓW-BALICE</td>\n      <td>2022</td>\n      <td>12</td>\n      <td>31</td>\n      <td>22</td>\n      <td>9</td>\n      <td>NaN</td>\n      <td>0</td>\n      <td>8.0</td>\n      <td>...</td>\n      <td>0</td>\n      <td>8.0</td>\n      <td>0</td>\n      <td>8.0</td>\n      <td>NaN</td>\n      <td>NaN</td>\n      <td>0</td>\n      <td>8.0</td>\n      <td>0</td>\n      <td>8.0</td>\n    </tr>\n    <tr>\n      <th>2022-12-31 23:00:00</th>\n      <td>350190566</td>\n      <td>KRAKÓW-BALICE</td>\n      <td>2022</td>\n      <td>12</td>\n      <td>31</td>\n      <td>23</td>\n      <td>9</td>\n      <td>NaN</td>\n      <td>0</td>\n      <td>8.0</td>\n      <td>...</td>\n      <td>0</td>\n      <td>8.0</td>\n      <td>0</td>\n      <td>8.0</td>\n      <td>NaN</td>\n      <td>NaN</td>\n      <td>0</td>\n      <td>8.0</td>\n      <td>0</td>\n      <td>8.0</td>\n    </tr>\n  </tbody>\n</table>\n<p>52584 rows × 107 columns</p>\n</div>"
     },
     "execution_count": 4,
     "metadata": {},
     "output_type": "execute_result"
    }
   ],
   "source": [
    "convert_types_dict = {'Rok': str,\n",
    "                      'Miesiąc': str,\n",
    "                      'Dzień': str,\n",
    "                      'Godzina': str}\n",
    "\n",
    "merged_data = merged_data.astype(convert_types_dict)\n",
    "\n",
    "merged_data['timestamp'] = merged_data['Rok'] + '-' + merged_data['Miesiąc'] + '-' + merged_data['Dzień'] + ' ' + merged_data['Godzina'] + ':00:00'\n",
    "\n",
    "merged_data['timestamp'] = pd.to_datetime(merged_data['timestamp'])\n",
    "merged_data = merged_data.set_index('timestamp')\n",
    "\n",
    "merged_data"
   ],
   "metadata": {
    "collapsed": false,
    "ExecuteTime": {
     "end_time": "2023-12-27T18:00:23.595011200Z",
     "start_time": "2023-12-27T18:00:23.167962400Z"
    }
   },
   "id": "cc8a2e6773da0a0a"
  },
  {
   "cell_type": "markdown",
   "source": [
    "### Drop unnesessary columns\n",
    "THIS IS DATA ONLY FOR CRACOW\n",
    "Dates is no longer needed, because dates are indexes\n",
    "\n",
    "\n"
   ],
   "metadata": {
    "collapsed": false
   },
   "id": "f361d53aaa65b0"
  },
  {
   "cell_type": "code",
   "execution_count": 5,
   "outputs": [
    {
     "data": {
      "text/plain": "                    Wysokość podstawy chmur CL CM szyfrowana [kod]  \\\ntimestamp                                                            \n2017-01-01 00:00:00                                              9   \n2017-01-01 01:00:00                                              9   \n2017-01-01 02:00:00                                              9   \n2017-01-01 03:00:00                                              9   \n2017-01-01 04:00:00                                              9   \n...                                                            ...   \n2022-12-31 19:00:00                                              9   \n2022-12-31 20:00:00                                              9   \n2022-12-31 21:00:00                                              9   \n2022-12-31 22:00:00                                              9   \n2022-12-31 23:00:00                                              9   \n\n                     Status pomiaru HPOD  Wysokość podstawy niższej  [m]  \\\ntimestamp                                                                  \n2017-01-01 00:00:00                  NaN                               0   \n2017-01-01 01:00:00                  NaN                               0   \n2017-01-01 02:00:00                  NaN                               0   \n2017-01-01 03:00:00                  NaN                               0   \n2017-01-01 04:00:00                  NaN                               0   \n...                                  ...                             ...   \n2022-12-31 19:00:00                  NaN                               0   \n2022-12-31 20:00:00                  NaN                               0   \n2022-12-31 21:00:00                  NaN                               0   \n2022-12-31 22:00:00                  NaN                               0   \n2022-12-31 23:00:00                  NaN                               0   \n\n                     Status pomiaru HPON  Wysokość podstawy wyższej [m]  \\\ntimestamp                                                                 \n2017-01-01 00:00:00                  8.0                              0   \n2017-01-01 01:00:00                  8.0                              0   \n2017-01-01 02:00:00                  8.0                              0   \n2017-01-01 03:00:00                  8.0                              0   \n2017-01-01 04:00:00                  8.0                              0   \n...                                  ...                            ...   \n2022-12-31 19:00:00                  8.0                              0   \n2022-12-31 20:00:00                  8.0                              0   \n2022-12-31 21:00:00                  8.0                              0   \n2022-12-31 22:00:00                  8.0                              0   \n2022-12-31 23:00:00                  8.0                              0   \n\n                     Status pomiaru HPOW Wysokość podstawy tekstowy [opis]  \\\ntimestamp                                                                    \n2017-01-01 00:00:00                  8.0                                 .   \n2017-01-01 01:00:00                  8.0                                 .   \n2017-01-01 02:00:00                  8.0                                 .   \n2017-01-01 03:00:00                  8.0                                 .   \n2017-01-01 04:00:00                  8.0                                 .   \n...                                  ...                               ...   \n2022-12-31 19:00:00                  8.0                             >2500   \n2022-12-31 20:00:00                  8.0                             >2500   \n2022-12-31 21:00:00                  8.0                             >2500   \n2022-12-31 22:00:00                  8.0                             >2500   \n2022-12-31 23:00:00                  8.0                             >2500   \n\n                    Pomiar przyrzadem 1 (niższa) [P]  \\\ntimestamp                                              \n2017-01-01 00:00:00                              NaN   \n2017-01-01 01:00:00                              NaN   \n2017-01-01 02:00:00                              NaN   \n2017-01-01 03:00:00                              NaN   \n2017-01-01 04:00:00                              NaN   \n...                                              ...   \n2022-12-31 19:00:00                              NaN   \n2022-12-31 20:00:00                              NaN   \n2022-12-31 21:00:00                              NaN   \n2022-12-31 22:00:00                              NaN   \n2022-12-31 23:00:00                              NaN   \n\n                    Pomiar przyrzadem 2 (wyższa) [P]  Widzialność  [kod]  ...  \\\ntimestamp                                                                 ...   \n2017-01-01 00:00:00                              NaN                   5  ...   \n2017-01-01 01:00:00                              NaN                   5  ...   \n2017-01-01 02:00:00                              NaN                   6  ...   \n2017-01-01 03:00:00                              NaN                   6  ...   \n2017-01-01 04:00:00                              NaN                   6  ...   \n...                                              ...                 ...  ...   \n2022-12-31 19:00:00                              NaN                   8  ...   \n2022-12-31 20:00:00                              NaN                   8  ...   \n2022-12-31 21:00:00                              NaN                   8  ...   \n2022-12-31 22:00:00                              NaN                   8  ...   \n2022-12-31 23:00:00                              NaN                   8  ...   \n\n                     Wysokość świeżo spadłego śniegu  [cm]  \\\ntimestamp                                                    \n2017-01-01 00:00:00                                      0   \n2017-01-01 01:00:00                                      0   \n2017-01-01 02:00:00                                      0   \n2017-01-01 03:00:00                                      0   \n2017-01-01 04:00:00                                      0   \n...                                                    ...   \n2022-12-31 19:00:00                                      0   \n2022-12-31 20:00:00                                      0   \n2022-12-31 21:00:00                                      0   \n2022-12-31 22:00:00                                      0   \n2022-12-31 23:00:00                                      0   \n\n                     Status pomiaru HSS  Wysokość śniegu na poletku [cm]  \\\ntimestamp                                                                  \n2017-01-01 00:00:00                 8.0                                0   \n2017-01-01 01:00:00                 8.0                                0   \n2017-01-01 02:00:00                 8.0                                0   \n2017-01-01 03:00:00                 8.0                                0   \n2017-01-01 04:00:00                 8.0                                0   \n...                                 ...                              ...   \n2022-12-31 19:00:00                 8.0                                0   \n2022-12-31 20:00:00                 8.0                                0   \n2022-12-31 21:00:00                 8.0                                0   \n2022-12-31 22:00:00                 8.0                                0   \n2022-12-31 23:00:00                 8.0                                0   \n\n                     Status pomiaru GRSN  Gatunek śniegu  [kod]  \\\ntimestamp                                                         \n2017-01-01 00:00:00                  8.0                    NaN   \n2017-01-01 01:00:00                  8.0                    NaN   \n2017-01-01 02:00:00                  8.0                    NaN   \n2017-01-01 03:00:00                  8.0                    NaN   \n2017-01-01 04:00:00                  8.0                    NaN   \n...                                  ...                    ...   \n2022-12-31 19:00:00                  8.0                    NaN   \n2022-12-31 20:00:00                  8.0                    NaN   \n2022-12-31 21:00:00                  8.0                    NaN   \n2022-12-31 22:00:00                  8.0                    NaN   \n2022-12-31 23:00:00                  8.0                    NaN   \n\n                     Ukształtowanie pokrywy [kod]  Wysokość próbki [cm]  \\\ntimestamp                                                                 \n2017-01-01 00:00:00                           NaN                     0   \n2017-01-01 01:00:00                           NaN                     0   \n2017-01-01 02:00:00                           NaN                     0   \n2017-01-01 03:00:00                           NaN                     0   \n2017-01-01 04:00:00                           NaN                     0   \n...                                           ...                   ...   \n2022-12-31 19:00:00                           NaN                     0   \n2022-12-31 20:00:00                           NaN                     0   \n2022-12-31 21:00:00                           NaN                     0   \n2022-12-31 22:00:00                           NaN                     0   \n2022-12-31 23:00:00                           NaN                     0   \n\n                     Status pomiaru HPRO  Ciężar próbki [g]  \\\ntimestamp                                                     \n2017-01-01 00:00:00                  8.0                  0   \n2017-01-01 01:00:00                  8.0                  0   \n2017-01-01 02:00:00                  8.0                  0   \n2017-01-01 03:00:00                  8.0                  0   \n2017-01-01 04:00:00                  8.0                  0   \n...                                  ...                ...   \n2022-12-31 19:00:00                  8.0                  0   \n2022-12-31 20:00:00                  8.0                  0   \n2022-12-31 21:00:00                  8.0                  0   \n2022-12-31 22:00:00                  8.0                  0   \n2022-12-31 23:00:00                  8.0                  0   \n\n                     Status pomiaru CIPR  \ntimestamp                                 \n2017-01-01 00:00:00                  8.0  \n2017-01-01 01:00:00                  8.0  \n2017-01-01 02:00:00                  8.0  \n2017-01-01 03:00:00                  8.0  \n2017-01-01 04:00:00                  8.0  \n...                                  ...  \n2022-12-31 19:00:00                  8.0  \n2022-12-31 20:00:00                  8.0  \n2022-12-31 21:00:00                  8.0  \n2022-12-31 22:00:00                  8.0  \n2022-12-31 23:00:00                  8.0  \n\n[52584 rows x 101 columns]",
      "text/html": "<div>\n<style scoped>\n    .dataframe tbody tr th:only-of-type {\n        vertical-align: middle;\n    }\n\n    .dataframe tbody tr th {\n        vertical-align: top;\n    }\n\n    .dataframe thead th {\n        text-align: right;\n    }\n</style>\n<table border=\"1\" class=\"dataframe\">\n  <thead>\n    <tr style=\"text-align: right;\">\n      <th></th>\n      <th>Wysokość podstawy chmur CL CM szyfrowana [kod]</th>\n      <th>Status pomiaru HPOD</th>\n      <th>Wysokość podstawy niższej  [m]</th>\n      <th>Status pomiaru HPON</th>\n      <th>Wysokość podstawy wyższej [m]</th>\n      <th>Status pomiaru HPOW</th>\n      <th>Wysokość podstawy tekstowy [opis]</th>\n      <th>Pomiar przyrzadem 1 (niższa) [P]</th>\n      <th>Pomiar przyrzadem 2 (wyższa) [P]</th>\n      <th>Widzialność  [kod]</th>\n      <th>...</th>\n      <th>Wysokość świeżo spadłego śniegu  [cm]</th>\n      <th>Status pomiaru HSS</th>\n      <th>Wysokość śniegu na poletku [cm]</th>\n      <th>Status pomiaru GRSN</th>\n      <th>Gatunek śniegu  [kod]</th>\n      <th>Ukształtowanie pokrywy [kod]</th>\n      <th>Wysokość próbki [cm]</th>\n      <th>Status pomiaru HPRO</th>\n      <th>Ciężar próbki [g]</th>\n      <th>Status pomiaru CIPR</th>\n    </tr>\n    <tr>\n      <th>timestamp</th>\n      <th></th>\n      <th></th>\n      <th></th>\n      <th></th>\n      <th></th>\n      <th></th>\n      <th></th>\n      <th></th>\n      <th></th>\n      <th></th>\n      <th></th>\n      <th></th>\n      <th></th>\n      <th></th>\n      <th></th>\n      <th></th>\n      <th></th>\n      <th></th>\n      <th></th>\n      <th></th>\n      <th></th>\n    </tr>\n  </thead>\n  <tbody>\n    <tr>\n      <th>2017-01-01 00:00:00</th>\n      <td>9</td>\n      <td>NaN</td>\n      <td>0</td>\n      <td>8.0</td>\n      <td>0</td>\n      <td>8.0</td>\n      <td>.</td>\n      <td>NaN</td>\n      <td>NaN</td>\n      <td>5</td>\n      <td>...</td>\n      <td>0</td>\n      <td>8.0</td>\n      <td>0</td>\n      <td>8.0</td>\n      <td>NaN</td>\n      <td>NaN</td>\n      <td>0</td>\n      <td>8.0</td>\n      <td>0</td>\n      <td>8.0</td>\n    </tr>\n    <tr>\n      <th>2017-01-01 01:00:00</th>\n      <td>9</td>\n      <td>NaN</td>\n      <td>0</td>\n      <td>8.0</td>\n      <td>0</td>\n      <td>8.0</td>\n      <td>.</td>\n      <td>NaN</td>\n      <td>NaN</td>\n      <td>5</td>\n      <td>...</td>\n      <td>0</td>\n      <td>8.0</td>\n      <td>0</td>\n      <td>8.0</td>\n      <td>NaN</td>\n      <td>NaN</td>\n      <td>0</td>\n      <td>8.0</td>\n      <td>0</td>\n      <td>8.0</td>\n    </tr>\n    <tr>\n      <th>2017-01-01 02:00:00</th>\n      <td>9</td>\n      <td>NaN</td>\n      <td>0</td>\n      <td>8.0</td>\n      <td>0</td>\n      <td>8.0</td>\n      <td>.</td>\n      <td>NaN</td>\n      <td>NaN</td>\n      <td>6</td>\n      <td>...</td>\n      <td>0</td>\n      <td>8.0</td>\n      <td>0</td>\n      <td>8.0</td>\n      <td>NaN</td>\n      <td>NaN</td>\n      <td>0</td>\n      <td>8.0</td>\n      <td>0</td>\n      <td>8.0</td>\n    </tr>\n    <tr>\n      <th>2017-01-01 03:00:00</th>\n      <td>9</td>\n      <td>NaN</td>\n      <td>0</td>\n      <td>8.0</td>\n      <td>0</td>\n      <td>8.0</td>\n      <td>.</td>\n      <td>NaN</td>\n      <td>NaN</td>\n      <td>6</td>\n      <td>...</td>\n      <td>0</td>\n      <td>8.0</td>\n      <td>0</td>\n      <td>8.0</td>\n      <td>NaN</td>\n      <td>NaN</td>\n      <td>0</td>\n      <td>8.0</td>\n      <td>0</td>\n      <td>8.0</td>\n    </tr>\n    <tr>\n      <th>2017-01-01 04:00:00</th>\n      <td>9</td>\n      <td>NaN</td>\n      <td>0</td>\n      <td>8.0</td>\n      <td>0</td>\n      <td>8.0</td>\n      <td>.</td>\n      <td>NaN</td>\n      <td>NaN</td>\n      <td>6</td>\n      <td>...</td>\n      <td>0</td>\n      <td>8.0</td>\n      <td>0</td>\n      <td>8.0</td>\n      <td>NaN</td>\n      <td>NaN</td>\n      <td>0</td>\n      <td>8.0</td>\n      <td>0</td>\n      <td>8.0</td>\n    </tr>\n    <tr>\n      <th>...</th>\n      <td>...</td>\n      <td>...</td>\n      <td>...</td>\n      <td>...</td>\n      <td>...</td>\n      <td>...</td>\n      <td>...</td>\n      <td>...</td>\n      <td>...</td>\n      <td>...</td>\n      <td>...</td>\n      <td>...</td>\n      <td>...</td>\n      <td>...</td>\n      <td>...</td>\n      <td>...</td>\n      <td>...</td>\n      <td>...</td>\n      <td>...</td>\n      <td>...</td>\n      <td>...</td>\n    </tr>\n    <tr>\n      <th>2022-12-31 19:00:00</th>\n      <td>9</td>\n      <td>NaN</td>\n      <td>0</td>\n      <td>8.0</td>\n      <td>0</td>\n      <td>8.0</td>\n      <td>&gt;2500</td>\n      <td>NaN</td>\n      <td>NaN</td>\n      <td>8</td>\n      <td>...</td>\n      <td>0</td>\n      <td>8.0</td>\n      <td>0</td>\n      <td>8.0</td>\n      <td>NaN</td>\n      <td>NaN</td>\n      <td>0</td>\n      <td>8.0</td>\n      <td>0</td>\n      <td>8.0</td>\n    </tr>\n    <tr>\n      <th>2022-12-31 20:00:00</th>\n      <td>9</td>\n      <td>NaN</td>\n      <td>0</td>\n      <td>8.0</td>\n      <td>0</td>\n      <td>8.0</td>\n      <td>&gt;2500</td>\n      <td>NaN</td>\n      <td>NaN</td>\n      <td>8</td>\n      <td>...</td>\n      <td>0</td>\n      <td>8.0</td>\n      <td>0</td>\n      <td>8.0</td>\n      <td>NaN</td>\n      <td>NaN</td>\n      <td>0</td>\n      <td>8.0</td>\n      <td>0</td>\n      <td>8.0</td>\n    </tr>\n    <tr>\n      <th>2022-12-31 21:00:00</th>\n      <td>9</td>\n      <td>NaN</td>\n      <td>0</td>\n      <td>8.0</td>\n      <td>0</td>\n      <td>8.0</td>\n      <td>&gt;2500</td>\n      <td>NaN</td>\n      <td>NaN</td>\n      <td>8</td>\n      <td>...</td>\n      <td>0</td>\n      <td>8.0</td>\n      <td>0</td>\n      <td>8.0</td>\n      <td>NaN</td>\n      <td>NaN</td>\n      <td>0</td>\n      <td>8.0</td>\n      <td>0</td>\n      <td>8.0</td>\n    </tr>\n    <tr>\n      <th>2022-12-31 22:00:00</th>\n      <td>9</td>\n      <td>NaN</td>\n      <td>0</td>\n      <td>8.0</td>\n      <td>0</td>\n      <td>8.0</td>\n      <td>&gt;2500</td>\n      <td>NaN</td>\n      <td>NaN</td>\n      <td>8</td>\n      <td>...</td>\n      <td>0</td>\n      <td>8.0</td>\n      <td>0</td>\n      <td>8.0</td>\n      <td>NaN</td>\n      <td>NaN</td>\n      <td>0</td>\n      <td>8.0</td>\n      <td>0</td>\n      <td>8.0</td>\n    </tr>\n    <tr>\n      <th>2022-12-31 23:00:00</th>\n      <td>9</td>\n      <td>NaN</td>\n      <td>0</td>\n      <td>8.0</td>\n      <td>0</td>\n      <td>8.0</td>\n      <td>&gt;2500</td>\n      <td>NaN</td>\n      <td>NaN</td>\n      <td>8</td>\n      <td>...</td>\n      <td>0</td>\n      <td>8.0</td>\n      <td>0</td>\n      <td>8.0</td>\n      <td>NaN</td>\n      <td>NaN</td>\n      <td>0</td>\n      <td>8.0</td>\n      <td>0</td>\n      <td>8.0</td>\n    </tr>\n  </tbody>\n</table>\n<p>52584 rows × 101 columns</p>\n</div>"
     },
     "execution_count": 5,
     "metadata": {},
     "output_type": "execute_result"
    }
   ],
   "source": [
    "merged_data.drop(columns=['Kod stacji', 'Nazwa stacji', 'Rok', 'Miesiąc', 'Dzień', 'Godzina'], inplace=True)\n",
    "merged_data"
   ],
   "metadata": {
    "collapsed": false,
    "ExecuteTime": {
     "end_time": "2023-12-27T18:00:23.938995300Z",
     "start_time": "2023-12-27T18:00:23.574981900Z"
    }
   },
   "id": "9cd41fb9cacf212f"
  },
  {
   "cell_type": "markdown",
   "source": [
    "# INFO about future steps\n"
   ],
   "metadata": {
    "collapsed": false
   },
   "id": "a7cbcd328d73a01b"
  },
  {
   "cell_type": "code",
   "execution_count": 6,
   "outputs": [],
   "source": [
    "predict_params = [\n",
    "    'Temperatura powietrza [°C]/1',\n",
    "    'Ciśnienie na poziomie stacji [hPa]',\n",
    "    'Ciśnienie na poziomie morza [hPa]',\n",
    "    'Ciśnienie pary wodnej [hPa]',\n",
    "    'Widzialność operatora [m]',\n",
    "    'Zachmurzenie ogólne [oktanty]',\n",
    "    'Zachmurzenie niskie [oktanty]',\n",
    "    'Chmury CL [kod]',\n",
    "    'Chmury CM [kod]',\n",
    "    'Chmury CH [kod]',\n",
    "    'Wysokość podstawy chmur CL CM szyfrowana [kod]',\n",
    "    'Kierunek wiatru  [°]',\n",
    "    'Prędkość wiatru  [m/s]',\n",
    "    'Wystąpienie rosy [0/1]',\n",
    "    'Temperatura punktu rosy [°C]',\n",
    "    'Wilgotność względna [%]',\n",
    "    'Niedosyt wilgotności [hPa]',\n",
    "    'Wartość tendencji [wartość]',\n",
    "    'Opad za 6 godzin [mm]',\n",
    "    'Rodzaj opadu za 6 godzin [kod]',  # TODO: replace by another data source\n",
    "    'Wysokość pokrywy śnieżnej [cm]',\n",
    "    'Gatunek śniegu  [kod]'\n",
    "]"
   ],
   "metadata": {
    "collapsed": false,
    "ExecuteTime": {
     "end_time": "2023-12-27T18:00:23.938995300Z",
     "start_time": "2023-12-27T18:00:23.703029400Z"
    }
   },
   "id": "d6b5d0d27d8a5dae"
  },
  {
   "cell_type": "code",
   "execution_count": 7,
   "outputs": [
    {
     "data": {
      "text/plain": "                     Temperatura powietrza [°C]/1  \\\ntimestamp                                           \n2017-01-01 00:00:00                          -6.8   \n2017-01-01 01:00:00                          -6.9   \n2017-01-01 02:00:00                          -3.9   \n2017-01-01 03:00:00                          -6.5   \n2017-01-01 04:00:00                          -6.1   \n...                                           ...   \n2022-12-31 19:00:00                           8.3   \n2022-12-31 20:00:00                           9.1   \n2022-12-31 21:00:00                           8.4   \n2022-12-31 22:00:00                           9.3   \n2022-12-31 23:00:00                           6.1   \n\n                     Ciśnienie na poziomie stacji [hPa]  \\\ntimestamp                                                 \n2017-01-01 00:00:00                               995.8   \n2017-01-01 01:00:00                               995.6   \n2017-01-01 02:00:00                               994.9   \n2017-01-01 03:00:00                               994.1   \n2017-01-01 04:00:00                               993.6   \n...                                                 ...   \n2022-12-31 19:00:00                               991.2   \n2022-12-31 20:00:00                               991.4   \n2022-12-31 21:00:00                               991.6   \n2022-12-31 22:00:00                               991.6   \n2022-12-31 23:00:00                               991.5   \n\n                     Opad za 6 godzin [mm]  \\\ntimestamp                                    \n2017-01-01 00:00:00                    0.0   \n2017-01-01 01:00:00                    0.0   \n2017-01-01 02:00:00                    0.0   \n2017-01-01 03:00:00                    0.0   \n2017-01-01 04:00:00                    0.0   \n...                                    ...   \n2022-12-31 19:00:00                    0.0   \n2022-12-31 20:00:00                    0.0   \n2022-12-31 21:00:00                    0.0   \n2022-12-31 22:00:00                    0.0   \n2022-12-31 23:00:00                    0.0   \n\n                    Wysokość podstawy chmur CL CM szyfrowana [kod]  \\\ntimestamp                                                            \n2017-01-01 00:00:00                                              9   \n2017-01-01 01:00:00                                              9   \n2017-01-01 02:00:00                                              9   \n2017-01-01 03:00:00                                              9   \n2017-01-01 04:00:00                                              9   \n...                                                            ...   \n2022-12-31 19:00:00                                              9   \n2022-12-31 20:00:00                                              9   \n2022-12-31 21:00:00                                              9   \n2022-12-31 22:00:00                                              9   \n2022-12-31 23:00:00                                              9   \n\n                    Chmury CL [kod] Chmury CM [kod] Chmury CH [kod]  \\\ntimestamp                                                             \n2017-01-01 00:00:00               0               0               0   \n2017-01-01 01:00:00               0               0               0   \n2017-01-01 02:00:00               0               0               0   \n2017-01-01 03:00:00               0               0               0   \n2017-01-01 04:00:00               0               0               0   \n...                             ...             ...             ...   \n2022-12-31 19:00:00               0               0               8   \n2022-12-31 20:00:00               0               0               8   \n2022-12-31 21:00:00               0               0               8   \n2022-12-31 22:00:00               0               0               8   \n2022-12-31 23:00:00               0               0               8   \n\n                     Widzialność operatora [m]  Zachmurzenie ogólne [oktanty]  \\\ntimestamp                                                                       \n2017-01-01 00:00:00                       3500                              0   \n2017-01-01 01:00:00                       3500                              0   \n2017-01-01 02:00:00                       5000                              0   \n2017-01-01 03:00:00                       4000                              0   \n2017-01-01 04:00:00                       4000                              0   \n...                                        ...                            ...   \n2022-12-31 19:00:00                      20000                              7   \n2022-12-31 20:00:00                      20000                              7   \n2022-12-31 21:00:00                      20000                              7   \n2022-12-31 22:00:00                      20000                              7   \n2022-12-31 23:00:00                      20000                              7   \n\n                     Zachmurzenie niskie [oktanty]  ...  \\\ntimestamp                                           ...   \n2017-01-01 00:00:00                              0  ...   \n2017-01-01 01:00:00                              0  ...   \n2017-01-01 02:00:00                              0  ...   \n2017-01-01 03:00:00                              0  ...   \n2017-01-01 04:00:00                              0  ...   \n...                                            ...  ...   \n2022-12-31 19:00:00                              0  ...   \n2022-12-31 20:00:00                              0  ...   \n2022-12-31 21:00:00                              0  ...   \n2022-12-31 22:00:00                              0  ...   \n2022-12-31 23:00:00                              0  ...   \n\n                     Ciśnienie pary wodnej [hPa]  \\\ntimestamp                                          \n2017-01-01 00:00:00                          3.5   \n2017-01-01 01:00:00                          3.5   \n2017-01-01 02:00:00                          3.8   \n2017-01-01 03:00:00                          3.5   \n2017-01-01 04:00:00                          3.3   \n...                                          ...   \n2022-12-31 19:00:00                          9.5   \n2022-12-31 20:00:00                          9.2   \n2022-12-31 21:00:00                          9.0   \n2022-12-31 22:00:00                          8.7   \n2022-12-31 23:00:00                          8.0   \n\n                     Charakterystyka tendencji [kod]  \\\ntimestamp                                              \n2017-01-01 00:00:00                                7   \n2017-01-01 01:00:00                                6   \n2017-01-01 02:00:00                                7   \n2017-01-01 03:00:00                                8   \n2017-01-01 04:00:00                                7   \n...                                              ...   \n2022-12-31 19:00:00                                1   \n2022-12-31 20:00:00                                2   \n2022-12-31 21:00:00                                2   \n2022-12-31 22:00:00                                1   \n2022-12-31 23:00:00                                0   \n\n                     Wartość tendencji [wartość]  \\\ntimestamp                                          \n2017-01-01 00:00:00                         -1.5   \n2017-01-01 01:00:00                         -1.4   \n2017-01-01 02:00:00                         -1.4   \n2017-01-01 03:00:00                         -1.7   \n2017-01-01 04:00:00                         -2.0   \n...                                          ...   \n2022-12-31 19:00:00                          0.7   \n2022-12-31 20:00:00                          0.5   \n2022-12-31 21:00:00                          0.5   \n2022-12-31 22:00:00                          0.4   \n2022-12-31 23:00:00                          0.1   \n\n                     Rodzaj opadu za 6 godzin [kod]  Stan gruntu [kod]  \\\ntimestamp                                                                \n2017-01-01 00:00:00                               0                  4   \n2017-01-01 01:00:00                               0                  0   \n2017-01-01 02:00:00                               0                  0   \n2017-01-01 03:00:00                               0                  0   \n2017-01-01 04:00:00                               0                  0   \n...                                             ...                ...   \n2022-12-31 19:00:00                               0                  0   \n2022-12-31 20:00:00                               0                  0   \n2022-12-31 21:00:00                               0                  0   \n2022-12-31 22:00:00                               0                  0   \n2022-12-31 23:00:00                               0                  0   \n\n                     Wystąpienie rosy [0/1]  Równoważnik wodny śniegu [mm/cm]  \\\ntimestamp                                                                       \n2017-01-01 00:00:00                       0                               0.0   \n2017-01-01 01:00:00                       0                               0.0   \n2017-01-01 02:00:00                       0                               0.0   \n2017-01-01 03:00:00                       0                               0.0   \n2017-01-01 04:00:00                       0                               0.0   \n...                                     ...                               ...   \n2022-12-31 19:00:00                       0                               0.0   \n2022-12-31 20:00:00                       0                               0.0   \n2022-12-31 21:00:00                       0                               0.0   \n2022-12-31 22:00:00                       0                               0.0   \n2022-12-31 23:00:00                       0                               0.0   \n\n                     Wysokość pokrywy śnieżnej [cm]  \\\ntimestamp                                             \n2017-01-01 00:00:00                               0   \n2017-01-01 01:00:00                               0   \n2017-01-01 02:00:00                               0   \n2017-01-01 03:00:00                               0   \n2017-01-01 04:00:00                               0   \n...                                             ...   \n2022-12-31 19:00:00                               0   \n2022-12-31 20:00:00                               0   \n2022-12-31 21:00:00                               0   \n2022-12-31 22:00:00                               0   \n2022-12-31 23:00:00                               0   \n\n                     Wysokość świeżo spadłego śniegu  [cm]  \\\ntimestamp                                                    \n2017-01-01 00:00:00                                      0   \n2017-01-01 01:00:00                                      0   \n2017-01-01 02:00:00                                      0   \n2017-01-01 03:00:00                                      0   \n2017-01-01 04:00:00                                      0   \n...                                                    ...   \n2022-12-31 19:00:00                                      0   \n2022-12-31 20:00:00                                      0   \n2022-12-31 21:00:00                                      0   \n2022-12-31 22:00:00                                      0   \n2022-12-31 23:00:00                                      0   \n\n                     Gatunek śniegu  [kod]  \ntimestamp                                   \n2017-01-01 00:00:00                    NaN  \n2017-01-01 01:00:00                    NaN  \n2017-01-01 02:00:00                    NaN  \n2017-01-01 03:00:00                    NaN  \n2017-01-01 04:00:00                    NaN  \n...                                    ...  \n2022-12-31 19:00:00                    NaN  \n2022-12-31 20:00:00                    NaN  \n2022-12-31 21:00:00                    NaN  \n2022-12-31 22:00:00                    NaN  \n2022-12-31 23:00:00                    NaN  \n\n[52584 rows x 26 columns]",
      "text/html": "<div>\n<style scoped>\n    .dataframe tbody tr th:only-of-type {\n        vertical-align: middle;\n    }\n\n    .dataframe tbody tr th {\n        vertical-align: top;\n    }\n\n    .dataframe thead th {\n        text-align: right;\n    }\n</style>\n<table border=\"1\" class=\"dataframe\">\n  <thead>\n    <tr style=\"text-align: right;\">\n      <th></th>\n      <th>Temperatura powietrza [°C]/1</th>\n      <th>Ciśnienie na poziomie stacji [hPa]</th>\n      <th>Opad za 6 godzin [mm]</th>\n      <th>Wysokość podstawy chmur CL CM szyfrowana [kod]</th>\n      <th>Chmury CL [kod]</th>\n      <th>Chmury CM [kod]</th>\n      <th>Chmury CH [kod]</th>\n      <th>Widzialność operatora [m]</th>\n      <th>Zachmurzenie ogólne [oktanty]</th>\n      <th>Zachmurzenie niskie [oktanty]</th>\n      <th>...</th>\n      <th>Ciśnienie pary wodnej [hPa]</th>\n      <th>Charakterystyka tendencji [kod]</th>\n      <th>Wartość tendencji [wartość]</th>\n      <th>Rodzaj opadu za 6 godzin [kod]</th>\n      <th>Stan gruntu [kod]</th>\n      <th>Wystąpienie rosy [0/1]</th>\n      <th>Równoważnik wodny śniegu [mm/cm]</th>\n      <th>Wysokość pokrywy śnieżnej [cm]</th>\n      <th>Wysokość świeżo spadłego śniegu  [cm]</th>\n      <th>Gatunek śniegu  [kod]</th>\n    </tr>\n    <tr>\n      <th>timestamp</th>\n      <th></th>\n      <th></th>\n      <th></th>\n      <th></th>\n      <th></th>\n      <th></th>\n      <th></th>\n      <th></th>\n      <th></th>\n      <th></th>\n      <th></th>\n      <th></th>\n      <th></th>\n      <th></th>\n      <th></th>\n      <th></th>\n      <th></th>\n      <th></th>\n      <th></th>\n      <th></th>\n      <th></th>\n    </tr>\n  </thead>\n  <tbody>\n    <tr>\n      <th>2017-01-01 00:00:00</th>\n      <td>-6.8</td>\n      <td>995.8</td>\n      <td>0.0</td>\n      <td>9</td>\n      <td>0</td>\n      <td>0</td>\n      <td>0</td>\n      <td>3500</td>\n      <td>0</td>\n      <td>0</td>\n      <td>...</td>\n      <td>3.5</td>\n      <td>7</td>\n      <td>-1.5</td>\n      <td>0</td>\n      <td>4</td>\n      <td>0</td>\n      <td>0.0</td>\n      <td>0</td>\n      <td>0</td>\n      <td>NaN</td>\n    </tr>\n    <tr>\n      <th>2017-01-01 01:00:00</th>\n      <td>-6.9</td>\n      <td>995.6</td>\n      <td>0.0</td>\n      <td>9</td>\n      <td>0</td>\n      <td>0</td>\n      <td>0</td>\n      <td>3500</td>\n      <td>0</td>\n      <td>0</td>\n      <td>...</td>\n      <td>3.5</td>\n      <td>6</td>\n      <td>-1.4</td>\n      <td>0</td>\n      <td>0</td>\n      <td>0</td>\n      <td>0.0</td>\n      <td>0</td>\n      <td>0</td>\n      <td>NaN</td>\n    </tr>\n    <tr>\n      <th>2017-01-01 02:00:00</th>\n      <td>-3.9</td>\n      <td>994.9</td>\n      <td>0.0</td>\n      <td>9</td>\n      <td>0</td>\n      <td>0</td>\n      <td>0</td>\n      <td>5000</td>\n      <td>0</td>\n      <td>0</td>\n      <td>...</td>\n      <td>3.8</td>\n      <td>7</td>\n      <td>-1.4</td>\n      <td>0</td>\n      <td>0</td>\n      <td>0</td>\n      <td>0.0</td>\n      <td>0</td>\n      <td>0</td>\n      <td>NaN</td>\n    </tr>\n    <tr>\n      <th>2017-01-01 03:00:00</th>\n      <td>-6.5</td>\n      <td>994.1</td>\n      <td>0.0</td>\n      <td>9</td>\n      <td>0</td>\n      <td>0</td>\n      <td>0</td>\n      <td>4000</td>\n      <td>0</td>\n      <td>0</td>\n      <td>...</td>\n      <td>3.5</td>\n      <td>8</td>\n      <td>-1.7</td>\n      <td>0</td>\n      <td>0</td>\n      <td>0</td>\n      <td>0.0</td>\n      <td>0</td>\n      <td>0</td>\n      <td>NaN</td>\n    </tr>\n    <tr>\n      <th>2017-01-01 04:00:00</th>\n      <td>-6.1</td>\n      <td>993.6</td>\n      <td>0.0</td>\n      <td>9</td>\n      <td>0</td>\n      <td>0</td>\n      <td>0</td>\n      <td>4000</td>\n      <td>0</td>\n      <td>0</td>\n      <td>...</td>\n      <td>3.3</td>\n      <td>7</td>\n      <td>-2.0</td>\n      <td>0</td>\n      <td>0</td>\n      <td>0</td>\n      <td>0.0</td>\n      <td>0</td>\n      <td>0</td>\n      <td>NaN</td>\n    </tr>\n    <tr>\n      <th>...</th>\n      <td>...</td>\n      <td>...</td>\n      <td>...</td>\n      <td>...</td>\n      <td>...</td>\n      <td>...</td>\n      <td>...</td>\n      <td>...</td>\n      <td>...</td>\n      <td>...</td>\n      <td>...</td>\n      <td>...</td>\n      <td>...</td>\n      <td>...</td>\n      <td>...</td>\n      <td>...</td>\n      <td>...</td>\n      <td>...</td>\n      <td>...</td>\n      <td>...</td>\n      <td>...</td>\n    </tr>\n    <tr>\n      <th>2022-12-31 19:00:00</th>\n      <td>8.3</td>\n      <td>991.2</td>\n      <td>0.0</td>\n      <td>9</td>\n      <td>0</td>\n      <td>0</td>\n      <td>8</td>\n      <td>20000</td>\n      <td>7</td>\n      <td>0</td>\n      <td>...</td>\n      <td>9.5</td>\n      <td>1</td>\n      <td>0.7</td>\n      <td>0</td>\n      <td>0</td>\n      <td>0</td>\n      <td>0.0</td>\n      <td>0</td>\n      <td>0</td>\n      <td>NaN</td>\n    </tr>\n    <tr>\n      <th>2022-12-31 20:00:00</th>\n      <td>9.1</td>\n      <td>991.4</td>\n      <td>0.0</td>\n      <td>9</td>\n      <td>0</td>\n      <td>0</td>\n      <td>8</td>\n      <td>20000</td>\n      <td>7</td>\n      <td>0</td>\n      <td>...</td>\n      <td>9.2</td>\n      <td>2</td>\n      <td>0.5</td>\n      <td>0</td>\n      <td>0</td>\n      <td>0</td>\n      <td>0.0</td>\n      <td>0</td>\n      <td>0</td>\n      <td>NaN</td>\n    </tr>\n    <tr>\n      <th>2022-12-31 21:00:00</th>\n      <td>8.4</td>\n      <td>991.6</td>\n      <td>0.0</td>\n      <td>9</td>\n      <td>0</td>\n      <td>0</td>\n      <td>8</td>\n      <td>20000</td>\n      <td>7</td>\n      <td>0</td>\n      <td>...</td>\n      <td>9.0</td>\n      <td>2</td>\n      <td>0.5</td>\n      <td>0</td>\n      <td>0</td>\n      <td>0</td>\n      <td>0.0</td>\n      <td>0</td>\n      <td>0</td>\n      <td>NaN</td>\n    </tr>\n    <tr>\n      <th>2022-12-31 22:00:00</th>\n      <td>9.3</td>\n      <td>991.6</td>\n      <td>0.0</td>\n      <td>9</td>\n      <td>0</td>\n      <td>0</td>\n      <td>8</td>\n      <td>20000</td>\n      <td>7</td>\n      <td>0</td>\n      <td>...</td>\n      <td>8.7</td>\n      <td>1</td>\n      <td>0.4</td>\n      <td>0</td>\n      <td>0</td>\n      <td>0</td>\n      <td>0.0</td>\n      <td>0</td>\n      <td>0</td>\n      <td>NaN</td>\n    </tr>\n    <tr>\n      <th>2022-12-31 23:00:00</th>\n      <td>6.1</td>\n      <td>991.5</td>\n      <td>0.0</td>\n      <td>9</td>\n      <td>0</td>\n      <td>0</td>\n      <td>8</td>\n      <td>20000</td>\n      <td>7</td>\n      <td>0</td>\n      <td>...</td>\n      <td>8.0</td>\n      <td>0</td>\n      <td>0.1</td>\n      <td>0</td>\n      <td>0</td>\n      <td>0</td>\n      <td>0.0</td>\n      <td>0</td>\n      <td>0</td>\n      <td>NaN</td>\n    </tr>\n  </tbody>\n</table>\n<p>52584 rows × 26 columns</p>\n</div>"
     },
     "execution_count": 7,
     "metadata": {},
     "output_type": "execute_result"
    }
   ],
   "source": [
    "clean_data = merged_data[predict_params]\n",
    "clean_data"
   ],
   "metadata": {
    "collapsed": false,
    "ExecuteTime": {
     "end_time": "2023-12-27T18:00:23.942996900Z",
     "start_time": "2023-12-27T18:00:23.718994Z"
    }
   },
   "id": "c7d1a6d0271d8ddf"
  },
  {
   "cell_type": "markdown",
   "source": [
    "### Replace missing values (\"/\") by last "
   ],
   "metadata": {
    "collapsed": false
   },
   "id": "f39b239cb613cb45"
  },
  {
   "cell_type": "code",
   "execution_count": 8,
   "outputs": [
    {
     "name": "stderr",
     "output_type": "stream",
     "text": [
      "C:\\Users\\Tomek\\AppData\\Local\\Temp\\ipykernel_9184\\687232144.py:1: SettingWithCopyWarning: \n",
      "A value is trying to be set on a copy of a slice from a DataFrame.\n",
      "Try using .loc[row_indexer,col_indexer] = value instead\n",
      "\n",
      "See the caveats in the documentation: https://pandas.pydata.org/pandas-docs/stable/user_guide/indexing.html#returning-a-view-versus-a-copy\n",
      "  clean_data['Chmury CL [kod]'] = clean_data['Chmury CL [kod]'].replace({'/': None})\n",
      "C:\\Users\\Tomek\\AppData\\Local\\Temp\\ipykernel_9184\\687232144.py:2: SettingWithCopyWarning: \n",
      "A value is trying to be set on a copy of a slice from a DataFrame.\n",
      "Try using .loc[row_indexer,col_indexer] = value instead\n",
      "\n",
      "See the caveats in the documentation: https://pandas.pydata.org/pandas-docs/stable/user_guide/indexing.html#returning-a-view-versus-a-copy\n",
      "  clean_data['Chmury CM [kod]'] = clean_data['Chmury CL [kod]'].replace({'/': None})\n",
      "C:\\Users\\Tomek\\AppData\\Local\\Temp\\ipykernel_9184\\687232144.py:3: SettingWithCopyWarning: \n",
      "A value is trying to be set on a copy of a slice from a DataFrame.\n",
      "Try using .loc[row_indexer,col_indexer] = value instead\n",
      "\n",
      "See the caveats in the documentation: https://pandas.pydata.org/pandas-docs/stable/user_guide/indexing.html#returning-a-view-versus-a-copy\n",
      "  clean_data['Chmury CH [kod]'] = clean_data['Chmury CL [kod]'].replace({'/': None})\n",
      "C:\\Users\\Tomek\\AppData\\Local\\Temp\\ipykernel_9184\\687232144.py:5: SettingWithCopyWarning: \n",
      "A value is trying to be set on a copy of a slice from a DataFrame.\n",
      "Try using .loc[row_indexer,col_indexer] = value instead\n",
      "\n",
      "See the caveats in the documentation: https://pandas.pydata.org/pandas-docs/stable/user_guide/indexing.html#returning-a-view-versus-a-copy\n",
      "  clean_data['Chmury CL [kod]'] = clean_data[['Chmury CL [kod]']].fillna(method='ffill')\n",
      "C:\\Users\\Tomek\\AppData\\Local\\Temp\\ipykernel_9184\\687232144.py:6: SettingWithCopyWarning: \n",
      "A value is trying to be set on a copy of a slice from a DataFrame.\n",
      "Try using .loc[row_indexer,col_indexer] = value instead\n",
      "\n",
      "See the caveats in the documentation: https://pandas.pydata.org/pandas-docs/stable/user_guide/indexing.html#returning-a-view-versus-a-copy\n",
      "  clean_data['Chmury CM [kod]']= clean_data[['Chmury CM [kod]']].fillna(method='ffill')\n",
      "C:\\Users\\Tomek\\AppData\\Local\\Temp\\ipykernel_9184\\687232144.py:7: SettingWithCopyWarning: \n",
      "A value is trying to be set on a copy of a slice from a DataFrame.\n",
      "Try using .loc[row_indexer,col_indexer] = value instead\n",
      "\n",
      "See the caveats in the documentation: https://pandas.pydata.org/pandas-docs/stable/user_guide/indexing.html#returning-a-view-versus-a-copy\n",
      "  clean_data['Chmury CH [kod]']= clean_data[['Chmury CH [kod]']].fillna(method='ffill')\n"
     ]
    }
   ],
   "source": [
    "clean_data['Chmury CL [kod]'] = clean_data['Chmury CL [kod]'].replace({'/': None})\n",
    "clean_data['Chmury CM [kod]'] = clean_data['Chmury CL [kod]'].replace({'/': None})\n",
    "clean_data['Chmury CH [kod]'] = clean_data['Chmury CL [kod]'].replace({'/': None})\n",
    "\n",
    "clean_data['Chmury CL [kod]'] = clean_data[['Chmury CL [kod]']].fillna(method='ffill')\n",
    "clean_data['Chmury CM [kod]']= clean_data[['Chmury CM [kod]']].fillna(method='ffill')\n",
    "clean_data['Chmury CH [kod]']= clean_data[['Chmury CH [kod]']].fillna(method='ffill')"
   ],
   "metadata": {
    "collapsed": false,
    "ExecuteTime": {
     "end_time": "2023-12-27T18:00:24.159037600Z",
     "start_time": "2023-12-27T18:00:23.794996200Z"
    }
   },
   "id": "8e6e9e474573c3cd"
  },
  {
   "cell_type": "code",
   "execution_count": 9,
   "outputs": [
    {
     "name": "stderr",
     "output_type": "stream",
     "text": [
      "C:\\Users\\Tomek\\AppData\\Local\\Temp\\ipykernel_9184\\881098107.py:1: SettingWithCopyWarning: \n",
      "A value is trying to be set on a copy of a slice from a DataFrame.\n",
      "Try using .loc[row_indexer,col_indexer] = value instead\n",
      "\n",
      "See the caveats in the documentation: https://pandas.pydata.org/pandas-docs/stable/user_guide/indexing.html#returning-a-view-versus-a-copy\n",
      "  clean_data['Wysokość podstawy chmur CL CM szyfrowana [kod]'] = clean_data['Wysokość podstawy chmur CL CM szyfrowana [kod]'].replace({'/': None})\n",
      "C:\\Users\\Tomek\\AppData\\Local\\Temp\\ipykernel_9184\\881098107.py:2: SettingWithCopyWarning: \n",
      "A value is trying to be set on a copy of a slice from a DataFrame.\n",
      "Try using .loc[row_indexer,col_indexer] = value instead\n",
      "\n",
      "See the caveats in the documentation: https://pandas.pydata.org/pandas-docs/stable/user_guide/indexing.html#returning-a-view-versus-a-copy\n",
      "  clean_data['Wysokość podstawy chmur CL CM szyfrowana [kod]'] = clean_data[['Wysokość podstawy chmur CL CM szyfrowana [kod]']].fillna(method='ffill')\n"
     ]
    }
   ],
   "source": [
    "clean_data['Wysokość podstawy chmur CL CM szyfrowana [kod]'] = clean_data['Wysokość podstawy chmur CL CM szyfrowana [kod]'].replace({'/': None})\n",
    "clean_data['Wysokość podstawy chmur CL CM szyfrowana [kod]'] = clean_data[['Wysokość podstawy chmur CL CM szyfrowana [kod]']].fillna(method='ffill')"
   ],
   "metadata": {
    "collapsed": false,
    "ExecuteTime": {
     "end_time": "2023-12-27T18:00:24.299386600Z",
     "start_time": "2023-12-27T18:00:23.970999200Z"
    }
   },
   "id": "d59f87982e6e44da"
  },
  {
   "cell_type": "code",
   "execution_count": 10,
   "outputs": [
    {
     "name": "stderr",
     "output_type": "stream",
     "text": [
      "C:\\Users\\Tomek\\AppData\\Local\\Temp\\ipykernel_9184\\811924216.py:1: SettingWithCopyWarning: \n",
      "A value is trying to be set on a copy of a slice from a DataFrame.\n",
      "Try using .loc[row_indexer,col_indexer] = value instead\n",
      "\n",
      "See the caveats in the documentation: https://pandas.pydata.org/pandas-docs/stable/user_guide/indexing.html#returning-a-view-versus-a-copy\n",
      "  clean_data['Gatunek śniegu  [kod]'] = clean_data['Gatunek śniegu  [kod]'].replace({'.': 0})   # dot represents no snow\n",
      "C:\\Users\\Tomek\\AppData\\Local\\Temp\\ipykernel_9184\\811924216.py:10: SettingWithCopyWarning: \n",
      "A value is trying to be set on a copy of a slice from a DataFrame.\n",
      "Try using .loc[row_indexer,col_indexer] = value instead\n",
      "\n",
      "See the caveats in the documentation: https://pandas.pydata.org/pandas-docs/stable/user_guide/indexing.html#returning-a-view-versus-a-copy\n",
      "  clean_data[col] = clean_data[[col]].fillna(method='ffill')\n",
      "C:\\Users\\Tomek\\AppData\\Local\\Temp\\ipykernel_9184\\811924216.py:8: SettingWithCopyWarning: \n",
      "A value is trying to be set on a copy of a slice from a DataFrame.\n",
      "Try using .loc[row_indexer,col_indexer] = value instead\n",
      "\n",
      "See the caveats in the documentation: https://pandas.pydata.org/pandas-docs/stable/user_guide/indexing.html#returning-a-view-versus-a-copy\n",
      "  clean_data.loc[~clean_data.index.strftime('%H:%M').isin(['06:00', '18:00']), col] = None\n",
      "C:\\Users\\Tomek\\AppData\\Local\\Temp\\ipykernel_9184\\811924216.py:10: SettingWithCopyWarning: \n",
      "A value is trying to be set on a copy of a slice from a DataFrame.\n",
      "Try using .loc[row_indexer,col_indexer] = value instead\n",
      "\n",
      "See the caveats in the documentation: https://pandas.pydata.org/pandas-docs/stable/user_guide/indexing.html#returning-a-view-versus-a-copy\n",
      "  clean_data[col] = clean_data[[col]].fillna(method='ffill')\n",
      "C:\\Users\\Tomek\\AppData\\Local\\Temp\\ipykernel_9184\\811924216.py:8: SettingWithCopyWarning: \n",
      "A value is trying to be set on a copy of a slice from a DataFrame.\n",
      "Try using .loc[row_indexer,col_indexer] = value instead\n",
      "\n",
      "See the caveats in the documentation: https://pandas.pydata.org/pandas-docs/stable/user_guide/indexing.html#returning-a-view-versus-a-copy\n",
      "  clean_data.loc[~clean_data.index.strftime('%H:%M').isin(['06:00', '18:00']), col] = None\n",
      "C:\\Users\\Tomek\\AppData\\Local\\Temp\\ipykernel_9184\\811924216.py:10: SettingWithCopyWarning: \n",
      "A value is trying to be set on a copy of a slice from a DataFrame.\n",
      "Try using .loc[row_indexer,col_indexer] = value instead\n",
      "\n",
      "See the caveats in the documentation: https://pandas.pydata.org/pandas-docs/stable/user_guide/indexing.html#returning-a-view-versus-a-copy\n",
      "  clean_data[col] = clean_data[[col]].fillna(method='ffill')\n",
      "C:\\Users\\Tomek\\AppData\\Local\\Temp\\ipykernel_9184\\811924216.py:10: SettingWithCopyWarning: \n",
      "A value is trying to be set on a copy of a slice from a DataFrame.\n",
      "Try using .loc[row_indexer,col_indexer] = value instead\n",
      "\n",
      "See the caveats in the documentation: https://pandas.pydata.org/pandas-docs/stable/user_guide/indexing.html#returning-a-view-versus-a-copy\n",
      "  clean_data[col] = clean_data[[col]].fillna(method='ffill')\n"
     ]
    }
   ],
   "source": [
    "clean_data['Gatunek śniegu  [kod]'] = clean_data['Gatunek śniegu  [kod]'].replace({'.': 0})   # dot represents no snow\n",
    "\n",
    "for col in ['Wysokość pokrywy śnieżnej [cm]',\n",
    "            'Gatunek śniegu  [kod]']:\n",
    "    \n",
    "    clean_data.loc[~clean_data.index.strftime('%H:%M').isin(['06:00', '18:00']), col] = None\n",
    "    clean_data.loc['2017-01-01 00:00:00', col] = 0\n",
    "    clean_data[col] = clean_data[[col]].fillna(method='ffill')"
   ],
   "metadata": {
    "collapsed": false,
    "ExecuteTime": {
     "end_time": "2023-12-27T18:00:26.172627Z",
     "start_time": "2023-12-27T18:00:24.026995Z"
    }
   },
   "id": "ff4d93225c241dbc"
  },
  {
   "cell_type": "code",
   "execution_count": null,
   "outputs": [],
   "source": [
    "clean_data.loc[~clean_data.index.strftime('%H:%M').isin(['06:00', '18:00']), 'Rodzaj opadu za 6 godzin [kod]'] = None\n",
    "clean_data.loc['2022-12-31 23:00:00', 'Rodzaj opadu za 6 godzin [kod]'] = 0\n",
    "clean_data['Rodzaj opadu za 6 godzin [kod]'] = clean_data[['Rodzaj opadu za 6 godzin [kod]']].fillna(method='bfill')"
   ],
   "metadata": {
    "collapsed": false
   },
   "id": "785d696f197140ba"
  },
  {
   "cell_type": "code",
   "execution_count": 12,
   "outputs": [],
   "source": [
    "clean_data.to_csv('../data/preprocessed_data/general_krk_data_17-22_preprocessed.csv')"
   ],
   "metadata": {
    "collapsed": false,
    "ExecuteTime": {
     "end_time": "2023-12-27T18:00:35.279675400Z",
     "start_time": "2023-12-27T18:00:34.658452300Z"
    }
   },
   "id": "b92ad14b0f8ae8b"
  },
  {
   "cell_type": "code",
   "execution_count": null,
   "outputs": [],
   "source": [],
   "metadata": {
    "collapsed": false,
    "ExecuteTime": {
     "start_time": "2023-12-27T18:00:28.279952400Z"
    }
   },
   "id": "65c9f2e3a6f1af1b"
  }
 ],
 "metadata": {
  "kernelspec": {
   "display_name": "Python 3",
   "language": "python",
   "name": "python3"
  },
  "language_info": {
   "codemirror_mode": {
    "name": "ipython",
    "version": 2
   },
   "file_extension": ".py",
   "mimetype": "text/x-python",
   "name": "python",
   "nbconvert_exporter": "python",
   "pygments_lexer": "ipython2",
   "version": "2.7.6"
  }
 },
 "nbformat": 4,
 "nbformat_minor": 5
}
